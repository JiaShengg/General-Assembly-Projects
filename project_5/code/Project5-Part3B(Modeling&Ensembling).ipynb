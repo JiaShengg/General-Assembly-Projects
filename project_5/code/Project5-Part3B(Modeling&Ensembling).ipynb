{
 "cells": [
  {
   "cell_type": "markdown",
   "id": "712203c7",
   "metadata": {},
   "source": [
    "<img src=\"http://imgur.com/1ZcRyrc.png\" style=\"float: left; margin: 20px; height: 55px\">\n",
    "\n",
    "# Project 5: ASHRAE - Great Energy Predictor III (Part 3b Modeling GRU)"
   ]
  },
  {
   "cell_type": "markdown",
   "id": "bce9813d",
   "metadata": {},
   "source": [
    " - [Modeling](#Modeling)\n",
    " - [Models Ensembling](#Models-Ensembling)\n",
    " - [Conclusion and Recommendations](#Conclusion-and-Recommendations)"
   ]
  },
  {
   "cell_type": "markdown",
   "id": "5c119908",
   "metadata": {},
   "source": [
    "## Modeling"
   ]
  },
  {
   "cell_type": "markdown",
   "id": "65655bdb",
   "metadata": {},
   "source": [
    "### Importing Libraries"
   ]
  },
  {
   "cell_type": "code",
   "execution_count": 3,
   "id": "3fc6ff0a",
   "metadata": {},
   "outputs": [],
   "source": [
    "import pandas as pd\n",
    "pd.reset_option('^display.', silent=True)\n",
    "import numpy as np\n",
    "import matplotlib.pyplot as plt\n",
    "import seaborn as sns\n",
    "import warnings\n",
    "import boto3\n",
    "import joblib\n",
    "import matplotlib.pyplot as plt\n",
    "warnings.filterwarnings(\"ignore\", category=DeprecationWarning) \n",
    "\n",
    "from sklearn.preprocessing import StandardScaler, MinMaxScaler\n",
    "from sklearn.model_selection import KFold\n",
    "from sklearn.model_selection import train_test_split\n",
    "from sklearn.metrics import mean_squared_log_error\n",
    "from tensorflow.keras.models import Sequential\n",
    "from tensorflow.keras.layers import Dense, Dropout, GRU\n",
    "from tensorflow.keras.optimizers import Adam\n",
    "from tensorflow.keras.preprocessing.sequence import TimeseriesGenerator\n",
    "from tensorflow.keras.callbacks import EarlyStopping\n",
    "from lofo import LOFOImportance, Dataset, plot_importance\n",
    "from keras import backend as K\n",
    "from keras.models import load_model"
   ]
  },
  {
   "cell_type": "code",
   "execution_count": 4,
   "id": "32d1ec26",
   "metadata": {},
   "outputs": [],
   "source": [
    "# !pip install pandas\n",
    "# !pip install seaborn\n",
    "# !pip install matplotlib\n",
    "# !pip install xgboost\n",
    "# !pip install lofo-importance\n",
    "# !pip install imblearn\n",
    "# !pip install smart_open\n",
    "# !pip install boto3\n",
    "# !pip install s3fs"
   ]
  },
  {
   "cell_type": "code",
   "execution_count": 5,
   "id": "0f59a2ed",
   "metadata": {},
   "outputs": [],
   "source": [
    "s3 = boto3.resource(\n",
    "    service_name = 's3',\n",
    "    region_name = 'us-east-1',\n",
    "    aws_access_key_id = '',\n",
    "    aws_secret_access_key = ''\n",
    "    \n",
    ")"
   ]
  },
  {
   "cell_type": "code",
   "execution_count": 6,
   "id": "4dbfabe4",
   "metadata": {},
   "outputs": [],
   "source": [
    "import os\n",
    "os.environ[\"AWS_DEFAULT_REGION\"] = 'us-east-1'\n",
    "os.environ['AWS_ACCESS_KEY_ID'] = ''\n",
    "os.environ['AWS_SECRET_ACCESS_KEY'] = ''"
   ]
  },
  {
   "cell_type": "code",
   "execution_count": 7,
   "id": "f5146696",
   "metadata": {},
   "outputs": [],
   "source": [
    "obj = s3.Bucket('jiashengs3').Object('cleaned_train4.csv').get()\n",
    "obj1 = s3.Bucket('jiashengs3').Object('cleaned_test4.csv').get()"
   ]
  },
  {
   "cell_type": "code",
   "execution_count": 8,
   "id": "04fc378a",
   "metadata": {},
   "outputs": [],
   "source": [
    "# retriving cleaned train and test datasets from s3 bucket\n",
    "train_df = pd.read_csv(obj['Body'],index_col=0)\n",
    "test_df = pd.read_csv(obj1['Body'],index_col=0)"
   ]
  },
  {
   "cell_type": "code",
   "execution_count": 9,
   "id": "5ff99241",
   "metadata": {},
   "outputs": [],
   "source": [
    "def reduce_mem_usage(df):\n",
    "    \"\"\" iterate through all the columns of a dataframe and modify the data type\n",
    "        to reduce memory usage.        \n",
    "    \"\"\"\n",
    "    start_mem = df.memory_usage().sum() / 1024**2\n",
    "    print('Memory usage of dataframe is {:.2f} MB'.format(start_mem))\n",
    "    \n",
    "    for col in df.columns:\n",
    "        col_type = df[col].dtype\n",
    "        \n",
    "        if col_type != object:\n",
    "            c_min = df[col].min()\n",
    "            c_max = df[col].max()\n",
    "            if str(col_type)[:3] == 'int':\n",
    "                if c_min > np.iinfo(np.int8).min and c_max < np.iinfo(np.int8).max:\n",
    "                    df[col] = df[col].astype(np.int8)\n",
    "                elif c_min > np.iinfo(np.int16).min and c_max < np.iinfo(np.int16).max:\n",
    "                    df[col] = df[col].astype(np.int16)\n",
    "                elif c_min > np.iinfo(np.int32).min and c_max < np.iinfo(np.int32).max:\n",
    "                    df[col] = df[col].astype(np.int32)\n",
    "                elif c_min > np.iinfo(np.int64).min and c_max < np.iinfo(np.int64).max:\n",
    "                    df[col] = df[col].astype(np.int64)  \n",
    "            else:\n",
    "                if c_min > np.finfo(np.float16).min and c_max < np.finfo(np.float16).max:\n",
    "                    df[col] = df[col].astype(np.float16)\n",
    "                elif c_min > np.finfo(np.float32).min and c_max < np.finfo(np.float32).max:\n",
    "                    df[col] = df[col].astype(np.float32)\n",
    "                else:\n",
    "                    df[col] = df[col].astype(np.float64)\n",
    "        else:\n",
    "            df[col] = df[col].astype('category')\n",
    "\n",
    "    end_mem = df.memory_usage().sum() / 1024**2\n",
    "    print('Memory usage after optimization is: {:.2f} MB'.format(end_mem))\n",
    "    print('Decreased by {:.1f}%'.format(100 * (start_mem - end_mem) / start_mem))\n",
    "    \n",
    "    return df"
   ]
  },
  {
   "cell_type": "code",
   "execution_count": 10,
   "id": "8077a7c3",
   "metadata": {},
   "outputs": [
    {
     "name": "stdout",
     "output_type": "stream",
     "text": [
      "Memory usage of dataframe is 4506.58 MB\n",
      "Memory usage after optimization is: 1239.31 MB\n",
      "Decreased by 72.5%\n",
      "Memory usage of dataframe is 9225.70 MB\n",
      "Memory usage after optimization is: 2465.49 MB\n",
      "Decreased by 73.3%\n"
     ]
    }
   ],
   "source": [
    "train_df = reduce_mem_usage(train_df)\n",
    "test_df = reduce_mem_usage(test_df)"
   ]
  },
  {
   "cell_type": "code",
   "execution_count": 11,
   "id": "53318bd7",
   "metadata": {},
   "outputs": [],
   "source": [
    "train_df = train_df.reset_index()\n",
    "test_df = test_df.reset_index()"
   ]
  },
  {
   "cell_type": "code",
   "execution_count": 12,
   "id": "4d0dd523",
   "metadata": {},
   "outputs": [],
   "source": [
    "#Splitting into the 4 different meter types\n",
    "train_df_0 = train_df[train_df['meter']==0]\n",
    "train_df_1 = train_df[train_df['meter']==1]\n",
    "train_df_2 = train_df[train_df['meter']==2]\n",
    "train_df_3 = train_df[train_df['meter']==3]"
   ]
  },
  {
   "cell_type": "code",
   "execution_count": 13,
   "id": "41859013",
   "metadata": {},
   "outputs": [],
   "source": [
    "#Splitting into the 4 different meter types\n",
    "test_df_0 = test_df[test_df['meter']==0]\n",
    "test_df_1 = test_df[test_df['meter']==1]\n",
    "test_df_2 = test_df[test_df['meter']==2]\n",
    "test_df_3 = test_df[test_df['meter']==3]"
   ]
  },
  {
   "cell_type": "code",
   "execution_count": 18,
   "id": "32c79be4",
   "metadata": {},
   "outputs": [
    {
     "data": {
      "text/html": [
       "<div>\n",
       "<style scoped>\n",
       "    .dataframe tbody tr th:only-of-type {\n",
       "        vertical-align: middle;\n",
       "    }\n",
       "\n",
       "    .dataframe tbody tr th {\n",
       "        vertical-align: top;\n",
       "    }\n",
       "\n",
       "    .dataframe thead th {\n",
       "        text-align: right;\n",
       "    }\n",
       "</style>\n",
       "<table border=\"1\" class=\"dataframe\">\n",
       "  <thead>\n",
       "    <tr style=\"text-align: right;\">\n",
       "      <th></th>\n",
       "      <th>building_id</th>\n",
       "      <th>meter</th>\n",
       "      <th>meter_reading</th>\n",
       "      <th>site_id</th>\n",
       "      <th>primary_use</th>\n",
       "      <th>square_feet</th>\n",
       "      <th>month</th>\n",
       "      <th>week</th>\n",
       "      <th>day</th>\n",
       "      <th>hour</th>\n",
       "      <th>...</th>\n",
       "      <th>Wind_chill(degC)</th>\n",
       "      <th>feels_like(degC)</th>\n",
       "      <th>air_temperature_1_mean_rolled3</th>\n",
       "      <th>dew_temperature_1_mean_rolled3</th>\n",
       "      <th>Heat_index(degC)_mean_rolled3</th>\n",
       "      <th>Wind_chill(degC)_mean_rolled3</th>\n",
       "      <th>feels_like(degC)_mean_rolled3</th>\n",
       "      <th>bcps</th>\n",
       "      <th>bcpf</th>\n",
       "      <th>log_meter_reading</th>\n",
       "    </tr>\n",
       "  </thead>\n",
       "  <tbody>\n",
       "    <tr>\n",
       "      <th>1</th>\n",
       "      <td>1228</td>\n",
       "      <td>3</td>\n",
       "      <td>290.993011</td>\n",
       "      <td>14</td>\n",
       "      <td>Office</td>\n",
       "      <td>162549</td>\n",
       "      <td>1</td>\n",
       "      <td>53</td>\n",
       "      <td>1</td>\n",
       "      <td>0</td>\n",
       "      <td>...</td>\n",
       "      <td>3.513672</td>\n",
       "      <td>5.601562</td>\n",
       "      <td>5.601562</td>\n",
       "      <td>-0.600098</td>\n",
       "      <td>3.896484</td>\n",
       "      <td>3.513672</td>\n",
       "      <td>5.601562</td>\n",
       "      <td>2459382</td>\n",
       "      <td>4274265</td>\n",
       "      <td>5.675781</td>\n",
       "    </tr>\n",
       "    <tr>\n",
       "      <th>2</th>\n",
       "      <td>1229</td>\n",
       "      <td>3</td>\n",
       "      <td>339.644012</td>\n",
       "      <td>14</td>\n",
       "      <td>Office</td>\n",
       "      <td>27646</td>\n",
       "      <td>1</td>\n",
       "      <td>53</td>\n",
       "      <td>1</td>\n",
       "      <td>0</td>\n",
       "      <td>...</td>\n",
       "      <td>3.513672</td>\n",
       "      <td>5.601562</td>\n",
       "      <td>5.601562</td>\n",
       "      <td>-0.600098</td>\n",
       "      <td>3.896484</td>\n",
       "      <td>3.513672</td>\n",
       "      <td>5.601562</td>\n",
       "      <td>2459382</td>\n",
       "      <td>4274265</td>\n",
       "      <td>5.832031</td>\n",
       "    </tr>\n",
       "    <tr>\n",
       "      <th>3</th>\n",
       "      <td>1230</td>\n",
       "      <td>3</td>\n",
       "      <td>73.599998</td>\n",
       "      <td>14</td>\n",
       "      <td>Office</td>\n",
       "      <td>22524</td>\n",
       "      <td>1</td>\n",
       "      <td>53</td>\n",
       "      <td>1</td>\n",
       "      <td>0</td>\n",
       "      <td>...</td>\n",
       "      <td>3.513672</td>\n",
       "      <td>5.601562</td>\n",
       "      <td>5.601562</td>\n",
       "      <td>-0.600098</td>\n",
       "      <td>3.896484</td>\n",
       "      <td>3.513672</td>\n",
       "      <td>5.601562</td>\n",
       "      <td>2459382</td>\n",
       "      <td>4274265</td>\n",
       "      <td>4.312500</td>\n",
       "    </tr>\n",
       "    <tr>\n",
       "      <th>4</th>\n",
       "      <td>1231</td>\n",
       "      <td>3</td>\n",
       "      <td>162.414001</td>\n",
       "      <td>14</td>\n",
       "      <td>Education</td>\n",
       "      <td>13220</td>\n",
       "      <td>1</td>\n",
       "      <td>53</td>\n",
       "      <td>1</td>\n",
       "      <td>0</td>\n",
       "      <td>...</td>\n",
       "      <td>3.513672</td>\n",
       "      <td>5.601562</td>\n",
       "      <td>5.601562</td>\n",
       "      <td>-0.600098</td>\n",
       "      <td>3.896484</td>\n",
       "      <td>3.513672</td>\n",
       "      <td>5.601562</td>\n",
       "      <td>2459382</td>\n",
       "      <td>7977184</td>\n",
       "      <td>5.097656</td>\n",
       "    </tr>\n",
       "    <tr>\n",
       "      <th>5</th>\n",
       "      <td>1232</td>\n",
       "      <td>3</td>\n",
       "      <td>928.492981</td>\n",
       "      <td>14</td>\n",
       "      <td>Education</td>\n",
       "      <td>181328</td>\n",
       "      <td>1</td>\n",
       "      <td>53</td>\n",
       "      <td>1</td>\n",
       "      <td>0</td>\n",
       "      <td>...</td>\n",
       "      <td>3.513672</td>\n",
       "      <td>5.601562</td>\n",
       "      <td>5.601562</td>\n",
       "      <td>-0.600098</td>\n",
       "      <td>3.896484</td>\n",
       "      <td>3.513672</td>\n",
       "      <td>5.601562</td>\n",
       "      <td>2459382</td>\n",
       "      <td>7977184</td>\n",
       "      <td>6.835938</td>\n",
       "    </tr>\n",
       "  </tbody>\n",
       "</table>\n",
       "<p>5 rows × 30 columns</p>\n",
       "</div>"
      ],
      "text/plain": [
       "   building_id  meter  meter_reading  site_id primary_use  square_feet  month  \\\n",
       "1         1228      3     290.993011       14      Office       162549      1   \n",
       "2         1229      3     339.644012       14      Office        27646      1   \n",
       "3         1230      3      73.599998       14      Office        22524      1   \n",
       "4         1231      3     162.414001       14   Education        13220      1   \n",
       "5         1232      3     928.492981       14   Education       181328      1   \n",
       "\n",
       "   week  day  hour  ...  Wind_chill(degC)  feels_like(degC)  \\\n",
       "1    53    1     0  ...          3.513672          5.601562   \n",
       "2    53    1     0  ...          3.513672          5.601562   \n",
       "3    53    1     0  ...          3.513672          5.601562   \n",
       "4    53    1     0  ...          3.513672          5.601562   \n",
       "5    53    1     0  ...          3.513672          5.601562   \n",
       "\n",
       "   air_temperature_1_mean_rolled3  dew_temperature_1_mean_rolled3  \\\n",
       "1                        5.601562                       -0.600098   \n",
       "2                        5.601562                       -0.600098   \n",
       "3                        5.601562                       -0.600098   \n",
       "4                        5.601562                       -0.600098   \n",
       "5                        5.601562                       -0.600098   \n",
       "\n",
       "   Heat_index(degC)_mean_rolled3  Wind_chill(degC)_mean_rolled3  \\\n",
       "1                       3.896484                       3.513672   \n",
       "2                       3.896484                       3.513672   \n",
       "3                       3.896484                       3.513672   \n",
       "4                       3.896484                       3.513672   \n",
       "5                       3.896484                       3.513672   \n",
       "\n",
       "   feels_like(degC)_mean_rolled3     bcps     bcpf  log_meter_reading  \n",
       "1                       5.601562  2459382  4274265           5.675781  \n",
       "2                       5.601562  2459382  4274265           5.832031  \n",
       "3                       5.601562  2459382  4274265           4.312500  \n",
       "4                       5.601562  2459382  7977184           5.097656  \n",
       "5                       5.601562  2459382  7977184           6.835938  \n",
       "\n",
       "[5 rows x 30 columns]"
      ]
     },
     "execution_count": 18,
     "metadata": {},
     "output_type": "execute_result"
    }
   ],
   "source": [
    "train_df_3.head()"
   ]
  },
  {
   "cell_type": "code",
   "execution_count": 21,
   "id": "c29ade59",
   "metadata": {},
   "outputs": [],
   "source": [
    "#Previously from 3a, consolidated good features for each meter type as follows:\n",
    "goodfeatures0 = ['square_feet',\n",
    "                 'building_id',\n",
    "                 'primary_use',\n",
    "                 'bcps',\n",
    "                 'bcpf',\n",
    "                 'Wind_chill(degC)_mean_rolled3',\n",
    "                 'cloud_coverage_1',\n",
    "                 'site_id',\n",
    "                 'dew_temperature_1_mean_rolled3',\n",
    "                 'sea_level_pressure_1',\n",
    "                 'feels_like(degC)',\n",
    "                 'wind_direction_1',\n",
    "                 'precip_depth_1_hr_1',\n",
    "                 'Heat_index(degC)',\n",
    "                 'month',\n",
    "                 'dew_temperature_1',\n",
    "                 'season',\n",
    "                 'air_temperature_1_mean_rolled3',\n",
    "                 'wind_speed_1']\n",
    "\n",
    "goodfeatures1 = ['square_feet',\n",
    "                 'building_id',\n",
    "                 'air_temperature_1',\n",
    "                 'dew_temperature_1',\n",
    "                 'RH%',\n",
    "                 'precip_depth_1_hr_1',\n",
    "                 'air_temperature_1_mean_rolled3',\n",
    "                 'cloud_coverage_1',\n",
    "                 'Wind_chill(degC)',\n",
    "                 'dew_temperature_1_mean_rolled3',\n",
    "                 'Heat_index(degC)_mean_rolled3',\n",
    "                 'wind_speed_1',\n",
    "                 'Heat_index(degC)',\n",
    "                 'sea_level_pressure_1',\n",
    "                 'bcpf',\n",
    "                 'feels_like(degC)_mean_rolled3',\n",
    "                 'season',\n",
    "                 'site_id',\n",
    "                 'Wind_chill(degC)_mean_rolled3',\n",
    "                 'wind_direction_1',\n",
    "                 'month',\n",
    "                 'primary_use']\n",
    "\n",
    "goodfeatures2 = ['square_feet',\n",
    "                 'building_id',\n",
    "                 'bcps',\n",
    "                 'primary_use',\n",
    "                 'month',\n",
    "                 'season',\n",
    "                 'feels_like(degC)',\n",
    "                 'cloud_coverage_1',\n",
    "                 'Wind_chill(degC)_mean_rolled3',\n",
    "                 'air_temperature_1',\n",
    "                 'site_id']\n",
    "\n",
    "goodfeatures3 = ['building_id',\n",
    "                 'square_feet',\n",
    "                 'primary_use',\n",
    "                 'dew_temperature_1',\n",
    "                 'air_temperature_1',\n",
    "                 'Wind_chill(degC)_mean_rolled3',\n",
    "                 'feels_like(degC)',\n",
    "                 'wind_speed_1',\n",
    "                 'month',\n",
    "                 'season',\n",
    "                 'site_id',\n",
    "                 'sea_level_pressure_1']"
   ]
  },
  {
   "cell_type": "markdown",
   "id": "04ec2539",
   "metadata": {},
   "source": [
    "#### Get dummies for categorical features of meter 0"
   ]
  },
  {
   "cell_type": "code",
   "execution_count": 22,
   "id": "1e947988",
   "metadata": {},
   "outputs": [],
   "source": [
    "categorical_features_meter0 = ['primary_use', 'season', 'month']"
   ]
  },
  {
   "cell_type": "code",
   "execution_count": 23,
   "id": "7b7334cb",
   "metadata": {},
   "outputs": [],
   "source": [
    "train_meter_0 = train_df_0.sort_values(by=['building_id', 'month', 'day', 'hour']).reset_index(drop=True)"
   ]
  },
  {
   "cell_type": "code",
   "execution_count": 24,
   "id": "8e4d66bc",
   "metadata": {},
   "outputs": [],
   "source": [
    "train_m0 = train_meter_0[goodfeatures0].reset_index(drop=True)"
   ]
  },
  {
   "cell_type": "code",
   "execution_count": 25,
   "id": "97b231a8",
   "metadata": {},
   "outputs": [],
   "source": [
    "train_gru_m0 = pd.get_dummies(data=train_m0, columns=categorical_features_meter0, drop_first=True)"
   ]
  },
  {
   "cell_type": "markdown",
   "id": "3eb22401",
   "metadata": {},
   "source": [
    "#### Train-Test Split for Meter 0"
   ]
  },
  {
   "cell_type": "code",
   "execution_count": 27,
   "id": "97a525ff",
   "metadata": {},
   "outputs": [],
   "source": [
    "X_train, X_test, y_train, y_test = train_test_split(train_gru_m0,train_meter_0['log_meter_reading'],test_size=0.3,shuffle=False)"
   ]
  },
  {
   "cell_type": "markdown",
   "id": "23d01381",
   "metadata": {},
   "source": [
    "### Scaling"
   ]
  },
  {
   "cell_type": "code",
   "execution_count": 28,
   "id": "d5e5a802",
   "metadata": {},
   "outputs": [],
   "source": [
    "mm = MinMaxScaler()\n",
    "X_train_mm = mm.fit_transform(X_train)"
   ]
  },
  {
   "cell_type": "code",
   "execution_count": 29,
   "id": "271fd4e6",
   "metadata": {},
   "outputs": [],
   "source": [
    "X_test_mm = mm.transform(X_test)"
   ]
  },
  {
   "cell_type": "markdown",
   "id": "60b70209",
   "metadata": {},
   "source": [
    "#### TimeSeriesGenerator"
   ]
  },
  {
   "cell_type": "code",
   "execution_count": 30,
   "id": "8f618b0d",
   "metadata": {
    "scrolled": false
   },
   "outputs": [],
   "source": [
    "train_sequences_meter0 = TimeseriesGenerator(X_train_mm, y_train.values, length=6, batch_size=1024)"
   ]
  },
  {
   "cell_type": "code",
   "execution_count": 31,
   "id": "3170be43",
   "metadata": {},
   "outputs": [],
   "source": [
    "#batch_x, batch_y = train_sequences_meter0[0]"
   ]
  },
  {
   "cell_type": "code",
   "execution_count": 32,
   "id": "ef94fcdb",
   "metadata": {},
   "outputs": [],
   "source": [
    "test_sequences_meter0 = TimeseriesGenerator(X_test_mm, y_test.values, length=6, batch_size=1024)"
   ]
  },
  {
   "cell_type": "markdown",
   "id": "005604be",
   "metadata": {},
   "source": [
    "### GRU Model Training for Meter 0\n",
    "\n",
    "- We will have 2 GRU Layers\n",
    "- 2 hidden dense layers\n",
    "- 1 dense output layer"
   ]
  },
  {
   "cell_type": "code",
   "execution_count": 33,
   "id": "3180da1c",
   "metadata": {
    "scrolled": true
   },
   "outputs": [],
   "source": [
    "input_shape = train_sequences_meter0[0][0][0].shape"
   ]
  },
  {
   "cell_type": "code",
   "execution_count": 34,
   "id": "7d4c8413",
   "metadata": {},
   "outputs": [
    {
     "name": "stderr",
     "output_type": "stream",
     "text": [
      "2022-05-07 08:52:04.756329: W tensorflow/stream_executor/platform/default/dso_loader.cc:64] Could not load dynamic library 'libcuda.so.1'; dlerror: libcuda.so.1: cannot open shared object file: No such file or directory\n",
      "2022-05-07 08:52:04.756377: W tensorflow/stream_executor/cuda/cuda_driver.cc:269] failed call to cuInit: UNKNOWN ERROR (303)\n",
      "2022-05-07 08:52:04.756402: I tensorflow/stream_executor/cuda/cuda_diagnostics.cc:156] kernel driver does not appear to be running on this host (ip-10-0-1-206): /proc/driver/nvidia/version does not exist\n",
      "2022-05-07 08:52:04.757779: I tensorflow/core/platform/cpu_feature_guard.cc:151] This TensorFlow binary is optimized with oneAPI Deep Neural Network Library (oneDNN) to use the following CPU instructions in performance-critical operations:  AVX2 FMA\n",
      "To enable them in other operations, rebuild TensorFlow with the appropriate compiler flags.\n"
     ]
    }
   ],
   "source": [
    "model = Sequential()\n",
    "model.add(GRU(64 , input_shape=input_shape, return_sequences=True)) # True if next layer is RNN\n",
    "model.add(GRU(32, return_sequences=False)) # False if next layer is Dense\n",
    "model.add(Dropout(0.5))\n",
    "model.add(Dense(16, activation='LeakyReLU'))\n",
    "model.add(Dropout(0.5))\n",
    "model.add(Dense(8, activation='LeakyReLU'))\n",
    "model.add(Dense(1, activation='linear'))\n",
    "early_stop = EarlyStopping(monitor='val_loss', \n",
    "                           min_delta=0, \n",
    "                           patience=5, \n",
    "                           mode='auto')"
   ]
  },
  {
   "cell_type": "code",
   "execution_count": 35,
   "id": "c8ab82fd",
   "metadata": {},
   "outputs": [],
   "source": [
    "#Custom function to derive rmse for keras as loss function\n",
    "def root_mean_squared_error(y_true, y_pred):\n",
    "        return K.sqrt(K.mean(K.square(y_pred - y_true)))"
   ]
  },
  {
   "cell_type": "code",
   "execution_count": 36,
   "id": "0d12c90e",
   "metadata": {
    "scrolled": false
   },
   "outputs": [
    {
     "name": "stdout",
     "output_type": "stream",
     "text": [
      "Epoch 1/15\n"
     ]
    },
    {
     "name": "stderr",
     "output_type": "stream",
     "text": [
      "/home/ubuntu/.local/lib/python3.10/site-packages/keras/optimizer_v2/adam.py:105: UserWarning: The `lr` argument is deprecated, use `learning_rate` instead.\n",
      "  super(Adam, self).__init__(name, **kwargs)\n"
     ]
    },
    {
     "name": "stdout",
     "output_type": "stream",
     "text": [
      "7932/7932 [==============================] - 301s 37ms/step - loss: 1.1728 - val_loss: 0.9387\n",
      "Epoch 2/15\n",
      "7932/7932 [==============================] - 297s 37ms/step - loss: 0.9497 - val_loss: 0.9602\n",
      "Epoch 3/15\n",
      "7932/7932 [==============================] - 297s 37ms/step - loss: 0.8978 - val_loss: 0.7974\n",
      "Epoch 4/15\n",
      "7932/7932 [==============================] - 297s 37ms/step - loss: 0.8662 - val_loss: 0.8259\n",
      "Epoch 5/15\n",
      "7932/7932 [==============================] - 296s 37ms/step - loss: 0.8510 - val_loss: 0.8200\n",
      "Epoch 6/15\n",
      "7932/7932 [==============================] - 296s 37ms/step - loss: 0.8384 - val_loss: 0.8941\n",
      "Epoch 7/15\n",
      "7932/7932 [==============================] - 296s 37ms/step - loss: 0.8281 - val_loss: 0.8593\n",
      "Epoch 8/15\n",
      "7932/7932 [==============================] - 296s 37ms/step - loss: 0.8126 - val_loss: 0.8172\n"
     ]
    }
   ],
   "source": [
    "model.compile(optimizer=Adam(lr=.001), loss=root_mean_squared_error)\n",
    "history = model.fit(train_sequences_meter0, validation_data=test_sequences_meter0, epochs=15, batch_size = 1024, callbacks = [early_stop])"
   ]
  },
  {
   "cell_type": "code",
   "execution_count": 37,
   "id": "11e2d831",
   "metadata": {},
   "outputs": [
    {
     "data": {
      "image/png": "[encoded data removed]",
      "text/plain": [
       "<Figure size 432x288 with 1 Axes>"
      ]
     },
     "metadata": {
      "needs_background": "light"
     },
     "output_type": "display_data"
    }
   ],
   "source": [
    "plt.plot(history.history['loss'], label='Train loss')\n",
    "plt.plot(history.history['val_loss'], label='Test loss')\n",
    "plt.legend();"
   ]
  },
  {
   "cell_type": "code",
   "execution_count": 40,
   "id": "67203a3f",
   "metadata": {},
   "outputs": [
    {
     "name": "stdout",
     "output_type": "stream",
     "text": [
      "Model is saved\n"
     ]
    }
   ],
   "source": [
    "model.save(\"GRU_model_meter0_r0.h5\")\n",
    "print(\"Model is saved\")"
   ]
  },
  {
   "cell_type": "markdown",
   "id": "e099afad",
   "metadata": {},
   "source": [
    "#### Meter type 0 prediction"
   ]
  },
  {
   "cell_type": "code",
   "execution_count": 41,
   "id": "f632da85",
   "metadata": {},
   "outputs": [],
   "source": [
    "submission_meter_0 = test_df_0.sort_values(by=['building_id', 'month', 'day', 'hour']).reset_index(drop=True)"
   ]
  },
  {
   "cell_type": "code",
   "execution_count": 42,
   "id": "4951e7d3",
   "metadata": {},
   "outputs": [],
   "source": [
    "submission_m0 = submission_meter_0[goodfeatures0].reset_index(drop=True)"
   ]
  },
  {
   "cell_type": "code",
   "execution_count": 43,
   "id": "614be3b6",
   "metadata": {},
   "outputs": [],
   "source": [
    "submission_gru_m0 = pd.get_dummies(data=submission_m0, columns=categorical_features_meter0, drop_first=True)"
   ]
  },
  {
   "cell_type": "code",
   "execution_count": 44,
   "id": "637813f4",
   "metadata": {},
   "outputs": [],
   "source": [
    "submission_gru_m0_mm = mm.transform(submission_gru_m0)"
   ]
  },
  {
   "cell_type": "code",
   "execution_count": 45,
   "id": "150a8bd3",
   "metadata": {},
   "outputs": [
    {
     "name": "stdout",
     "output_type": "stream",
     "text": [
      "(1024, 6, 45)\n"
     ]
    }
   ],
   "source": [
    "submission_m0_generator = TimeseriesGenerator(submission_gru_m0_mm, np.zeros(len(submission_gru_m0_mm)), length=6, batch_size=1024)\n",
    "print(submission_m0_generator[0][0].shape)"
   ]
  },
  {
   "cell_type": "code",
   "execution_count": 47,
   "id": "05c47f60",
   "metadata": {},
   "outputs": [],
   "source": [
    "model0 = load_model('GRU_model_meter0_r0.h5', custom_objects={'root_mean_squared_error': root_mean_squared_error})"
   ]
  },
  {
   "cell_type": "code",
   "execution_count": 48,
   "id": "bbdc981a",
   "metadata": {},
   "outputs": [
    {
     "name": "stdout",
     "output_type": "stream",
     "text": [
      "Model: \"sequential\"\n",
      "_________________________________________________________________\n",
      " Layer (type)                Output Shape              Param #   \n",
      "=================================================================\n",
      " gru (GRU)                   (None, 6, 64)             21312     \n",
      "                                                                 \n",
      " gru_1 (GRU)                 (None, 32)                9408      \n",
      "                                                                 \n",
      " dropout (Dropout)           (None, 32)                0         \n",
      "                                                                 \n",
      " dense (Dense)               (None, 16)                528       \n",
      "                                                                 \n",
      " dropout_1 (Dropout)         (None, 16)                0         \n",
      "                                                                 \n",
      " dense_1 (Dense)             (None, 8)                 136       \n",
      "                                                                 \n",
      " dense_2 (Dense)             (None, 1)                 9         \n",
      "                                                                 \n",
      "=================================================================\n",
      "Total params: 31,393\n",
      "Trainable params: 31,393\n",
      "Non-trainable params: 0\n",
      "_________________________________________________________________\n"
     ]
    }
   ],
   "source": [
    "model0.summary()"
   ]
  },
  {
   "cell_type": "code",
   "execution_count": 49,
   "id": "2defda6a",
   "metadata": {},
   "outputs": [],
   "source": [
    "meter0_predicted = np.expm1(model0.predict(submission_m0_generator))"
   ]
  },
  {
   "cell_type": "code",
   "execution_count": 50,
   "id": "cf261db7",
   "metadata": {},
   "outputs": [],
   "source": [
    "meter0_ravel = meter0_predicted.ravel()"
   ]
  },
  {
   "cell_type": "code",
   "execution_count": 51,
   "id": "d7e20449",
   "metadata": {},
   "outputs": [],
   "source": [
    "#to fill in the missing 6 observations with 0\n",
    "meter0_ravel = np.insert(meter0_ravel, [0,0,0,0,0,0], [0,0,0,0,0,0], axis=0)  "
   ]
  },
  {
   "cell_type": "code",
   "execution_count": 52,
   "id": "794e59c2",
   "metadata": {},
   "outputs": [],
   "source": [
    "submission_meter_0['meter_reading'] = meter0_ravel"
   ]
  },
  {
   "cell_type": "code",
   "execution_count": 53,
   "id": "8e45a391",
   "metadata": {},
   "outputs": [],
   "source": [
    "submission_meter_0 = submission_meter_0[['row_id','meter_reading']].sort_values(by='row_id').reset_index(drop=True)"
   ]
  },
  {
   "cell_type": "code",
   "execution_count": 54,
   "id": "20055899",
   "metadata": {},
   "outputs": [
    {
     "name": "stderr",
     "output_type": "stream",
     "text": [
      "/home/ubuntu/.local/lib/python3.10/site-packages/seaborn/distributions.py:2619: FutureWarning: `distplot` is a deprecated function and will be removed in a future version. Please adapt your code to use either `displot` (a figure-level function with similar flexibility) or `histplot` (an axes-level function for histograms).\n",
      "  warnings.warn(msg, FutureWarning)\n"
     ]
    },
    {
     "data": {
      "text/plain": [
       "<AxesSubplot:xlabel='meter_reading', ylabel='Density'>"
      ]
     },
     "execution_count": 54,
     "metadata": {},
     "output_type": "execute_result"
    },
    {
     "data": {
      "image/png": "[encoded data removed]",
      "text/plain": [
       "<Figure size 432x288 with 1 Axes>"
      ]
     },
     "metadata": {
      "needs_background": "light"
     },
     "output_type": "display_data"
    }
   ],
   "source": [
    "sns.distplot(submission_meter_0['meter_reading'])"
   ]
  },
  {
   "cell_type": "markdown",
   "id": "1e461e3b",
   "metadata": {},
   "source": [
    "#### Meter 1\n",
    "\n",
    "Performing the same steps as above to train GRU model for meter 1"
   ]
  },
  {
   "cell_type": "code",
   "execution_count": 55,
   "id": "2dc4f8d2",
   "metadata": {
    "scrolled": true
   },
   "outputs": [
    {
     "data": {
      "text/plain": [
       "['square_feet',\n",
       " 'building_id',\n",
       " 'air_temperature_1',\n",
       " 'dew_temperature_1',\n",
       " 'RH%',\n",
       " 'precip_depth_1_hr_1',\n",
       " 'air_temperature_1_mean_rolled3',\n",
       " 'cloud_coverage_1',\n",
       " 'Wind_chill(degC)',\n",
       " 'dew_temperature_1_mean_rolled3',\n",
       " 'Heat_index(degC)_mean_rolled3',\n",
       " 'wind_speed_1',\n",
       " 'Heat_index(degC)',\n",
       " 'sea_level_pressure_1',\n",
       " 'bcpf',\n",
       " 'feels_like(degC)_mean_rolled3',\n",
       " 'season',\n",
       " 'site_id',\n",
       " 'Wind_chill(degC)_mean_rolled3',\n",
       " 'wind_direction_1',\n",
       " 'month',\n",
       " 'primary_use']"
      ]
     },
     "execution_count": 55,
     "metadata": {},
     "output_type": "execute_result"
    }
   ],
   "source": [
    "goodfeatures1"
   ]
  },
  {
   "cell_type": "code",
   "execution_count": 56,
   "id": "f96d9f43",
   "metadata": {},
   "outputs": [],
   "source": [
    "categorical_features_meter1 = ['primary_use', 'season', 'month']\n",
    "train_meter_1 = train_df_1.sort_values(by=['building_id', 'month', 'day', 'hour']).reset_index(drop=True)\n",
    "train_m1 = train_meter_1[goodfeatures1].reset_index(drop=True)\n",
    "train_gru_m1 = pd.get_dummies(data=train_m1, columns=categorical_features_meter1, drop_first=True)\n",
    "X_train, X_test, y_train, y_test = train_test_split(train_gru_m1,train_meter_1['log_meter_reading'],test_size=0.3,shuffle=False)"
   ]
  },
  {
   "cell_type": "code",
   "execution_count": 57,
   "id": "1cef9d4d",
   "metadata": {},
   "outputs": [],
   "source": [
    "mm = MinMaxScaler()\n",
    "X_train1_mm = mm.fit_transform(X_train)"
   ]
  },
  {
   "cell_type": "code",
   "execution_count": 58,
   "id": "01a7d561",
   "metadata": {},
   "outputs": [],
   "source": [
    "X_test1_mm = mm.transform(X_test)"
   ]
  },
  {
   "cell_type": "code",
   "execution_count": 59,
   "id": "a7469ba2",
   "metadata": {},
   "outputs": [],
   "source": [
    "train_sequences_meter1 = TimeseriesGenerator(X_train1_mm, y_train.values, length=6, batch_size=1024)\n",
    "test_sequences_meter1 = TimeseriesGenerator(X_test1_mm, y_test.values, length=6, batch_size=1024)"
   ]
  },
  {
   "cell_type": "code",
   "execution_count": 60,
   "id": "3eb4790d",
   "metadata": {},
   "outputs": [],
   "source": [
    "input_shape = train_sequences_meter1[0][0][0].shape"
   ]
  },
  {
   "cell_type": "code",
   "execution_count": 61,
   "id": "361e9af8",
   "metadata": {},
   "outputs": [],
   "source": [
    "model1 = Sequential()\n",
    "model1.add(GRU(64 , input_shape=input_shape, return_sequences=True)) # True if next layer is RNN\n",
    "model1.add(GRU(32, return_sequences=False)) # False if next layer is Dense\n",
    "model1.add(Dense(16, activation='LeakyReLU'))\n",
    "model1.add(Dropout(0.5))\n",
    "model1.add(Dense(8, activation='LeakyReLU'))\n",
    "model1.add(Dropout(0.5))\n",
    "model1.add(Dense(1, activation='linear'))\n",
    "early_stop = EarlyStopping(monitor='val_loss', \n",
    "                           min_delta=0, \n",
    "                           patience=5, \n",
    "                           mode='auto')"
   ]
  },
  {
   "cell_type": "code",
   "execution_count": 62,
   "id": "cc105fe9",
   "metadata": {},
   "outputs": [
    {
     "name": "stdout",
     "output_type": "stream",
     "text": [
      "Epoch 1/15\n"
     ]
    },
    {
     "name": "stderr",
     "output_type": "stream",
     "text": [
      "/home/ubuntu/.local/lib/python3.10/site-packages/keras/optimizer_v2/adam.py:105: UserWarning: The `lr` argument is deprecated, use `learning_rate` instead.\n",
      "  super(Adam, self).__init__(name, **kwargs)\n"
     ]
    },
    {
     "name": "stdout",
     "output_type": "stream",
     "text": [
      "2840/2840 [==============================] - 110s 37ms/step - loss: 2.5387 - val_loss: 2.3796\n",
      "Epoch 2/15\n",
      "2840/2840 [==============================] - 106s 37ms/step - loss: 2.1506 - val_loss: 2.2852\n",
      "Epoch 3/15\n",
      "2840/2840 [==============================] - 105s 37ms/step - loss: 1.9794 - val_loss: 2.5380\n",
      "Epoch 4/15\n",
      "2840/2840 [==============================] - 105s 37ms/step - loss: 1.8891 - val_loss: 2.1372\n",
      "Epoch 5/15\n",
      "2840/2840 [==============================] - 105s 37ms/step - loss: 1.8393 - val_loss: 2.4631\n",
      "Epoch 6/15\n",
      "2840/2840 [==============================] - 106s 37ms/step - loss: 1.7958 - val_loss: 2.2211\n",
      "Epoch 7/15\n",
      "2840/2840 [==============================] - 106s 37ms/step - loss: 1.7647 - val_loss: 2.4179\n",
      "Epoch 8/15\n",
      "2840/2840 [==============================] - 106s 37ms/step - loss: 1.7470 - val_loss: 2.1800\n",
      "Epoch 9/15\n",
      "2840/2840 [==============================] - 106s 37ms/step - loss: 1.7295 - val_loss: 2.1007\n",
      "Epoch 10/15\n",
      "2840/2840 [==============================] - 106s 37ms/step - loss: 1.7192 - val_loss: 2.2460\n",
      "Epoch 11/15\n",
      "2840/2840 [==============================] - 106s 37ms/step - loss: 1.7086 - val_loss: 2.2146\n",
      "Epoch 12/15\n",
      "2840/2840 [==============================] - 106s 37ms/step - loss: 1.6972 - val_loss: 2.1854\n",
      "Epoch 13/15\n",
      "2840/2840 [==============================] - 106s 37ms/step - loss: 1.6921 - val_loss: 2.2615\n",
      "Epoch 14/15\n",
      "2840/2840 [==============================] - 106s 37ms/step - loss: 1.6883 - val_loss: 2.2733\n"
     ]
    }
   ],
   "source": [
    "model1.compile(optimizer=Adam(lr=.001), loss=root_mean_squared_error)\n",
    "history1 = model1.fit(train_sequences_meter1, validation_data=test_sequences_meter1, epochs=15, batch_size = 1024, callbacks = [early_stop])"
   ]
  },
  {
   "cell_type": "code",
   "execution_count": 63,
   "id": "55251619",
   "metadata": {},
   "outputs": [
    {
     "data": {
      "image/png": "[encoded data removed]",
      "text/plain": [
       "<Figure size 432x288 with 1 Axes>"
      ]
     },
     "metadata": {
      "needs_background": "light"
     },
     "output_type": "display_data"
    }
   ],
   "source": [
    "plt.plot(history1.history['loss'], label='Train loss')\n",
    "plt.plot(history1.history['val_loss'], label='Test loss')\n",
    "plt.legend();"
   ]
  },
  {
   "cell_type": "code",
   "execution_count": 64,
   "id": "a98c6de0",
   "metadata": {},
   "outputs": [
    {
     "name": "stdout",
     "output_type": "stream",
     "text": [
      "Model1 is saved\n"
     ]
    }
   ],
   "source": [
    "model1.save(\"GRU_model_meter1_r0.h5\")\n",
    "print(\"Model1 is saved\")"
   ]
  },
  {
   "cell_type": "markdown",
   "id": "acf9c568",
   "metadata": {},
   "source": [
    "#### Prediction for Meter 1"
   ]
  },
  {
   "cell_type": "code",
   "execution_count": 65,
   "id": "24df43c3",
   "metadata": {},
   "outputs": [],
   "source": [
    "submission_meter_1 = test_df_1.sort_values(by=['building_id', 'month', 'day', 'hour']).reset_index(drop=True)\n",
    "submission_m1 = submission_meter_1[goodfeatures1].reset_index(drop=True)\n",
    "submission_gru_m1 = pd.get_dummies(data=submission_m1, columns=categorical_features_meter1, drop_first=True)\n",
    "submission_gru_m1_mm = mm.transform(submission_gru_m1)"
   ]
  },
  {
   "cell_type": "code",
   "execution_count": 66,
   "id": "ccff67ea",
   "metadata": {},
   "outputs": [
    {
     "name": "stdout",
     "output_type": "stream",
     "text": [
      "(1024, 6, 48)\n"
     ]
    }
   ],
   "source": [
    "submission_m1_generator = TimeseriesGenerator(submission_gru_m1_mm, np.zeros(len(submission_gru_m1_mm)), length=6, batch_size=1024)\n",
    "print(submission_m1_generator[0][0].shape)"
   ]
  },
  {
   "cell_type": "code",
   "execution_count": 67,
   "id": "ec590221",
   "metadata": {},
   "outputs": [],
   "source": [
    "meter1_predicted = np.expm1(model1.predict(submission_m1_generator))\n",
    "meter1_ravel = meter1_predicted.ravel()\n",
    "\n",
    "#to fill in the missing 6 observations with 0\n",
    "meter1_ravel = np.insert(meter1_ravel, [0,0,0,0,0,0], [0,0,0,0,0,0], axis=0)  "
   ]
  },
  {
   "cell_type": "code",
   "execution_count": 68,
   "id": "6a21d833",
   "metadata": {},
   "outputs": [],
   "source": [
    "submission_meter_1['meter_reading'] = meter1_ravel"
   ]
  },
  {
   "cell_type": "code",
   "execution_count": 69,
   "id": "85e89430",
   "metadata": {},
   "outputs": [
    {
     "name": "stderr",
     "output_type": "stream",
     "text": [
      "/home/ubuntu/.local/lib/python3.10/site-packages/seaborn/distributions.py:2619: FutureWarning: `distplot` is a deprecated function and will be removed in a future version. Please adapt your code to use either `displot` (a figure-level function with similar flexibility) or `histplot` (an axes-level function for histograms).\n",
      "  warnings.warn(msg, FutureWarning)\n"
     ]
    },
    {
     "data": {
      "text/plain": [
       "<AxesSubplot:xlabel='meter_reading', ylabel='Density'>"
      ]
     },
     "execution_count": 69,
     "metadata": {},
     "output_type": "execute_result"
    },
    {
     "data": {
      "image/png": "[encoded data removed]",
      "text/plain": [
       "<Figure size 432x288 with 1 Axes>"
      ]
     },
     "metadata": {
      "needs_background": "light"
     },
     "output_type": "display_data"
    }
   ],
   "source": [
    "sns.distplot(submission_meter_1['meter_reading'])"
   ]
  },
  {
   "cell_type": "markdown",
   "id": "a2767710",
   "metadata": {},
   "source": [
    "#### Meter 2\n",
    "\n",
    "Training GRU model for meter 2"
   ]
  },
  {
   "cell_type": "code",
   "execution_count": 70,
   "id": "443f17fc",
   "metadata": {},
   "outputs": [
    {
     "data": {
      "text/plain": [
       "['square_feet',\n",
       " 'building_id',\n",
       " 'bcps',\n",
       " 'primary_use',\n",
       " 'month',\n",
       " 'season',\n",
       " 'feels_like(degC)',\n",
       " 'cloud_coverage_1',\n",
       " 'Wind_chill(degC)_mean_rolled3',\n",
       " 'air_temperature_1',\n",
       " 'site_id']"
      ]
     },
     "execution_count": 70,
     "metadata": {},
     "output_type": "execute_result"
    }
   ],
   "source": [
    "goodfeatures2"
   ]
  },
  {
   "cell_type": "code",
   "execution_count": 71,
   "id": "07889770",
   "metadata": {},
   "outputs": [],
   "source": [
    "categorical_features_meter2 = ['primary_use', 'season', 'month']\n",
    "train_meter_2 = train_df_2.sort_values(by=['building_id', 'month', 'day', 'hour']).reset_index(drop=True)\n",
    "train_m2 = train_meter_2[goodfeatures2].reset_index(drop=True)\n",
    "train_gru_m2 = pd.get_dummies(data=train_m2, columns=categorical_features_meter2, drop_first=True)\n",
    "X_train, X_test, y_train, y_test = train_test_split(train_gru_m2,train_meter_2['log_meter_reading'],test_size=0.3,shuffle=False)"
   ]
  },
  {
   "cell_type": "code",
   "execution_count": 72,
   "id": "351c0758",
   "metadata": {},
   "outputs": [],
   "source": [
    "mm = MinMaxScaler()\n",
    "X_train2_mm = mm.fit_transform(X_train)"
   ]
  },
  {
   "cell_type": "code",
   "execution_count": 73,
   "id": "90ac650c",
   "metadata": {},
   "outputs": [],
   "source": [
    "X_test2_mm = mm.transform(X_test)"
   ]
  },
  {
   "cell_type": "code",
   "execution_count": 74,
   "id": "73e984eb",
   "metadata": {},
   "outputs": [],
   "source": [
    "train_sequences_meter2 = TimeseriesGenerator(X_train2_mm, y_train.values, length=6, batch_size=1024)\n",
    "test_sequences_meter2 = TimeseriesGenerator(X_test2_mm, y_test.values, length=6, batch_size=1024)"
   ]
  },
  {
   "cell_type": "code",
   "execution_count": 75,
   "id": "6f5e3efb",
   "metadata": {},
   "outputs": [],
   "source": [
    "input_shape = train_sequences_meter2[0][0][0].shape"
   ]
  },
  {
   "cell_type": "code",
   "execution_count": 76,
   "id": "a250268c",
   "metadata": {},
   "outputs": [],
   "source": [
    "model2 = Sequential()\n",
    "model2.add(GRU(64 , input_shape=input_shape, return_sequences=True)) # True if next layer is RNN\n",
    "model2.add(GRU(32, return_sequences=False)) # False if next layer is Dense\n",
    "model2.add(Dropout(0.5))\n",
    "model2.add(Dense(16, activation='LeakyReLU'))\n",
    "model2.add(Dropout(0.5))\n",
    "model2.add(Dense(8, activation='LeakyReLU'))\n",
    "model2.add(Dense(1, activation='linear'))\n",
    "early_stop = EarlyStopping(monitor='val_loss', \n",
    "                           min_delta=0, \n",
    "                           patience=5, \n",
    "                           mode='auto')"
   ]
  },
  {
   "cell_type": "code",
   "execution_count": 77,
   "id": "da88421e",
   "metadata": {},
   "outputs": [
    {
     "name": "stdout",
     "output_type": "stream",
     "text": [
      "Epoch 1/15\n"
     ]
    },
    {
     "name": "stderr",
     "output_type": "stream",
     "text": [
      "/home/ubuntu/.local/lib/python3.10/site-packages/keras/optimizer_v2/adam.py:105: UserWarning: The `lr` argument is deprecated, use `learning_rate` instead.\n",
      "  super(Adam, self).__init__(name, **kwargs)\n"
     ]
    },
    {
     "name": "stdout",
     "output_type": "stream",
     "text": [
      "1836/1836 [==============================] - 73s 38ms/step - loss: 2.6510 - val_loss: 1.7018\n",
      "Epoch 2/15\n",
      "1836/1836 [==============================] - 68s 37ms/step - loss: 2.2131 - val_loss: 1.6853\n",
      "Epoch 3/15\n",
      "1836/1836 [==============================] - 68s 37ms/step - loss: 2.0335 - val_loss: 1.9713\n",
      "Epoch 4/15\n",
      "1836/1836 [==============================] - 68s 37ms/step - loss: 1.9613 - val_loss: 2.1541\n",
      "Epoch 5/15\n",
      "1836/1836 [==============================] - 68s 37ms/step - loss: 1.9122 - val_loss: 1.9131\n",
      "Epoch 6/15\n",
      "1836/1836 [==============================] - 68s 37ms/step - loss: 1.8939 - val_loss: 2.1312\n",
      "Epoch 7/15\n",
      "1836/1836 [==============================] - 68s 37ms/step - loss: 1.8726 - val_loss: 1.8950\n"
     ]
    }
   ],
   "source": [
    "model2.compile(optimizer=Adam(lr=.001), loss=root_mean_squared_error)\n",
    "history2 = model2.fit(train_sequences_meter2, validation_data=test_sequences_meter2, epochs=15, batch_size = 1024, callbacks = [early_stop])"
   ]
  },
  {
   "cell_type": "code",
   "execution_count": 78,
   "id": "1e82bcaa",
   "metadata": {},
   "outputs": [
    {
     "data": {
      "image/png": "[encoded data removed]",
      "text/plain": [
       "<Figure size 432x288 with 1 Axes>"
      ]
     },
     "metadata": {
      "needs_background": "light"
     },
     "output_type": "display_data"
    }
   ],
   "source": [
    "plt.plot(history2.history['loss'], label='Train loss')\n",
    "plt.plot(history2.history['val_loss'], label='Test loss')\n",
    "plt.legend();"
   ]
  },
  {
   "cell_type": "code",
   "execution_count": 79,
   "id": "56dc4a60",
   "metadata": {},
   "outputs": [
    {
     "name": "stdout",
     "output_type": "stream",
     "text": [
      "Model2 is saved\n"
     ]
    }
   ],
   "source": [
    "model2.save(\"GRU_model_meter2_r0.h5\")\n",
    "print(\"Model2 is saved\")"
   ]
  },
  {
   "cell_type": "markdown",
   "id": "9654e237",
   "metadata": {},
   "source": [
    "#### Prediction for Meter 2"
   ]
  },
  {
   "cell_type": "code",
   "execution_count": 80,
   "id": "c54303c1",
   "metadata": {},
   "outputs": [],
   "source": [
    "submission_meter_2 = test_df_2.sort_values(by=['building_id', 'month', 'day', 'hour']).reset_index(drop=True)\n",
    "submission_m2 = submission_meter_2[goodfeatures2].reset_index(drop=True)\n",
    "submission_gru_m2 = pd.get_dummies(data=submission_m2, columns=categorical_features_meter2, drop_first=True)\n",
    "submission_gru_m2_mm = mm.transform(submission_gru_m2)"
   ]
  },
  {
   "cell_type": "code",
   "execution_count": 81,
   "id": "bb3fa623",
   "metadata": {},
   "outputs": [
    {
     "name": "stdout",
     "output_type": "stream",
     "text": [
      "(1024, 6, 37)\n"
     ]
    }
   ],
   "source": [
    "submission_m2_generator = TimeseriesGenerator(submission_gru_m2_mm, np.zeros(len(submission_gru_m2_mm)), length=6, batch_size=1024)\n",
    "print(submission_m2_generator[0][0].shape)"
   ]
  },
  {
   "cell_type": "code",
   "execution_count": 82,
   "id": "2fe11848",
   "metadata": {},
   "outputs": [],
   "source": [
    "meter2_predicted = np.expm1(model2.predict(submission_m2_generator))\n",
    "meter2_ravel = meter2_predicted.ravel()\n",
    "\n",
    "#to fill in the missing 6 observations with 0\n",
    "meter2_ravel = np.insert(meter2_ravel, [0,0,0,0,0,0], [0,0,0,0,0,0], axis=0)  "
   ]
  },
  {
   "cell_type": "code",
   "execution_count": 83,
   "id": "10a99c7b",
   "metadata": {},
   "outputs": [],
   "source": [
    "submission_meter_2['meter_reading'] = meter2_ravel"
   ]
  },
  {
   "cell_type": "code",
   "execution_count": 84,
   "id": "5555729d",
   "metadata": {},
   "outputs": [
    {
     "name": "stderr",
     "output_type": "stream",
     "text": [
      "/home/ubuntu/.local/lib/python3.10/site-packages/seaborn/distributions.py:2619: FutureWarning: `distplot` is a deprecated function and will be removed in a future version. Please adapt your code to use either `displot` (a figure-level function with similar flexibility) or `histplot` (an axes-level function for histograms).\n",
      "  warnings.warn(msg, FutureWarning)\n"
     ]
    },
    {
     "data": {
      "text/plain": [
       "<AxesSubplot:xlabel='meter_reading', ylabel='Density'>"
      ]
     },
     "execution_count": 84,
     "metadata": {},
     "output_type": "execute_result"
    },
    {
     "data": {
      "image/png": "[encoded data removed]",
      "text/plain": [
       "<Figure size 432x288 with 1 Axes>"
      ]
     },
     "metadata": {
      "needs_background": "light"
     },
     "output_type": "display_data"
    }
   ],
   "source": [
    "sns.distplot(submission_meter_2['meter_reading'])"
   ]
  },
  {
   "cell_type": "markdown",
   "id": "52d1dbfd",
   "metadata": {},
   "source": [
    "#### Meter 3\n",
    "\n",
    "Training GRU model for meter 3"
   ]
  },
  {
   "cell_type": "code",
   "execution_count": 85,
   "id": "4d4e4adf",
   "metadata": {},
   "outputs": [
    {
     "data": {
      "text/plain": [
       "['building_id',\n",
       " 'square_feet',\n",
       " 'primary_use',\n",
       " 'dew_temperature_1',\n",
       " 'air_temperature_1',\n",
       " 'Wind_chill(degC)_mean_rolled3',\n",
       " 'feels_like(degC)',\n",
       " 'wind_speed_1',\n",
       " 'month',\n",
       " 'season',\n",
       " 'site_id',\n",
       " 'sea_level_pressure_1']"
      ]
     },
     "execution_count": 85,
     "metadata": {},
     "output_type": "execute_result"
    }
   ],
   "source": [
    "goodfeatures3"
   ]
  },
  {
   "cell_type": "code",
   "execution_count": 86,
   "id": "98ea895a",
   "metadata": {},
   "outputs": [],
   "source": [
    "categorical_features_meter3 = ['primary_use', 'season', 'month']\n",
    "train_meter_3 = train_df_3.sort_values(by=['building_id', 'month', 'day', 'hour']).reset_index(drop=True)\n",
    "train_m3 = train_meter_3[goodfeatures3].reset_index(drop=True)\n",
    "train_gru_m3 = pd.get_dummies(data=train_m3, columns=categorical_features_meter3, drop_first=True)\n",
    "X_train, X_test, y_train, y_test = train_test_split(train_gru_m3,train_meter_3['log_meter_reading'],test_size=0.3,shuffle=False)"
   ]
  },
  {
   "cell_type": "code",
   "execution_count": 87,
   "id": "3d798a35",
   "metadata": {},
   "outputs": [],
   "source": [
    "mm = MinMaxScaler()\n",
    "X_train3_mm = mm.fit_transform(X_train)"
   ]
  },
  {
   "cell_type": "code",
   "execution_count": 88,
   "id": "fceb8f2b",
   "metadata": {},
   "outputs": [],
   "source": [
    "X_test3_mm = mm.transform(X_test)"
   ]
  },
  {
   "cell_type": "code",
   "execution_count": 89,
   "id": "aec96985",
   "metadata": {},
   "outputs": [],
   "source": [
    "train_sequences_meter3 = TimeseriesGenerator(X_train3_mm, y_train.values, length=6, batch_size=1024)\n",
    "test_sequences_meter3 = TimeseriesGenerator(X_test3_mm, y_test.values, length=6, batch_size=1024)"
   ]
  },
  {
   "cell_type": "code",
   "execution_count": 90,
   "id": "65d4c16e",
   "metadata": {},
   "outputs": [],
   "source": [
    "input_shape = train_sequences_meter3[0][0][0].shape"
   ]
  },
  {
   "cell_type": "code",
   "execution_count": 91,
   "id": "2c2437d2",
   "metadata": {},
   "outputs": [
    {
     "data": {
      "text/plain": [
       "(6, 38)"
      ]
     },
     "execution_count": 91,
     "metadata": {},
     "output_type": "execute_result"
    }
   ],
   "source": [
    "input_shape"
   ]
  },
  {
   "cell_type": "code",
   "execution_count": 92,
   "id": "a2ef3406",
   "metadata": {},
   "outputs": [],
   "source": [
    "model3 = Sequential()\n",
    "model3.add(GRU(64 , input_shape=input_shape, return_sequences=True)) # True if next layer is RNN\n",
    "model3.add(GRU(32, return_sequences=False)) # False if next layer is Dense\n",
    "model3.add(Dropout(0.5))\n",
    "model3.add(Dense(16, activation='LeakyReLU'))\n",
    "model3.add(Dropout(0.5))\n",
    "model3.add(Dense(8, activation='LeakyReLU'))\n",
    "model3.add(Dense(1, activation='linear'))\n",
    "early_stop = EarlyStopping(monitor='val_loss', \n",
    "                           min_delta=0, \n",
    "                           patience=5, \n",
    "                           mode='auto')"
   ]
  },
  {
   "cell_type": "code",
   "execution_count": 93,
   "id": "4dfdc65b",
   "metadata": {},
   "outputs": [
    {
     "name": "stdout",
     "output_type": "stream",
     "text": [
      "Epoch 1/15\n"
     ]
    },
    {
     "name": "stderr",
     "output_type": "stream",
     "text": [
      "/home/ubuntu/.local/lib/python3.10/site-packages/keras/optimizer_v2/adam.py:105: UserWarning: The `lr` argument is deprecated, use `learning_rate` instead.\n",
      "  super(Adam, self).__init__(name, **kwargs)\n"
     ]
    },
    {
     "name": "stdout",
     "output_type": "stream",
     "text": [
      "854/854 [==============================] - 36s 38ms/step - loss: 2.3061 - val_loss: 3.0448\n",
      "Epoch 2/15\n",
      "854/854 [==============================] - 32s 37ms/step - loss: 2.0909 - val_loss: 2.5205\n",
      "Epoch 3/15\n",
      "854/854 [==============================] - 32s 37ms/step - loss: 2.0125 - val_loss: 2.7377\n",
      "Epoch 4/15\n",
      "854/854 [==============================] - 32s 37ms/step - loss: 1.9593 - val_loss: 2.6933\n",
      "Epoch 5/15\n",
      "854/854 [==============================] - 32s 37ms/step - loss: 1.9175 - val_loss: 2.6161\n",
      "Epoch 6/15\n",
      "854/854 [==============================] - 32s 37ms/step - loss: 1.9025 - val_loss: 2.4576\n",
      "Epoch 7/15\n",
      "854/854 [==============================] - 32s 37ms/step - loss: 1.8812 - val_loss: 2.3979\n",
      "Epoch 8/15\n",
      "854/854 [==============================] - 32s 37ms/step - loss: 1.8535 - val_loss: 2.5727\n",
      "Epoch 9/15\n",
      "854/854 [==============================] - 32s 37ms/step - loss: 1.8459 - val_loss: 2.5594\n",
      "Epoch 10/15\n",
      "854/854 [==============================] - 32s 37ms/step - loss: 1.8322 - val_loss: 2.6194\n",
      "Epoch 11/15\n",
      "854/854 [==============================] - 32s 37ms/step - loss: 1.8130 - val_loss: 2.5427\n",
      "Epoch 12/15\n",
      "854/854 [==============================] - 32s 37ms/step - loss: 1.7975 - val_loss: 2.6180\n"
     ]
    }
   ],
   "source": [
    "model3.compile(optimizer=Adam(lr=.001), loss=root_mean_squared_error)\n",
    "history3 = model3.fit(train_sequences_meter3, validation_data=test_sequences_meter3, epochs=15, batch_size = 1024, callbacks = [early_stop])"
   ]
  },
  {
   "cell_type": "code",
   "execution_count": 94,
   "id": "1d8f9c7d",
   "metadata": {},
   "outputs": [
    {
     "data": {
      "image/png": "[encoded data removed]",
      "text/plain": [
       "<Figure size 432x288 with 1 Axes>"
      ]
     },
     "metadata": {
      "needs_background": "light"
     },
     "output_type": "display_data"
    }
   ],
   "source": [
    "plt.plot(history3.history['loss'], label='Train loss')\n",
    "plt.plot(history3.history['val_loss'], label='Test loss')\n",
    "plt.legend();"
   ]
  },
  {
   "cell_type": "code",
   "execution_count": 95,
   "id": "8e5d6353",
   "metadata": {},
   "outputs": [
    {
     "name": "stdout",
     "output_type": "stream",
     "text": [
      "Model3 is saved\n"
     ]
    }
   ],
   "source": [
    "model3.save(\"GRU_model_meter3_r0.h5\")\n",
    "print(\"Model3 is saved\")"
   ]
  },
  {
   "cell_type": "markdown",
   "id": "fe2a83ff",
   "metadata": {},
   "source": [
    "#### Prediction for Meter 3\n"
   ]
  },
  {
   "cell_type": "code",
   "execution_count": 96,
   "id": "e0bf1e36",
   "metadata": {},
   "outputs": [],
   "source": [
    "submission_meter_3 = test_df_3.sort_values(by=['building_id', 'month', 'day', 'hour']).reset_index(drop=True)\n",
    "submission_m3 = submission_meter_3[goodfeatures3].reset_index(drop=True)\n",
    "submission_gru_m3 = pd.get_dummies(data=submission_m3, columns=categorical_features_meter3, drop_first=True)\n",
    "submission_gru_m3_mm = mm.transform(submission_gru_m3)"
   ]
  },
  {
   "cell_type": "code",
   "execution_count": 97,
   "id": "1fd045b6",
   "metadata": {},
   "outputs": [
    {
     "name": "stdout",
     "output_type": "stream",
     "text": [
      "(1024, 6, 38)\n"
     ]
    }
   ],
   "source": [
    "submission_m3_generator = TimeseriesGenerator(submission_gru_m3_mm, np.zeros(len(submission_gru_m3_mm)), length=6, batch_size=1024)\n",
    "print(submission_m3_generator[0][0].shape)"
   ]
  },
  {
   "cell_type": "code",
   "execution_count": 98,
   "id": "6bf1cdc1",
   "metadata": {},
   "outputs": [],
   "source": [
    "meter3_predicted = np.expm1(model3.predict(submission_m3_generator))\n",
    "meter3_ravel = meter3_predicted.ravel()\n",
    "\n",
    "#to fill in the missing 6 observations with 0\n",
    "meter3_ravel = np.insert(meter3_ravel, [0,0,0,0,0,0], [0,0,0,0,0,0], axis=0)  "
   ]
  },
  {
   "cell_type": "code",
   "execution_count": 99,
   "id": "60e4a309",
   "metadata": {},
   "outputs": [],
   "source": [
    "submission_meter_3['meter_reading'] = meter3_ravel"
   ]
  },
  {
   "cell_type": "code",
   "execution_count": 100,
   "id": "dcdee430",
   "metadata": {},
   "outputs": [
    {
     "name": "stderr",
     "output_type": "stream",
     "text": [
      "/home/ubuntu/.local/lib/python3.10/site-packages/seaborn/distributions.py:2619: FutureWarning: `distplot` is a deprecated function and will be removed in a future version. Please adapt your code to use either `displot` (a figure-level function with similar flexibility) or `histplot` (an axes-level function for histograms).\n",
      "  warnings.warn(msg, FutureWarning)\n"
     ]
    },
    {
     "data": {
      "text/plain": [
       "<AxesSubplot:xlabel='meter_reading', ylabel='Density'>"
      ]
     },
     "execution_count": 100,
     "metadata": {},
     "output_type": "execute_result"
    },
    {
     "data": {
      "image/png": "[encoded data removed]",
      "text/plain": [
       "<Figure size 432x288 with 1 Axes>"
      ]
     },
     "metadata": {
      "needs_background": "light"
     },
     "output_type": "display_data"
    }
   ],
   "source": [
    "sns.distplot(submission_meter_3['meter_reading'])"
   ]
  },
  {
   "cell_type": "markdown",
   "id": "2a477413",
   "metadata": {},
   "source": [
    "#### Concatenate all predicted datasets"
   ]
  },
  {
   "cell_type": "code",
   "execution_count": 101,
   "id": "e352bb95",
   "metadata": {},
   "outputs": [],
   "source": [
    "concat_df = [submission_meter_0, submission_meter_1, submission_meter_2, submission_meter_3]\n",
    "\n",
    "kaggle_test_df = pd.concat(concat_df, axis=0)"
   ]
  },
  {
   "cell_type": "code",
   "execution_count": 102,
   "id": "bc155e24",
   "metadata": {},
   "outputs": [
    {
     "data": {
      "text/plain": [
       "(41697600, 30)"
      ]
     },
     "execution_count": 102,
     "metadata": {},
     "output_type": "execute_result"
    }
   ],
   "source": [
    "kaggle_test_df.shape"
   ]
  },
  {
   "cell_type": "code",
   "execution_count": 103,
   "id": "af5e32bc",
   "metadata": {},
   "outputs": [
    {
     "data": {
      "text/plain": [
       "(41697600, 29)"
      ]
     },
     "execution_count": 103,
     "metadata": {},
     "output_type": "execute_result"
    }
   ],
   "source": [
    "test_df.shape"
   ]
  },
  {
   "cell_type": "code",
   "execution_count": 104,
   "id": "cfd1ff8f",
   "metadata": {},
   "outputs": [],
   "source": [
    "kaggle_submission = kaggle_test_df[['row_id','meter_reading']]"
   ]
  },
  {
   "cell_type": "code",
   "execution_count": 105,
   "id": "1790fe43",
   "metadata": {},
   "outputs": [],
   "source": [
    "kaggle_submission = kaggle_submission.sort_values(by='row_id')"
   ]
  },
  {
   "cell_type": "code",
   "execution_count": 106,
   "id": "4d8db5ac",
   "metadata": {},
   "outputs": [],
   "source": [
    "kaggle_submission.to_csv('s3://jiashengs3/kaggle_submission(gru)_r0.csv', index=False)"
   ]
  },
  {
   "cell_type": "markdown",
   "id": "b5c7e50d",
   "metadata": {},
   "source": [
    "## Models Ensembling\n",
    "\n",
    "The goal of employing ensemble models is to lower the prediction's generalization error.\n",
    "\n",
    "Best kaggle score with 0.9 weights for LGBM model prediction + 0.1 weights for GRU model"
   ]
  },
  {
   "cell_type": "code",
   "execution_count": 107,
   "id": "3e9837c3",
   "metadata": {},
   "outputs": [],
   "source": [
    "obj2 = s3.Bucket('jiashengs3').Object('kaggle_submission(LGBM).csv').get()\n",
    "obj3 = s3.Bucket('jiashengs3').Object('kaggle_submission(gru)_r0.csv').get()"
   ]
  },
  {
   "cell_type": "code",
   "execution_count": 108,
   "id": "ffda6ff1",
   "metadata": {},
   "outputs": [],
   "source": [
    "# retriving prediction from lgbm and gru models\n",
    "lgbm_model = pd.read_csv(obj2['Body'],index_col=0)\n",
    "gru_model = pd.read_csv(obj3['Body'],index_col=0)"
   ]
  },
  {
   "cell_type": "code",
   "execution_count": 109,
   "id": "970528cb",
   "metadata": {},
   "outputs": [],
   "source": [
    "merged_model = lgbm_model.merge(gru_model, on=('row_id')).reset_index()"
   ]
  },
  {
   "cell_type": "code",
   "execution_count": 110,
   "id": "0e2807a1",
   "metadata": {},
   "outputs": [],
   "source": [
    "def ensemble_ratio(df, ratio_lgbm):\n",
    "    \n",
    "    df['meter_reading'] = df['meter_reading_x'] * ratio_lgbm + df['meter_reading_y'] * (1-ratio_lgbm)\n",
    "    df = df.drop(columns=['meter_reading_x','meter_reading_y'])\n",
    "    \n",
    "    return df"
   ]
  },
  {
   "cell_type": "code",
   "execution_count": 111,
   "id": "3ab3af16",
   "metadata": {},
   "outputs": [],
   "source": [
    "ensembled_df = ensemble_ratio(merged_model,0.9)"
   ]
  },
  {
   "cell_type": "code",
   "execution_count": 112,
   "id": "93e5058b",
   "metadata": {},
   "outputs": [
    {
     "name": "stdout",
     "output_type": "stream",
     "text": [
      "Memory usage of dataframe is 636.26 MB\n",
      "Memory usage after optimization is: 318.13 MB\n",
      "Decreased by 50.0%\n"
     ]
    }
   ],
   "source": [
    "ensembled_model = reduce_mem_usage(ensembled_df)"
   ]
  },
  {
   "cell_type": "code",
   "execution_count": 113,
   "id": "1a5dcb7a",
   "metadata": {},
   "outputs": [],
   "source": [
    "ensembled_model.to_csv('s3://jiashengs3/ensembled_model_r0.csv', index=False)"
   ]
  },
  {
   "cell_type": "markdown",
   "id": "e4ebbf69",
   "metadata": {},
   "source": [
    "## Conclusion and Recommendations"
   ]
  },
  {
   "cell_type": "markdown",
   "id": "8dd2366e",
   "metadata": {},
   "source": [
    "**General Findings from EDA**\n",
    "\n",
    "- There are nearly the same number of normalized observations in the testing dataset VS training dataset, indicating that the variance for the various features is well-represented.\n",
    "\n",
    "- Building 1099 is a clear anomaly. Given its GFA, the building is unlikely to consume so much energy. It's possible that the meters aren't working properly or that the meter readings are cumulative.\n",
    "\n",
    "- Education and facilities consume the most energy. When classified by site, site 13 spends the most energy (because to building 1099), and when sorted by meter type, meter 2 consumes the most energy (also because of building 1099).\n",
    "\n",
    "- From 2016 to 2018, we continuously find increased usage throughout the summer (June-Sept) and winter (December-March) seasons based on the Average Air-Temperature VS Meter Reading. The fact that heaters are typically used when temperatures are cold and air conditioners are used when temperatures are hot helps explain this tendency. Both of these factors contribute to increased energy use.\n",
    "\n",
    "- Using LOFO analysis, the top features in all four meter kinds are square feet, building id, primary use, and building counts per site.\n",
    "\n",
    "**Significant Findings**:\n",
    "\n",
    "- In the setting of a large dataset, decision tree ensemble models such as Light Gradient Boosting Trees are an effective and efficient model type for time-series hourly energy regression. Complex models, such as deep learning GRU, are less effective when used alone (especially with missing time sequences), but they can be combined with other models to produce better predictions with smaller generalization errors.\n",
    "\n",
    "- In this project, we used ensemble models of Light Gradient Boost and Deep Learning GRU in our project to attain a respectable RMSLE score of 1.191 (public board) in the kaggle competition without using any leaked data. When compared to individual model scores, the kaggle score produced from ensemble models is superior.\n",
    "\n",
    "- Another important discovery was that all machine learning process steps had an effect on model accuracy, as seen in the following examples:\n",
    "\n",
    "    - With some domain expertise in meters and simple intuition, abnormal readings for the four meters were detected and dropped\n",
    "\n",
    "    - Additional weather parameters like feels like temperature, wind chill, and heat index have a favorable impact on the model and are acknowledged as key elements in our LOFO analysis.\n",
    "\n",
    "**Recommendations**\n",
    "- Developing one model for each building (1449 models in total)\n",
    "- Developing one model for each site (16 models in total)\n",
    "- One hot encode building_id and site_id before modeling (computationally expensive)\n",
    "- Experiment relations of existing features and target variable (prediciting kwh/ft2 instead) "
   ]
  }
 ],
 "metadata": {
  "kernelspec": {
   "display_name": "Python 3 (ipykernel)",
   "language": "python",
   "name": "python3"
  },
  "language_info": {
   "codemirror_mode": {
    "name": "ipython",
    "version": 3
   },
   "file_extension": ".py",
   "mimetype": "text/x-python",
   "name": "python",
   "nbconvert_exporter": "python",
   "pygments_lexer": "ipython3",
   "version": "3.10.4"
  }
 },
 "nbformat": 4,
 "nbformat_minor": 5
}
