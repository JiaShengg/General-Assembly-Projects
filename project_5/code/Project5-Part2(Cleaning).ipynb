{
 "cells": [
  {
   "cell_type": "markdown",
   "id": "712203c7",
   "metadata": {},
   "source": [
    "<img src=\"http://imgur.com/1ZcRyrc.png\" style=\"float: left; margin: 20px; height: 55px\">\n",
    "\n",
    "# Project 5: ASHRAE - Great Energy Predictor III (Part 2 Cleaning and Transformation)"
   ]
  },
  {
   "cell_type": "markdown",
   "id": "bce9813d",
   "metadata": {},
   "source": [
    " - [Data Cleaning](#Data-Cleaning)"
   ]
  },
  {
   "cell_type": "markdown",
   "id": "921c04a5",
   "metadata": {},
   "source": [
    "## Data Cleaning"
   ]
  },
  {
   "cell_type": "markdown",
   "id": "97b0c835",
   "metadata": {},
   "source": [
    "Weather conditions have a significant impact on energy consumption. There is a lot of missing weather data in this weather dataset. This kernel is focused to resolving the problem. We'll also do some feature engineering and transformation on the existing datasets "
   ]
  },
  {
   "cell_type": "markdown",
   "id": "65655bdb",
   "metadata": {},
   "source": [
    "#### Importing Libraries"
   ]
  },
  {
   "cell_type": "code",
   "execution_count": 1,
   "id": "3fc6ff0a",
   "metadata": {},
   "outputs": [],
   "source": [
    "# Importing the required libraries\n",
    "import pandas as pd\n",
    "import numpy as np\n",
    "import matplotlib.pyplot as plt\n",
    "import seaborn as sns\n",
    "import datetime as dt\n",
    "import scipy\n",
    "import boto3\n",
    "\n",
    "from matplotlib.pyplot import figure\n",
    "from meteocalc import Temp, dew_point, heat_index, wind_chill, feels_like\n",
    "from numpy import sqrt \n",
    "\n",
    "import warnings\n",
    "warnings.filterwarnings('ignore')"
   ]
  },
  {
   "cell_type": "code",
   "execution_count": 2,
   "id": "bd475ef4",
   "metadata": {},
   "outputs": [],
   "source": [
    "# !pip install meteocalc\n",
    "# !pip install boto3\n",
    "# !pip install smart_open\n",
    "# !pip install s3fs\n",
    "# !pip install boto3"
   ]
  },
  {
   "cell_type": "code",
   "execution_count": 3,
   "id": "f01cd230",
   "metadata": {},
   "outputs": [],
   "source": [
    "s3 = boto3.resource(\n",
    "    service_name = 's3',\n",
    "    region_name = 'us-east-1',\n",
    "    aws_access_key_id = '',\n",
    "    aws_secret_access_key = ''\n",
    "    \n",
    ")"
   ]
  },
  {
   "cell_type": "code",
   "execution_count": 4,
   "id": "8918c709",
   "metadata": {},
   "outputs": [],
   "source": [
    "import os\n",
    "os.environ[\"AWS_DEFAULT_REGION\"] = 'us-east-1'\n",
    "os.environ['AWS_ACCESS_KEY_ID'] = ''\n",
    "os.environ['AWS_SECRET_ACCESS_KEY'] = ''"
   ]
  },
  {
   "cell_type": "code",
   "execution_count": 5,
   "id": "37b72d62",
   "metadata": {},
   "outputs": [],
   "source": [
    "obj = s3.Bucket('jiashengs3').Object('EDA_train_df.csv').get()\n",
    "obj1 = s3.Bucket('jiashengs3').Object('EDA_test_df.csv').get()\n",
    "obj2 = s3.Bucket('jiashengs3').Object('weather_train.csv').get()\n",
    "obj3 = s3.Bucket('jiashengs3').Object('weather_test.csv').get()"
   ]
  },
  {
   "cell_type": "code",
   "execution_count": 6,
   "id": "2a225153",
   "metadata": {},
   "outputs": [],
   "source": [
    "#retriving cleaned train and test datasets from s3 bucket\n",
    "test_df = pd.read_csv(obj1['Body'],index_col=0, parse_dates=['timestamp'])\n",
    "train_df = pd.read_csv(obj['Body'],index_col=0, parse_dates=['timestamp'])\n",
    "weather_train_df = pd.read_csv(obj2['Body'],index_col=0, parse_dates=['timestamp'])\n",
    "weather_test_df = pd.read_csv(obj3['Body'],index_col=0, parse_dates=['timestamp'])"
   ]
  },
  {
   "cell_type": "code",
   "execution_count": 7,
   "id": "775eea8a",
   "metadata": {},
   "outputs": [],
   "source": [
    "# train_df = pd.read_csv('../datasets/raw/final_train_df.csv', parse_dates=['timestamp'])\n",
    "# test_df = pd.read_csv('../datasets/raw/final_test_df.csv', parse_dates=['timestamp'])\n",
    "# weather_train_df = pd.read_csv('../datasets/raw/weather_train.csv', parse_dates=['timestamp'])\n",
    "# weather_test_df = pd.read_csv('../datasets/raw/weather_test.csv', parse_dates=['timestamp'])"
   ]
  },
  {
   "cell_type": "code",
   "execution_count": 8,
   "id": "809d76c7",
   "metadata": {},
   "outputs": [],
   "source": [
    "def reduce_mem_usage(df):\n",
    "    \"\"\" iterate through all the columns of a dataframe and modify the data type\n",
    "        to reduce memory usage.        \n",
    "    \"\"\"\n",
    "    start_mem = df.memory_usage().sum() / 1024**2\n",
    "    print('Memory usage of dataframe is {:.2f} MB'.format(start_mem))\n",
    "    \n",
    "    for col in df.columns:\n",
    "        col_type = df[col].dtype\n",
    "        \n",
    "        if col_type != object:\n",
    "            c_min = df[col].min()\n",
    "            c_max = df[col].max()\n",
    "            if str(col_type)[:3] == 'int':\n",
    "                if c_min > np.iinfo(np.int8).min and c_max < np.iinfo(np.int8).max:\n",
    "                    df[col] = df[col].astype(np.int8)\n",
    "                elif c_min > np.iinfo(np.int16).min and c_max < np.iinfo(np.int16).max:\n",
    "                    df[col] = df[col].astype(np.int16)\n",
    "                elif c_min > np.iinfo(np.int32).min and c_max < np.iinfo(np.int32).max:\n",
    "                    df[col] = df[col].astype(np.int32)\n",
    "                elif c_min > np.iinfo(np.int64).min and c_max < np.iinfo(np.int64).max:\n",
    "                    df[col] = df[col].astype(np.int64)  \n",
    "            else:\n",
    "                if c_min > np.finfo(np.float16).min and c_max < np.finfo(np.float16).max:\n",
    "                    df[col] = df[col].astype(np.float16)\n",
    "                elif c_min > np.finfo(np.float32).min and c_max < np.finfo(np.float32).max:\n",
    "                    df[col] = df[col].astype(np.float32)\n",
    "                else:\n",
    "                    df[col] = df[col].astype(np.float64)\n",
    "        else:\n",
    "            df[col] = df[col].astype('category')\n",
    "\n",
    "    end_mem = df.memory_usage().sum() / 1024**2\n",
    "    print('Memory usage after optimization is: {:.2f} MB'.format(end_mem))\n",
    "    print('Decreased by {:.1f}%'.format(100 * (start_mem - end_mem) / start_mem))\n",
    "    \n",
    "    return df"
   ]
  },
  {
   "cell_type": "code",
   "execution_count": 9,
   "id": "ff17da93",
   "metadata": {},
   "outputs": [
    {
     "name": "stdout",
     "output_type": "stream",
     "text": [
      "Memory usage of dataframe is 3238.97 MB\n",
      "Memory usage after optimization is: 867.58 MB\n",
      "Decreased by 73.2%\n"
     ]
    }
   ],
   "source": [
    "train_df = reduce_mem_usage(train_df)"
   ]
  },
  {
   "cell_type": "markdown",
   "id": "dffc2a0b",
   "metadata": {},
   "source": [
    "#### Finding bad rows in the train dataset and drop them"
   ]
  },
  {
   "cell_type": "markdown",
   "id": "f8f4690e",
   "metadata": {},
   "source": [
    "Rows are considered bad if they fulfill the following criteria:\n",
    "- Electric meter with continuous streak of zero readings (24 hours), unlikely to have buildings with 0% electrical usage.\n",
    "- Heat / Chilled Meters lasting more than 48 hours that typically does not occur within the expected seasons for that meter type\n",
    "- Site 0 long streak of 0 meter readings\n",
    "- Outliers building 1099 & 778 as previously discovered in our EDA process "
   ]
  },
  {
   "cell_type": "markdown",
   "id": "da42d2a2",
   "metadata": {},
   "source": [
    "Function 1: Identify electric meter with continuous streak of zero readings for more than 24 hours"
   ]
  },
  {
   "cell_type": "code",
   "execution_count": 10,
   "id": "888f998b",
   "metadata": {},
   "outputs": [],
   "source": [
    "train_df = train_df.reset_index()"
   ]
  },
  {
   "cell_type": "code",
   "execution_count": 11,
   "id": "320b6872",
   "metadata": {},
   "outputs": [],
   "source": [
    "#identify all electric meters\n",
    "masked_df = train_df[(train_df['meter']==0)]"
   ]
  },
  {
   "cell_type": "code",
   "execution_count": 12,
   "id": "9b99c2b8",
   "metadata": {},
   "outputs": [],
   "source": [
    "#reset index\n",
    "masked_df = masked_df.reset_index(drop=True)"
   ]
  },
  {
   "cell_type": "code",
   "execution_count": 13,
   "id": "02085b93",
   "metadata": {},
   "outputs": [
    {
     "data": {
      "text/html": [
       "<div>\n",
       "<style scoped>\n",
       "    .dataframe tbody tr th:only-of-type {\n",
       "        vertical-align: middle;\n",
       "    }\n",
       "\n",
       "    .dataframe tbody tr th {\n",
       "        vertical-align: top;\n",
       "    }\n",
       "\n",
       "    .dataframe thead th {\n",
       "        text-align: right;\n",
       "    }\n",
       "</style>\n",
       "<table border=\"1\" class=\"dataframe\">\n",
       "  <thead>\n",
       "    <tr style=\"text-align: right;\">\n",
       "      <th></th>\n",
       "      <th>timestamp</th>\n",
       "      <th>building_id</th>\n",
       "      <th>meter</th>\n",
       "      <th>meter_reading</th>\n",
       "      <th>site_id</th>\n",
       "      <th>primary_use</th>\n",
       "      <th>square_feet</th>\n",
       "      <th>year_built</th>\n",
       "      <th>floor_count</th>\n",
       "      <th>air_temperature</th>\n",
       "      <th>...</th>\n",
       "      <th>dew_temperature</th>\n",
       "      <th>precip_depth_1_hr</th>\n",
       "      <th>sea_level_pressure</th>\n",
       "      <th>wind_direction</th>\n",
       "      <th>wind_speed</th>\n",
       "      <th>year</th>\n",
       "      <th>month</th>\n",
       "      <th>week</th>\n",
       "      <th>day</th>\n",
       "      <th>hour</th>\n",
       "    </tr>\n",
       "  </thead>\n",
       "  <tbody>\n",
       "    <tr>\n",
       "      <th>0</th>\n",
       "      <td>2016-01-01</td>\n",
       "      <td>0</td>\n",
       "      <td>0</td>\n",
       "      <td>0.0</td>\n",
       "      <td>0</td>\n",
       "      <td>Education</td>\n",
       "      <td>7432</td>\n",
       "      <td>2008.0</td>\n",
       "      <td>NaN</td>\n",
       "      <td>25.0</td>\n",
       "      <td>...</td>\n",
       "      <td>20.0</td>\n",
       "      <td>NaN</td>\n",
       "      <td>1019.5</td>\n",
       "      <td>0.0</td>\n",
       "      <td>0.0</td>\n",
       "      <td>2016</td>\n",
       "      <td>1</td>\n",
       "      <td>53</td>\n",
       "      <td>1</td>\n",
       "      <td>0</td>\n",
       "    </tr>\n",
       "    <tr>\n",
       "      <th>1</th>\n",
       "      <td>2016-01-01</td>\n",
       "      <td>1</td>\n",
       "      <td>0</td>\n",
       "      <td>0.0</td>\n",
       "      <td>0</td>\n",
       "      <td>Education</td>\n",
       "      <td>2720</td>\n",
       "      <td>2004.0</td>\n",
       "      <td>NaN</td>\n",
       "      <td>25.0</td>\n",
       "      <td>...</td>\n",
       "      <td>20.0</td>\n",
       "      <td>NaN</td>\n",
       "      <td>1019.5</td>\n",
       "      <td>0.0</td>\n",
       "      <td>0.0</td>\n",
       "      <td>2016</td>\n",
       "      <td>1</td>\n",
       "      <td>53</td>\n",
       "      <td>1</td>\n",
       "      <td>0</td>\n",
       "    </tr>\n",
       "    <tr>\n",
       "      <th>2</th>\n",
       "      <td>2016-01-01</td>\n",
       "      <td>2</td>\n",
       "      <td>0</td>\n",
       "      <td>0.0</td>\n",
       "      <td>0</td>\n",
       "      <td>Education</td>\n",
       "      <td>5376</td>\n",
       "      <td>1991.0</td>\n",
       "      <td>NaN</td>\n",
       "      <td>25.0</td>\n",
       "      <td>...</td>\n",
       "      <td>20.0</td>\n",
       "      <td>NaN</td>\n",
       "      <td>1019.5</td>\n",
       "      <td>0.0</td>\n",
       "      <td>0.0</td>\n",
       "      <td>2016</td>\n",
       "      <td>1</td>\n",
       "      <td>53</td>\n",
       "      <td>1</td>\n",
       "      <td>0</td>\n",
       "    </tr>\n",
       "    <tr>\n",
       "      <th>3</th>\n",
       "      <td>2016-01-01</td>\n",
       "      <td>3</td>\n",
       "      <td>0</td>\n",
       "      <td>0.0</td>\n",
       "      <td>0</td>\n",
       "      <td>Education</td>\n",
       "      <td>23685</td>\n",
       "      <td>2002.0</td>\n",
       "      <td>NaN</td>\n",
       "      <td>25.0</td>\n",
       "      <td>...</td>\n",
       "      <td>20.0</td>\n",
       "      <td>NaN</td>\n",
       "      <td>1019.5</td>\n",
       "      <td>0.0</td>\n",
       "      <td>0.0</td>\n",
       "      <td>2016</td>\n",
       "      <td>1</td>\n",
       "      <td>53</td>\n",
       "      <td>1</td>\n",
       "      <td>0</td>\n",
       "    </tr>\n",
       "    <tr>\n",
       "      <th>4</th>\n",
       "      <td>2016-01-01</td>\n",
       "      <td>4</td>\n",
       "      <td>0</td>\n",
       "      <td>0.0</td>\n",
       "      <td>0</td>\n",
       "      <td>Education</td>\n",
       "      <td>116607</td>\n",
       "      <td>1975.0</td>\n",
       "      <td>NaN</td>\n",
       "      <td>25.0</td>\n",
       "      <td>...</td>\n",
       "      <td>20.0</td>\n",
       "      <td>NaN</td>\n",
       "      <td>1019.5</td>\n",
       "      <td>0.0</td>\n",
       "      <td>0.0</td>\n",
       "      <td>2016</td>\n",
       "      <td>1</td>\n",
       "      <td>53</td>\n",
       "      <td>1</td>\n",
       "      <td>0</td>\n",
       "    </tr>\n",
       "  </tbody>\n",
       "</table>\n",
       "<p>5 rows × 21 columns</p>\n",
       "</div>"
      ],
      "text/plain": [
       "   timestamp  building_id  meter  meter_reading  site_id primary_use  \\\n",
       "0 2016-01-01            0      0            0.0        0   Education   \n",
       "1 2016-01-01            1      0            0.0        0   Education   \n",
       "2 2016-01-01            2      0            0.0        0   Education   \n",
       "3 2016-01-01            3      0            0.0        0   Education   \n",
       "4 2016-01-01            4      0            0.0        0   Education   \n",
       "\n",
       "   square_feet  year_built  floor_count  air_temperature  ...  \\\n",
       "0         7432      2008.0          NaN             25.0  ...   \n",
       "1         2720      2004.0          NaN             25.0  ...   \n",
       "2         5376      1991.0          NaN             25.0  ...   \n",
       "3        23685      2002.0          NaN             25.0  ...   \n",
       "4       116607      1975.0          NaN             25.0  ...   \n",
       "\n",
       "   dew_temperature  precip_depth_1_hr  sea_level_pressure  wind_direction  \\\n",
       "0             20.0                NaN              1019.5             0.0   \n",
       "1             20.0                NaN              1019.5             0.0   \n",
       "2             20.0                NaN              1019.5             0.0   \n",
       "3             20.0                NaN              1019.5             0.0   \n",
       "4             20.0                NaN              1019.5             0.0   \n",
       "\n",
       "   wind_speed  year  month  week  day  hour  \n",
       "0         0.0  2016      1    53    1     0  \n",
       "1         0.0  2016      1    53    1     0  \n",
       "2         0.0  2016      1    53    1     0  \n",
       "3         0.0  2016      1    53    1     0  \n",
       "4         0.0  2016      1    53    1     0  \n",
       "\n",
       "[5 rows x 21 columns]"
      ]
     },
     "execution_count": 13,
     "metadata": {},
     "output_type": "execute_result"
    }
   ],
   "source": [
    "masked_df.head()"
   ]
  },
  {
   "cell_type": "code",
   "execution_count": 14,
   "id": "95fadf96",
   "metadata": {},
   "outputs": [],
   "source": [
    "#create feature to sum up the energy consumption for 24 continuous hours\n",
    "masked_grouped_df = pd.DataFrame(masked_df.groupby(['building_id'])['meter_reading'].rolling(24, min_periods=1).sum()).rename(columns={'meter_reading':'cum_24hrs_meter_reading'})"
   ]
  },
  {
   "cell_type": "code",
   "execution_count": 15,
   "id": "43605b36",
   "metadata": {},
   "outputs": [],
   "source": [
    "#identify all meter readings with long streaks of 0 readings\n",
    "bad_electric_meters = masked_grouped_df[masked_grouped_df['cum_24hrs_meter_reading'] == 0].reset_index()['level_1'].values.tolist()"
   ]
  },
  {
   "cell_type": "code",
   "execution_count": 19,
   "id": "53a044b2",
   "metadata": {},
   "outputs": [],
   "source": [
    "#drop all bad elect meters observations\n",
    "masked_df = masked_df[~masked_df.index.isin(bad_electric_meters)]"
   ]
  },
  {
   "cell_type": "markdown",
   "id": "062d9d7d",
   "metadata": {},
   "source": [
    "From our previous eda it is obvious that none of the 16 sites are located in tropical region and experieced the 4 seasons. Below functions will detect abnormal usage of respective meters during summer/winter\n",
    "\n",
    "Function 2: Identify Heat meters [2/3] with continuous streak of zero readings during winter period\n",
    "- Winter Ended on Sunday, 20 March 2016 \n",
    "- Commence again on 21 December 2016 -> 48 hours before 19 Dec 2016 (limit)"
   ]
  },
  {
   "cell_type": "code",
   "execution_count": 21,
   "id": "c3cb98a1",
   "metadata": {},
   "outputs": [],
   "source": [
    "#identify all heat and steam meters\n",
    "masked_df_heaters = train_df[(train_df['meter']==2) | (train_df['meter']==3)]"
   ]
  },
  {
   "cell_type": "code",
   "execution_count": 22,
   "id": "87af9598",
   "metadata": {},
   "outputs": [],
   "source": [
    "#reset index\n",
    "masked_df_heaters = masked_df_heaters.reset_index(drop=True)"
   ]
  },
  {
   "cell_type": "code",
   "execution_count": 23,
   "id": "04df1f6f",
   "metadata": {},
   "outputs": [],
   "source": [
    "#isolate seasons outside of winter seasons\n",
    "untouch_df_heaters = masked_df_heaters[(masked_df_heaters.timestamp > '2016-03-20') & (masked_df_heaters.timestamp < '2016-12-19')]"
   ]
  },
  {
   "cell_type": "code",
   "execution_count": 24,
   "id": "c087aeac",
   "metadata": {},
   "outputs": [],
   "source": [
    "#identify winter period\n",
    "winter_df_heaters = masked_df_heaters[(masked_df_heaters.timestamp <= '2016-03-20') | (masked_df_heaters.timestamp >= '2016-12-19')]"
   ]
  },
  {
   "cell_type": "code",
   "execution_count": 25,
   "id": "b4dba10e",
   "metadata": {},
   "outputs": [],
   "source": [
    "#reset index\n",
    "winter_df_heaters = winter_df_heaters.reset_index(drop=True)"
   ]
  },
  {
   "cell_type": "code",
   "execution_count": 26,
   "id": "e52916b1",
   "metadata": {},
   "outputs": [],
   "source": [
    "#create feature to sum up the energy consumption for 48 continuous hours\n",
    "masked_df_grouped_heaters = pd.DataFrame(winter_df_heaters.groupby(['building_id'])['meter_reading'].rolling(48, min_periods=1).sum()).rename(columns={'meter_reading':'cum_48hrs_meter_reading'})"
   ]
  },
  {
   "cell_type": "code",
   "execution_count": 27,
   "id": "f8912de2",
   "metadata": {},
   "outputs": [],
   "source": [
    "#identify all meter readings with long streaks of 0 readings during winter times\n",
    "bad_heater_meters = masked_df_grouped_heaters[(masked_df_grouped_heaters['cum_48hrs_meter_reading'] == 0) ].reset_index()['level_1'].values.tolist()"
   ]
  },
  {
   "cell_type": "code",
   "execution_count": 35,
   "id": "95984aa0",
   "metadata": {},
   "outputs": [],
   "source": [
    "#drop all bad heat meters observations\n",
    "winter_df_heaters = winter_df_heaters[~winter_df_heaters.index.isin(bad_heater_meters)]"
   ]
  },
  {
   "cell_type": "code",
   "execution_count": 36,
   "id": "f14bfc56",
   "metadata": {},
   "outputs": [],
   "source": [
    "good_meters_2_3 = pd.concat([winter_df_heaters,untouch_df_heaters],axis=0).reset_index(drop=True)"
   ]
  },
  {
   "cell_type": "code",
   "execution_count": 37,
   "id": "e830042d",
   "metadata": {
    "scrolled": true
   },
   "outputs": [
    {
     "data": {
      "text/plain": [
       "(3935637, 21)"
      ]
     },
     "execution_count": 37,
     "metadata": {},
     "output_type": "execute_result"
    }
   ],
   "source": [
    "good_meters_2_3.shape"
   ]
  },
  {
   "cell_type": "markdown",
   "id": "3333ca96",
   "metadata": {},
   "source": [
    "Function 3: Identify chilled meters [1] with continuous streak of zero readings during summer period\n",
    "- Summer Ended on Sunday, 22 Sept 2016 \n",
    "- Commence on 21 June 2016 -> 48 hours before 19 June 2016 (limit)"
   ]
  },
  {
   "cell_type": "code",
   "execution_count": 38,
   "id": "d5f83a76",
   "metadata": {},
   "outputs": [],
   "source": [
    "#identify all chilled meters\n",
    "masked_df_cooler = train_df[train_df['meter']==1]"
   ]
  },
  {
   "cell_type": "code",
   "execution_count": 39,
   "id": "9cf85e88",
   "metadata": {},
   "outputs": [],
   "source": [
    "#reset index\n",
    "masked_df_cooler = masked_df_cooler.reset_index(drop=True)"
   ]
  },
  {
   "cell_type": "code",
   "execution_count": 40,
   "id": "80bafc9c",
   "metadata": {},
   "outputs": [],
   "source": [
    "#isolate seasons outside summer period\n",
    "untouch_df_cooler = masked_df_cooler[(masked_df_cooler.timestamp > '2016-09-22') | (masked_df_cooler.timestamp < '2016-06-19')]"
   ]
  },
  {
   "cell_type": "code",
   "execution_count": 41,
   "id": "97c239d7",
   "metadata": {},
   "outputs": [],
   "source": [
    "#identify summer period\n",
    "summer_df_cooler = masked_df_cooler[(masked_df_cooler.timestamp <= '2016-09-22') & (masked_df_cooler.timestamp >= '2016-06-19')]"
   ]
  },
  {
   "cell_type": "code",
   "execution_count": 42,
   "id": "dc6a71fb",
   "metadata": {},
   "outputs": [],
   "source": [
    "#reset index\n",
    "summer_df_cooler = summer_df_cooler.reset_index(drop=True)"
   ]
  },
  {
   "cell_type": "code",
   "execution_count": 43,
   "id": "1de4d187",
   "metadata": {},
   "outputs": [],
   "source": [
    "#create feature to sum up the energy consumption for 48 continuous hours\n",
    "masked_df_grouped_cooler = pd.DataFrame(summer_df_cooler.groupby(['building_id'])['meter_reading'].rolling(48, min_periods=1).sum()).rename(columns={'meter_reading':'cum_48hrs_meter_reading'})"
   ]
  },
  {
   "cell_type": "code",
   "execution_count": 44,
   "id": "8018e8d8",
   "metadata": {},
   "outputs": [],
   "source": [
    "#identify all meter readings with long streaks of 0 readings during summer times\n",
    "bad_cooler_meters = masked_df_grouped_cooler[(masked_df_grouped_cooler['cum_48hrs_meter_reading'] == 0) ].reset_index()['level_1'].values.tolist()"
   ]
  },
  {
   "cell_type": "code",
   "execution_count": 48,
   "id": "b8387f61",
   "metadata": {},
   "outputs": [],
   "source": [
    "#drop all bad chilled meters observations\n",
    "summer_df_cooler = summer_df_cooler[~summer_df_cooler.index.isin(bad_cooler_meters)]"
   ]
  },
  {
   "cell_type": "code",
   "execution_count": 49,
   "id": "f2f3acd0",
   "metadata": {},
   "outputs": [],
   "source": [
    "good_meters_1 = pd.concat([summer_df_cooler,untouch_df_cooler],axis=0).reset_index(drop=True)"
   ]
  },
  {
   "cell_type": "code",
   "execution_count": 50,
   "id": "811237fe",
   "metadata": {},
   "outputs": [],
   "source": [
    "#Combined all 3 dataframes, 510,240 dropped\n",
    "pdList = [masked_df, good_meters_2_3, good_meters_1]\n",
    "cleaned_train_df = pd.concat(pdList)"
   ]
  },
  {
   "cell_type": "code",
   "execution_count": 51,
   "id": "b6a56316",
   "metadata": {},
   "outputs": [],
   "source": [
    "cleaned_train_df = cleaned_train_df.sort_values(by='timestamp').reset_index(drop=True)"
   ]
  },
  {
   "cell_type": "code",
   "execution_count": 52,
   "id": "42a2af01",
   "metadata": {},
   "outputs": [
    {
     "data": {
      "text/plain": [
       "(19705860, 21)"
      ]
     },
     "execution_count": 52,
     "metadata": {},
     "output_type": "execute_result"
    }
   ],
   "source": [
    "cleaned_train_df.shape"
   ]
  },
  {
   "cell_type": "code",
   "execution_count": 53,
   "id": "13296f2c",
   "metadata": {},
   "outputs": [
    {
     "data": {
      "text/plain": [
       "(20216100, 21)"
      ]
     },
     "execution_count": 53,
     "metadata": {},
     "output_type": "execute_result"
    }
   ],
   "source": [
    "train_df.shape"
   ]
  },
  {
   "cell_type": "markdown",
   "id": "1750fe57",
   "metadata": {},
   "source": [
    "Previously from Part 1 EDA, we observed from January to March 2016, most of the facilities in site 0 had no consumption readings, indicating that the site was newly erected and under development at the time.\n",
    "\n",
    "Function 4: Identify observations with abnormal meter readings at Site 0 before march 2016"
   ]
  },
  {
   "cell_type": "code",
   "execution_count": 54,
   "id": "ff853b5e",
   "metadata": {},
   "outputs": [
    {
     "data": {
      "text/plain": [
       "Text(0, 0.5, 'meter_reading')"
      ]
     },
     "execution_count": 54,
     "metadata": {},
     "output_type": "execute_result"
    },
    {
     "data": {
      "image/png": "[encoded data removed]",
      "text/plain": [
       "<Figure size 1296x576 with 1 Axes>"
      ]
     },
     "metadata": {
      "needs_background": "light"
     },
     "output_type": "display_data"
    }
   ],
   "source": [
    "plt.figure(figsize=(18,8))\n",
    "sns.lineplot(x = 'timestamp',y = 'meter_reading', palette= 'Spectral', data=cleaned_train_df[cleaned_train_df['site_id'] == 0][['timestamp', 'meter_reading']].set_index('timestamp').resample('h').mean().reset_index(), ci = None, label = \"Per Hour\")\n",
    "sns.lineplot(x = 'timestamp',y = 'meter_reading', palette= 'Spectral', data=cleaned_train_df[cleaned_train_df['site_id'] == 0][['timestamp', 'meter_reading']].set_index('timestamp').resample('D').mean().reset_index(), ci = None, label = \"Per Day\")\n",
    "plt.title(f'Site 0 Average Consumption Per Hour / Per Day')\n",
    "plt.xlabel('Timestamp')\n",
    "plt.ylabel(f'meter_reading')"
   ]
  },
  {
   "cell_type": "code",
   "execution_count": 55,
   "id": "f307136a",
   "metadata": {
    "scrolled": true
   },
   "outputs": [
    {
     "data": {
      "text/html": [
       "<div>\n",
       "<style scoped>\n",
       "    .dataframe tbody tr th:only-of-type {\n",
       "        vertical-align: middle;\n",
       "    }\n",
       "\n",
       "    .dataframe tbody tr th {\n",
       "        vertical-align: top;\n",
       "    }\n",
       "\n",
       "    .dataframe thead th {\n",
       "        text-align: right;\n",
       "    }\n",
       "</style>\n",
       "<table border=\"1\" class=\"dataframe\">\n",
       "  <thead>\n",
       "    <tr style=\"text-align: right;\">\n",
       "      <th></th>\n",
       "      <th>count</th>\n",
       "      <th>mean</th>\n",
       "      <th>std</th>\n",
       "      <th>min</th>\n",
       "      <th>25%</th>\n",
       "      <th>50%</th>\n",
       "      <th>75%</th>\n",
       "      <th>max</th>\n",
       "    </tr>\n",
       "    <tr>\n",
       "      <th>site_id</th>\n",
       "      <th></th>\n",
       "      <th></th>\n",
       "      <th></th>\n",
       "      <th></th>\n",
       "      <th></th>\n",
       "      <th></th>\n",
       "      <th></th>\n",
       "      <th></th>\n",
       "    </tr>\n",
       "  </thead>\n",
       "  <tbody>\n",
       "    <tr>\n",
       "      <th>0</th>\n",
       "      <td>758098.0</td>\n",
       "      <td>780.920532</td>\n",
       "      <td>1440.979858</td>\n",
       "      <td>0.0</td>\n",
       "      <td>97.060097</td>\n",
       "      <td>266.608002</td>\n",
       "      <td>667.817017</td>\n",
       "      <td>1.726110e+05</td>\n",
       "    </tr>\n",
       "    <tr>\n",
       "      <th>1</th>\n",
       "      <td>553210.0</td>\n",
       "      <td>149.571152</td>\n",
       "      <td>185.463562</td>\n",
       "      <td>0.0</td>\n",
       "      <td>30.000000</td>\n",
       "      <td>78.241447</td>\n",
       "      <td>200.699997</td>\n",
       "      <td>2.270000e+04</td>\n",
       "    </tr>\n",
       "    <tr>\n",
       "      <th>2</th>\n",
       "      <td>2506242.0</td>\n",
       "      <td>185.553009</td>\n",
       "      <td>346.212158</td>\n",
       "      <td>0.0</td>\n",
       "      <td>18.170000</td>\n",
       "      <td>77.194901</td>\n",
       "      <td>193.979996</td>\n",
       "      <td>6.895630e+03</td>\n",
       "    </tr>\n",
       "    <tr>\n",
       "      <th>3</th>\n",
       "      <td>2369379.0</td>\n",
       "      <td>125.957458</td>\n",
       "      <td>259.781708</td>\n",
       "      <td>0.0</td>\n",
       "      <td>18.520000</td>\n",
       "      <td>46.680000</td>\n",
       "      <td>110.120003</td>\n",
       "      <td>3.095440e+03</td>\n",
       "    </tr>\n",
       "    <tr>\n",
       "      <th>4</th>\n",
       "      <td>746457.0</td>\n",
       "      <td>181.157898</td>\n",
       "      <td>285.329895</td>\n",
       "      <td>0.0</td>\n",
       "      <td>18.000000</td>\n",
       "      <td>70.500000</td>\n",
       "      <td>201.973999</td>\n",
       "      <td>2.293880e+03</td>\n",
       "    </tr>\n",
       "    <tr>\n",
       "      <th>5</th>\n",
       "      <td>778405.0</td>\n",
       "      <td>31.434389</td>\n",
       "      <td>62.198074</td>\n",
       "      <td>0.0</td>\n",
       "      <td>3.800000</td>\n",
       "      <td>10.880000</td>\n",
       "      <td>31.299999</td>\n",
       "      <td>9.541000e+02</td>\n",
       "    </tr>\n",
       "    <tr>\n",
       "      <th>6</th>\n",
       "      <td>660461.0</td>\n",
       "      <td>1002.342712</td>\n",
       "      <td>19097.062500</td>\n",
       "      <td>0.0</td>\n",
       "      <td>18.556000</td>\n",
       "      <td>84.366699</td>\n",
       "      <td>277.272003</td>\n",
       "      <td>8.803740e+05</td>\n",
       "    </tr>\n",
       "    <tr>\n",
       "      <th>7</th>\n",
       "      <td>354339.0</td>\n",
       "      <td>1259.823853</td>\n",
       "      <td>1695.250977</td>\n",
       "      <td>0.0</td>\n",
       "      <td>16.245000</td>\n",
       "      <td>567.020020</td>\n",
       "      <td>1850.135010</td>\n",
       "      <td>1.750210e+04</td>\n",
       "    </tr>\n",
       "    <tr>\n",
       "      <th>8</th>\n",
       "      <td>548442.0</td>\n",
       "      <td>68.071907</td>\n",
       "      <td>220.721619</td>\n",
       "      <td>0.0</td>\n",
       "      <td>3.375000</td>\n",
       "      <td>15.000000</td>\n",
       "      <td>38.974602</td>\n",
       "      <td>4.373170e+03</td>\n",
       "    </tr>\n",
       "    <tr>\n",
       "      <th>9</th>\n",
       "      <td>2641421.0</td>\n",
       "      <td>266.844147</td>\n",
       "      <td>575.537476</td>\n",
       "      <td>0.0</td>\n",
       "      <td>39.000000</td>\n",
       "      <td>122.000000</td>\n",
       "      <td>312.402008</td>\n",
       "      <td>2.999640e+05</td>\n",
       "    </tr>\n",
       "    <tr>\n",
       "      <th>10</th>\n",
       "      <td>405809.0</td>\n",
       "      <td>470.414246</td>\n",
       "      <td>4223.527344</td>\n",
       "      <td>0.0</td>\n",
       "      <td>5.000000</td>\n",
       "      <td>40.880001</td>\n",
       "      <td>105.500000</td>\n",
       "      <td>1.601870e+05</td>\n",
       "    </tr>\n",
       "    <tr>\n",
       "      <th>11</th>\n",
       "      <td>119459.0</td>\n",
       "      <td>149.330460</td>\n",
       "      <td>150.584534</td>\n",
       "      <td>0.0</td>\n",
       "      <td>0.969900</td>\n",
       "      <td>112.040001</td>\n",
       "      <td>248.128998</td>\n",
       "      <td>1.271170e+03</td>\n",
       "    </tr>\n",
       "    <tr>\n",
       "      <th>12</th>\n",
       "      <td>315509.0</td>\n",
       "      <td>99.247955</td>\n",
       "      <td>111.967865</td>\n",
       "      <td>0.0</td>\n",
       "      <td>21.412500</td>\n",
       "      <td>58.927502</td>\n",
       "      <td>136.339996</td>\n",
       "      <td>7.960700e+02</td>\n",
       "    </tr>\n",
       "    <tr>\n",
       "      <th>13</th>\n",
       "      <td>2683152.0</td>\n",
       "      <td>13757.321289</td>\n",
       "      <td>420314.593750</td>\n",
       "      <td>0.0</td>\n",
       "      <td>25.434000</td>\n",
       "      <td>122.892998</td>\n",
       "      <td>563.052505</td>\n",
       "      <td>2.190470e+07</td>\n",
       "    </tr>\n",
       "    <tr>\n",
       "      <th>14</th>\n",
       "      <td>2459382.0</td>\n",
       "      <td>671.298218</td>\n",
       "      <td>1620.752930</td>\n",
       "      <td>0.0</td>\n",
       "      <td>51.000000</td>\n",
       "      <td>190.893997</td>\n",
       "      <td>596.000000</td>\n",
       "      <td>3.305970e+04</td>\n",
       "    </tr>\n",
       "    <tr>\n",
       "      <th>15</th>\n",
       "      <td>1806095.0</td>\n",
       "      <td>303.076385</td>\n",
       "      <td>733.425720</td>\n",
       "      <td>0.0</td>\n",
       "      <td>19.500000</td>\n",
       "      <td>84.797798</td>\n",
       "      <td>259.125000</td>\n",
       "      <td>2.686060e+04</td>\n",
       "    </tr>\n",
       "  </tbody>\n",
       "</table>\n",
       "</div>"
      ],
      "text/plain": [
       "             count          mean            std  min        25%         50%  \\\n",
       "site_id                                                                       \n",
       "0         758098.0    780.920532    1440.979858  0.0  97.060097  266.608002   \n",
       "1         553210.0    149.571152     185.463562  0.0  30.000000   78.241447   \n",
       "2        2506242.0    185.553009     346.212158  0.0  18.170000   77.194901   \n",
       "3        2369379.0    125.957458     259.781708  0.0  18.520000   46.680000   \n",
       "4         746457.0    181.157898     285.329895  0.0  18.000000   70.500000   \n",
       "5         778405.0     31.434389      62.198074  0.0   3.800000   10.880000   \n",
       "6         660461.0   1002.342712   19097.062500  0.0  18.556000   84.366699   \n",
       "7         354339.0   1259.823853    1695.250977  0.0  16.245000  567.020020   \n",
       "8         548442.0     68.071907     220.721619  0.0   3.375000   15.000000   \n",
       "9        2641421.0    266.844147     575.537476  0.0  39.000000  122.000000   \n",
       "10        405809.0    470.414246    4223.527344  0.0   5.000000   40.880001   \n",
       "11        119459.0    149.330460     150.584534  0.0   0.969900  112.040001   \n",
       "12        315509.0     99.247955     111.967865  0.0  21.412500   58.927502   \n",
       "13       2683152.0  13757.321289  420314.593750  0.0  25.434000  122.892998   \n",
       "14       2459382.0    671.298218    1620.752930  0.0  51.000000  190.893997   \n",
       "15       1806095.0    303.076385     733.425720  0.0  19.500000   84.797798   \n",
       "\n",
       "                 75%           max  \n",
       "site_id                             \n",
       "0         667.817017  1.726110e+05  \n",
       "1         200.699997  2.270000e+04  \n",
       "2         193.979996  6.895630e+03  \n",
       "3         110.120003  3.095440e+03  \n",
       "4         201.973999  2.293880e+03  \n",
       "5          31.299999  9.541000e+02  \n",
       "6         277.272003  8.803740e+05  \n",
       "7        1850.135010  1.750210e+04  \n",
       "8          38.974602  4.373170e+03  \n",
       "9         312.402008  2.999640e+05  \n",
       "10        105.500000  1.601870e+05  \n",
       "11        248.128998  1.271170e+03  \n",
       "12        136.339996  7.960700e+02  \n",
       "13        563.052505  2.190470e+07  \n",
       "14        596.000000  3.305970e+04  \n",
       "15        259.125000  2.686060e+04  "
      ]
     },
     "execution_count": 55,
     "metadata": {},
     "output_type": "execute_result"
    }
   ],
   "source": [
    "cleaned_train_df.groupby('site_id')['meter_reading'].describe()"
   ]
  },
  {
   "cell_type": "code",
   "execution_count": 56,
   "id": "96526897",
   "metadata": {},
   "outputs": [],
   "source": [
    "#isolating observations before march 2016 at site 0 with meter reading <50\n",
    "site_0_df = cleaned_train_df[(cleaned_train_df['site_id']==0) & (cleaned_train_df['timestamp']<'2016-03-01') & (cleaned_train_df['meter_reading']<50)]"
   ]
  },
  {
   "cell_type": "code",
   "execution_count": 57,
   "id": "e053ff7b",
   "metadata": {},
   "outputs": [],
   "source": [
    "bad_site0 = site_0_df.index.values.tolist()"
   ]
  },
  {
   "cell_type": "code",
   "execution_count": 68,
   "id": "7d192d2d",
   "metadata": {},
   "outputs": [
    {
     "data": {
      "text/plain": [
       "[1670,\n",
       " 2584,\n",
       " 2585,\n",
       " 6053,\n",
       " 6054,\n",
       " 6056,\n",
       " 6452,\n",
       " 6453,\n",
       " 6454,\n",
       " 6456,\n",
       " 9236,\n",
       " 9237,\n",
       " 9238,\n",
       " 9240,\n",
       " 11531,\n",
       " 11533,\n",
       " 11534,\n",
       " 11535,\n",
       " 13876,\n",
       " 13905,\n",
       " 13908,\n",
       " 13910,\n",
       " 15951,\n",
       " 15953,\n",
       " 15954,\n",
       " 15955,\n",
       " 17108,\n",
       " 17109,\n",
       " 17110,\n",
       " 17112,\n",
       " 20547,\n",
       " 20548,\n",
       " 20549,\n",
       " 20550,\n",
       " 22993,\n",
       " 22994,\n",
       " 22995,\n",
       " 22996,\n",
       " 22998,\n",
       " 24191,\n",
       " 24194,\n",
       " 24195,\n",
       " 24197,\n",
       " 26673,\n",
       " 26675,\n",
       " 26676,\n",
       " 26677,\n",
       " 26678,\n",
       " 26679,\n",
       " 29186,\n",
       " 29188,\n",
       " 29189,\n",
       " 29190,\n",
       " 29191,\n",
       " 29193,\n",
       " 30152,\n",
       " 30153,\n",
       " 30154,\n",
       " 30155,\n",
       " 30157,\n",
       " 30159,\n",
       " 33375,\n",
       " 33376,\n",
       " 33377,\n",
       " 33378,\n",
       " 33380,\n",
       " 33390,\n",
       " 36108,\n",
       " 36118,\n",
       " 36119,\n",
       " 36132,\n",
       " 36133,\n",
       " 36134,\n",
       " 37633,\n",
       " 37634,\n",
       " 37635,\n",
       " 37636,\n",
       " 37637,\n",
       " 37639,\n",
       " 40189,\n",
       " 40191,\n",
       " 40192,\n",
       " 40193,\n",
       " 40194,\n",
       " 40195,\n",
       " 41015,\n",
       " 41034,\n",
       " 41035,\n",
       " 41037,\n",
       " 41038,\n",
       " 41039,\n",
       " 42889,\n",
       " 43007,\n",
       " 43008,\n",
       " 43009,\n",
       " 43254,\n",
       " 43255,\n",
       " 45475,\n",
       " 45476,\n",
       " 45477,\n",
       " 45478,\n",
       " 45479,\n",
       " 45480,\n",
       " 45482,\n",
       " 48233,\n",
       " 48235,\n",
       " 48236,\n",
       " 48247,\n",
       " 48248,\n",
       " 48249,\n",
       " 48250,\n",
       " 49920,\n",
       " 49921,\n",
       " 49922,\n",
       " 49923,\n",
       " 49924,\n",
       " 49925,\n",
       " 49927,\n",
       " 52545,\n",
       " 52758,\n",
       " 52759,\n",
       " 52760,\n",
       " 52761,\n",
       " 52762,\n",
       " 52763,\n",
       " 53626,\n",
       " 53627,\n",
       " 53628,\n",
       " 53629,\n",
       " 53630,\n",
       " 53631,\n",
       " 55846,\n",
       " 55848,\n",
       " 55849,\n",
       " 55850,\n",
       " 55851,\n",
       " 55852,\n",
       " 55853,\n",
       " 59403,\n",
       " 59404,\n",
       " 59405,\n",
       " 59407,\n",
       " 59408,\n",
       " 59409,\n",
       " 59416,\n",
       " 61991,\n",
       " 61993,\n",
       " 61994,\n",
       " 61995,\n",
       " 61996,\n",
       " 61997,\n",
       " 61998,\n",
       " 61999,\n",
       " 63555,\n",
       " 63556,\n",
       " 63557,\n",
       " 63558,\n",
       " 63559,\n",
       " 63560,\n",
       " 63562,\n",
       " 63582,\n",
       " 66488,\n",
       " 66490,\n",
       " 66491,\n",
       " 66492,\n",
       " 66493,\n",
       " 66494,\n",
       " 66496,\n",
       " 66510,\n",
       " 67924,\n",
       " 67927,\n",
       " 67928,\n",
       " 67930,\n",
       " 67931,\n",
       " 67932,\n",
       " 67933,\n",
       " 68354,\n",
       " 70386,\n",
       " 70387,\n",
       " 70389,\n",
       " 70390,\n",
       " 70391,\n",
       " 70392,\n",
       " 70393,\n",
       " 70395,\n",
       " 71755,\n",
       " 71756,\n",
       " 71757,\n",
       " 71759,\n",
       " 71760,\n",
       " 71761,\n",
       " 71762,\n",
       " 71764,\n",
       " 71765,\n",
       " 71767,\n",
       " 74844,\n",
       " 74878,\n",
       " 74879,\n",
       " 74967,\n",
       " 74968,\n",
       " 74969,\n",
       " 74970,\n",
       " 74971,\n",
       " 74972,\n",
       " 74973,\n",
       " 76058,\n",
       " 76987,\n",
       " 76988,\n",
       " 76989,\n",
       " 76990,\n",
       " 76991,\n",
       " 76992,\n",
       " 76994,\n",
       " 76995,\n",
       " 78296,\n",
       " 78717,\n",
       " 79143,\n",
       " 79146,\n",
       " 79147,\n",
       " 79148,\n",
       " 79149,\n",
       " 79150,\n",
       " 79153,\n",
       " 81143,\n",
       " 81144,\n",
       " 81145,\n",
       " 81147,\n",
       " 81148,\n",
       " 81149,\n",
       " 81150,\n",
       " 81151,\n",
       " 81152,\n",
       " 81153,\n",
       " 81154,\n",
       " 82196,\n",
       " 83044,\n",
       " 83047,\n",
       " 83048,\n",
       " 83049,\n",
       " 83050,\n",
       " 83051,\n",
       " 83053,\n",
       " 83054,\n",
       " 83156,\n",
       " 84367,\n",
       " 84368,\n",
       " 84369,\n",
       " 84371,\n",
       " 84372,\n",
       " 84373,\n",
       " 84374,\n",
       " 84376,\n",
       " 84377,\n",
       " 84391,\n",
       " 86345,\n",
       " 86346,\n",
       " 86347,\n",
       " 86368,\n",
       " 86369,\n",
       " 86370,\n",
       " 86390,\n",
       " 86391,\n",
       " 86392,\n",
       " 86393,\n",
       " 89890,\n",
       " 89891,\n",
       " 89892,\n",
       " 89893,\n",
       " 89894,\n",
       " 89895,\n",
       " 89896,\n",
       " 89899,\n",
       " 89900,\n",
       " 89901,\n",
       " 91126,\n",
       " 91127,\n",
       " 91128,\n",
       " 91154,\n",
       " 91155,\n",
       " 91156,\n",
       " 91157,\n",
       " 91158,\n",
       " 91159,\n",
       " 91160,\n",
       " 91161,\n",
       " 92663,\n",
       " 92664,\n",
       " 92667,\n",
       " 92669,\n",
       " 92670,\n",
       " 92671,\n",
       " 92672,\n",
       " 92674,\n",
       " 96419,\n",
       " 96420,\n",
       " 96421,\n",
       " 96423,\n",
       " 96424,\n",
       " 96425,\n",
       " 96426,\n",
       " 96427,\n",
       " 96428,\n",
       " 96429,\n",
       " 96431,\n",
       " 97576,\n",
       " 97577,\n",
       " 97578,\n",
       " 97580,\n",
       " 97581,\n",
       " 97582,\n",
       " 97583,\n",
       " 97584,\n",
       " 97585,\n",
       " 97586,\n",
       " 97587,\n",
       " 100911,\n",
       " 100912,\n",
       " 100913,\n",
       " 100915,\n",
       " 100916,\n",
       " 100917,\n",
       " 100918,\n",
       " 100919,\n",
       " 100920,\n",
       " 100921,\n",
       " 100922,\n",
       " 101330,\n",
       " 101331,\n",
       " 101332,\n",
       " 101334,\n",
       " 101336,\n",
       " 101337,\n",
       " 101339,\n",
       " 101341,\n",
       " 101342,\n",
       " 104470,\n",
       " 104471,\n",
       " 104472,\n",
       " 104474,\n",
       " 104476,\n",
       " 104477,\n",
       " 104478,\n",
       " 104479,\n",
       " 104480,\n",
       " 104481,\n",
       " 104482,\n",
       " 107575,\n",
       " 107576,\n",
       " 107577,\n",
       " 107578,\n",
       " 107579,\n",
       " 107580,\n",
       " 107581,\n",
       " 107583,\n",
       " 107585,\n",
       " 107586,\n",
       " 107587,\n",
       " 107964,\n",
       " 107965,\n",
       " 107966,\n",
       " 107978,\n",
       " 107981,\n",
       " 107992,\n",
       " 107993,\n",
       " 107994,\n",
       " 107995,\n",
       " 107996,\n",
       " 107997,\n",
       " 111405,\n",
       " 111406,\n",
       " 111407,\n",
       " 111408,\n",
       " 111410,\n",
       " 111411,\n",
       " 111412,\n",
       " 111413,\n",
       " 111415,\n",
       " 111416,\n",
       " 111417,\n",
       " 111418,\n",
       " 112595,\n",
       " 112596,\n",
       " 112632,\n",
       " 112633,\n",
       " 112634,\n",
       " 112635,\n",
       " 112636,\n",
       " 112637,\n",
       " 112638,\n",
       " 112639,\n",
       " 112640,\n",
       " 112654,\n",
       " 116392,\n",
       " 116393,\n",
       " 116394,\n",
       " 116396,\n",
       " 116397,\n",
       " 116398,\n",
       " 116399,\n",
       " 116401,\n",
       " 116402,\n",
       " 116403,\n",
       " 116411,\n",
       " 117757,\n",
       " 117759,\n",
       " 117760,\n",
       " 117761,\n",
       " 117762,\n",
       " 117763,\n",
       " 117764,\n",
       " 117766,\n",
       " 117767,\n",
       " 117768,\n",
       " 119924,\n",
       " 119925,\n",
       " 119926,\n",
       " 119928,\n",
       " 119929,\n",
       " 119930,\n",
       " 119931,\n",
       " 119932,\n",
       " 119933,\n",
       " 119934,\n",
       " 119935,\n",
       " 121797,\n",
       " 121798,\n",
       " 121799,\n",
       " 121800,\n",
       " 121801,\n",
       " 121802,\n",
       " 121803,\n",
       " 121805,\n",
       " 121807,\n",
       " 121820,\n",
       " 125019,\n",
       " 125020,\n",
       " 125022,\n",
       " 125023,\n",
       " 125025,\n",
       " 125027,\n",
       " 125028,\n",
       " 125035,\n",
       " 126014,\n",
       " 126062,\n",
       " 126064,\n",
       " 126066,\n",
       " 126067,\n",
       " 126068,\n",
       " 126069,\n",
       " 126070,\n",
       " 127697,\n",
       " 127698,\n",
       " 127700,\n",
       " 127702,\n",
       " 127703,\n",
       " 127705,\n",
       " 127706,\n",
       " 127707,\n",
       " 131125,\n",
       " 131127,\n",
       " 131128,\n",
       " 131129,\n",
       " 131130,\n",
       " 131131,\n",
       " 131132,\n",
       " 131133,\n",
       " 131135,\n",
       " 131136,\n",
       " 132497,\n",
       " 132498,\n",
       " 132499,\n",
       " 132501,\n",
       " 132502,\n",
       " 132504,\n",
       " 132505,\n",
       " 132507,\n",
       " 132509,\n",
       " 134037,\n",
       " 134039,\n",
       " 134041,\n",
       " 134042,\n",
       " 134045,\n",
       " 134046,\n",
       " 134047,\n",
       " 134059,\n",
       " 136810,\n",
       " 136811,\n",
       " 136812,\n",
       " 136813,\n",
       " 136814,\n",
       " 136815,\n",
       " 136816,\n",
       " 136817,\n",
       " 136818,\n",
       " 136820,\n",
       " 139582,\n",
       " 139594,\n",
       " 139595,\n",
       " 139596,\n",
       " 139597,\n",
       " 139598,\n",
       " 139599,\n",
       " 139600,\n",
       " 139601,\n",
       " 139603,\n",
       " 140622,\n",
       " 140623,\n",
       " 140624,\n",
       " 140625,\n",
       " 140626,\n",
       " 140627,\n",
       " 140628,\n",
       " 140629,\n",
       " 140631,\n",
       " 143656,\n",
       " 143657,\n",
       " 143658,\n",
       " 143660,\n",
       " 143661,\n",
       " 143662,\n",
       " 143663,\n",
       " 143665,\n",
       " 145948,\n",
       " 145951,\n",
       " 145972,\n",
       " 145973,\n",
       " 145974,\n",
       " 145996,\n",
       " 145997,\n",
       " 145998,\n",
       " 147139,\n",
       " 147140,\n",
       " 147141,\n",
       " 147142,\n",
       " 147143,\n",
       " 147144,\n",
       " 147146,\n",
       " 147151,\n",
       " 149458,\n",
       " 149468,\n",
       " 149469,\n",
       " 149470,\n",
       " 149471,\n",
       " 149472,\n",
       " 149473,\n",
       " 149474,\n",
       " 152021,\n",
       " 152022,\n",
       " 152023,\n",
       " 152024,\n",
       " 152025,\n",
       " 152026,\n",
       " 152028,\n",
       " 152029,\n",
       " 153767,\n",
       " 154615,\n",
       " 154616,\n",
       " 154617,\n",
       " 154618,\n",
       " 154619,\n",
       " 154620,\n",
       " 154621,\n",
       " 154623,\n",
       " 157274,\n",
       " 157275,\n",
       " 157276,\n",
       " 157277,\n",
       " 157289,\n",
       " 157290,\n",
       " 157291,\n",
       " 157292,\n",
       " 157307,\n",
       " 159515,\n",
       " 159518,\n",
       " 159519,\n",
       " 159520,\n",
       " 159521,\n",
       " 159522,\n",
       " 159523,\n",
       " 159524,\n",
       " 159525,\n",
       " 161061,\n",
       " 161372,\n",
       " 161374,\n",
       " 161375,\n",
       " 161376,\n",
       " 161377,\n",
       " 161378,\n",
       " 161379,\n",
       " 161380,\n",
       " 163446,\n",
       " 163447,\n",
       " 163448,\n",
       " 163449,\n",
       " 163450,\n",
       " 163451,\n",
       " 163453,\n",
       " 163454,\n",
       " 163627,\n",
       " 166255,\n",
       " 166293,\n",
       " 166304,\n",
       " 166305,\n",
       " 166307,\n",
       " 166308,\n",
       " 166309,\n",
       " 166310,\n",
       " 166311,\n",
       " 166450,\n",
       " 166482,\n",
       " 166483,\n",
       " 166484,\n",
       " 166485,\n",
       " 166486,\n",
       " 166487,\n",
       " 166488,\n",
       " 166489,\n",
       " 166490,\n",
       " 170252,\n",
       " 170253,\n",
       " 170255,\n",
       " 170256,\n",
       " 170257,\n",
       " 170258,\n",
       " 170259,\n",
       " 170260,\n",
       " 170262,\n",
       " 170263,\n",
       " 170772,\n",
       " 170774,\n",
       " 170775,\n",
       " 170776,\n",
       " 170777,\n",
       " 170804,\n",
       " 170805,\n",
       " 170806,\n",
       " 170807,\n",
       " 170833,\n",
       " 173229,\n",
       " 173514,\n",
       " 173515,\n",
       " 173516,\n",
       " 173517,\n",
       " 173519,\n",
       " 173520,\n",
       " 173521,\n",
       " 173522,\n",
       " 173523,\n",
       " 173786,\n",
       " 175416,\n",
       " 176990,\n",
       " 176992,\n",
       " 176993,\n",
       " 176994,\n",
       " 176995,\n",
       " 176996,\n",
       " 176997,\n",
       " 176998,\n",
       " 176999,\n",
       " 178585,\n",
       " 178587,\n",
       " 178588,\n",
       " 178589,\n",
       " 178590,\n",
       " 178591,\n",
       " 178592,\n",
       " 178593,\n",
       " 178594,\n",
       " 178595,\n",
       " 178596,\n",
       " 180146,\n",
       " 180148,\n",
       " 180149,\n",
       " 180150,\n",
       " 180151,\n",
       " 180152,\n",
       " 180153,\n",
       " 180154,\n",
       " 180155,\n",
       " 180156,\n",
       " 180157,\n",
       " 183601,\n",
       " 183602,\n",
       " 183603,\n",
       " 183604,\n",
       " 183605,\n",
       " 183606,\n",
       " 183607,\n",
       " 183608,\n",
       " 183609,\n",
       " 183610,\n",
       " 183611,\n",
       " 183612,\n",
       " 184161,\n",
       " 184162,\n",
       " 184164,\n",
       " 184165,\n",
       " 184166,\n",
       " 184167,\n",
       " 184168,\n",
       " 184169,\n",
       " 184170,\n",
       " 184171,\n",
       " 184172,\n",
       " 184173,\n",
       " 187021,\n",
       " 187022,\n",
       " 187024,\n",
       " 187045,\n",
       " 187046,\n",
       " 187064,\n",
       " 187067,\n",
       " 187068,\n",
       " 187069,\n",
       " 187070,\n",
       " 187071,\n",
       " 187072,\n",
       " 188383,\n",
       " 189178,\n",
       " 189179,\n",
       " 189180,\n",
       " 189181,\n",
       " 189182,\n",
       " 189183,\n",
       " 189184,\n",
       " 189185,\n",
       " 189186,\n",
       " 189187,\n",
       " 191362,\n",
       " 191397,\n",
       " 191529,\n",
       " 191530,\n",
       " 191659,\n",
       " 191694,\n",
       " 191698,\n",
       " 191699,\n",
       " 191791,\n",
       " 193408,\n",
       " 193410,\n",
       " 193411,\n",
       " 193412,\n",
       " 193413,\n",
       " 193414,\n",
       " 193415,\n",
       " 193439,\n",
       " 193440,\n",
       " 193441,\n",
       " 193442,\n",
       " 195333,\n",
       " 195334,\n",
       " 195335,\n",
       " 195337,\n",
       " 195338,\n",
       " 195339,\n",
       " 195340,\n",
       " 195341,\n",
       " 195342,\n",
       " 195343,\n",
       " 195344,\n",
       " 195345,\n",
       " 197102,\n",
       " 198270,\n",
       " 198271,\n",
       " 198272,\n",
       " 198274,\n",
       " 198275,\n",
       " 198276,\n",
       " 198277,\n",
       " 198278,\n",
       " 198279,\n",
       " 198280,\n",
       " 200301,\n",
       " 200302,\n",
       " 200303,\n",
       " 200304,\n",
       " 200305,\n",
       " 200306,\n",
       " 200307,\n",
       " 200308,\n",
       " 200309,\n",
       " 200310,\n",
       " 200311,\n",
       " 200312,\n",
       " 202837,\n",
       " 202838,\n",
       " 202839,\n",
       " 202840,\n",
       " 202841,\n",
       " 202842,\n",
       " 202843,\n",
       " 202844,\n",
       " 202845,\n",
       " 202846,\n",
       " 202847,\n",
       " 202848,\n",
       " 204282,\n",
       " 204283,\n",
       " 204284,\n",
       " 204285,\n",
       " 204287,\n",
       " 204288,\n",
       " 204289,\n",
       " 204290,\n",
       " 204291,\n",
       " 204292,\n",
       " 204293,\n",
       " 204295,\n",
       " 206380,\n",
       " 206381,\n",
       " 206382,\n",
       " 206383,\n",
       " 206384,\n",
       " 206385,\n",
       " 206386,\n",
       " 206387,\n",
       " 206388,\n",
       " 206389,\n",
       " 206390,\n",
       " 206391,\n",
       " 207836,\n",
       " 207837,\n",
       " 207838,\n",
       " 207839,\n",
       " 207840,\n",
       " 207841,\n",
       " 207855,\n",
       " 207867,\n",
       " 207868,\n",
       " 207869,\n",
       " 207894,\n",
       " 207895,\n",
       " 210704,\n",
       " 210706,\n",
       " 210707,\n",
       " 210722,\n",
       " 210723,\n",
       " 210724,\n",
       " 210725,\n",
       " 210726,\n",
       " 210727,\n",
       " 210728,\n",
       " 210729,\n",
       " 210730,\n",
       " 210731,\n",
       " 212232,\n",
       " 212466,\n",
       " 212467,\n",
       " 212468,\n",
       " 212469,\n",
       " 212470,\n",
       " 212471,\n",
       " 212472,\n",
       " 212473,\n",
       " 212474,\n",
       " 212475,\n",
       " 212476,\n",
       " 216080,\n",
       " 216081,\n",
       " 216082,\n",
       " 216083,\n",
       " 216084,\n",
       " 216085,\n",
       " 216086,\n",
       " 216087,\n",
       " 216088,\n",
       " 216089,\n",
       " 216090,\n",
       " 216091,\n",
       " 216092,\n",
       " 218249,\n",
       " 218250,\n",
       " 218251,\n",
       " 218252,\n",
       " 218253,\n",
       " 218272,\n",
       " 218273,\n",
       " 218274,\n",
       " 218275,\n",
       " 218296,\n",
       " 218297,\n",
       " 218298,\n",
       " 218299,\n",
       " 218686,\n",
       " 218688,\n",
       " 218689,\n",
       " 218690,\n",
       " 218691,\n",
       " 218692,\n",
       " 218693,\n",
       " 218694,\n",
       " 218695,\n",
       " 218696,\n",
       " 218697,\n",
       " 218698,\n",
       " 218699,\n",
       " 221648,\n",
       " 221649,\n",
       " 221650,\n",
       " 221651,\n",
       " 221652,\n",
       " 221653,\n",
       " 221654,\n",
       " 221655,\n",
       " 221657,\n",
       " 221658,\n",
       " 221659,\n",
       " 221660,\n",
       " 224630,\n",
       " 224631,\n",
       " 224632,\n",
       " 224633,\n",
       " 224635,\n",
       " 224636,\n",
       " 224637,\n",
       " 224638,\n",
       " 224639,\n",
       " 224641,\n",
       " 225738,\n",
       " 225739,\n",
       " 225740,\n",
       " 225741,\n",
       " 225743,\n",
       " 225745,\n",
       " 225746,\n",
       " 225747,\n",
       " 225748,\n",
       " 225753,\n",
       " 227927,\n",
       " 227930,\n",
       " 227931,\n",
       " 227933,\n",
       " 227935,\n",
       " 227936,\n",
       " 227945,\n",
       " 231019,\n",
       " 231021,\n",
       " 231022,\n",
       " 231023,\n",
       " 231025,\n",
       " 231026,\n",
       " 231028,\n",
       " 231051,\n",
       " 231095,\n",
       " 232143,\n",
       " 232144,\n",
       " 232145,\n",
       " 232166,\n",
       " 232167,\n",
       " 232168,\n",
       " 232169,\n",
       " 232191,\n",
       " 232193,\n",
       " 233614,\n",
       " 235061,\n",
       " 235062,\n",
       " 235063,\n",
       " 235064,\n",
       " 235065,\n",
       " 235066,\n",
       " 235067,\n",
       " 235068,\n",
       " 235241,\n",
       " 237574,\n",
       " 237575,\n",
       " 237576,\n",
       " 237577,\n",
       " 237578,\n",
       " 237579,\n",
       " 237580,\n",
       " 237581,\n",
       " 237582,\n",
       " 238106,\n",
       " 238226,\n",
       " 238227,\n",
       " 238228,\n",
       " 238229,\n",
       " 238230,\n",
       " 238231,\n",
       " 238232,\n",
       " 238233,\n",
       " 238247,\n",
       " 240722,\n",
       " 240723,\n",
       " 240724,\n",
       " 240725,\n",
       " 240727,\n",
       " 240728,\n",
       " 240729,\n",
       " 240730,\n",
       " 240731,\n",
       " 242712,\n",
       " 243904,\n",
       " 243905,\n",
       " 243906,\n",
       " 243907,\n",
       " 243908,\n",
       " 243909,\n",
       " 243910,\n",
       " 245360,\n",
       " 245402,\n",
       " ...]"
      ]
     },
     "execution_count": 68,
     "metadata": {},
     "output_type": "execute_result"
    }
   ],
   "source": [
    "bad_site0"
   ]
  },
  {
   "cell_type": "code",
   "execution_count": 47,
   "id": "9206c0fa",
   "metadata": {},
   "outputs": [],
   "source": [
    "#drop all bad meters observations at site 0\n",
    "#cleaned_train_df = cleaned_train_df[~cleaned_train_df.index.isin(bad_site0)]"
   ]
  },
  {
   "cell_type": "markdown",
   "id": "695a26f3",
   "metadata": {},
   "source": [
    "Function 5: Dropped observations with extremely high meter readings for outlier building 1099 (meter2) and 778 (meter1)"
   ]
  },
  {
   "cell_type": "code",
   "execution_count": 58,
   "id": "2d4ae620",
   "metadata": {},
   "outputs": [],
   "source": [
    "outlier_building1099 = cleaned_train_df[(cleaned_train_df['building_id'] == 1099) & (cleaned_train_df['meter'] == 2)]"
   ]
  },
  {
   "cell_type": "code",
   "execution_count": 59,
   "id": "b05f85eb",
   "metadata": {
    "scrolled": true
   },
   "outputs": [
    {
     "data": {
      "text/plain": [
       "count        8784.00\n",
       "mean      3813882.25\n",
       "std       6282403.00\n",
       "min           144.00\n",
       "25%          1608.00\n",
       "50%          7008.00\n",
       "75%       6340610.00\n",
       "max      21904700.00\n",
       "Name: meter_reading, dtype: float64"
      ]
     },
     "execution_count": 59,
     "metadata": {},
     "output_type": "execute_result"
    }
   ],
   "source": [
    "outlier_building1099.meter_reading.describe()"
   ]
  },
  {
   "cell_type": "code",
   "execution_count": 60,
   "id": "769af1f7",
   "metadata": {},
   "outputs": [],
   "source": [
    "#identify consumption above 75% quartile in building 1099\n",
    "outlier_1099 = outlier_building1099[outlier_building1099['meter_reading'] > 6340610.00].index.to_list()"
   ]
  },
  {
   "cell_type": "code",
   "execution_count": 61,
   "id": "e275c4f9",
   "metadata": {},
   "outputs": [],
   "source": [
    "outlier_building788 = cleaned_train_df[(cleaned_train_df['building_id'] == 778) & (cleaned_train_df['meter'] == 1)]"
   ]
  },
  {
   "cell_type": "code",
   "execution_count": 62,
   "id": "92fecc9f",
   "metadata": {},
   "outputs": [
    {
     "data": {
      "text/plain": [
       "count       843.000000\n",
       "mean     519913.593750\n",
       "std      125272.789062\n",
       "min           0.586100\n",
       "25%      440245.500000\n",
       "50%      519865.000000\n",
       "75%      594733.500000\n",
       "max      880374.000000\n",
       "Name: meter_reading, dtype: float64"
      ]
     },
     "execution_count": 62,
     "metadata": {},
     "output_type": "execute_result"
    }
   ],
   "source": [
    "outlier_building788[outlier_building788['meter_reading']>0].meter_reading.describe()"
   ]
  },
  {
   "cell_type": "code",
   "execution_count": 63,
   "id": "f8138ab3",
   "metadata": {},
   "outputs": [],
   "source": [
    "#identify consumption above 75% quartile in building 788\n",
    "outlier_788 = outlier_building788[outlier_building788['meter_reading'] > 594733].index.to_list()"
   ]
  },
  {
   "cell_type": "code",
   "execution_count": 69,
   "id": "0523bf70",
   "metadata": {},
   "outputs": [
    {
     "data": {
      "text/html": [
       "<div>\n",
       "<style scoped>\n",
       "    .dataframe tbody tr th:only-of-type {\n",
       "        vertical-align: middle;\n",
       "    }\n",
       "\n",
       "    .dataframe tbody tr th {\n",
       "        vertical-align: top;\n",
       "    }\n",
       "\n",
       "    .dataframe thead th {\n",
       "        text-align: right;\n",
       "    }\n",
       "</style>\n",
       "<table border=\"1\" class=\"dataframe\">\n",
       "  <thead>\n",
       "    <tr style=\"text-align: right;\">\n",
       "      <th></th>\n",
       "      <th>timestamp</th>\n",
       "      <th>building_id</th>\n",
       "      <th>meter</th>\n",
       "      <th>meter_reading</th>\n",
       "      <th>site_id</th>\n",
       "      <th>primary_use</th>\n",
       "      <th>square_feet</th>\n",
       "      <th>year_built</th>\n",
       "      <th>floor_count</th>\n",
       "      <th>air_temperature</th>\n",
       "      <th>...</th>\n",
       "      <th>dew_temperature</th>\n",
       "      <th>precip_depth_1_hr</th>\n",
       "      <th>sea_level_pressure</th>\n",
       "      <th>wind_direction</th>\n",
       "      <th>wind_speed</th>\n",
       "      <th>year</th>\n",
       "      <th>month</th>\n",
       "      <th>week</th>\n",
       "      <th>day</th>\n",
       "      <th>hour</th>\n",
       "    </tr>\n",
       "  </thead>\n",
       "  <tbody>\n",
       "    <tr>\n",
       "      <th>132502</th>\n",
       "      <td>2016-01-03 13:00:00</td>\n",
       "      <td>74</td>\n",
       "      <td>0</td>\n",
       "      <td>0.0</td>\n",
       "      <td>0</td>\n",
       "      <td>Parking</td>\n",
       "      <td>387638</td>\n",
       "      <td>1997.0</td>\n",
       "      <td>NaN</td>\n",
       "      <td>14.398438</td>\n",
       "      <td>...</td>\n",
       "      <td>12.203125</td>\n",
       "      <td>-1.0</td>\n",
       "      <td>1018.0</td>\n",
       "      <td>350.0</td>\n",
       "      <td>6.699219</td>\n",
       "      <td>2016</td>\n",
       "      <td>1</td>\n",
       "      <td>53</td>\n",
       "      <td>3</td>\n",
       "      <td>13</td>\n",
       "    </tr>\n",
       "  </tbody>\n",
       "</table>\n",
       "<p>1 rows × 21 columns</p>\n",
       "</div>"
      ],
      "text/plain": [
       "                 timestamp  building_id  meter  meter_reading  site_id  \\\n",
       "132502 2016-01-03 13:00:00           74      0            0.0        0   \n",
       "\n",
       "       primary_use  square_feet  year_built  floor_count  air_temperature  \\\n",
       "132502     Parking       387638      1997.0          NaN        14.398438   \n",
       "\n",
       "        ...  dew_temperature  precip_depth_1_hr  sea_level_pressure  \\\n",
       "132502  ...        12.203125               -1.0              1018.0   \n",
       "\n",
       "        wind_direction  wind_speed  year  month  week  day  hour  \n",
       "132502           350.0    6.699219  2016      1    53    3    13  \n",
       "\n",
       "[1 rows x 21 columns]"
      ]
     },
     "execution_count": 69,
     "metadata": {},
     "output_type": "execute_result"
    }
   ],
   "source": [
    "cleaned_train_df.iloc[[132502]]"
   ]
  },
  {
   "cell_type": "code",
   "execution_count": 70,
   "id": "72f1ffad",
   "metadata": {},
   "outputs": [],
   "source": [
    "#drop all bad meters observations at building 1099 and 788 and bad observations at site 0\n",
    "cleaned_train_df = cleaned_train_df[(~cleaned_train_df.index.isin(outlier_1099)) & (~cleaned_train_df.index.isin(outlier_788)) & (~cleaned_train_df.index.isin(bad_site0))]"
   ]
  },
  {
   "cell_type": "code",
   "execution_count": 71,
   "id": "4f28c77e",
   "metadata": {},
   "outputs": [
    {
     "data": {
      "text/plain": [
       "(19689551, 21)"
      ]
     },
     "execution_count": 71,
     "metadata": {},
     "output_type": "execute_result"
    }
   ],
   "source": [
    "cleaned_train_df.shape"
   ]
  },
  {
   "cell_type": "code",
   "execution_count": 72,
   "id": "fb3b4ad4",
   "metadata": {},
   "outputs": [],
   "source": [
    "cleaned_train_df.reset_index(inplace=True)"
   ]
  },
  {
   "cell_type": "markdown",
   "id": "f486e54b",
   "metadata": {},
   "source": [
    "#### Recap NaN from Part 1(EDA)"
   ]
  },
  {
   "cell_type": "code",
   "execution_count": 73,
   "id": "5ecdfa09",
   "metadata": {},
   "outputs": [],
   "source": [
    "def check_null_percentrage(df):\n",
    "    for col in df.columns:\n",
    "        n_nan = df[col].isnull().sum()\n",
    "        if n_nan > 0:\n",
    "            print(f\"{col} has {n_nan} NaNs, this represents {round(n_nan/len(df)*100,2)}% of the data\")\n",
    "    return"
   ]
  },
  {
   "cell_type": "code",
   "execution_count": 74,
   "id": "9a413934",
   "metadata": {},
   "outputs": [],
   "source": [
    "dataset = [(weather_train_df,'weather_train_df'),(weather_test_df,'weather_test_df')]"
   ]
  },
  {
   "cell_type": "code",
   "execution_count": 75,
   "id": "d16c4fa0",
   "metadata": {},
   "outputs": [
    {
     "name": "stdout",
     "output_type": "stream",
     "text": [
      "weather_train_df\n",
      "air_temperature has 55 NaNs, this represents 0.04% of the data\n",
      "cloud_coverage has 69173 NaNs, this represents 49.49% of the data\n",
      "dew_temperature has 113 NaNs, this represents 0.08% of the data\n",
      "precip_depth_1_hr has 50289 NaNs, this represents 35.98% of the data\n",
      "sea_level_pressure has 10618 NaNs, this represents 7.6% of the data\n",
      "wind_direction has 6268 NaNs, this represents 4.48% of the data\n",
      "wind_speed has 304 NaNs, this represents 0.22% of the data\n",
      "---------------------------------------------------------\n",
      "weather_test_df\n",
      "air_temperature has 104 NaNs, this represents 0.04% of the data\n",
      "cloud_coverage has 140448 NaNs, this represents 50.66% of the data\n",
      "dew_temperature has 327 NaNs, this represents 0.12% of the data\n",
      "precip_depth_1_hr has 95588 NaNs, this represents 34.48% of the data\n",
      "sea_level_pressure has 21265 NaNs, this represents 7.67% of the data\n",
      "wind_direction has 12370 NaNs, this represents 4.46% of the data\n",
      "wind_speed has 460 NaNs, this represents 0.17% of the data\n",
      "---------------------------------------------------------\n"
     ]
    }
   ],
   "source": [
    "for dataset,name in dataset:\n",
    "    \n",
    "    print(name)\n",
    "    check_null_percentrage(dataset)\n",
    "    print('---------------------------------------------------------')"
   ]
  },
  {
   "cell_type": "markdown",
   "id": "0298a65a",
   "metadata": {},
   "source": [
    "#### From Part 1, we found missing time gaps in our weather datasets, we will fix that now."
   ]
  },
  {
   "cell_type": "code",
   "execution_count": 76,
   "id": "03e09205",
   "metadata": {},
   "outputs": [
    {
     "name": "stdout",
     "output_type": "stream",
     "text": [
      "weather_train_df\n",
      "(139773, 8)\n",
      "weather_test_df\n",
      "(277243, 8)\n"
     ]
    }
   ],
   "source": [
    "print('weather_train_df')\n",
    "print(weather_train_df.shape)\n",
    "print('weather_test_df')\n",
    "print(weather_test_df.shape)"
   ]
  },
  {
   "cell_type": "code",
   "execution_count": 77,
   "id": "214e5347",
   "metadata": {},
   "outputs": [
    {
     "data": {
      "text/plain": [
       "timestamp                 0\n",
       "air_temperature          55\n",
       "cloud_coverage        69173\n",
       "dew_temperature         113\n",
       "precip_depth_1_hr     50289\n",
       "sea_level_pressure    10618\n",
       "wind_direction         6268\n",
       "wind_speed              304\n",
       "dtype: int64"
      ]
     },
     "execution_count": 77,
     "metadata": {},
     "output_type": "execute_result"
    }
   ],
   "source": [
    "weather_train_df.isnull().sum()"
   ]
  },
  {
   "cell_type": "code",
   "execution_count": 78,
   "id": "a37edd83",
   "metadata": {},
   "outputs": [
    {
     "data": {
      "text/plain": [
       "timestamp                  0\n",
       "air_temperature          104\n",
       "cloud_coverage        140448\n",
       "dew_temperature          327\n",
       "precip_depth_1_hr      95588\n",
       "sea_level_pressure     21265\n",
       "wind_direction         12370\n",
       "wind_speed               460\n",
       "dtype: int64"
      ]
     },
     "execution_count": 78,
     "metadata": {},
     "output_type": "execute_result"
    }
   ],
   "source": [
    "weather_test_df.isnull().sum()"
   ]
  },
  {
   "cell_type": "code",
   "execution_count": 79,
   "id": "83833abe",
   "metadata": {},
   "outputs": [],
   "source": [
    "weather_train_df = weather_train_df.reset_index()\n",
    "weather_test_df = weather_test_df.reset_index()"
   ]
  },
  {
   "cell_type": "code",
   "execution_count": 80,
   "id": "8b85c856",
   "metadata": {},
   "outputs": [],
   "source": [
    "#weather train dataset\n",
    "new_date_range = pd.date_range(start = '2016-01-01 00:00:00', end = '2016-12-31 23:00:00', freq = 'H')\n",
    "weather_train_df = weather_train_df.set_index('timestamp')\n",
    "weather_train_df = weather_train_df.groupby('site_id').apply(lambda x : x.reindex(new_date_range)).rename(columns={'site_id':'site_id2'}).reset_index(drop=False)   #"
   ]
  },
  {
   "cell_type": "code",
   "execution_count": 81,
   "id": "52ed1466",
   "metadata": {},
   "outputs": [
    {
     "data": {
      "text/plain": [
       "(140544, 10)"
      ]
     },
     "execution_count": 81,
     "metadata": {},
     "output_type": "execute_result"
    }
   ],
   "source": [
    "#after filling in all the missing time series in all 16 sites\n",
    "weather_train_df.shape"
   ]
  },
  {
   "cell_type": "code",
   "execution_count": 82,
   "id": "e528fe2d",
   "metadata": {},
   "outputs": [],
   "source": [
    "weather_train_df.rename({'level_1':'timestamp'},axis=1, inplace=True)\n",
    "weather_train_df.drop(columns='site_id2', inplace=True)"
   ]
  },
  {
   "cell_type": "code",
   "execution_count": 83,
   "id": "098ae13b",
   "metadata": {},
   "outputs": [
    {
     "name": "stdout",
     "output_type": "stream",
     "text": [
      "0 DatetimeIndex([], dtype='datetime64[ns]', freq='H')\n",
      "1 DatetimeIndex([], dtype='datetime64[ns]', freq='H')\n",
      "2 DatetimeIndex([], dtype='datetime64[ns]', freq='H')\n",
      "3 DatetimeIndex([], dtype='datetime64[ns]', freq='H')\n",
      "4 DatetimeIndex([], dtype='datetime64[ns]', freq='H')\n",
      "5 DatetimeIndex([], dtype='datetime64[ns]', freq='H')\n",
      "6 DatetimeIndex([], dtype='datetime64[ns]', freq='H')\n",
      "7 DatetimeIndex([], dtype='datetime64[ns]', freq='H')\n",
      "8 DatetimeIndex([], dtype='datetime64[ns]', freq='H')\n",
      "9 DatetimeIndex([], dtype='datetime64[ns]', freq='H')\n",
      "10 DatetimeIndex([], dtype='datetime64[ns]', freq='H')\n",
      "11 DatetimeIndex([], dtype='datetime64[ns]', freq='H')\n",
      "12 DatetimeIndex([], dtype='datetime64[ns]', freq='H')\n",
      "13 DatetimeIndex([], dtype='datetime64[ns]', freq='H')\n",
      "14 DatetimeIndex([], dtype='datetime64[ns]', freq='H')\n",
      "15 DatetimeIndex([], dtype='datetime64[ns]', freq='H')\n"
     ]
    }
   ],
   "source": [
    "#to confirm all 16 sites have no more missing time series\n",
    "for site in range(16):    \n",
    "    missing = pd.date_range(start = '2016-01-01 00:00:00', end = '2016-12-31 23:00:00', freq = 'H').difference(weather_train_df[weather_train_df['site_id']==site].timestamp)\n",
    "    print(site, missing)"
   ]
  },
  {
   "cell_type": "code",
   "execution_count": 84,
   "id": "c8e0200f",
   "metadata": {},
   "outputs": [
    {
     "data": {
      "text/plain": [
       "site_id                   0\n",
       "timestamp                 0\n",
       "air_temperature         826\n",
       "cloud_coverage        69944\n",
       "dew_temperature         884\n",
       "precip_depth_1_hr     51060\n",
       "sea_level_pressure    11389\n",
       "wind_direction         7039\n",
       "wind_speed             1075\n",
       "dtype: int64"
      ]
     },
     "execution_count": 84,
     "metadata": {},
     "output_type": "execute_result"
    }
   ],
   "source": [
    "weather_train_df.isnull().sum()"
   ]
  },
  {
   "cell_type": "code",
   "execution_count": 85,
   "id": "bcc5addb",
   "metadata": {},
   "outputs": [],
   "source": [
    "#weather test dataset\n",
    "new_date_range = pd.date_range(start = '2017-01-01 00:00:00', end = '2018-12-31 23:00:00', freq = 'H')\n",
    "weather_test_df = weather_test_df.set_index('timestamp')\n",
    "weather_test_df = weather_test_df.groupby('site_id').apply(lambda x : x.reindex(new_date_range)).rename(columns={'site_id':'site_id2'}).reset_index(drop=False)"
   ]
  },
  {
   "cell_type": "code",
   "execution_count": 86,
   "id": "63a05f0f",
   "metadata": {},
   "outputs": [
    {
     "data": {
      "text/plain": [
       "(280320, 10)"
      ]
     },
     "execution_count": 86,
     "metadata": {},
     "output_type": "execute_result"
    }
   ],
   "source": [
    "#after filling in all the missing time series in all 16 sites\n",
    "weather_test_df.shape"
   ]
  },
  {
   "cell_type": "code",
   "execution_count": 87,
   "id": "f93b5fbb",
   "metadata": {},
   "outputs": [],
   "source": [
    "weather_test_df.rename({'level_1':'timestamp'},axis=1, inplace=True)\n",
    "weather_test_df.drop(columns='site_id2', inplace=True)"
   ]
  },
  {
   "cell_type": "code",
   "execution_count": 88,
   "id": "1beb3782",
   "metadata": {},
   "outputs": [
    {
     "name": "stdout",
     "output_type": "stream",
     "text": [
      "0 DatetimeIndex([], dtype='datetime64[ns]', freq='H')\n",
      "1 DatetimeIndex([], dtype='datetime64[ns]', freq='H')\n",
      "2 DatetimeIndex([], dtype='datetime64[ns]', freq='H')\n",
      "3 DatetimeIndex([], dtype='datetime64[ns]', freq='H')\n",
      "4 DatetimeIndex([], dtype='datetime64[ns]', freq='H')\n",
      "5 DatetimeIndex([], dtype='datetime64[ns]', freq='H')\n",
      "6 DatetimeIndex([], dtype='datetime64[ns]', freq='H')\n",
      "7 DatetimeIndex([], dtype='datetime64[ns]', freq='H')\n",
      "8 DatetimeIndex([], dtype='datetime64[ns]', freq='H')\n",
      "9 DatetimeIndex([], dtype='datetime64[ns]', freq='H')\n",
      "10 DatetimeIndex([], dtype='datetime64[ns]', freq='H')\n",
      "11 DatetimeIndex([], dtype='datetime64[ns]', freq='H')\n",
      "12 DatetimeIndex([], dtype='datetime64[ns]', freq='H')\n",
      "13 DatetimeIndex([], dtype='datetime64[ns]', freq='H')\n",
      "14 DatetimeIndex([], dtype='datetime64[ns]', freq='H')\n",
      "15 DatetimeIndex([], dtype='datetime64[ns]', freq='H')\n"
     ]
    }
   ],
   "source": [
    "#to confirm all 16 sites have no more missing time series\n",
    "for site in range(16):    \n",
    "    missing = pd.date_range(start = '2017-01-01 00:00:00', end = '2018-12-31 23:00:00', freq = 'H').difference(weather_test_df[weather_test_df['site_id']==site].timestamp)\n",
    "    print(site, missing)"
   ]
  },
  {
   "cell_type": "code",
   "execution_count": 89,
   "id": "42f7e48a",
   "metadata": {},
   "outputs": [
    {
     "data": {
      "text/plain": [
       "site_id                    0\n",
       "timestamp                  0\n",
       "air_temperature         3181\n",
       "cloud_coverage        143525\n",
       "dew_temperature         3404\n",
       "precip_depth_1_hr      98665\n",
       "sea_level_pressure     24342\n",
       "wind_direction         15447\n",
       "wind_speed              3537\n",
       "dtype: int64"
      ]
     },
     "execution_count": 89,
     "metadata": {},
     "output_type": "execute_result"
    }
   ],
   "source": [
    "weather_test_df.isnull().sum()"
   ]
  },
  {
   "cell_type": "markdown",
   "id": "83f9ca23",
   "metadata": {},
   "source": [
    "#### Filling in missing values for weather parameters"
   ]
  },
  {
   "cell_type": "markdown",
   "id": "023efaff",
   "metadata": {},
   "source": [
    "Since we know different sites experience different weather readings, we will attempt to impute the nan values with the ffill and bfill value based on each site, month and day. For the remaining nan values, we will fill them with the median value of that column>"
   ]
  },
  {
   "cell_type": "code",
   "execution_count": 90,
   "id": "4ebcdd07",
   "metadata": {},
   "outputs": [],
   "source": [
    "#temporal features for our train weather data\n",
    "weather_train_df['year'] = weather_train_df['timestamp'].dt.year\n",
    "weather_train_df['month'] = weather_train_df['timestamp'].dt.month\n",
    "weather_train_df['week'] = weather_train_df['timestamp'].dt.isocalendar().week\n",
    "weather_train_df['day'] = weather_train_df['timestamp'].dt.day\n",
    "weather_train_df['hour'] = weather_train_df['timestamp'].dt.hour"
   ]
  },
  {
   "cell_type": "code",
   "execution_count": 91,
   "id": "9207f18a",
   "metadata": {},
   "outputs": [],
   "source": [
    "#temporal features for our test weather data\n",
    "weather_test_df['year'] = weather_test_df['timestamp'].dt.year\n",
    "weather_test_df['month'] = weather_test_df['timestamp'].dt.month\n",
    "weather_test_df['week'] = weather_test_df['timestamp'].dt.isocalendar().week\n",
    "weather_test_df['day'] = weather_test_df['timestamp'].dt.day\n",
    "weather_test_df['hour'] = weather_test_df['timestamp'].dt.hour"
   ]
  },
  {
   "cell_type": "code",
   "execution_count": 92,
   "id": "4dc105f0",
   "metadata": {},
   "outputs": [],
   "source": [
    "weather_train_df_copy = weather_train_df\n",
    "weather_test_df_copy = weather_test_df"
   ]
  },
  {
   "cell_type": "code",
   "execution_count": 93,
   "id": "0deccd4a",
   "metadata": {},
   "outputs": [],
   "source": [
    "weather_ls = ['air_temperature', 'cloud_coverage', 'dew_temperature',\n",
    "       'precip_depth_1_hr', 'sea_level_pressure', 'wind_direction',\n",
    "       'wind_speed']"
   ]
  },
  {
   "cell_type": "markdown",
   "id": "02a08f0a",
   "metadata": {},
   "source": [
    "#### Imputing Train Weather Dataset"
   ]
  },
  {
   "cell_type": "code",
   "execution_count": 94,
   "id": "d2351fe5",
   "metadata": {},
   "outputs": [
    {
     "name": "stdout",
     "output_type": "stream",
     "text": [
      "Before imputation: Number of NaNs for air_temperature-> 826\n",
      "After forward imputation: Number of NaNs-> 120\n",
      "After backward imputation: Number of NaNs-> 0\n",
      "Data impututation for air_temperature is done\n",
      "-----------------------------------------------------------------------------------\n",
      "Before imputation: Number of NaNs for cloud_coverage-> 69944\n",
      "After forward imputation: Number of NaNs-> 33477\n",
      "After backward imputation: Number of NaNs-> 25800\n",
      "Data impututation for cloud_coverage is done\n",
      "-----------------------------------------------------------------------------------\n",
      "Before imputation: Number of NaNs for dew_temperature-> 884\n",
      "After forward imputation: Number of NaNs-> 121\n",
      "After backward imputation: Number of NaNs-> 0\n",
      "Data impututation for dew_temperature is done\n",
      "-----------------------------------------------------------------------------------\n",
      "Before imputation: Number of NaNs for precip_depth_1_hr-> 51060\n",
      "After forward imputation: Number of NaNs-> 45144\n",
      "After backward imputation: Number of NaNs-> 41016\n",
      "Data impututation for precip_depth_1_hr is done\n",
      "-----------------------------------------------------------------------------------\n",
      "Before imputation: Number of NaNs for sea_level_pressure-> 11389\n",
      "After forward imputation: Number of NaNs-> 9334\n",
      "After backward imputation: Number of NaNs-> 9000\n",
      "Data impututation for sea_level_pressure is done\n",
      "-----------------------------------------------------------------------------------\n",
      "Before imputation: Number of NaNs for wind_direction-> 7039\n",
      "After forward imputation: Number of NaNs-> 380\n",
      "After backward imputation: Number of NaNs-> 0\n",
      "Data impututation for wind_direction is done\n",
      "-----------------------------------------------------------------------------------\n",
      "Before imputation: Number of NaNs for wind_speed-> 1075\n",
      "After forward imputation: Number of NaNs-> 125\n",
      "After backward imputation: Number of NaNs-> 0\n",
      "Data impututation for wind_speed is done\n",
      "-----------------------------------------------------------------------------------\n"
     ]
    }
   ],
   "source": [
    "#impute nan using pandas ffill and bfill methods after groupby site_id, month and day\n",
    "for weather_param in weather_ls:\n",
    "    print(f\"Before imputation: Number of NaNs for {weather_param}-> {weather_train_df_copy[weather_param].isnull().sum()}\")\n",
    "    weather_train_df_copy[f\"{weather_param}_1\"] = weather_train_df_copy.groupby(['site_id', 'month', 'day'])[weather_param].transform(lambda x: x.ffill())\n",
    "    print(f\"After forward imputation: Number of NaNs-> {weather_train_df_copy[f'{weather_param}_1'].isnull().sum()}\")\n",
    "    weather_train_df_copy[f\"{weather_param}_1\"] = weather_train_df_copy.groupby(['site_id', 'month', 'day'])[f\"{weather_param}_1\"].transform(lambda x: x.bfill())\n",
    "    print(f\"After backward imputation: Number of NaNs-> {weather_train_df_copy[f'{weather_param}_1'].isnull().sum()}\")\n",
    "    print(f\"Data impututation for {weather_param} is done\")\n",
    "    print(\"-----------------------------------------------------------------------------------\")\n",
    "\n",
    "weather_train_df_copy.drop(columns=['air_temperature', 'cloud_coverage',\n",
    "       'dew_temperature', 'precip_depth_1_hr', 'sea_level_pressure',\n",
    "       'wind_direction', 'wind_speed'], inplace=True)"
   ]
  },
  {
   "cell_type": "code",
   "execution_count": 95,
   "id": "5fdc6f3f",
   "metadata": {},
   "outputs": [],
   "source": [
    "updated_weather_ls = ['cloud_coverage_1','precip_depth_1_hr_1', 'sea_level_pressure_1']"
   ]
  },
  {
   "cell_type": "code",
   "execution_count": 96,
   "id": "780a950d",
   "metadata": {},
   "outputs": [
    {
     "name": "stdout",
     "output_type": "stream",
     "text": [
      "Before imputation: Number of NaNs for cloud_coverage_1-> 25800\n",
      "After imputation: Number of NaNs-> 17568\n",
      "Data impututation for cloud_coverage_1 is done\n",
      "-----------------------------------------------------------------------------------\n",
      "Before imputation: Number of NaNs for precip_depth_1_hr_1-> 41016\n",
      "After imputation: Number of NaNs-> 28608\n",
      "Data impututation for precip_depth_1_hr_1 is done\n",
      "-----------------------------------------------------------------------------------\n",
      "Before imputation: Number of NaNs for sea_level_pressure_1-> 9000\n",
      "After imputation: Number of NaNs-> 8856\n",
      "Data impututation for sea_level_pressure_1 is done\n",
      "-----------------------------------------------------------------------------------\n"
     ]
    }
   ],
   "source": [
    "#impute remaining nan with mean values of column after groupby site_id, week\n",
    "for weather_param in updated_weather_ls:\n",
    "    print(f\"Before imputation: Number of NaNs for {weather_param}-> {weather_train_df_copy[weather_param].isnull().sum()}\")\n",
    "    weather_train_df_copy[weather_param] = weather_train_df_copy.groupby(['site_id','week'])[weather_param].transform(lambda x: x.fillna(x.mean()))\n",
    "    print(f\"After imputation: Number of NaNs-> {weather_train_df_copy[f'{weather_param}'].isnull().sum()}\")\n",
    "    print(f\"Data impututation for {weather_param} is done\")\n",
    "    print(\"-----------------------------------------------------------------------------------\")"
   ]
  },
  {
   "cell_type": "code",
   "execution_count": 97,
   "id": "b935ce8f",
   "metadata": {},
   "outputs": [
    {
     "name": "stdout",
     "output_type": "stream",
     "text": [
      "Before imputation: Number of NaNs for cloud_coverage_1-> 17568\n",
      "After imputation: Number of NaNs-> 17568\n",
      "Data impututation for cloud_coverage_1 is done\n",
      "-----------------------------------------------------------------------------------\n",
      "Before imputation: Number of NaNs for precip_depth_1_hr_1-> 28608\n",
      "After imputation: Number of NaNs-> 26352\n",
      "Data impututation for precip_depth_1_hr_1 is done\n",
      "-----------------------------------------------------------------------------------\n",
      "Before imputation: Number of NaNs for sea_level_pressure_1-> 8856\n",
      "After imputation: Number of NaNs-> 8784\n",
      "Data impututation for sea_level_pressure_1 is done\n",
      "-----------------------------------------------------------------------------------\n"
     ]
    }
   ],
   "source": [
    "#impute remaining nan with mean values of column after groupby site_id, month\n",
    "for weather_param in updated_weather_ls:\n",
    "    print(f\"Before imputation: Number of NaNs for {weather_param}-> {weather_train_df_copy[weather_param].isnull().sum()}\")\n",
    "    weather_train_df_copy[weather_param] = weather_train_df_copy.groupby(['site_id','month'])[weather_param].transform(lambda x: x.fillna(x.mean()))\n",
    "    print(f\"After imputation: Number of NaNs-> {weather_train_df_copy[f'{weather_param}'].isnull().sum()}\")\n",
    "    print(f\"Data impututation for {weather_param} is done\")\n",
    "    print(\"-----------------------------------------------------------------------------------\")"
   ]
  },
  {
   "cell_type": "code",
   "execution_count": 98,
   "id": "faf00359",
   "metadata": {},
   "outputs": [
    {
     "name": "stdout",
     "output_type": "stream",
     "text": [
      "Before imputation: Number of NaNs for cloud_coverage_1-> 17568\n",
      "After imputation: Number of NaNs-> 0\n",
      "Data impututation for cloud_coverage_1 is done\n",
      "-----------------------------------------------------------------------------------\n",
      "Before imputation: Number of NaNs for precip_depth_1_hr_1-> 26352\n",
      "After imputation: Number of NaNs-> 0\n",
      "Data impututation for precip_depth_1_hr_1 is done\n",
      "-----------------------------------------------------------------------------------\n",
      "Before imputation: Number of NaNs for sea_level_pressure_1-> 8784\n",
      "After imputation: Number of NaNs-> 0\n",
      "Data impututation for sea_level_pressure_1 is done\n",
      "-----------------------------------------------------------------------------------\n"
     ]
    }
   ],
   "source": [
    "#impute remaining nan with mean valye of each column\n",
    "for weather_param in updated_weather_ls:\n",
    "    \n",
    "    print(f\"Before imputation: Number of NaNs for {weather_param}-> {weather_train_df_copy[weather_param].isnull().sum()}\")\n",
    "    weather_train_df_copy[weather_param].fillna(weather_train_df_copy[weather_param].mean(), inplace=True)\n",
    "    print(f\"After imputation: Number of NaNs-> {weather_train_df_copy[f'{weather_param}'].isnull().sum()}\")\n",
    "    print(f\"Data impututation for {weather_param} is done\")\n",
    "    print(\"-----------------------------------------------------------------------------------\")"
   ]
  },
  {
   "cell_type": "markdown",
   "id": "51c8b705",
   "metadata": {},
   "source": [
    "#### Imputing Test Weather Dataset"
   ]
  },
  {
   "cell_type": "code",
   "execution_count": 99,
   "id": "c088d1d9",
   "metadata": {},
   "outputs": [
    {
     "name": "stdout",
     "output_type": "stream",
     "text": [
      "Before imputation: Number of NaNs for air_temperature-> 3181\n",
      "After forward imputation: Number of NaNs-> 680\n",
      "After backward imputation: Number of NaNs-> 0\n",
      "Data impututation for air_temperature is done\n",
      "-----------------------------------------------------------------------------------\n",
      "Before imputation: Number of NaNs for cloud_coverage-> 143525\n",
      "After forward imputation: Number of NaNs-> 54250\n",
      "After backward imputation: Number of NaNs-> 38928\n",
      "Data impututation for cloud_coverage is done\n",
      "-----------------------------------------------------------------------------------\n",
      "Before imputation: Number of NaNs for dew_temperature-> 3404\n",
      "After forward imputation: Number of NaNs-> 696\n",
      "After backward imputation: Number of NaNs-> 0\n",
      "Data impututation for dew_temperature is done\n",
      "-----------------------------------------------------------------------------------\n",
      "Before imputation: Number of NaNs for precip_depth_1_hr-> 98665\n",
      "After forward imputation: Number of NaNs-> 78196\n",
      "After backward imputation: Number of NaNs-> 65808\n",
      "Data impututation for precip_depth_1_hr is done\n",
      "-----------------------------------------------------------------------------------\n",
      "Before imputation: Number of NaNs for sea_level_pressure-> 24342\n",
      "After forward imputation: Number of NaNs-> 18885\n",
      "After backward imputation: Number of NaNs-> 17520\n",
      "Data impututation for sea_level_pressure is done\n",
      "-----------------------------------------------------------------------------------\n",
      "Before imputation: Number of NaNs for wind_direction-> 15447\n",
      "After forward imputation: Number of NaNs-> 925\n",
      "After backward imputation: Number of NaNs-> 0\n",
      "Data impututation for wind_direction is done\n",
      "-----------------------------------------------------------------------------------\n",
      "Before imputation: Number of NaNs for wind_speed-> 3537\n",
      "After forward imputation: Number of NaNs-> 688\n",
      "After backward imputation: Number of NaNs-> 0\n",
      "Data impututation for wind_speed is done\n",
      "-----------------------------------------------------------------------------------\n"
     ]
    }
   ],
   "source": [
    "#impute nan using pandas ffill and bfill methods after groupby site_id, month and day\n",
    "for weather_param in weather_ls:\n",
    "    print(f\"Before imputation: Number of NaNs for {weather_param}-> {weather_test_df_copy[weather_param].isnull().sum()}\")\n",
    "    weather_test_df_copy[f\"{weather_param}_1\"] = weather_test_df_copy.groupby(['site_id', 'month', 'day'])[weather_param].transform(lambda x: x.ffill())\n",
    "    print(f\"After forward imputation: Number of NaNs-> {weather_test_df_copy[f'{weather_param}_1'].isnull().sum()}\")\n",
    "    weather_test_df_copy[f\"{weather_param}_1\"] = weather_test_df_copy.groupby(['site_id', 'month', 'day'])[f\"{weather_param}_1\"].transform(lambda x: x.bfill())\n",
    "    print(f\"After backward imputation: Number of NaNs-> {weather_test_df_copy[f'{weather_param}_1'].isnull().sum()}\")\n",
    "    print(f\"Data impututation for {weather_param} is done\")\n",
    "    print(\"-----------------------------------------------------------------------------------\")\n",
    "\n",
    "weather_test_df_copy.drop(columns=['air_temperature', 'cloud_coverage',\n",
    "       'dew_temperature', 'precip_depth_1_hr', 'sea_level_pressure',\n",
    "       'wind_direction', 'wind_speed'], inplace=True)"
   ]
  },
  {
   "cell_type": "code",
   "execution_count": 100,
   "id": "854256b5",
   "metadata": {},
   "outputs": [
    {
     "name": "stdout",
     "output_type": "stream",
     "text": [
      "Before imputation: Number of NaNs for cloud_coverage_1-> 38928\n",
      "After imputation: Number of NaNs-> 35040\n",
      "Data impututation for cloud_coverage_1 is done\n",
      "-----------------------------------------------------------------------------------\n",
      "Before imputation: Number of NaNs for precip_depth_1_hr_1-> 65808\n",
      "After imputation: Number of NaNs-> 52560\n",
      "Data impututation for precip_depth_1_hr_1 is done\n",
      "-----------------------------------------------------------------------------------\n",
      "Before imputation: Number of NaNs for sea_level_pressure_1-> 17520\n",
      "After imputation: Number of NaNs-> 17520\n",
      "Data impututation for sea_level_pressure_1 is done\n",
      "-----------------------------------------------------------------------------------\n"
     ]
    }
   ],
   "source": [
    "#impute remaining nan with mean values of column after groupby site_id, week\n",
    "for weather_param in updated_weather_ls:\n",
    "    print(f\"Before imputation: Number of NaNs for {weather_param}-> {weather_test_df_copy[weather_param].isnull().sum()}\")\n",
    "    weather_test_df_copy[weather_param] = weather_test_df_copy.groupby(['site_id','week'])[weather_param].transform(lambda x: x.fillna(x.mean()))\n",
    "    print(f\"After imputation: Number of NaNs-> {weather_test_df_copy[f'{weather_param}'].isnull().sum()}\")\n",
    "    print(f\"Data impututation for {weather_param} is done\")\n",
    "    print(\"-----------------------------------------------------------------------------------\")"
   ]
  },
  {
   "cell_type": "code",
   "execution_count": 101,
   "id": "de505c7c",
   "metadata": {},
   "outputs": [
    {
     "name": "stdout",
     "output_type": "stream",
     "text": [
      "Before imputation: Number of NaNs for cloud_coverage_1-> 35040\n",
      "After imputation: Number of NaNs-> 35040\n",
      "Data impututation for cloud_coverage_1 is done\n",
      "-----------------------------------------------------------------------------------\n",
      "Before imputation: Number of NaNs for precip_depth_1_hr_1-> 52560\n",
      "After imputation: Number of NaNs-> 52560\n",
      "Data impututation for precip_depth_1_hr_1 is done\n",
      "-----------------------------------------------------------------------------------\n",
      "Before imputation: Number of NaNs for sea_level_pressure_1-> 17520\n",
      "After imputation: Number of NaNs-> 17520\n",
      "Data impututation for sea_level_pressure_1 is done\n",
      "-----------------------------------------------------------------------------------\n"
     ]
    }
   ],
   "source": [
    "#impute remaining nan with mean values of column after groupby site_id, month\n",
    "for weather_param in updated_weather_ls:\n",
    "    print(f\"Before imputation: Number of NaNs for {weather_param}-> {weather_test_df_copy[weather_param].isnull().sum()}\")\n",
    "    weather_test_df_copy[weather_param] = weather_test_df_copy.groupby(['site_id','month'])[weather_param].transform(lambda x: x.fillna(x.mean()))\n",
    "    print(f\"After imputation: Number of NaNs-> {weather_test_df_copy[f'{weather_param}'].isnull().sum()}\")\n",
    "    print(f\"Data impututation for {weather_param} is done\")\n",
    "    print(\"-----------------------------------------------------------------------------------\")"
   ]
  },
  {
   "cell_type": "code",
   "execution_count": 102,
   "id": "dfc06428",
   "metadata": {},
   "outputs": [
    {
     "name": "stdout",
     "output_type": "stream",
     "text": [
      "Before imputation: Number of NaNs for cloud_coverage_1-> 35040\n",
      "After imputation: Number of NaNs-> 0\n",
      "Data impututation for cloud_coverage_1 is done\n",
      "-----------------------------------------------------------------------------------\n",
      "Before imputation: Number of NaNs for precip_depth_1_hr_1-> 52560\n",
      "After imputation: Number of NaNs-> 0\n",
      "Data impututation for precip_depth_1_hr_1 is done\n",
      "-----------------------------------------------------------------------------------\n",
      "Before imputation: Number of NaNs for sea_level_pressure_1-> 17520\n",
      "After imputation: Number of NaNs-> 0\n",
      "Data impututation for sea_level_pressure_1 is done\n",
      "-----------------------------------------------------------------------------------\n"
     ]
    }
   ],
   "source": [
    "#impute remaining nan with mean valye of each column\n",
    "for weather_param in updated_weather_ls:\n",
    "    \n",
    "    print(f\"Before imputation: Number of NaNs for {weather_param}-> {weather_test_df_copy[weather_param].isnull().sum()}\")\n",
    "    weather_test_df_copy[weather_param].fillna(weather_test_df_copy[weather_param].mean(), inplace=True)\n",
    "    print(f\"After imputation: Number of NaNs-> {weather_test_df_copy[f'{weather_param}'].isnull().sum()}\")\n",
    "    print(f\"Data impututation for {weather_param} is done\")\n",
    "    print(\"-----------------------------------------------------------------------------------\")"
   ]
  },
  {
   "cell_type": "markdown",
   "id": "881e8e64",
   "metadata": {},
   "source": [
    "#### Feature Engineering Part 1 (Relative humidity, Seasons, Public Holidays, Lag Features)"
   ]
  },
  {
   "cell_type": "markdown",
   "id": "563fe53d",
   "metadata": {},
   "source": [
    "Formula to describe relation between dew point, air temperature, and relative humidity: https://www.omnicalculator.com/physics/relative-humidity\n",
    "\n"
   ]
  },
  {
   "cell_type": "code",
   "execution_count": 103,
   "id": "498582c8",
   "metadata": {},
   "outputs": [],
   "source": [
    "#feature engineer R.H\n",
    "weather_train_df_copy['RH%'] = 100*(np.exp((17.67 * (weather_train_df_copy['dew_temperature_1'])) / (243.5 + (weather_train_df_copy['dew_temperature_1']))))/(np.exp((17.67 * (weather_train_df_copy['air_temperature_1'])) / (243.5 + (weather_train_df_copy['air_temperature_1']))))"
   ]
  },
  {
   "cell_type": "code",
   "execution_count": 104,
   "id": "3973f7bc",
   "metadata": {},
   "outputs": [],
   "source": [
    "weather_test_df_copy['RH%'] = 100*(np.exp((17.67 * (weather_test_df_copy['dew_temperature_1'])) / (243.5 + (weather_test_df_copy['dew_temperature_1']))))/(np.exp((17.67 * (weather_test_df_copy['air_temperature_1'])) / (243.5 + (weather_test_df_copy['air_temperature_1']))))"
   ]
  },
  {
   "cell_type": "markdown",
   "id": "4ac0bc40",
   "metadata": {},
   "source": [
    "Seasons will affect energy consumption; heaters will be used more frequently in the winter and air conditioners will be used more frequently in the summer."
   ]
  },
  {
   "cell_type": "code",
   "execution_count": 105,
   "id": "ca5f5f8d",
   "metadata": {},
   "outputs": [],
   "source": [
    "#feature engineer seasons in train dataset\n",
    "weather_train_df_copy['season']= weather_train_df_copy['month'].apply(lambda x: 'Spring' if x in [3,4,5] else 'Summer' if \n",
    "                                                x in [6,7,8] \n",
    "                                                else 'Autumn' if x in [9,10,11] else 'Winter')"
   ]
  },
  {
   "cell_type": "code",
   "execution_count": 106,
   "id": "e6b4826d",
   "metadata": {},
   "outputs": [],
   "source": [
    "#feature engineer seasons in test dataset\n",
    "weather_test_df_copy['season']= weather_test_df_copy['month'].apply(lambda x: 'Spring' if x in [3,4,5] else 'Summer' if \n",
    "                                                x in [6,7,8] \n",
    "                                                else 'Autumn' if x in [9,10,11] else 'Winter')"
   ]
  },
  {
   "cell_type": "markdown",
   "id": "670514ab",
   "metadata": {},
   "source": [
    "Other weather parameters from meteocalc library"
   ]
  },
  {
   "cell_type": "code",
   "execution_count": 107,
   "id": "24b6f055",
   "metadata": {},
   "outputs": [],
   "source": [
    "#windchill formula derived from https://sciencing.com/calculate-wind-chill-factor-5981683.html\n",
    "def windchill(T,V):#T = deg C, V = mps\n",
    "    wind_chill = 13.12 + 0.6215 * T - 11.37 * ((V*3.6)**0.16) + 0.3965 * T * ((V*3.6)**0.16) \n",
    "    return wind_chill "
   ]
  },
  {
   "cell_type": "code",
   "execution_count": 108,
   "id": "c54c9bf5",
   "metadata": {},
   "outputs": [],
   "source": [
    "#heat, feellike and windchill (derived from raw weather data)\n",
    "weather_train_df_copy['Heat_index(degC)'] = weather_train_df_copy.apply(lambda x: heat_index((x['air_temperature_1'] * 9 / 5. + 32), x['RH%']).c, axis=1)\n",
    "weather_train_df_copy['Wind_chill(degC)'] = weather_train_df_copy.apply(lambda x: windchill((x['air_temperature_1']), (x['wind_speed_1'])), axis=1)\n",
    "weather_train_df_copy['feels_like(degC)'] = weather_train_df_copy.apply(lambda x: feels_like((x['air_temperature_1'] * 9 / 5. + 32), x['RH%'], x['wind_speed_1']).c, axis=1)"
   ]
  },
  {
   "cell_type": "code",
   "execution_count": 109,
   "id": "ffbdeb35",
   "metadata": {},
   "outputs": [],
   "source": [
    "#heat, feellike and windchill (derived from raw weather data)\n",
    "weather_test_df_copy['Heat_index(degC)'] = weather_test_df_copy.apply(lambda x: heat_index((x['air_temperature_1'] * 9 / 5. + 32), x['RH%']).c, axis=1)\n",
    "weather_test_df_copy['Wind_chill(degC)'] = weather_test_df_copy.apply(lambda x: windchill((x['air_temperature_1']), (x['wind_speed_1'])), axis=1)\n",
    "weather_test_df_copy['feels_like(degC)'] = weather_test_df_copy.apply(lambda x: feels_like((x['air_temperature_1'] * 9 / 5. + 32), x['RH%'], x['wind_speed_1']).c, axis=1)"
   ]
  },
  {
   "cell_type": "markdown",
   "id": "7b04be45",
   "metadata": {},
   "source": [
    "Add rolled features for air_temp, dew_temp, heat_idnex, wind_chill, feels_like parameters"
   ]
  },
  {
   "cell_type": "code",
   "execution_count": 110,
   "id": "fddb2782",
   "metadata": {},
   "outputs": [],
   "source": [
    "#introduce lag features\n",
    "def add_rolled_feature(weather_df, window=3):  \n",
    "    rolled_cols = ['air_temperature_1', 'dew_temperature_1', 'Heat_index(degC)', 'Wind_chill(degC)', 'feels_like(degC)']\n",
    "    \n",
    "    for col in rolled_cols:\n",
    "        weather_df[f'{col}_mean_rolled{window}'] = weather_df.groupby(['site_id']).rolling(window, min_periods=1, on='timestamp')[col].mean().reset_index()[col]"
   ]
  },
  {
   "cell_type": "code",
   "execution_count": 112,
   "id": "2c9c7484",
   "metadata": {},
   "outputs": [],
   "source": [
    "add_rolled_feature(weather_train_df_copy)"
   ]
  },
  {
   "cell_type": "code",
   "execution_count": 113,
   "id": "8db5a717",
   "metadata": {},
   "outputs": [],
   "source": [
    "add_rolled_feature(weather_test_df_copy)"
   ]
  },
  {
   "cell_type": "markdown",
   "id": "5626430e",
   "metadata": {},
   "source": [
    "#### Merging our cleaned weather dataframes with our trian/test datasets"
   ]
  },
  {
   "cell_type": "markdown",
   "id": "123a15c0",
   "metadata": {},
   "source": [
    "Removing the temoporal features for our weather train and test datasets"
   ]
  },
  {
   "cell_type": "code",
   "execution_count": 117,
   "id": "afb45bb5",
   "metadata": {},
   "outputs": [],
   "source": [
    "weather_train_df_copy.drop(columns=['year','month','week','day','hour'],inplace=True)\n",
    "weather_test_df_copy.drop(columns=['year','month','week','day','hour'],inplace=True)"
   ]
  },
  {
   "cell_type": "code",
   "execution_count": 118,
   "id": "9466db29",
   "metadata": {},
   "outputs": [],
   "source": [
    "drop_cols = ['air_temperature', 'cloud_coverage', 'dew_temperature',\n",
    "       'precip_depth_1_hr', 'sea_level_pressure', 'wind_direction',\n",
    "       'wind_speed']"
   ]
  },
  {
   "cell_type": "code",
   "execution_count": 119,
   "id": "fdee5b7c",
   "metadata": {},
   "outputs": [],
   "source": [
    "cleaned_train_df = cleaned_train_df.drop(columns=drop_cols)\n",
    "test_df = test_df.drop(columns=drop_cols)"
   ]
  },
  {
   "cell_type": "code",
   "execution_count": 120,
   "id": "c31f8456",
   "metadata": {},
   "outputs": [],
   "source": [
    "def reduce_mem_usage(df):\n",
    "    \"\"\" iterate through all the columns of a dataframe and modify the data type\n",
    "        to reduce memory usage.        \n",
    "    \"\"\"\n",
    "    start_mem = df.memory_usage().sum() / 1024**2\n",
    "    print('Memory usage of dataframe is {:.2f} MB'.format(start_mem))\n",
    "    \n",
    "    for col in df.columns:\n",
    "        col_type = df[col].dtype\n",
    "        \n",
    "        if col_type != object:\n",
    "            c_min = df[col].min()\n",
    "            c_max = df[col].max()\n",
    "            if str(col_type)[:3] == 'int':\n",
    "                if c_min > np.iinfo(np.int8).min and c_max < np.iinfo(np.int8).max:\n",
    "                    df[col] = df[col].astype(np.int8)\n",
    "                elif c_min > np.iinfo(np.int16).min and c_max < np.iinfo(np.int16).max:\n",
    "                    df[col] = df[col].astype(np.int16)\n",
    "                elif c_min > np.iinfo(np.int32).min and c_max < np.iinfo(np.int32).max:\n",
    "                    df[col] = df[col].astype(np.int32)\n",
    "                elif c_min > np.iinfo(np.int64).min and c_max < np.iinfo(np.int64).max:\n",
    "                    df[col] = df[col].astype(np.int64)  \n",
    "            else:\n",
    "                if c_min > np.finfo(np.float16).min and c_max < np.finfo(np.float16).max:\n",
    "                    df[col] = df[col].astype(np.float16)\n",
    "                elif c_min > np.finfo(np.float32).min and c_max < np.finfo(np.float32).max:\n",
    "                    df[col] = df[col].astype(np.float32)\n",
    "                else:\n",
    "                    df[col] = df[col].astype(np.float64)\n",
    "        else:\n",
    "            df[col] = df[col].astype('category')\n",
    "\n",
    "    end_mem = df.memory_usage().sum() / 1024**2\n",
    "    print('Memory usage after optimization is: {:.2f} MB'.format(end_mem))\n",
    "    print('Decreased by {:.1f}%'.format(100 * (start_mem - end_mem) / start_mem))\n",
    "    \n",
    "    return df"
   ]
  },
  {
   "cell_type": "code",
   "execution_count": 121,
   "id": "0499e2c3",
   "metadata": {},
   "outputs": [],
   "source": [
    "cleaned_train_df.set_index('timestamp',inplace=True)\n",
    "weather_train_df_copy.set_index('timestamp',inplace=True)\n",
    "weather_test_df_copy.set_index('timestamp',inplace=True)"
   ]
  },
  {
   "cell_type": "code",
   "execution_count": 122,
   "id": "bf81f33c",
   "metadata": {},
   "outputs": [
    {
     "name": "stdout",
     "output_type": "stream",
     "text": [
      "Compressed Test Dataframe\n",
      "Memory usage of dataframe is 4453.78 MB\n",
      "Memory usage after optimization is: 1232.74 MB\n",
      "Decreased by 72.3%\n",
      "--------------------------------------------------------------\n",
      "Compressed Weather Train Dataframe\n",
      "Memory usage of dataframe is 20.37 MB\n",
      "Memory usage after optimization is: 5.63 MB\n",
      "Decreased by 72.4%\n",
      "--------------------------------------------------------------\n",
      "Compressed Weather Test Dataframe\n",
      "Memory usage of dataframe is 40.63 MB\n",
      "Memory usage after optimization is: 11.23 MB\n",
      "Decreased by 72.4%\n",
      "--------------------------------------------------------------\n"
     ]
    }
   ],
   "source": [
    "# print('Compressed Train Dataframe')\n",
    "# cleaned_train_df = reduce_mem_usage(cleaned_train_df)\n",
    "# print('--------------------------------------------------------------')\n",
    "print('Compressed Test Dataframe')\n",
    "test_df = reduce_mem_usage(test_df)\n",
    "print('--------------------------------------------------------------')\n",
    "print('Compressed Weather Train Dataframe')\n",
    "weather_train_df_copy = reduce_mem_usage(weather_train_df_copy)\n",
    "print('--------------------------------------------------------------')\n",
    "print('Compressed Weather Test Dataframe')\n",
    "compressed_weather_test_df = reduce_mem_usage(weather_test_df_copy)\n",
    "print('--------------------------------------------------------------')"
   ]
  },
  {
   "cell_type": "code",
   "execution_count": 123,
   "id": "a35f203c",
   "metadata": {},
   "outputs": [],
   "source": [
    "final_train_df = cleaned_train_df.merge(weather_train_df_copy, on=['site_id', 'timestamp'], how='left')\n",
    "final_test_df = test_df.merge(weather_test_df_copy, on=['site_id', 'timestamp'], how='left')"
   ]
  },
  {
   "cell_type": "code",
   "execution_count": 124,
   "id": "2ae342a4",
   "metadata": {},
   "outputs": [
    {
     "data": {
      "text/plain": [
       "index                                    0\n",
       "building_id                              0\n",
       "meter                                    0\n",
       "meter_reading                            0\n",
       "site_id                                  0\n",
       "primary_use                              0\n",
       "square_feet                              0\n",
       "year_built                        11976559\n",
       "floor_count                       16223838\n",
       "year                                     0\n",
       "month                                    0\n",
       "week                                     0\n",
       "day                                      0\n",
       "hour                                     0\n",
       "air_temperature_1                        0\n",
       "cloud_coverage_1                         0\n",
       "dew_temperature_1                        0\n",
       "precip_depth_1_hr_1                      0\n",
       "sea_level_pressure_1                     0\n",
       "wind_direction_1                         0\n",
       "wind_speed_1                             0\n",
       "RH%                                      0\n",
       "season                                   0\n",
       "Heat_index(degC)                         0\n",
       "Wind_chill(degC)                         0\n",
       "feels_like(degC)                         0\n",
       "air_temperature_1_mean_rolled3           0\n",
       "dew_temperature_1_mean_rolled3           0\n",
       "Heat_index(degC)_mean_rolled3            0\n",
       "Wind_chill(degC)_mean_rolled3            0\n",
       "feels_like(degC)_mean_rolled3            0\n",
       "dtype: int64"
      ]
     },
     "execution_count": 124,
     "metadata": {},
     "output_type": "execute_result"
    }
   ],
   "source": [
    "final_train_df.isnull().sum()"
   ]
  },
  {
   "cell_type": "code",
   "execution_count": 125,
   "id": "7d7f2021",
   "metadata": {},
   "outputs": [
    {
     "data": {
      "text/plain": [
       "row_id                                   0\n",
       "building_id                              0\n",
       "meter                                    0\n",
       "site_id                                  0\n",
       "primary_use                              0\n",
       "square_feet                              0\n",
       "year_built                        24598080\n",
       "floor_count                       34444320\n",
       "year                                     0\n",
       "month                                    0\n",
       "week                                     0\n",
       "day                                      0\n",
       "hour                                     0\n",
       "air_temperature_1                        0\n",
       "cloud_coverage_1                         0\n",
       "dew_temperature_1                        0\n",
       "precip_depth_1_hr_1                      0\n",
       "sea_level_pressure_1                     0\n",
       "wind_direction_1                         0\n",
       "wind_speed_1                             0\n",
       "RH%                                      0\n",
       "season                                   0\n",
       "Heat_index(degC)                         0\n",
       "Wind_chill(degC)                         0\n",
       "feels_like(degC)                         0\n",
       "air_temperature_1_mean_rolled3           0\n",
       "dew_temperature_1_mean_rolled3           0\n",
       "Heat_index(degC)_mean_rolled3            0\n",
       "Wind_chill(degC)_mean_rolled3            0\n",
       "feels_like(degC)_mean_rolled3            0\n",
       "dtype: int64"
      ]
     },
     "execution_count": 125,
     "metadata": {},
     "output_type": "execute_result"
    }
   ],
   "source": [
    "final_test_df.isnull().sum()"
   ]
  },
  {
   "cell_type": "markdown",
   "id": "522ba52a",
   "metadata": {},
   "source": [
    "#### Feature Engineering Part 2 (buildings counts per site, buildings counts per primary usage type)"
   ]
  },
  {
   "cell_type": "markdown",
   "id": "bda4f300",
   "metadata": {},
   "source": [
    "Train Building Dataset"
   ]
  },
  {
   "cell_type": "code",
   "execution_count": 126,
   "id": "550e4eb8",
   "metadata": {},
   "outputs": [],
   "source": [
    "#create a dictionary to store the Building Counts Per Site (bcps)\n",
    "dict_bcps = final_train_df.groupby('site_id').agg({'building_id':'count'}).to_dict()"
   ]
  },
  {
   "cell_type": "code",
   "execution_count": 127,
   "id": "84621ff3",
   "metadata": {},
   "outputs": [
    {
     "data": {
      "text/plain": [
       "{0: 744196,\n",
       " 1: 553210,\n",
       " 2: 2506242,\n",
       " 3: 2369379,\n",
       " 4: 746457,\n",
       " 5: 778405,\n",
       " 6: 660250,\n",
       " 7: 354339,\n",
       " 8: 548442,\n",
       " 9: 2641421,\n",
       " 10: 405809,\n",
       " 11: 119459,\n",
       " 12: 315509,\n",
       " 13: 2680956,\n",
       " 14: 2459382,\n",
       " 15: 1806095}"
      ]
     },
     "execution_count": 127,
     "metadata": {},
     "output_type": "execute_result"
    }
   ],
   "source": [
    "dict_bcps_1 = {}\n",
    "for values in dict_bcps.values():\n",
    "    for k,v in values.items():\n",
    "        dict_bcps_1[k] = v\n",
    "\n",
    "dict_bcps_1"
   ]
  },
  {
   "cell_type": "code",
   "execution_count": 128,
   "id": "47c1a485",
   "metadata": {},
   "outputs": [],
   "source": [
    "final_train_df['bcps']=final_train_df['site_id'].map(dict_bcps_1)"
   ]
  },
  {
   "cell_type": "code",
   "execution_count": 129,
   "id": "43d72e7a",
   "metadata": {},
   "outputs": [],
   "source": [
    "#create a dictionary to store the Building Counts Per Facility (bcpf)\n",
    "dict_bcpf = final_train_df.groupby('primary_use').agg({'building_id':'count'}).to_dict()"
   ]
  },
  {
   "cell_type": "code",
   "execution_count": 130,
   "id": "68a9302f",
   "metadata": {},
   "outputs": [
    {
     "data": {
      "text/plain": [
       "{'Education': 7977184,\n",
       " 'Entertainment/public assembly': 2221062,\n",
       " 'Food sales and service': 113570,\n",
       " 'Healthcare': 389877,\n",
       " 'Lodging/residential': 2051203,\n",
       " 'Manufacturing/industrial': 125713,\n",
       " 'Office': 4274265,\n",
       " 'Other': 226691,\n",
       " 'Parking': 187924,\n",
       " 'Public services': 1657016,\n",
       " 'Religious worship': 32280,\n",
       " 'Retail': 91770,\n",
       " 'Services': 95796,\n",
       " 'Technology/science': 77139,\n",
       " 'Utility': 56203,\n",
       " 'Warehouse/storage': 111858}"
      ]
     },
     "execution_count": 130,
     "metadata": {},
     "output_type": "execute_result"
    }
   ],
   "source": [
    "dict_bcpf_1 = {}\n",
    "for values in dict_bcpf.values():\n",
    "    for k,v in values.items():\n",
    "        dict_bcpf_1[k] = v\n",
    "\n",
    "dict_bcpf_1"
   ]
  },
  {
   "cell_type": "code",
   "execution_count": 131,
   "id": "0bd89f5f",
   "metadata": {},
   "outputs": [],
   "source": [
    "final_train_df['bcpf']=final_train_df['primary_use'].map(dict_bcpf_1)"
   ]
  },
  {
   "cell_type": "markdown",
   "id": "fec0f118",
   "metadata": {},
   "source": [
    "Test Building Dataset"
   ]
  },
  {
   "cell_type": "code",
   "execution_count": 132,
   "id": "0c91d2ee",
   "metadata": {},
   "outputs": [],
   "source": [
    "#create a dictionary to store the Building Counts Per Site (bcps)\n",
    "dict_bcps_test = final_test_df.groupby('site_id').agg({'building_id':'count'}).to_dict()"
   ]
  },
  {
   "cell_type": "code",
   "execution_count": 133,
   "id": "f8cbd55b",
   "metadata": {},
   "outputs": [
    {
     "data": {
      "text/plain": [
       "{0: 2260080,\n",
       " 1: 1103760,\n",
       " 2: 5063280,\n",
       " 3: 4800480,\n",
       " 4: 1594320,\n",
       " 5: 1559280,\n",
       " 6: 1401600,\n",
       " 7: 735840,\n",
       " 8: 1226400,\n",
       " 9: 5361120,\n",
       " 10: 876000,\n",
       " 11: 245280,\n",
       " 12: 630720,\n",
       " 13: 5413680,\n",
       " 14: 5045760,\n",
       " 15: 4380000}"
      ]
     },
     "execution_count": 133,
     "metadata": {},
     "output_type": "execute_result"
    }
   ],
   "source": [
    "dict_bcps_2 = {}\n",
    "for values in dict_bcps_test.values():\n",
    "    for k,v in values.items():\n",
    "        dict_bcps_2[k] = v\n",
    "\n",
    "dict_bcps_2"
   ]
  },
  {
   "cell_type": "code",
   "execution_count": 134,
   "id": "241541b4",
   "metadata": {},
   "outputs": [],
   "source": [
    "final_test_df['bcps']=final_test_df['site_id'].map(dict_bcps_2)"
   ]
  },
  {
   "cell_type": "code",
   "execution_count": 135,
   "id": "0adfdc16",
   "metadata": {},
   "outputs": [],
   "source": [
    "#create a dictionary to store the Building Counts Per Facility (bcpf)\n",
    "dict_bcpf_test = final_test_df.groupby('primary_use').agg({'building_id':'count'}).to_dict()"
   ]
  },
  {
   "cell_type": "code",
   "execution_count": 136,
   "id": "e6461629",
   "metadata": {},
   "outputs": [
    {
     "data": {
      "text/plain": [
       "{'Education': 16801680,\n",
       " 'Entertainment/public assembly': 4712880,\n",
       " 'Food sales and service': 227760,\n",
       " 'Healthcare': 805920,\n",
       " 'Lodging/residential': 4502640,\n",
       " 'Manufacturing/industrial': 262800,\n",
       " 'Office': 9005280,\n",
       " 'Other': 508080,\n",
       " 'Parking': 438000,\n",
       " 'Public services': 3416400,\n",
       " 'Religious worship': 70080,\n",
       " 'Retail': 227760,\n",
       " 'Services': 192720,\n",
       " 'Technology/science': 175200,\n",
       " 'Utility': 122640,\n",
       " 'Warehouse/storage': 227760}"
      ]
     },
     "execution_count": 136,
     "metadata": {},
     "output_type": "execute_result"
    }
   ],
   "source": [
    "dict_bcpf_2 = {}\n",
    "for values in dict_bcpf_test.values():\n",
    "    for k,v in values.items():\n",
    "        dict_bcpf_2[k] = v\n",
    "\n",
    "dict_bcpf_2"
   ]
  },
  {
   "cell_type": "code",
   "execution_count": 137,
   "id": "588c1091",
   "metadata": {},
   "outputs": [],
   "source": [
    "final_test_df['bcpf']=final_test_df['primary_use'].map(dict_bcpf_2)"
   ]
  },
  {
   "cell_type": "markdown",
   "id": "53f08f58",
   "metadata": {},
   "source": [
    "#### Data transfomration of target variable"
   ]
  },
  {
   "cell_type": "code",
   "execution_count": 138,
   "id": "418f2944",
   "metadata": {},
   "outputs": [],
   "source": [
    "final_train_df['log_meter_reading'] = np.log1p(final_train_df['meter_reading'])"
   ]
  },
  {
   "cell_type": "code",
   "execution_count": 139,
   "id": "437252ea",
   "metadata": {},
   "outputs": [
    {
     "data": {
      "text/plain": [
       "<AxesSubplot:title={'center':'Log Transformed Energy Consumption Distribution Plot'}, xlabel='log_meter_reading', ylabel='Density'>"
      ]
     },
     "execution_count": 139,
     "metadata": {},
     "output_type": "execute_result"
    },
    {
     "data": {
      "image/png": "[encoded data removed]",
      "text/plain": [
       "<Figure size 1296x576 with 1 Axes>"
      ]
     },
     "metadata": {
      "needs_background": "light"
     },
     "output_type": "display_data"
    }
   ],
   "source": [
    "# plot distribution of energy consumption to check if data transformation is required; i.e. logarithmic transformation\n",
    "plt.figure(figsize=(18,8))\n",
    "plt.title(f'Log Transformed Energy Consumption Distribution Plot')\n",
    "sns.distplot(final_train_df['log_meter_reading'])"
   ]
  },
  {
   "cell_type": "code",
   "execution_count": 140,
   "id": "7558d267",
   "metadata": {},
   "outputs": [
    {
     "data": {
      "image/png": "[encoded data removed]",
      "text/plain": [
       "<Figure size 1728x1296 with 2 Axes>"
      ]
     },
     "metadata": {
      "needs_background": "light"
     },
     "output_type": "display_data"
    }
   ],
   "source": [
    "# Generate a mask for the upper triangle (taken from Seaborn example gallery).\n",
    "mask = np.zeros_like(final_train_df.corr(), dtype=np.bool)\n",
    "mask[np.triu_indices_from(mask)] = True       \n",
    "\n",
    "fig, ax = plt.subplots(figsize=(24,18))\n",
    "\n",
    "# Plot the heat map with Seaborn.\n",
    "ax = sns.heatmap(final_train_df.corr(), mask=mask, annot=True)\n",
    "\n",
    "# Resize the labels.\n",
    "ax.set_xticklabels(ax.xaxis.get_ticklabels(), fontsize=14, rotation=45)\n",
    "ax.set_yticklabels(ax.yaxis.get_ticklabels(), fontsize=14, rotation=0)\n",
    "\n",
    "plt.show()"
   ]
  },
  {
   "cell_type": "markdown",
   "id": "050d55ac",
   "metadata": {},
   "source": [
    "Observation: We can see that log transformed meter reading have a moderate correlation with square feet and site id."
   ]
  },
  {
   "cell_type": "code",
   "execution_count": 141,
   "id": "fd9d07db",
   "metadata": {},
   "outputs": [],
   "source": [
    "#drop year_built and floor_count for our train and test datasets\n",
    "final_train_df.drop(columns=['year_built','floor_count','year'],inplace=True)\n",
    "final_test_df.drop(columns=['year_built','floor_count','year'],inplace=True)"
   ]
  },
  {
   "cell_type": "markdown",
   "id": "9a6e825d",
   "metadata": {},
   "source": [
    "Get dummies for nominal features (tree-based models not required)"
   ]
  },
  {
   "cell_type": "code",
   "execution_count": null,
   "id": "5ae9b354",
   "metadata": {},
   "outputs": [],
   "source": [
    "# nominal_ls = ['primary_use', 'season']\n",
    "# final_train_df = pd.get_dummies(data=final_train_df, columns=nominal_ls, drop_first=True)\n",
    "# final_test_df = pd.get_dummies(data=final_test_df, columns=nominal_ls, drop_first=True)"
   ]
  },
  {
   "cell_type": "code",
   "execution_count": 142,
   "id": "66f11ba3",
   "metadata": {},
   "outputs": [
    {
     "data": {
      "text/plain": [
       "Index(['row_id'], dtype='object')"
      ]
     },
     "execution_count": 142,
     "metadata": {},
     "output_type": "execute_result"
    }
   ],
   "source": [
    "final_test_df.columns.difference(final_train_df.columns)"
   ]
  },
  {
   "cell_type": "code",
   "execution_count": 146,
   "id": "bb204a91",
   "metadata": {},
   "outputs": [
    {
     "data": {
      "text/plain": [
       "Index(['log_meter_reading', 'meter_reading'], dtype='object')"
      ]
     },
     "execution_count": 146,
     "metadata": {},
     "output_type": "execute_result"
    }
   ],
   "source": [
    "final_train_df.columns.difference(final_test_df.columns)"
   ]
  },
  {
   "cell_type": "code",
   "execution_count": 147,
   "id": "3ea780dd",
   "metadata": {},
   "outputs": [],
   "source": [
    "#save merged train and test datasets \n",
    "# final_train_df.to_csv('../datasets/cleaned/cleaned_train_df2.csv',index=False)\n",
    "# final_test_df.to_csv('../datasets/cleaned/cleaned_test_df2.csv',index=False)\n",
    "\n",
    "final_train_df.to_csv('s3://jiashengs3/cleaned_train4.csv', index=False)\n",
    "final_test_df.to_csv('s3://jiashengs3/cleaned_test4.csv', index=False)"
   ]
  }
 ],
 "metadata": {
  "kernelspec": {
   "display_name": "Python 3 (ipykernel)",
   "language": "python",
   "name": "python3"
  },
  "language_info": {
   "codemirror_mode": {
    "name": "ipython",
    "version": 3
   },
   "file_extension": ".py",
   "mimetype": "text/x-python",
   "name": "python",
   "nbconvert_exporter": "python",
   "pygments_lexer": "ipython3",
   "version": "3.10.4"
  }
 },
 "nbformat": 4,
 "nbformat_minor": 5
}
