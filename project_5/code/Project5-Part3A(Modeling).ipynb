{
 "cells": [
  {
   "cell_type": "markdown",
   "id": "712203c7",
   "metadata": {},
   "source": [
    "<img src=\"http://imgur.com/1ZcRyrc.png\" style=\"float: left; margin: 20px; height: 55px\">\n",
    "\n",
    "# Project 5: ASHRAE - Great Energy Predictor III (Part 3a Modeling LGBM)"
   ]
  },
  {
   "cell_type": "markdown",
   "id": "bce9813d",
   "metadata": {},
   "source": [
    " - [Modeling](#Modeling)"
   ]
  },
  {
   "cell_type": "markdown",
   "id": "5c119908",
   "metadata": {},
   "source": [
    "## Modeling"
   ]
  },
  {
   "cell_type": "markdown",
   "id": "65655bdb",
   "metadata": {},
   "source": [
    "### Importing Libraries"
   ]
  },
  {
   "cell_type": "code",
   "execution_count": 5,
   "id": "3fc6ff0a",
   "metadata": {},
   "outputs": [],
   "source": [
    "import pandas as pd\n",
    "pd.reset_option('^display.', silent=True)\n",
    "import numpy as np\n",
    "import matplotlib.pyplot as plt\n",
    "import seaborn as sns\n",
    "import warnings\n",
    "import boto3\n",
    "warnings.filterwarnings(\"ignore\", category=DeprecationWarning) \n",
    "\n",
    "from sklearn.model_selection import train_test_split, cross_val_score, GridSearchCV\n",
    "from sklearn.model_selection import KFold\n",
    "from lofo import LOFOImportance, Dataset, plot_importance\n",
    "from sklearn.metrics import mean_squared_log_error\n",
    "from lightgbm import LGBMRegressor"
   ]
  },
  {
   "cell_type": "code",
   "execution_count": 2,
   "id": "32d1ec26",
   "metadata": {},
   "outputs": [],
   "source": [
    "# !pip install pandas\n",
    "# !pip install seaborn\n",
    "# !pip install matplotlib\n",
    "# !pip install xgboost\n",
    "# !pip install lofo-importance\n",
    "# !pip install imblearn\n",
    "# !pip install smart_open\n",
    "# !pip install boto3\n",
    "# !pip install s3fs"
   ]
  },
  {
   "cell_type": "code",
   "execution_count": 3,
   "id": "0f59a2ed",
   "metadata": {},
   "outputs": [],
   "source": [
    "s3 = boto3.resource(\n",
    "    service_name = 's3',\n",
    "    region_name = 'us-east-1',\n",
    "    aws_access_key_id = '', #hidden due to privacy issue \n",
    "    aws_secret_access_key = '' #hidden due to privacy issue \n",
    "    \n",
    ")"
   ]
  },
  {
   "cell_type": "code",
   "execution_count": 4,
   "id": "4dbfabe4",
   "metadata": {},
   "outputs": [],
   "source": [
    "import os\n",
    "os.environ[\"AWS_DEFAULT_REGION\"] = 'us-east-1'\n",
    "os.environ['AWS_ACCESS_KEY_ID'] = '' #hidden due to privacy issue \n",
    "os.environ['AWS_SECRET_ACCESS_KEY'] = '' #hidden due to privacy issue "
   ]
  },
  {
   "cell_type": "code",
   "execution_count": 5,
   "id": "f5146696",
   "metadata": {},
   "outputs": [],
   "source": [
    "obj = s3.Bucket('jiashengs3').Object('cleaned_train3.csv').get()\n",
    "obj1 = s3.Bucket('jiashengs3').Object('cleaned_test3.csv').get()"
   ]
  },
  {
   "cell_type": "code",
   "execution_count": 6,
   "id": "04fc378a",
   "metadata": {},
   "outputs": [],
   "source": [
    "# retriving cleaned train and test datasets from s3 bucket\n",
    "train_df = pd.read_csv(obj['Body'],index_col=0)\n",
    "test_df = pd.read_csv(obj1['Body'],index_col=0)"
   ]
  },
  {
   "cell_type": "code",
   "execution_count": 7,
   "id": "5ff99241",
   "metadata": {},
   "outputs": [],
   "source": [
    "def reduce_mem_usage(df):\n",
    "    \"\"\" iterate through all the columns of a dataframe and modify the data type\n",
    "        to reduce memory usage.        \n",
    "    \"\"\"\n",
    "    start_mem = df.memory_usage().sum() / 1024**2\n",
    "    print('Memory usage of dataframe is {:.2f} MB'.format(start_mem))\n",
    "    \n",
    "    for col in df.columns:\n",
    "        col_type = df[col].dtype\n",
    "        \n",
    "        if col_type != object:\n",
    "            c_min = df[col].min()\n",
    "            c_max = df[col].max()\n",
    "            if str(col_type)[:3] == 'int':\n",
    "                if c_min > np.iinfo(np.int8).min and c_max < np.iinfo(np.int8).max:\n",
    "                    df[col] = df[col].astype(np.int8)\n",
    "                elif c_min > np.iinfo(np.int16).min and c_max < np.iinfo(np.int16).max:\n",
    "                    df[col] = df[col].astype(np.int16)\n",
    "                elif c_min > np.iinfo(np.int32).min and c_max < np.iinfo(np.int32).max:\n",
    "                    df[col] = df[col].astype(np.int32)\n",
    "                elif c_min > np.iinfo(np.int64).min and c_max < np.iinfo(np.int64).max:\n",
    "                    df[col] = df[col].astype(np.int64)  \n",
    "            else:\n",
    "                if c_min > np.finfo(np.float16).min and c_max < np.finfo(np.float16).max:\n",
    "                    df[col] = df[col].astype(np.float16)\n",
    "                elif c_min > np.finfo(np.float32).min and c_max < np.finfo(np.float32).max:\n",
    "                    df[col] = df[col].astype(np.float32)\n",
    "                else:\n",
    "                    df[col] = df[col].astype(np.float64)\n",
    "        else:\n",
    "            df[col] = df[col].astype('category')\n",
    "\n",
    "    end_mem = df.memory_usage().sum() / 1024**2\n",
    "    print('Memory usage after optimization is: {:.2f} MB'.format(end_mem))\n",
    "    print('Decreased by {:.1f}%'.format(100 * (start_mem - end_mem) / start_mem))\n",
    "    \n",
    "    return df"
   ]
  },
  {
   "cell_type": "code",
   "execution_count": 8,
   "id": "8077a7c3",
   "metadata": {},
   "outputs": [
    {
     "name": "stdout",
     "output_type": "stream",
     "text": [
      "Memory usage of dataframe is 4506.58 MB\n",
      "Memory usage after optimization is: 1239.31 MB\n",
      "Decreased by 72.5%\n",
      "Memory usage of dataframe is 9225.70 MB\n",
      "Memory usage after optimization is: 2465.49 MB\n",
      "Decreased by 73.3%\n"
     ]
    }
   ],
   "source": [
    "train_df = reduce_mem_usage(train_df)\n",
    "test_df = reduce_mem_usage(test_df)"
   ]
  },
  {
   "cell_type": "markdown",
   "id": "13d8c228",
   "metadata": {},
   "source": [
    "#### Ensure consistency between 2 datasets columns "
   ]
  },
  {
   "cell_type": "code",
   "execution_count": 9,
   "id": "7b694e27",
   "metadata": {},
   "outputs": [],
   "source": [
    "train_df = train_df.reset_index()\n",
    "test_df = test_df.reset_index()"
   ]
  },
  {
   "cell_type": "code",
   "execution_count": 10,
   "id": "cc66d955",
   "metadata": {
    "scrolled": true
   },
   "outputs": [
    {
     "data": {
      "text/plain": [
       "Index(['log_meter_reading', 'meter_reading'], dtype='object')"
      ]
     },
     "execution_count": 10,
     "metadata": {},
     "output_type": "execute_result"
    }
   ],
   "source": [
    "train_df.columns.difference(test_df.columns)"
   ]
  },
  {
   "cell_type": "code",
   "execution_count": 11,
   "id": "47c3c5e8",
   "metadata": {},
   "outputs": [],
   "source": [
    "train_df = train_df.drop(columns='meter_reading')"
   ]
  },
  {
   "cell_type": "code",
   "execution_count": 12,
   "id": "d17307db",
   "metadata": {},
   "outputs": [
    {
     "data": {
      "text/plain": [
       "Index(['row_id'], dtype='object')"
      ]
     },
     "execution_count": 12,
     "metadata": {},
     "output_type": "execute_result"
    }
   ],
   "source": [
    "test_df.columns.difference(train_df.columns)"
   ]
  },
  {
   "cell_type": "code",
   "execution_count": 13,
   "id": "7865cbe8",
   "metadata": {},
   "outputs": [],
   "source": [
    "#Splitting into the 4 different meter types\n",
    "train_df_0 = train_df[train_df['meter']==0]\n",
    "train_df_1 = train_df[train_df['meter']==1]\n",
    "train_df_2 = train_df[train_df['meter']==2]\n",
    "train_df_3 = train_df[train_df['meter']==3]"
   ]
  },
  {
   "cell_type": "code",
   "execution_count": 14,
   "id": "17657c69",
   "metadata": {
    "scrolled": true
   },
   "outputs": [],
   "source": [
    "#Splitting into the 4 different meter types\n",
    "test_df_0 = test_df[test_df['meter']==0]\n",
    "test_df_1 = test_df[test_df['meter']==1]\n",
    "test_df_2 = test_df[test_df['meter']==2]\n",
    "test_df_3 = test_df[test_df['meter']==3]"
   ]
  },
  {
   "cell_type": "markdown",
   "id": "23d01381",
   "metadata": {},
   "source": [
    "### Feature Selection using Leave One Feature Out (LOFO)"
   ]
  },
  {
   "cell_type": "code",
   "execution_count": 15,
   "id": "d5e5a802",
   "metadata": {},
   "outputs": [],
   "source": [
    "#LOFO on meter 0\n",
    "cv = KFold(n_splits=2, shuffle=False)\n",
    "dataset = Dataset(df=train_df_0, target='log_meter_reading', features=[col for col in train_df_0.columns if col != 'log_meter_reading'])"
   ]
  },
  {
   "cell_type": "code",
   "execution_count": 16,
   "id": "d24a71af",
   "metadata": {},
   "outputs": [],
   "source": [
    "lofo_imp = LOFOImportance(dataset, cv=cv, scoring=\"neg_mean_squared_log_error\")"
   ]
  },
  {
   "cell_type": "code",
   "execution_count": 17,
   "id": "ca9bce6c",
   "metadata": {},
   "outputs": [
    {
     "data": {
      "application/vnd.jupyter.widget-view+json": {
       "model_id": "59d1fc7b20d74b4db01ca70f3d783d4b",
       "version_major": 2,
       "version_minor": 0
      },
      "text/plain": [
       "  0%|          | 0/28 [00:00<?, ?it/s]"
      ]
     },
     "metadata": {},
     "output_type": "display_data"
    }
   ],
   "source": [
    "importance_df = lofo_imp.get_importance()"
   ]
  },
  {
   "cell_type": "code",
   "execution_count": 18,
   "id": "96ea1449",
   "metadata": {},
   "outputs": [
    {
     "data": {
      "image/png": "[encoded data removed]",
      "text/plain": [
       "<Figure size 864x1440 with 1 Axes>"
      ]
     },
     "metadata": {
      "needs_background": "light"
     },
     "output_type": "display_data"
    }
   ],
   "source": [
    "plot_importance(importance_df, figsize=(12, 20))"
   ]
  },
  {
   "cell_type": "code",
   "execution_count": 23,
   "id": "2c8b9699",
   "metadata": {},
   "outputs": [],
   "source": [
    "#identifying good features \n",
    "good_features0 = importance_df[~(importance_df['importance_mean'] <0)]"
   ]
  },
  {
   "cell_type": "code",
   "execution_count": 24,
   "id": "1fef9640",
   "metadata": {},
   "outputs": [],
   "source": [
    "goodfeatures0 = list(good_features0.feature.values)"
   ]
  },
  {
   "cell_type": "code",
   "execution_count": 25,
   "id": "aa623072",
   "metadata": {
    "scrolled": true
   },
   "outputs": [
    {
     "data": {
      "text/plain": [
       "['square_feet',\n",
       " 'building_id',\n",
       " 'primary_use',\n",
       " 'bcps',\n",
       " 'feels_like(degC)',\n",
       " 'wind_direction_1',\n",
       " 'air_temperature_1',\n",
       " 'Wind_chill(degC)',\n",
       " 'season',\n",
       " 'Heat_index(degC)_mean_lag3',\n",
       " 'day',\n",
       " 'dew_temperature_1',\n",
       " 'cloud_coverage_1',\n",
       " 'Heat_index(degC)',\n",
       " 'bcpf',\n",
       " 'sea_level_pressure_1',\n",
       " 'meter']"
      ]
     },
     "execution_count": 25,
     "metadata": {},
     "output_type": "execute_result"
    }
   ],
   "source": [
    "goodfeatures0"
   ]
  },
  {
   "cell_type": "code",
   "execution_count": 26,
   "id": "bab4a1a7",
   "metadata": {},
   "outputs": [],
   "source": [
    "goodfeatures0.remove('meter')"
   ]
  },
  {
   "cell_type": "markdown",
   "id": "60b70209",
   "metadata": {},
   "source": [
    "#### Finding the good features for the meters 1, 2 and 3"
   ]
  },
  {
   "cell_type": "code",
   "execution_count": 80,
   "id": "84556b88",
   "metadata": {},
   "outputs": [],
   "source": [
    "def findgoodfeatures(df_ls, num_splits):\n",
    "    \n",
    "    good_features1 = []\n",
    "    good_features2 = []\n",
    "    good_features3 = []\n",
    "    \n",
    "    for count, dataframe in enumerate(df_ls):\n",
    "        \n",
    "        cv = KFold(n_splits=num_splits, shuffle=False)\n",
    "        dataset = Dataset(df=dataframe.head(200_000), target='log_meter_reading', features=[col for col in dataframe.columns if col != 'log_meter_reading'])\n",
    "        lofo_imp = LOFOImportance(dataset, cv=cv, scoring=\"neg_mean_squared_log_error\")\n",
    "        importance_df = lofo_imp.get_importance()\n",
    "        plot_importance(importance_df, figsize=(12, 20))\n",
    "        \n",
    "        if count == 0:\n",
    "            \n",
    "            good_features1 = importance_df[~(importance_df['importance_mean'] <0)]\n",
    "            good_features1.append(good_features1)\n",
    "            \n",
    "        elif count ==1:\n",
    "            \n",
    "            good_features2 = importance_df[~(importance_df['importance_mean'] <0)]\n",
    "            good_features2.append(good_features2)\n",
    "        \n",
    "        else:\n",
    "            \n",
    "            good_features3 = importance_df[~(importance_df['importance_mean'] <0)]\n",
    "            good_features3.append(good_features3)   \n",
    "        \n",
    "    return good_features1, good_features2, good_features3\n"
   ]
  },
  {
   "cell_type": "code",
   "execution_count": 148,
   "id": "8f618b0d",
   "metadata": {
    "scrolled": false
   },
   "outputs": [],
   "source": [
    "df_ls = [train_df_1, train_df_2, train_df_3] \n",
    "\n",
    "good_features1, good_features2, good_features3 = findgoodfeatures(df_ls,2) "
   ]
  },
  {
   "cell_type": "code",
   "execution_count": 86,
   "id": "d4a356a3",
   "metadata": {},
   "outputs": [],
   "source": [
    "goodfeatures1 = list(train_df.columns)\n",
    "goodfeatures2 = list(good_features2.feature.values)\n",
    "goodfeatures3 = list(good_features3.feature.values)"
   ]
  },
  {
   "cell_type": "code",
   "execution_count": 115,
   "id": "2a0fdf98",
   "metadata": {},
   "outputs": [],
   "source": [
    "goodfeatures1.remove('meter','log_meter_reading')"
   ]
  },
  {
   "cell_type": "code",
   "execution_count": 88,
   "id": "637c3974",
   "metadata": {},
   "outputs": [],
   "source": [
    "goodfeatures2.remove('meter')"
   ]
  },
  {
   "cell_type": "code",
   "execution_count": 89,
   "id": "75a3d2e5",
   "metadata": {},
   "outputs": [],
   "source": [
    "goodfeatures3.remove('meter')"
   ]
  },
  {
   "cell_type": "code",
   "execution_count": 90,
   "id": "21187545",
   "metadata": {},
   "outputs": [
    {
     "name": "stdout",
     "output_type": "stream",
     "text": [
      "Number of Good Features for Meter 0 Dataset 17\n",
      "Number of Good Features for Meter 1 Dataset 28\n",
      "Number of Good Features for Meter 2 Dataset 22\n",
      "Number of Good Features for Meter 3 Dataset 17\n"
     ]
    }
   ],
   "source": [
    "#number of good features for each meter type\n",
    "print(f'Number of Good Features for Meter 0 Dataset {len(good_features0)}')\n",
    "print(f'Number of Good Features for Meter 1 Dataset {len(good_features1)}')\n",
    "print(f'Number of Good Features for Meter 2 Dataset {len(good_features2)}')\n",
    "print(f'Number of Good Features for Meter 3 Dataset {len(good_features3)}')"
   ]
  },
  {
   "cell_type": "markdown",
   "id": "005604be",
   "metadata": {},
   "source": [
    "### Hyperparameters Tuning for LightGBM Model (Meter 0)"
   ]
  },
  {
   "cell_type": "code",
   "execution_count": 94,
   "id": "57ffb9d9",
   "metadata": {},
   "outputs": [],
   "source": [
    "pd.get_option(\"display.max_columns\")\n",
    "pd.set_option('display.width', None)\n",
    "pd.set_option('display.max_colwidth', None)\n",
    "\n",
    "\n",
    "def eval_LGBM_model_peformance(X_col,y_col):\n",
    "    \n",
    "    # Train Test Split Dataset\n",
    "    X_train, X_test, y_train, y_test = train_test_split(X_col,y_col,test_size=0.3,shuffle=False)\n",
    "    \n",
    "    # Instantiate model\n",
    "    lgbm = LGBMRegressor(max_iter=1_000)\n",
    "    \n",
    "    #Params Dictionary for Hyperparameters Tuninng\n",
    "    param_dict = {\n",
    "                'learning_rate': [0.1],\n",
    "                'num_leaves': [500,1000,5000],\n",
    "                'boosting_type':['goss'],\n",
    "                'reg_alpha': [0.1, 1,10],\n",
    "                'feature_fraction': [0.85],\n",
    "                'min_data_in_leaf' : [1000]\n",
    "    }\n",
    "\n",
    "    gs = GridSearchCV(lgbm, param_grid=param_dict, cv=2, scoring='r2', verbose=1)\n",
    "    gs.fit(X_train, y_train)\n",
    "\n",
    "    #Evaluate\n",
    "    best_params = gs.best_params_\n",
    "    best_train_score = gs.best_score_\n",
    "    test_score = gs.score(X_test, y_test)\n",
    "\n",
    "\n",
    "    return best_params,best_train_score,test_score"
   ]
  },
  {
   "cell_type": "code",
   "execution_count": 95,
   "id": "3180da1c",
   "metadata": {
    "scrolled": true
   },
   "outputs": [],
   "source": [
    "#using subset of training data to find best hyperparameters\n",
    "train_sample_0 = train_df_0.head(200_000)"
   ]
  },
  {
   "cell_type": "code",
   "execution_count": 96,
   "id": "7d4c8413",
   "metadata": {},
   "outputs": [],
   "source": [
    "X = train_sample_0[goodfeatures0]\n",
    "y = train_sample_0['log_meter_reading']"
   ]
  },
  {
   "cell_type": "code",
   "execution_count": 97,
   "id": "a90b6243",
   "metadata": {
    "scrolled": true
   },
   "outputs": [
    {
     "name": "stdout",
     "output_type": "stream",
     "text": [
      "Fitting 2 folds for each of 9 candidates, totalling 18 fits\n",
      "[LightGBM] [Warning] feature_fraction is set=0.85, colsample_bytree=1.0 will be ignored. Current value: feature_fraction=0.85\n",
      "[LightGBM] [Warning] num_iterations is set=1000, max_iter=1000 will be ignored. Current value: num_iterations=1000\n",
      "[LightGBM] [Warning] min_data_in_leaf is set=1000, min_child_samples=20 will be ignored. Current value: min_data_in_leaf=1000\n"
     ]
    },
    {
     "name": "stderr",
     "output_type": "stream",
     "text": [
      "/home/ubuntu/.local/lib/python3.10/site-packages/lightgbm/engine.py:177: UserWarning: Found `max_iter` in params. Will use it instead of argument\n",
      "  _log_warning(f\"Found `{alias}` in params. Will use it instead of argument\")\n",
      "/home/ubuntu/.local/lib/python3.10/site-packages/lightgbm/engine.py:177: UserWarning: Found `max_iter` in params. Will use it instead of argument\n",
      "  _log_warning(f\"Found `{alias}` in params. Will use it instead of argument\")\n"
     ]
    },
    {
     "name": "stdout",
     "output_type": "stream",
     "text": [
      "[LightGBM] [Warning] feature_fraction is set=0.85, colsample_bytree=1.0 will be ignored. Current value: feature_fraction=0.85\n",
      "[LightGBM] [Warning] num_iterations is set=1000, max_iter=1000 will be ignored. Current value: num_iterations=1000\n",
      "[LightGBM] [Warning] min_data_in_leaf is set=1000, min_child_samples=20 will be ignored. Current value: min_data_in_leaf=1000\n"
     ]
    },
    {
     "name": "stderr",
     "output_type": "stream",
     "text": [
      "/home/ubuntu/.local/lib/python3.10/site-packages/lightgbm/engine.py:177: UserWarning: Found `max_iter` in params. Will use it instead of argument\n",
      "  _log_warning(f\"Found `{alias}` in params. Will use it instead of argument\")\n"
     ]
    },
    {
     "name": "stdout",
     "output_type": "stream",
     "text": [
      "[LightGBM] [Warning] feature_fraction is set=0.85, colsample_bytree=1.0 will be ignored. Current value: feature_fraction=0.85\n",
      "[LightGBM] [Warning] num_iterations is set=1000, max_iter=1000 will be ignored. Current value: num_iterations=1000\n",
      "[LightGBM] [Warning] min_data_in_leaf is set=1000, min_child_samples=20 will be ignored. Current value: min_data_in_leaf=1000\n"
     ]
    },
    {
     "name": "stderr",
     "output_type": "stream",
     "text": [
      "/home/ubuntu/.local/lib/python3.10/site-packages/lightgbm/engine.py:177: UserWarning: Found `max_iter` in params. Will use it instead of argument\n",
      "  _log_warning(f\"Found `{alias}` in params. Will use it instead of argument\")\n"
     ]
    },
    {
     "name": "stdout",
     "output_type": "stream",
     "text": [
      "[LightGBM] [Warning] feature_fraction is set=0.85, colsample_bytree=1.0 will be ignored. Current value: feature_fraction=0.85\n",
      "[LightGBM] [Warning] num_iterations is set=1000, max_iter=1000 will be ignored. Current value: num_iterations=1000\n",
      "[LightGBM] [Warning] min_data_in_leaf is set=1000, min_child_samples=20 will be ignored. Current value: min_data_in_leaf=1000\n"
     ]
    },
    {
     "name": "stderr",
     "output_type": "stream",
     "text": [
      "/home/ubuntu/.local/lib/python3.10/site-packages/lightgbm/engine.py:177: UserWarning: Found `max_iter` in params. Will use it instead of argument\n",
      "  _log_warning(f\"Found `{alias}` in params. Will use it instead of argument\")\n"
     ]
    },
    {
     "name": "stdout",
     "output_type": "stream",
     "text": [
      "[LightGBM] [Warning] feature_fraction is set=0.85, colsample_bytree=1.0 will be ignored. Current value: feature_fraction=0.85\n",
      "[LightGBM] [Warning] num_iterations is set=1000, max_iter=1000 will be ignored. Current value: num_iterations=1000\n",
      "[LightGBM] [Warning] min_data_in_leaf is set=1000, min_child_samples=20 will be ignored. Current value: min_data_in_leaf=1000\n"
     ]
    },
    {
     "name": "stderr",
     "output_type": "stream",
     "text": [
      "/home/ubuntu/.local/lib/python3.10/site-packages/lightgbm/engine.py:177: UserWarning: Found `max_iter` in params. Will use it instead of argument\n",
      "  _log_warning(f\"Found `{alias}` in params. Will use it instead of argument\")\n"
     ]
    },
    {
     "name": "stdout",
     "output_type": "stream",
     "text": [
      "[LightGBM] [Warning] feature_fraction is set=0.85, colsample_bytree=1.0 will be ignored. Current value: feature_fraction=0.85\n",
      "[LightGBM] [Warning] num_iterations is set=1000, max_iter=1000 will be ignored. Current value: num_iterations=1000\n",
      "[LightGBM] [Warning] min_data_in_leaf is set=1000, min_child_samples=20 will be ignored. Current value: min_data_in_leaf=1000\n"
     ]
    },
    {
     "name": "stderr",
     "output_type": "stream",
     "text": [
      "/home/ubuntu/.local/lib/python3.10/site-packages/lightgbm/engine.py:177: UserWarning: Found `max_iter` in params. Will use it instead of argument\n",
      "  _log_warning(f\"Found `{alias}` in params. Will use it instead of argument\")\n"
     ]
    },
    {
     "name": "stdout",
     "output_type": "stream",
     "text": [
      "[LightGBM] [Warning] feature_fraction is set=0.85, colsample_bytree=1.0 will be ignored. Current value: feature_fraction=0.85\n",
      "[LightGBM] [Warning] num_iterations is set=1000, max_iter=1000 will be ignored. Current value: num_iterations=1000\n",
      "[LightGBM] [Warning] min_data_in_leaf is set=1000, min_child_samples=20 will be ignored. Current value: min_data_in_leaf=1000\n"
     ]
    },
    {
     "name": "stderr",
     "output_type": "stream",
     "text": [
      "/home/ubuntu/.local/lib/python3.10/site-packages/lightgbm/engine.py:177: UserWarning: Found `max_iter` in params. Will use it instead of argument\n",
      "  _log_warning(f\"Found `{alias}` in params. Will use it instead of argument\")\n"
     ]
    },
    {
     "name": "stdout",
     "output_type": "stream",
     "text": [
      "[LightGBM] [Warning] feature_fraction is set=0.85, colsample_bytree=1.0 will be ignored. Current value: feature_fraction=0.85\n",
      "[LightGBM] [Warning] num_iterations is set=1000, max_iter=1000 will be ignored. Current value: num_iterations=1000\n",
      "[LightGBM] [Warning] min_data_in_leaf is set=1000, min_child_samples=20 will be ignored. Current value: min_data_in_leaf=1000\n"
     ]
    },
    {
     "name": "stderr",
     "output_type": "stream",
     "text": [
      "/home/ubuntu/.local/lib/python3.10/site-packages/lightgbm/engine.py:177: UserWarning: Found `max_iter` in params. Will use it instead of argument\n",
      "  _log_warning(f\"Found `{alias}` in params. Will use it instead of argument\")\n"
     ]
    },
    {
     "name": "stdout",
     "output_type": "stream",
     "text": [
      "[LightGBM] [Warning] feature_fraction is set=0.85, colsample_bytree=1.0 will be ignored. Current value: feature_fraction=0.85\n",
      "[LightGBM] [Warning] num_iterations is set=1000, max_iter=1000 will be ignored. Current value: num_iterations=1000\n",
      "[LightGBM] [Warning] min_data_in_leaf is set=1000, min_child_samples=20 will be ignored. Current value: min_data_in_leaf=1000\n"
     ]
    },
    {
     "name": "stderr",
     "output_type": "stream",
     "text": [
      "/home/ubuntu/.local/lib/python3.10/site-packages/lightgbm/engine.py:177: UserWarning: Found `max_iter` in params. Will use it instead of argument\n",
      "  _log_warning(f\"Found `{alias}` in params. Will use it instead of argument\")\n"
     ]
    },
    {
     "name": "stdout",
     "output_type": "stream",
     "text": [
      "[LightGBM] [Warning] feature_fraction is set=0.85, colsample_bytree=1.0 will be ignored. Current value: feature_fraction=0.85\n",
      "[LightGBM] [Warning] num_iterations is set=1000, max_iter=1000 will be ignored. Current value: num_iterations=1000\n",
      "[LightGBM] [Warning] min_data_in_leaf is set=1000, min_child_samples=20 will be ignored. Current value: min_data_in_leaf=1000\n"
     ]
    },
    {
     "name": "stderr",
     "output_type": "stream",
     "text": [
      "/home/ubuntu/.local/lib/python3.10/site-packages/lightgbm/engine.py:177: UserWarning: Found `max_iter` in params. Will use it instead of argument\n",
      "  _log_warning(f\"Found `{alias}` in params. Will use it instead of argument\")\n"
     ]
    },
    {
     "name": "stdout",
     "output_type": "stream",
     "text": [
      "[LightGBM] [Warning] feature_fraction is set=0.85, colsample_bytree=1.0 will be ignored. Current value: feature_fraction=0.85\n",
      "[LightGBM] [Warning] num_iterations is set=1000, max_iter=1000 will be ignored. Current value: num_iterations=1000\n",
      "[LightGBM] [Warning] min_data_in_leaf is set=1000, min_child_samples=20 will be ignored. Current value: min_data_in_leaf=1000\n"
     ]
    },
    {
     "name": "stderr",
     "output_type": "stream",
     "text": [
      "/home/ubuntu/.local/lib/python3.10/site-packages/lightgbm/engine.py:177: UserWarning: Found `max_iter` in params. Will use it instead of argument\n",
      "  _log_warning(f\"Found `{alias}` in params. Will use it instead of argument\")\n"
     ]
    },
    {
     "name": "stdout",
     "output_type": "stream",
     "text": [
      "[LightGBM] [Warning] feature_fraction is set=0.85, colsample_bytree=1.0 will be ignored. Current value: feature_fraction=0.85\n",
      "[LightGBM] [Warning] num_iterations is set=1000, max_iter=1000 will be ignored. Current value: num_iterations=1000\n",
      "[LightGBM] [Warning] min_data_in_leaf is set=1000, min_child_samples=20 will be ignored. Current value: min_data_in_leaf=1000\n"
     ]
    },
    {
     "name": "stderr",
     "output_type": "stream",
     "text": [
      "/home/ubuntu/.local/lib/python3.10/site-packages/lightgbm/engine.py:177: UserWarning: Found `max_iter` in params. Will use it instead of argument\n",
      "  _log_warning(f\"Found `{alias}` in params. Will use it instead of argument\")\n"
     ]
    },
    {
     "name": "stdout",
     "output_type": "stream",
     "text": [
      "[LightGBM] [Warning] feature_fraction is set=0.85, colsample_bytree=1.0 will be ignored. Current value: feature_fraction=0.85\n",
      "[LightGBM] [Warning] num_iterations is set=1000, max_iter=1000 will be ignored. Current value: num_iterations=1000\n",
      "[LightGBM] [Warning] min_data_in_leaf is set=1000, min_child_samples=20 will be ignored. Current value: min_data_in_leaf=1000\n"
     ]
    },
    {
     "name": "stderr",
     "output_type": "stream",
     "text": [
      "/home/ubuntu/.local/lib/python3.10/site-packages/lightgbm/engine.py:177: UserWarning: Found `max_iter` in params. Will use it instead of argument\n",
      "  _log_warning(f\"Found `{alias}` in params. Will use it instead of argument\")\n"
     ]
    },
    {
     "name": "stdout",
     "output_type": "stream",
     "text": [
      "[LightGBM] [Warning] feature_fraction is set=0.85, colsample_bytree=1.0 will be ignored. Current value: feature_fraction=0.85\n",
      "[LightGBM] [Warning] num_iterations is set=1000, max_iter=1000 will be ignored. Current value: num_iterations=1000\n",
      "[LightGBM] [Warning] min_data_in_leaf is set=1000, min_child_samples=20 will be ignored. Current value: min_data_in_leaf=1000\n"
     ]
    },
    {
     "name": "stderr",
     "output_type": "stream",
     "text": [
      "/home/ubuntu/.local/lib/python3.10/site-packages/lightgbm/engine.py:177: UserWarning: Found `max_iter` in params. Will use it instead of argument\n",
      "  _log_warning(f\"Found `{alias}` in params. Will use it instead of argument\")\n"
     ]
    },
    {
     "name": "stdout",
     "output_type": "stream",
     "text": [
      "[LightGBM] [Warning] feature_fraction is set=0.85, colsample_bytree=1.0 will be ignored. Current value: feature_fraction=0.85\n",
      "[LightGBM] [Warning] num_iterations is set=1000, max_iter=1000 will be ignored. Current value: num_iterations=1000\n",
      "[LightGBM] [Warning] min_data_in_leaf is set=1000, min_child_samples=20 will be ignored. Current value: min_data_in_leaf=1000\n"
     ]
    },
    {
     "name": "stderr",
     "output_type": "stream",
     "text": [
      "/home/ubuntu/.local/lib/python3.10/site-packages/lightgbm/engine.py:177: UserWarning: Found `max_iter` in params. Will use it instead of argument\n",
      "  _log_warning(f\"Found `{alias}` in params. Will use it instead of argument\")\n"
     ]
    },
    {
     "name": "stdout",
     "output_type": "stream",
     "text": [
      "[LightGBM] [Warning] feature_fraction is set=0.85, colsample_bytree=1.0 will be ignored. Current value: feature_fraction=0.85\n",
      "[LightGBM] [Warning] num_iterations is set=1000, max_iter=1000 will be ignored. Current value: num_iterations=1000\n",
      "[LightGBM] [Warning] min_data_in_leaf is set=1000, min_child_samples=20 will be ignored. Current value: min_data_in_leaf=1000\n"
     ]
    },
    {
     "name": "stderr",
     "output_type": "stream",
     "text": [
      "/home/ubuntu/.local/lib/python3.10/site-packages/lightgbm/engine.py:177: UserWarning: Found `max_iter` in params. Will use it instead of argument\n",
      "  _log_warning(f\"Found `{alias}` in params. Will use it instead of argument\")\n"
     ]
    },
    {
     "name": "stdout",
     "output_type": "stream",
     "text": [
      "[LightGBM] [Warning] feature_fraction is set=0.85, colsample_bytree=1.0 will be ignored. Current value: feature_fraction=0.85\n",
      "[LightGBM] [Warning] num_iterations is set=1000, max_iter=1000 will be ignored. Current value: num_iterations=1000\n",
      "[LightGBM] [Warning] min_data_in_leaf is set=1000, min_child_samples=20 will be ignored. Current value: min_data_in_leaf=1000\n"
     ]
    },
    {
     "name": "stderr",
     "output_type": "stream",
     "text": [
      "/home/ubuntu/.local/lib/python3.10/site-packages/lightgbm/engine.py:177: UserWarning: Found `max_iter` in params. Will use it instead of argument\n",
      "  _log_warning(f\"Found `{alias}` in params. Will use it instead of argument\")\n"
     ]
    },
    {
     "name": "stdout",
     "output_type": "stream",
     "text": [
      "[LightGBM] [Warning] feature_fraction is set=0.85, colsample_bytree=1.0 will be ignored. Current value: feature_fraction=0.85\n",
      "[LightGBM] [Warning] num_iterations is set=1000, max_iter=1000 will be ignored. Current value: num_iterations=1000\n",
      "[LightGBM] [Warning] min_data_in_leaf is set=1000, min_child_samples=20 will be ignored. Current value: min_data_in_leaf=1000\n"
     ]
    },
    {
     "name": "stderr",
     "output_type": "stream",
     "text": [
      "/home/ubuntu/.local/lib/python3.10/site-packages/lightgbm/engine.py:177: UserWarning: Found `max_iter` in params. Will use it instead of argument\n",
      "  _log_warning(f\"Found `{alias}` in params. Will use it instead of argument\")\n"
     ]
    },
    {
     "name": "stdout",
     "output_type": "stream",
     "text": [
      "[LightGBM] [Warning] feature_fraction is set=0.85, colsample_bytree=1.0 will be ignored. Current value: feature_fraction=0.85\n",
      "[LightGBM] [Warning] num_iterations is set=1000, max_iter=1000 will be ignored. Current value: num_iterations=1000\n",
      "[LightGBM] [Warning] min_data_in_leaf is set=1000, min_child_samples=20 will be ignored. Current value: min_data_in_leaf=1000\n"
     ]
    }
   ],
   "source": [
    "best_params,best_train_score,test_score = eval_LGBM_model_peformance(X,y)"
   ]
  },
  {
   "cell_type": "code",
   "execution_count": 98,
   "id": "c0cb3602",
   "metadata": {},
   "outputs": [
    {
     "name": "stdout",
     "output_type": "stream",
     "text": [
      "Best Params: {'boosting_type': 'goss', 'feature_fraction': 0.85, 'learning_rate': 0.1, 'min_data_in_leaf': 1000, 'num_leaves': 500, 'reg_alpha': 1}\n",
      "Best Train Score: 0.8412900158178013\n",
      "Test Score: 0.9037269071679193\n"
     ]
    }
   ],
   "source": [
    "print(f'Best Params: {best_params}')\n",
    "print(f'Best Train Score: {best_train_score}')\n",
    "print(f'Test Score: {test_score}')"
   ]
  },
  {
   "cell_type": "code",
   "execution_count": 99,
   "id": "ad077bed",
   "metadata": {},
   "outputs": [
    {
     "data": {
      "text/plain": [
       "{'boosting_type': 'goss',\n",
       " 'feature_fraction': 0.85,\n",
       " 'learning_rate': 0.1,\n",
       " 'min_data_in_leaf': 1000,\n",
       " 'num_leaves': 500,\n",
       " 'reg_alpha': 1,\n",
       " 'eval_metric': 'rmse'}"
      ]
     },
     "execution_count": 99,
     "metadata": {},
     "output_type": "execute_result"
    }
   ],
   "source": [
    "best_params['eval_metric'] = 'rmse'\n",
    "best_params"
   ]
  },
  {
   "cell_type": "markdown",
   "id": "e099afad",
   "metadata": {},
   "source": [
    "#### Meter type 0 prediction"
   ]
  },
  {
   "cell_type": "code",
   "execution_count": 101,
   "id": "984bed26",
   "metadata": {},
   "outputs": [],
   "source": [
    "X_train, X_test, y_train, y_test = train_test_split(train_df_0[goodfeatures0],train_df_0['log_meter_reading'],test_size=0.3,shuffle=False)\n",
    "\n",
    "lgbm = LGBMRegressor(**best_params)\n",
    "categorical_features0 = ['building_id','season','day', 'primary_use']"
   ]
  },
  {
   "cell_type": "code",
   "execution_count": 102,
   "id": "12c3f588",
   "metadata": {},
   "outputs": [
    {
     "name": "stderr",
     "output_type": "stream",
     "text": [
      "/home/ubuntu/.local/lib/python3.10/site-packages/lightgbm/sklearn.py:726: UserWarning: 'early_stopping_rounds' argument is deprecated and will be removed in a future release of LightGBM. Pass 'early_stopping()' callback via 'callbacks' argument instead.\n",
      "  _log_warning(\"'early_stopping_rounds' argument is deprecated and will be removed in a future release of LightGBM. \"\n",
      "/home/ubuntu/.local/lib/python3.10/site-packages/lightgbm/basic.py:2065: UserWarning: Using categorical_feature in Dataset.\n",
      "  _log_warning('Using categorical_feature in Dataset.')\n",
      "/home/ubuntu/.local/lib/python3.10/site-packages/lightgbm/basic.py:2068: UserWarning: categorical_feature in Dataset is overridden.\n",
      "New categorical_feature is ['building_id', 'day', 'primary_use', 'season']\n",
      "  _log_warning('categorical_feature in Dataset is overridden.\\n'\n"
     ]
    },
    {
     "name": "stdout",
     "output_type": "stream",
     "text": [
      "[LightGBM] [Warning] Unknown parameter: eval_metric\n",
      "[LightGBM] [Warning] feature_fraction is set=0.85, colsample_bytree=1.0 will be ignored. Current value: feature_fraction=0.85\n",
      "[LightGBM] [Warning] min_data_in_leaf is set=1000, min_child_samples=20 will be ignored. Current value: min_data_in_leaf=1000\n"
     ]
    },
    {
     "name": "stderr",
     "output_type": "stream",
     "text": [
      "/home/ubuntu/.local/lib/python3.10/site-packages/lightgbm/basic.py:1780: UserWarning: Overriding the parameters from Reference Dataset.\n",
      "  _log_warning('Overriding the parameters from Reference Dataset.')\n",
      "/home/ubuntu/.local/lib/python3.10/site-packages/lightgbm/basic.py:1513: UserWarning: categorical_column in param dict is overridden.\n",
      "  _log_warning(f'{cat_alias} in param dict is overridden.')\n"
     ]
    },
    {
     "name": "stdout",
     "output_type": "stream",
     "text": [
      "[1]\tvalid_0's l2: 1.99632\n",
      "[2]\tvalid_0's l2: 1.69106\n",
      "[3]\tvalid_0's l2: 1.45898\n",
      "[4]\tvalid_0's l2: 1.24945\n",
      "[5]\tvalid_0's l2: 1.08037\n",
      "[6]\tvalid_0's l2: 0.950448\n",
      "[7]\tvalid_0's l2: 0.838207\n",
      "[8]\tvalid_0's l2: 0.74844\n",
      "[9]\tvalid_0's l2: 0.674846\n",
      "[10]\tvalid_0's l2: 0.612719\n",
      "[11]\tvalid_0's l2: 0.563104\n",
      "[12]\tvalid_0's l2: 0.524071\n",
      "[13]\tvalid_0's l2: 0.49098\n",
      "[14]\tvalid_0's l2: 0.465191\n",
      "[15]\tvalid_0's l2: 0.443533\n",
      "[16]\tvalid_0's l2: 0.426648\n",
      "[17]\tvalid_0's l2: 0.415881\n",
      "[18]\tvalid_0's l2: 0.404582\n",
      "[19]\tvalid_0's l2: 0.39501\n",
      "[20]\tvalid_0's l2: 0.388643\n",
      "[21]\tvalid_0's l2: 0.382378\n",
      "[22]\tvalid_0's l2: 0.376824\n",
      "[23]\tvalid_0's l2: 0.37314\n",
      "[24]\tvalid_0's l2: 0.369628\n",
      "[25]\tvalid_0's l2: 0.367598\n",
      "[26]\tvalid_0's l2: 0.365777\n",
      "[27]\tvalid_0's l2: 0.363631\n",
      "[28]\tvalid_0's l2: 0.362913\n",
      "[29]\tvalid_0's l2: 0.362038\n",
      "[30]\tvalid_0's l2: 0.361322\n",
      "[31]\tvalid_0's l2: 0.360034\n",
      "[32]\tvalid_0's l2: 0.360538\n",
      "[33]\tvalid_0's l2: 0.360391\n",
      "[34]\tvalid_0's l2: 0.36025\n",
      "[35]\tvalid_0's l2: 0.36003\n",
      "[36]\tvalid_0's l2: 0.360226\n",
      "[37]\tvalid_0's l2: 0.360639\n",
      "[38]\tvalid_0's l2: 0.360388\n",
      "[39]\tvalid_0's l2: 0.360061\n",
      "[40]\tvalid_0's l2: 0.360307\n",
      "[41]\tvalid_0's l2: 0.360576\n",
      "[42]\tvalid_0's l2: 0.360415\n",
      "[43]\tvalid_0's l2: 0.360369\n",
      "[44]\tvalid_0's l2: 0.360262\n",
      "[45]\tvalid_0's l2: 0.36086\n",
      "[46]\tvalid_0's l2: 0.361177\n",
      "[47]\tvalid_0's l2: 0.360522\n",
      "[48]\tvalid_0's l2: 0.360503\n",
      "[49]\tvalid_0's l2: 0.360503\n",
      "[50]\tvalid_0's l2: 0.360045\n",
      "[51]\tvalid_0's l2: 0.360126\n",
      "[52]\tvalid_0's l2: 0.35947\n",
      "[53]\tvalid_0's l2: 0.359142\n",
      "[54]\tvalid_0's l2: 0.35936\n",
      "[55]\tvalid_0's l2: 0.359093\n",
      "[56]\tvalid_0's l2: 0.359259\n",
      "[57]\tvalid_0's l2: 0.359405\n",
      "[58]\tvalid_0's l2: 0.359575\n",
      "[59]\tvalid_0's l2: 0.359698\n",
      "[60]\tvalid_0's l2: 0.360003\n",
      "[61]\tvalid_0's l2: 0.36058\n",
      "[62]\tvalid_0's l2: 0.360796\n",
      "[63]\tvalid_0's l2: 0.360596\n",
      "[64]\tvalid_0's l2: 0.360778\n",
      "[65]\tvalid_0's l2: 0.361319\n",
      "[66]\tvalid_0's l2: 0.361507\n",
      "[67]\tvalid_0's l2: 0.361695\n",
      "[68]\tvalid_0's l2: 0.361732\n",
      "[69]\tvalid_0's l2: 0.361654\n",
      "[70]\tvalid_0's l2: 0.361621\n",
      "[71]\tvalid_0's l2: 0.361895\n",
      "[72]\tvalid_0's l2: 0.361241\n",
      "[73]\tvalid_0's l2: 0.361332\n",
      "[74]\tvalid_0's l2: 0.361248\n",
      "[75]\tvalid_0's l2: 0.361\n",
      "[76]\tvalid_0's l2: 0.360789\n",
      "[77]\tvalid_0's l2: 0.360859\n",
      "[78]\tvalid_0's l2: 0.361166\n",
      "[79]\tvalid_0's l2: 0.361204\n",
      "[80]\tvalid_0's l2: 0.361254\n",
      "[81]\tvalid_0's l2: 0.361238\n",
      "[82]\tvalid_0's l2: 0.361595\n",
      "[83]\tvalid_0's l2: 0.361848\n",
      "[84]\tvalid_0's l2: 0.361935\n",
      "[85]\tvalid_0's l2: 0.362166\n",
      "[86]\tvalid_0's l2: 0.3619\n",
      "[87]\tvalid_0's l2: 0.361842\n",
      "[88]\tvalid_0's l2: 0.361853\n",
      "[89]\tvalid_0's l2: 0.362128\n",
      "[90]\tvalid_0's l2: 0.362075\n",
      "[91]\tvalid_0's l2: 0.362177\n",
      "[92]\tvalid_0's l2: 0.36218\n",
      "[93]\tvalid_0's l2: 0.362163\n",
      "[94]\tvalid_0's l2: 0.362287\n",
      "[95]\tvalid_0's l2: 0.362226\n",
      "[96]\tvalid_0's l2: 0.362305\n",
      "[97]\tvalid_0's l2: 0.3626\n",
      "[98]\tvalid_0's l2: 0.362594\n",
      "[99]\tvalid_0's l2: 0.362636\n",
      "[100]\tvalid_0's l2: 0.362759\n"
     ]
    },
    {
     "data": {
      "text/plain": [
       "LGBMRegressor(boosting_type='goss', eval_metric='rmse', feature_fraction=0.85,\n",
       "              min_data_in_leaf=1000, num_leaves=500, reg_alpha=1)"
      ]
     },
     "execution_count": 102,
     "metadata": {},
     "output_type": "execute_result"
    }
   ],
   "source": [
    "lgbm.fit(X=X_train, y=y_train,categorical_feature=categorical_features0, eval_set = (X_test, y_test), early_stopping_rounds=50)"
   ]
  },
  {
   "cell_type": "code",
   "execution_count": 103,
   "id": "f79ea06a",
   "metadata": {},
   "outputs": [],
   "source": [
    "meter0_prediction=lgbm.predict(test_df_0[goodfeatures0])"
   ]
  },
  {
   "cell_type": "code",
   "execution_count": 104,
   "id": "e039655a",
   "metadata": {},
   "outputs": [
    {
     "name": "stderr",
     "output_type": "stream",
     "text": [
      "/home/ubuntu/.local/lib/python3.10/site-packages/seaborn/distributions.py:2619: FutureWarning: `distplot` is a deprecated function and will be removed in a future version. Please adapt your code to use either `displot` (a figure-level function with similar flexibility) or `histplot` (an axes-level function for histograms).\n",
      "  warnings.warn(msg, FutureWarning)\n"
     ]
    },
    {
     "data": {
      "text/plain": [
       "<AxesSubplot:ylabel='Density'>"
      ]
     },
     "execution_count": 104,
     "metadata": {},
     "output_type": "execute_result"
    },
    {
     "data": {
      "image/png": "[encoded data removed]",
      "text/plain": [
       "<Figure size 432x288 with 1 Axes>"
      ]
     },
     "metadata": {
      "needs_background": "light"
     },
     "output_type": "display_data"
    }
   ],
   "source": [
    "sns.distplot(meter0_prediction)"
   ]
  },
  {
   "cell_type": "code",
   "execution_count": 105,
   "id": "73e8fbfc",
   "metadata": {},
   "outputs": [
    {
     "name": "stderr",
     "output_type": "stream",
     "text": [
      "/tmp/ipykernel_2062/1436111146.py:1: SettingWithCopyWarning: \n",
      "A value is trying to be set on a copy of a slice from a DataFrame.\n",
      "Try using .loc[row_indexer,col_indexer] = value instead\n",
      "\n",
      "See the caveats in the documentation: https://pandas.pydata.org/pandas-docs/stable/user_guide/indexing.html#returning-a-view-versus-a-copy\n",
      "  test_df_0['meter_reading'] = np.expm1(meter0_prediction)\n"
     ]
    }
   ],
   "source": [
    "test_df_0['meter_reading'] = np.expm1(meter0_prediction)"
   ]
  },
  {
   "cell_type": "markdown",
   "id": "1e461e3b",
   "metadata": {},
   "source": [
    "#### Hyperparameters Tuning for Meter 1, 2 and 3"
   ]
  },
  {
   "cell_type": "code",
   "execution_count": 106,
   "id": "a0c2c41c",
   "metadata": {},
   "outputs": [],
   "source": [
    "def save_best_params(df_ls):\n",
    "    \n",
    "    best_params_meter1 = []\n",
    "    best_params_meter2 = []\n",
    "    best_params_meter3 = []\n",
    "    \n",
    "    for count, dataframe in enumerate(df_ls):\n",
    "        \n",
    "        train_sample = dataframe.head(200_000)\n",
    "        y = train_sample['log_meter_reading']\n",
    "        \n",
    "        if count == 0:\n",
    "            X = train_sample[goodfeatures1]\n",
    "            best_params,best_train_score,test_score = eval_LGBM_model_peformance(X,y)   \n",
    "            best_params_meter1.append(best_params)\n",
    "            print(f'Dataset with Meter 1 best training score{best_train_score}')\n",
    "            print(f'Dataset with Meter 1 testing score{test_score}')\n",
    "        \n",
    "        elif count ==1:\n",
    "            X = train_sample[goodfeatures2]\n",
    "            best_params,best_train_score,test_score = eval_LGBM_model_peformance(X,y)   \n",
    "            best_params_meter2.append(best_params)\n",
    "            print(f'Dataset with Meter 2 best training score{best_train_score}')\n",
    "            print(f'Dataset with Meter 2 testing score{test_score}')\n",
    "        \n",
    "        else:\n",
    "            X = train_sample[goodfeatures3]\n",
    "            best_params,best_train_score,test_score = eval_LGBM_model_peformance(X,y)   \n",
    "            best_params_meter3.append(best_params)\n",
    "            print(f'Dataset with Meter 3 best training score{best_train_score}')\n",
    "            print(f'Dataset with Meter 3 testing score{test_score}')\n",
    "        \n",
    "    return best_params_meter1, best_params_meter2, best_params_meter3\n",
    "    "
   ]
  },
  {
   "cell_type": "code",
   "execution_count": 119,
   "id": "c916101a",
   "metadata": {},
   "outputs": [
    {
     "name": "stdout",
     "output_type": "stream",
     "text": [
      "Fitting 2 folds for each of 9 candidates, totalling 18 fits\n"
     ]
    },
    {
     "name": "stderr",
     "output_type": "stream",
     "text": [
      "/home/ubuntu/.local/lib/python3.10/site-packages/lightgbm/engine.py:177: UserWarning: Found `max_iter` in params. Will use it instead of argument\n",
      "  _log_warning(f\"Found `{alias}` in params. Will use it instead of argument\")\n",
      "/home/ubuntu/.local/lib/python3.10/site-packages/lightgbm/engine.py:177: UserWarning: Found `max_iter` in params. Will use it instead of argument\n",
      "  _log_warning(f\"Found `{alias}` in params. Will use it instead of argument\")\n"
     ]
    },
    {
     "name": "stdout",
     "output_type": "stream",
     "text": [
      "[LightGBM] [Warning] feature_fraction is set=0.85, colsample_bytree=1.0 will be ignored. Current value: feature_fraction=0.85\n",
      "[LightGBM] [Warning] num_iterations is set=1000, max_iter=1000 will be ignored. Current value: num_iterations=1000\n",
      "[LightGBM] [Warning] min_data_in_leaf is set=1000, min_child_samples=20 will be ignored. Current value: min_data_in_leaf=1000\n"
     ]
    },
    {
     "name": "stderr",
     "output_type": "stream",
     "text": [
      "/home/ubuntu/.local/lib/python3.10/site-packages/lightgbm/engine.py:177: UserWarning: Found `max_iter` in params. Will use it instead of argument\n",
      "  _log_warning(f\"Found `{alias}` in params. Will use it instead of argument\")\n"
     ]
    },
    {
     "name": "stdout",
     "output_type": "stream",
     "text": [
      "[LightGBM] [Warning] feature_fraction is set=0.85, colsample_bytree=1.0 will be ignored. Current value: feature_fraction=0.85\n",
      "[LightGBM] [Warning] num_iterations is set=1000, max_iter=1000 will be ignored. Current value: num_iterations=1000\n",
      "[LightGBM] [Warning] min_data_in_leaf is set=1000, min_child_samples=20 will be ignored. Current value: min_data_in_leaf=1000\n"
     ]
    },
    {
     "name": "stderr",
     "output_type": "stream",
     "text": [
      "/home/ubuntu/.local/lib/python3.10/site-packages/lightgbm/engine.py:177: UserWarning: Found `max_iter` in params. Will use it instead of argument\n",
      "  _log_warning(f\"Found `{alias}` in params. Will use it instead of argument\")\n"
     ]
    },
    {
     "name": "stdout",
     "output_type": "stream",
     "text": [
      "[LightGBM] [Warning] feature_fraction is set=0.85, colsample_bytree=1.0 will be ignored. Current value: feature_fraction=0.85\n",
      "[LightGBM] [Warning] num_iterations is set=1000, max_iter=1000 will be ignored. Current value: num_iterations=1000\n",
      "[LightGBM] [Warning] min_data_in_leaf is set=1000, min_child_samples=20 will be ignored. Current value: min_data_in_leaf=1000\n"
     ]
    },
    {
     "name": "stderr",
     "output_type": "stream",
     "text": [
      "/home/ubuntu/.local/lib/python3.10/site-packages/lightgbm/engine.py:177: UserWarning: Found `max_iter` in params. Will use it instead of argument\n",
      "  _log_warning(f\"Found `{alias}` in params. Will use it instead of argument\")\n"
     ]
    },
    {
     "name": "stdout",
     "output_type": "stream",
     "text": [
      "[LightGBM] [Warning] feature_fraction is set=0.85, colsample_bytree=1.0 will be ignored. Current value: feature_fraction=0.85\n",
      "[LightGBM] [Warning] num_iterations is set=1000, max_iter=1000 will be ignored. Current value: num_iterations=1000\n",
      "[LightGBM] [Warning] min_data_in_leaf is set=1000, min_child_samples=20 will be ignored. Current value: min_data_in_leaf=1000\n"
     ]
    },
    {
     "name": "stderr",
     "output_type": "stream",
     "text": [
      "/home/ubuntu/.local/lib/python3.10/site-packages/lightgbm/engine.py:177: UserWarning: Found `max_iter` in params. Will use it instead of argument\n",
      "  _log_warning(f\"Found `{alias}` in params. Will use it instead of argument\")\n"
     ]
    },
    {
     "name": "stdout",
     "output_type": "stream",
     "text": [
      "[LightGBM] [Warning] feature_fraction is set=0.85, colsample_bytree=1.0 will be ignored. Current value: feature_fraction=0.85\n",
      "[LightGBM] [Warning] num_iterations is set=1000, max_iter=1000 will be ignored. Current value: num_iterations=1000\n",
      "[LightGBM] [Warning] min_data_in_leaf is set=1000, min_child_samples=20 will be ignored. Current value: min_data_in_leaf=1000\n"
     ]
    },
    {
     "name": "stderr",
     "output_type": "stream",
     "text": [
      "/home/ubuntu/.local/lib/python3.10/site-packages/lightgbm/engine.py:177: UserWarning: Found `max_iter` in params. Will use it instead of argument\n",
      "  _log_warning(f\"Found `{alias}` in params. Will use it instead of argument\")\n"
     ]
    },
    {
     "name": "stdout",
     "output_type": "stream",
     "text": [
      "[LightGBM] [Warning] feature_fraction is set=0.85, colsample_bytree=1.0 will be ignored. Current value: feature_fraction=0.85\n",
      "[LightGBM] [Warning] num_iterations is set=1000, max_iter=1000 will be ignored. Current value: num_iterations=1000\n",
      "[LightGBM] [Warning] min_data_in_leaf is set=1000, min_child_samples=20 will be ignored. Current value: min_data_in_leaf=1000\n"
     ]
    },
    {
     "name": "stderr",
     "output_type": "stream",
     "text": [
      "/home/ubuntu/.local/lib/python3.10/site-packages/lightgbm/engine.py:177: UserWarning: Found `max_iter` in params. Will use it instead of argument\n",
      "  _log_warning(f\"Found `{alias}` in params. Will use it instead of argument\")\n"
     ]
    },
    {
     "name": "stdout",
     "output_type": "stream",
     "text": [
      "[LightGBM] [Warning] feature_fraction is set=0.85, colsample_bytree=1.0 will be ignored. Current value: feature_fraction=0.85\n",
      "[LightGBM] [Warning] num_iterations is set=1000, max_iter=1000 will be ignored. Current value: num_iterations=1000\n",
      "[LightGBM] [Warning] min_data_in_leaf is set=1000, min_child_samples=20 will be ignored. Current value: min_data_in_leaf=1000\n"
     ]
    },
    {
     "name": "stderr",
     "output_type": "stream",
     "text": [
      "/home/ubuntu/.local/lib/python3.10/site-packages/lightgbm/engine.py:177: UserWarning: Found `max_iter` in params. Will use it instead of argument\n",
      "  _log_warning(f\"Found `{alias}` in params. Will use it instead of argument\")\n"
     ]
    },
    {
     "name": "stdout",
     "output_type": "stream",
     "text": [
      "[LightGBM] [Warning] feature_fraction is set=0.85, colsample_bytree=1.0 will be ignored. Current value: feature_fraction=0.85\n",
      "[LightGBM] [Warning] num_iterations is set=1000, max_iter=1000 will be ignored. Current value: num_iterations=1000\n",
      "[LightGBM] [Warning] min_data_in_leaf is set=1000, min_child_samples=20 will be ignored. Current value: min_data_in_leaf=1000\n"
     ]
    },
    {
     "name": "stderr",
     "output_type": "stream",
     "text": [
      "/home/ubuntu/.local/lib/python3.10/site-packages/lightgbm/engine.py:177: UserWarning: Found `max_iter` in params. Will use it instead of argument\n",
      "  _log_warning(f\"Found `{alias}` in params. Will use it instead of argument\")\n"
     ]
    },
    {
     "name": "stdout",
     "output_type": "stream",
     "text": [
      "[LightGBM] [Warning] feature_fraction is set=0.85, colsample_bytree=1.0 will be ignored. Current value: feature_fraction=0.85\n",
      "[LightGBM] [Warning] num_iterations is set=1000, max_iter=1000 will be ignored. Current value: num_iterations=1000\n",
      "[LightGBM] [Warning] min_data_in_leaf is set=1000, min_child_samples=20 will be ignored. Current value: min_data_in_leaf=1000\n"
     ]
    },
    {
     "name": "stderr",
     "output_type": "stream",
     "text": [
      "/home/ubuntu/.local/lib/python3.10/site-packages/lightgbm/engine.py:177: UserWarning: Found `max_iter` in params. Will use it instead of argument\n",
      "  _log_warning(f\"Found `{alias}` in params. Will use it instead of argument\")\n"
     ]
    },
    {
     "name": "stdout",
     "output_type": "stream",
     "text": [
      "[LightGBM] [Warning] feature_fraction is set=0.85, colsample_bytree=1.0 will be ignored. Current value: feature_fraction=0.85\n",
      "[LightGBM] [Warning] num_iterations is set=1000, max_iter=1000 will be ignored. Current value: num_iterations=1000\n",
      "[LightGBM] [Warning] min_data_in_leaf is set=1000, min_child_samples=20 will be ignored. Current value: min_data_in_leaf=1000\n"
     ]
    },
    {
     "name": "stderr",
     "output_type": "stream",
     "text": [
      "/home/ubuntu/.local/lib/python3.10/site-packages/lightgbm/engine.py:177: UserWarning: Found `max_iter` in params. Will use it instead of argument\n",
      "  _log_warning(f\"Found `{alias}` in params. Will use it instead of argument\")\n"
     ]
    },
    {
     "name": "stdout",
     "output_type": "stream",
     "text": [
      "[LightGBM] [Warning] feature_fraction is set=0.85, colsample_bytree=1.0 will be ignored. Current value: feature_fraction=0.85\n",
      "[LightGBM] [Warning] num_iterations is set=1000, max_iter=1000 will be ignored. Current value: num_iterations=1000\n",
      "[LightGBM] [Warning] min_data_in_leaf is set=1000, min_child_samples=20 will be ignored. Current value: min_data_in_leaf=1000\n"
     ]
    },
    {
     "name": "stderr",
     "output_type": "stream",
     "text": [
      "/home/ubuntu/.local/lib/python3.10/site-packages/lightgbm/engine.py:177: UserWarning: Found `max_iter` in params. Will use it instead of argument\n",
      "  _log_warning(f\"Found `{alias}` in params. Will use it instead of argument\")\n"
     ]
    },
    {
     "name": "stdout",
     "output_type": "stream",
     "text": [
      "[LightGBM] [Warning] feature_fraction is set=0.85, colsample_bytree=1.0 will be ignored. Current value: feature_fraction=0.85\n",
      "[LightGBM] [Warning] num_iterations is set=1000, max_iter=1000 will be ignored. Current value: num_iterations=1000\n",
      "[LightGBM] [Warning] min_data_in_leaf is set=1000, min_child_samples=20 will be ignored. Current value: min_data_in_leaf=1000\n"
     ]
    },
    {
     "name": "stderr",
     "output_type": "stream",
     "text": [
      "/home/ubuntu/.local/lib/python3.10/site-packages/lightgbm/engine.py:177: UserWarning: Found `max_iter` in params. Will use it instead of argument\n",
      "  _log_warning(f\"Found `{alias}` in params. Will use it instead of argument\")\n"
     ]
    },
    {
     "name": "stdout",
     "output_type": "stream",
     "text": [
      "[LightGBM] [Warning] feature_fraction is set=0.85, colsample_bytree=1.0 will be ignored. Current value: feature_fraction=0.85\n",
      "[LightGBM] [Warning] num_iterations is set=1000, max_iter=1000 will be ignored. Current value: num_iterations=1000\n",
      "[LightGBM] [Warning] min_data_in_leaf is set=1000, min_child_samples=20 will be ignored. Current value: min_data_in_leaf=1000\n"
     ]
    },
    {
     "name": "stderr",
     "output_type": "stream",
     "text": [
      "/home/ubuntu/.local/lib/python3.10/site-packages/lightgbm/engine.py:177: UserWarning: Found `max_iter` in params. Will use it instead of argument\n",
      "  _log_warning(f\"Found `{alias}` in params. Will use it instead of argument\")\n"
     ]
    },
    {
     "name": "stdout",
     "output_type": "stream",
     "text": [
      "[LightGBM] [Warning] feature_fraction is set=0.85, colsample_bytree=1.0 will be ignored. Current value: feature_fraction=0.85\n",
      "[LightGBM] [Warning] num_iterations is set=1000, max_iter=1000 will be ignored. Current value: num_iterations=1000\n",
      "[LightGBM] [Warning] min_data_in_leaf is set=1000, min_child_samples=20 will be ignored. Current value: min_data_in_leaf=1000\n"
     ]
    },
    {
     "name": "stderr",
     "output_type": "stream",
     "text": [
      "/home/ubuntu/.local/lib/python3.10/site-packages/lightgbm/engine.py:177: UserWarning: Found `max_iter` in params. Will use it instead of argument\n",
      "  _log_warning(f\"Found `{alias}` in params. Will use it instead of argument\")\n"
     ]
    },
    {
     "name": "stdout",
     "output_type": "stream",
     "text": [
      "[LightGBM] [Warning] feature_fraction is set=0.85, colsample_bytree=1.0 will be ignored. Current value: feature_fraction=0.85\n",
      "[LightGBM] [Warning] num_iterations is set=1000, max_iter=1000 will be ignored. Current value: num_iterations=1000\n",
      "[LightGBM] [Warning] min_data_in_leaf is set=1000, min_child_samples=20 will be ignored. Current value: min_data_in_leaf=1000\n"
     ]
    },
    {
     "name": "stderr",
     "output_type": "stream",
     "text": [
      "/home/ubuntu/.local/lib/python3.10/site-packages/lightgbm/engine.py:177: UserWarning: Found `max_iter` in params. Will use it instead of argument\n",
      "  _log_warning(f\"Found `{alias}` in params. Will use it instead of argument\")\n"
     ]
    },
    {
     "name": "stdout",
     "output_type": "stream",
     "text": [
      "[LightGBM] [Warning] feature_fraction is set=0.85, colsample_bytree=1.0 will be ignored. Current value: feature_fraction=0.85\n",
      "[LightGBM] [Warning] num_iterations is set=1000, max_iter=1000 will be ignored. Current value: num_iterations=1000\n",
      "[LightGBM] [Warning] min_data_in_leaf is set=1000, min_child_samples=20 will be ignored. Current value: min_data_in_leaf=1000\n"
     ]
    },
    {
     "name": "stderr",
     "output_type": "stream",
     "text": [
      "/home/ubuntu/.local/lib/python3.10/site-packages/lightgbm/engine.py:177: UserWarning: Found `max_iter` in params. Will use it instead of argument\n",
      "  _log_warning(f\"Found `{alias}` in params. Will use it instead of argument\")\n"
     ]
    },
    {
     "name": "stdout",
     "output_type": "stream",
     "text": [
      "[LightGBM] [Warning] feature_fraction is set=0.85, colsample_bytree=1.0 will be ignored. Current value: feature_fraction=0.85\n",
      "[LightGBM] [Warning] num_iterations is set=1000, max_iter=1000 will be ignored. Current value: num_iterations=1000\n",
      "[LightGBM] [Warning] min_data_in_leaf is set=1000, min_child_samples=20 will be ignored. Current value: min_data_in_leaf=1000\n"
     ]
    },
    {
     "name": "stderr",
     "output_type": "stream",
     "text": [
      "/home/ubuntu/.local/lib/python3.10/site-packages/lightgbm/engine.py:177: UserWarning: Found `max_iter` in params. Will use it instead of argument\n",
      "  _log_warning(f\"Found `{alias}` in params. Will use it instead of argument\")\n"
     ]
    },
    {
     "name": "stdout",
     "output_type": "stream",
     "text": [
      "[LightGBM] [Warning] feature_fraction is set=0.85, colsample_bytree=1.0 will be ignored. Current value: feature_fraction=0.85\n",
      "[LightGBM] [Warning] num_iterations is set=1000, max_iter=1000 will be ignored. Current value: num_iterations=1000\n",
      "[LightGBM] [Warning] min_data_in_leaf is set=1000, min_child_samples=20 will be ignored. Current value: min_data_in_leaf=1000\n",
      "Dataset with Meter 1 best training score0.7958877160444893\n",
      "Dataset with Meter 1 testing score0.8802431726819719\n",
      "Fitting 2 folds for each of 9 candidates, totalling 18 fits\n",
      "[LightGBM] [Warning] feature_fraction is set=0.85, colsample_bytree=1.0 will be ignored. Current value: feature_fraction=0.85\n",
      "[LightGBM] [Warning] num_iterations is set=1000, max_iter=1000 will be ignored. Current value: num_iterations=1000\n",
      "[LightGBM] [Warning] min_data_in_leaf is set=1000, min_child_samples=20 will be ignored. Current value: min_data_in_leaf=1000\n"
     ]
    },
    {
     "name": "stderr",
     "output_type": "stream",
     "text": [
      "/home/ubuntu/.local/lib/python3.10/site-packages/lightgbm/engine.py:177: UserWarning: Found `max_iter` in params. Will use it instead of argument\n",
      "  _log_warning(f\"Found `{alias}` in params. Will use it instead of argument\")\n",
      "/home/ubuntu/.local/lib/python3.10/site-packages/lightgbm/engine.py:177: UserWarning: Found `max_iter` in params. Will use it instead of argument\n",
      "  _log_warning(f\"Found `{alias}` in params. Will use it instead of argument\")\n"
     ]
    },
    {
     "name": "stdout",
     "output_type": "stream",
     "text": [
      "[LightGBM] [Warning] feature_fraction is set=0.85, colsample_bytree=1.0 will be ignored. Current value: feature_fraction=0.85\n",
      "[LightGBM] [Warning] num_iterations is set=1000, max_iter=1000 will be ignored. Current value: num_iterations=1000\n",
      "[LightGBM] [Warning] min_data_in_leaf is set=1000, min_child_samples=20 will be ignored. Current value: min_data_in_leaf=1000\n"
     ]
    },
    {
     "name": "stderr",
     "output_type": "stream",
     "text": [
      "/home/ubuntu/.local/lib/python3.10/site-packages/lightgbm/engine.py:177: UserWarning: Found `max_iter` in params. Will use it instead of argument\n",
      "  _log_warning(f\"Found `{alias}` in params. Will use it instead of argument\")\n"
     ]
    },
    {
     "name": "stdout",
     "output_type": "stream",
     "text": [
      "[LightGBM] [Warning] feature_fraction is set=0.85, colsample_bytree=1.0 will be ignored. Current value: feature_fraction=0.85\n",
      "[LightGBM] [Warning] num_iterations is set=1000, max_iter=1000 will be ignored. Current value: num_iterations=1000\n",
      "[LightGBM] [Warning] min_data_in_leaf is set=1000, min_child_samples=20 will be ignored. Current value: min_data_in_leaf=1000\n"
     ]
    },
    {
     "name": "stderr",
     "output_type": "stream",
     "text": [
      "/home/ubuntu/.local/lib/python3.10/site-packages/lightgbm/engine.py:177: UserWarning: Found `max_iter` in params. Will use it instead of argument\n",
      "  _log_warning(f\"Found `{alias}` in params. Will use it instead of argument\")\n"
     ]
    },
    {
     "name": "stdout",
     "output_type": "stream",
     "text": [
      "[LightGBM] [Warning] feature_fraction is set=0.85, colsample_bytree=1.0 will be ignored. Current value: feature_fraction=0.85\n",
      "[LightGBM] [Warning] num_iterations is set=1000, max_iter=1000 will be ignored. Current value: num_iterations=1000\n",
      "[LightGBM] [Warning] min_data_in_leaf is set=1000, min_child_samples=20 will be ignored. Current value: min_data_in_leaf=1000\n"
     ]
    },
    {
     "name": "stderr",
     "output_type": "stream",
     "text": [
      "/home/ubuntu/.local/lib/python3.10/site-packages/lightgbm/engine.py:177: UserWarning: Found `max_iter` in params. Will use it instead of argument\n",
      "  _log_warning(f\"Found `{alias}` in params. Will use it instead of argument\")\n"
     ]
    },
    {
     "name": "stdout",
     "output_type": "stream",
     "text": [
      "[LightGBM] [Warning] feature_fraction is set=0.85, colsample_bytree=1.0 will be ignored. Current value: feature_fraction=0.85\n",
      "[LightGBM] [Warning] num_iterations is set=1000, max_iter=1000 will be ignored. Current value: num_iterations=1000\n",
      "[LightGBM] [Warning] min_data_in_leaf is set=1000, min_child_samples=20 will be ignored. Current value: min_data_in_leaf=1000\n"
     ]
    },
    {
     "name": "stderr",
     "output_type": "stream",
     "text": [
      "/home/ubuntu/.local/lib/python3.10/site-packages/lightgbm/engine.py:177: UserWarning: Found `max_iter` in params. Will use it instead of argument\n",
      "  _log_warning(f\"Found `{alias}` in params. Will use it instead of argument\")\n"
     ]
    },
    {
     "name": "stdout",
     "output_type": "stream",
     "text": [
      "[LightGBM] [Warning] feature_fraction is set=0.85, colsample_bytree=1.0 will be ignored. Current value: feature_fraction=0.85\n",
      "[LightGBM] [Warning] num_iterations is set=1000, max_iter=1000 will be ignored. Current value: num_iterations=1000\n",
      "[LightGBM] [Warning] min_data_in_leaf is set=1000, min_child_samples=20 will be ignored. Current value: min_data_in_leaf=1000\n"
     ]
    },
    {
     "name": "stderr",
     "output_type": "stream",
     "text": [
      "/home/ubuntu/.local/lib/python3.10/site-packages/lightgbm/engine.py:177: UserWarning: Found `max_iter` in params. Will use it instead of argument\n",
      "  _log_warning(f\"Found `{alias}` in params. Will use it instead of argument\")\n"
     ]
    },
    {
     "name": "stdout",
     "output_type": "stream",
     "text": [
      "[LightGBM] [Warning] feature_fraction is set=0.85, colsample_bytree=1.0 will be ignored. Current value: feature_fraction=0.85\n",
      "[LightGBM] [Warning] num_iterations is set=1000, max_iter=1000 will be ignored. Current value: num_iterations=1000\n",
      "[LightGBM] [Warning] min_data_in_leaf is set=1000, min_child_samples=20 will be ignored. Current value: min_data_in_leaf=1000\n"
     ]
    },
    {
     "name": "stderr",
     "output_type": "stream",
     "text": [
      "/home/ubuntu/.local/lib/python3.10/site-packages/lightgbm/engine.py:177: UserWarning: Found `max_iter` in params. Will use it instead of argument\n",
      "  _log_warning(f\"Found `{alias}` in params. Will use it instead of argument\")\n"
     ]
    },
    {
     "name": "stdout",
     "output_type": "stream",
     "text": [
      "[LightGBM] [Warning] feature_fraction is set=0.85, colsample_bytree=1.0 will be ignored. Current value: feature_fraction=0.85\n",
      "[LightGBM] [Warning] num_iterations is set=1000, max_iter=1000 will be ignored. Current value: num_iterations=1000\n",
      "[LightGBM] [Warning] min_data_in_leaf is set=1000, min_child_samples=20 will be ignored. Current value: min_data_in_leaf=1000\n"
     ]
    },
    {
     "name": "stderr",
     "output_type": "stream",
     "text": [
      "/home/ubuntu/.local/lib/python3.10/site-packages/lightgbm/engine.py:177: UserWarning: Found `max_iter` in params. Will use it instead of argument\n",
      "  _log_warning(f\"Found `{alias}` in params. Will use it instead of argument\")\n"
     ]
    },
    {
     "name": "stdout",
     "output_type": "stream",
     "text": [
      "[LightGBM] [Warning] feature_fraction is set=0.85, colsample_bytree=1.0 will be ignored. Current value: feature_fraction=0.85\n",
      "[LightGBM] [Warning] num_iterations is set=1000, max_iter=1000 will be ignored. Current value: num_iterations=1000\n",
      "[LightGBM] [Warning] min_data_in_leaf is set=1000, min_child_samples=20 will be ignored. Current value: min_data_in_leaf=1000\n"
     ]
    },
    {
     "name": "stderr",
     "output_type": "stream",
     "text": [
      "/home/ubuntu/.local/lib/python3.10/site-packages/lightgbm/engine.py:177: UserWarning: Found `max_iter` in params. Will use it instead of argument\n",
      "  _log_warning(f\"Found `{alias}` in params. Will use it instead of argument\")\n"
     ]
    },
    {
     "name": "stdout",
     "output_type": "stream",
     "text": [
      "[LightGBM] [Warning] feature_fraction is set=0.85, colsample_bytree=1.0 will be ignored. Current value: feature_fraction=0.85\n",
      "[LightGBM] [Warning] num_iterations is set=1000, max_iter=1000 will be ignored. Current value: num_iterations=1000\n",
      "[LightGBM] [Warning] min_data_in_leaf is set=1000, min_child_samples=20 will be ignored. Current value: min_data_in_leaf=1000\n"
     ]
    },
    {
     "name": "stderr",
     "output_type": "stream",
     "text": [
      "/home/ubuntu/.local/lib/python3.10/site-packages/lightgbm/engine.py:177: UserWarning: Found `max_iter` in params. Will use it instead of argument\n",
      "  _log_warning(f\"Found `{alias}` in params. Will use it instead of argument\")\n"
     ]
    },
    {
     "name": "stdout",
     "output_type": "stream",
     "text": [
      "[LightGBM] [Warning] feature_fraction is set=0.85, colsample_bytree=1.0 will be ignored. Current value: feature_fraction=0.85\n",
      "[LightGBM] [Warning] num_iterations is set=1000, max_iter=1000 will be ignored. Current value: num_iterations=1000\n",
      "[LightGBM] [Warning] min_data_in_leaf is set=1000, min_child_samples=20 will be ignored. Current value: min_data_in_leaf=1000\n"
     ]
    },
    {
     "name": "stderr",
     "output_type": "stream",
     "text": [
      "/home/ubuntu/.local/lib/python3.10/site-packages/lightgbm/engine.py:177: UserWarning: Found `max_iter` in params. Will use it instead of argument\n",
      "  _log_warning(f\"Found `{alias}` in params. Will use it instead of argument\")\n"
     ]
    },
    {
     "name": "stdout",
     "output_type": "stream",
     "text": [
      "[LightGBM] [Warning] feature_fraction is set=0.85, colsample_bytree=1.0 will be ignored. Current value: feature_fraction=0.85\n",
      "[LightGBM] [Warning] num_iterations is set=1000, max_iter=1000 will be ignored. Current value: num_iterations=1000\n",
      "[LightGBM] [Warning] min_data_in_leaf is set=1000, min_child_samples=20 will be ignored. Current value: min_data_in_leaf=1000\n"
     ]
    },
    {
     "name": "stderr",
     "output_type": "stream",
     "text": [
      "/home/ubuntu/.local/lib/python3.10/site-packages/lightgbm/engine.py:177: UserWarning: Found `max_iter` in params. Will use it instead of argument\n",
      "  _log_warning(f\"Found `{alias}` in params. Will use it instead of argument\")\n"
     ]
    },
    {
     "name": "stdout",
     "output_type": "stream",
     "text": [
      "[LightGBM] [Warning] feature_fraction is set=0.85, colsample_bytree=1.0 will be ignored. Current value: feature_fraction=0.85\n",
      "[LightGBM] [Warning] num_iterations is set=1000, max_iter=1000 will be ignored. Current value: num_iterations=1000\n",
      "[LightGBM] [Warning] min_data_in_leaf is set=1000, min_child_samples=20 will be ignored. Current value: min_data_in_leaf=1000\n"
     ]
    },
    {
     "name": "stderr",
     "output_type": "stream",
     "text": [
      "/home/ubuntu/.local/lib/python3.10/site-packages/lightgbm/engine.py:177: UserWarning: Found `max_iter` in params. Will use it instead of argument\n",
      "  _log_warning(f\"Found `{alias}` in params. Will use it instead of argument\")\n"
     ]
    },
    {
     "name": "stdout",
     "output_type": "stream",
     "text": [
      "[LightGBM] [Warning] feature_fraction is set=0.85, colsample_bytree=1.0 will be ignored. Current value: feature_fraction=0.85\n",
      "[LightGBM] [Warning] num_iterations is set=1000, max_iter=1000 will be ignored. Current value: num_iterations=1000\n",
      "[LightGBM] [Warning] min_data_in_leaf is set=1000, min_child_samples=20 will be ignored. Current value: min_data_in_leaf=1000\n"
     ]
    },
    {
     "name": "stderr",
     "output_type": "stream",
     "text": [
      "/home/ubuntu/.local/lib/python3.10/site-packages/lightgbm/engine.py:177: UserWarning: Found `max_iter` in params. Will use it instead of argument\n",
      "  _log_warning(f\"Found `{alias}` in params. Will use it instead of argument\")\n"
     ]
    },
    {
     "name": "stdout",
     "output_type": "stream",
     "text": [
      "[LightGBM] [Warning] feature_fraction is set=0.85, colsample_bytree=1.0 will be ignored. Current value: feature_fraction=0.85\n",
      "[LightGBM] [Warning] num_iterations is set=1000, max_iter=1000 will be ignored. Current value: num_iterations=1000\n",
      "[LightGBM] [Warning] min_data_in_leaf is set=1000, min_child_samples=20 will be ignored. Current value: min_data_in_leaf=1000\n"
     ]
    },
    {
     "name": "stderr",
     "output_type": "stream",
     "text": [
      "/home/ubuntu/.local/lib/python3.10/site-packages/lightgbm/engine.py:177: UserWarning: Found `max_iter` in params. Will use it instead of argument\n",
      "  _log_warning(f\"Found `{alias}` in params. Will use it instead of argument\")\n"
     ]
    },
    {
     "name": "stdout",
     "output_type": "stream",
     "text": [
      "[LightGBM] [Warning] feature_fraction is set=0.85, colsample_bytree=1.0 will be ignored. Current value: feature_fraction=0.85\n",
      "[LightGBM] [Warning] num_iterations is set=1000, max_iter=1000 will be ignored. Current value: num_iterations=1000\n",
      "[LightGBM] [Warning] min_data_in_leaf is set=1000, min_child_samples=20 will be ignored. Current value: min_data_in_leaf=1000\n"
     ]
    },
    {
     "name": "stderr",
     "output_type": "stream",
     "text": [
      "/home/ubuntu/.local/lib/python3.10/site-packages/lightgbm/engine.py:177: UserWarning: Found `max_iter` in params. Will use it instead of argument\n",
      "  _log_warning(f\"Found `{alias}` in params. Will use it instead of argument\")\n"
     ]
    },
    {
     "name": "stdout",
     "output_type": "stream",
     "text": [
      "[LightGBM] [Warning] feature_fraction is set=0.85, colsample_bytree=1.0 will be ignored. Current value: feature_fraction=0.85\n",
      "[LightGBM] [Warning] num_iterations is set=1000, max_iter=1000 will be ignored. Current value: num_iterations=1000\n",
      "[LightGBM] [Warning] min_data_in_leaf is set=1000, min_child_samples=20 will be ignored. Current value: min_data_in_leaf=1000\n"
     ]
    },
    {
     "name": "stderr",
     "output_type": "stream",
     "text": [
      "/home/ubuntu/.local/lib/python3.10/site-packages/lightgbm/engine.py:177: UserWarning: Found `max_iter` in params. Will use it instead of argument\n",
      "  _log_warning(f\"Found `{alias}` in params. Will use it instead of argument\")\n"
     ]
    },
    {
     "name": "stdout",
     "output_type": "stream",
     "text": [
      "[LightGBM] [Warning] feature_fraction is set=0.85, colsample_bytree=1.0 will be ignored. Current value: feature_fraction=0.85\n",
      "[LightGBM] [Warning] num_iterations is set=1000, max_iter=1000 will be ignored. Current value: num_iterations=1000\n",
      "[LightGBM] [Warning] min_data_in_leaf is set=1000, min_child_samples=20 will be ignored. Current value: min_data_in_leaf=1000\n"
     ]
    },
    {
     "name": "stderr",
     "output_type": "stream",
     "text": [
      "/home/ubuntu/.local/lib/python3.10/site-packages/lightgbm/engine.py:177: UserWarning: Found `max_iter` in params. Will use it instead of argument\n",
      "  _log_warning(f\"Found `{alias}` in params. Will use it instead of argument\")\n"
     ]
    },
    {
     "name": "stdout",
     "output_type": "stream",
     "text": [
      "[LightGBM] [Warning] feature_fraction is set=0.85, colsample_bytree=1.0 will be ignored. Current value: feature_fraction=0.85\n",
      "[LightGBM] [Warning] num_iterations is set=1000, max_iter=1000 will be ignored. Current value: num_iterations=1000\n",
      "[LightGBM] [Warning] min_data_in_leaf is set=1000, min_child_samples=20 will be ignored. Current value: min_data_in_leaf=1000\n",
      "Dataset with Meter 2 best training score0.7745044652991386\n",
      "Dataset with Meter 2 testing score0.6920939364288183\n",
      "Fitting 2 folds for each of 9 candidates, totalling 18 fits\n",
      "[LightGBM] [Warning] feature_fraction is set=0.85, colsample_bytree=1.0 will be ignored. Current value: feature_fraction=0.85\n",
      "[LightGBM] [Warning] num_iterations is set=1000, max_iter=1000 will be ignored. Current value: num_iterations=1000\n",
      "[LightGBM] [Warning] min_data_in_leaf is set=1000, min_child_samples=20 will be ignored. Current value: min_data_in_leaf=1000\n"
     ]
    },
    {
     "name": "stderr",
     "output_type": "stream",
     "text": [
      "/home/ubuntu/.local/lib/python3.10/site-packages/lightgbm/engine.py:177: UserWarning: Found `max_iter` in params. Will use it instead of argument\n",
      "  _log_warning(f\"Found `{alias}` in params. Will use it instead of argument\")\n",
      "/home/ubuntu/.local/lib/python3.10/site-packages/lightgbm/engine.py:177: UserWarning: Found `max_iter` in params. Will use it instead of argument\n",
      "  _log_warning(f\"Found `{alias}` in params. Will use it instead of argument\")\n"
     ]
    },
    {
     "name": "stdout",
     "output_type": "stream",
     "text": [
      "[LightGBM] [Warning] feature_fraction is set=0.85, colsample_bytree=1.0 will be ignored. Current value: feature_fraction=0.85\n",
      "[LightGBM] [Warning] num_iterations is set=1000, max_iter=1000 will be ignored. Current value: num_iterations=1000\n",
      "[LightGBM] [Warning] min_data_in_leaf is set=1000, min_child_samples=20 will be ignored. Current value: min_data_in_leaf=1000\n"
     ]
    },
    {
     "name": "stderr",
     "output_type": "stream",
     "text": [
      "/home/ubuntu/.local/lib/python3.10/site-packages/lightgbm/engine.py:177: UserWarning: Found `max_iter` in params. Will use it instead of argument\n",
      "  _log_warning(f\"Found `{alias}` in params. Will use it instead of argument\")\n"
     ]
    },
    {
     "name": "stdout",
     "output_type": "stream",
     "text": [
      "[LightGBM] [Warning] feature_fraction is set=0.85, colsample_bytree=1.0 will be ignored. Current value: feature_fraction=0.85\n",
      "[LightGBM] [Warning] num_iterations is set=1000, max_iter=1000 will be ignored. Current value: num_iterations=1000\n",
      "[LightGBM] [Warning] min_data_in_leaf is set=1000, min_child_samples=20 will be ignored. Current value: min_data_in_leaf=1000\n"
     ]
    },
    {
     "name": "stderr",
     "output_type": "stream",
     "text": [
      "/home/ubuntu/.local/lib/python3.10/site-packages/lightgbm/engine.py:177: UserWarning: Found `max_iter` in params. Will use it instead of argument\n",
      "  _log_warning(f\"Found `{alias}` in params. Will use it instead of argument\")\n"
     ]
    },
    {
     "name": "stdout",
     "output_type": "stream",
     "text": [
      "[LightGBM] [Warning] feature_fraction is set=0.85, colsample_bytree=1.0 will be ignored. Current value: feature_fraction=0.85\n",
      "[LightGBM] [Warning] num_iterations is set=1000, max_iter=1000 will be ignored. Current value: num_iterations=1000\n",
      "[LightGBM] [Warning] min_data_in_leaf is set=1000, min_child_samples=20 will be ignored. Current value: min_data_in_leaf=1000\n"
     ]
    },
    {
     "name": "stderr",
     "output_type": "stream",
     "text": [
      "/home/ubuntu/.local/lib/python3.10/site-packages/lightgbm/engine.py:177: UserWarning: Found `max_iter` in params. Will use it instead of argument\n",
      "  _log_warning(f\"Found `{alias}` in params. Will use it instead of argument\")\n"
     ]
    },
    {
     "name": "stdout",
     "output_type": "stream",
     "text": [
      "[LightGBM] [Warning] feature_fraction is set=0.85, colsample_bytree=1.0 will be ignored. Current value: feature_fraction=0.85\n",
      "[LightGBM] [Warning] num_iterations is set=1000, max_iter=1000 will be ignored. Current value: num_iterations=1000\n",
      "[LightGBM] [Warning] min_data_in_leaf is set=1000, min_child_samples=20 will be ignored. Current value: min_data_in_leaf=1000\n"
     ]
    },
    {
     "name": "stderr",
     "output_type": "stream",
     "text": [
      "/home/ubuntu/.local/lib/python3.10/site-packages/lightgbm/engine.py:177: UserWarning: Found `max_iter` in params. Will use it instead of argument\n",
      "  _log_warning(f\"Found `{alias}` in params. Will use it instead of argument\")\n"
     ]
    },
    {
     "name": "stdout",
     "output_type": "stream",
     "text": [
      "[LightGBM] [Warning] feature_fraction is set=0.85, colsample_bytree=1.0 will be ignored. Current value: feature_fraction=0.85\n",
      "[LightGBM] [Warning] num_iterations is set=1000, max_iter=1000 will be ignored. Current value: num_iterations=1000\n",
      "[LightGBM] [Warning] min_data_in_leaf is set=1000, min_child_samples=20 will be ignored. Current value: min_data_in_leaf=1000\n"
     ]
    },
    {
     "name": "stderr",
     "output_type": "stream",
     "text": [
      "/home/ubuntu/.local/lib/python3.10/site-packages/lightgbm/engine.py:177: UserWarning: Found `max_iter` in params. Will use it instead of argument\n",
      "  _log_warning(f\"Found `{alias}` in params. Will use it instead of argument\")\n"
     ]
    },
    {
     "name": "stdout",
     "output_type": "stream",
     "text": [
      "[LightGBM] [Warning] feature_fraction is set=0.85, colsample_bytree=1.0 will be ignored. Current value: feature_fraction=0.85\n",
      "[LightGBM] [Warning] num_iterations is set=1000, max_iter=1000 will be ignored. Current value: num_iterations=1000\n",
      "[LightGBM] [Warning] min_data_in_leaf is set=1000, min_child_samples=20 will be ignored. Current value: min_data_in_leaf=1000\n"
     ]
    },
    {
     "name": "stderr",
     "output_type": "stream",
     "text": [
      "/home/ubuntu/.local/lib/python3.10/site-packages/lightgbm/engine.py:177: UserWarning: Found `max_iter` in params. Will use it instead of argument\n",
      "  _log_warning(f\"Found `{alias}` in params. Will use it instead of argument\")\n"
     ]
    },
    {
     "name": "stdout",
     "output_type": "stream",
     "text": [
      "[LightGBM] [Warning] feature_fraction is set=0.85, colsample_bytree=1.0 will be ignored. Current value: feature_fraction=0.85\n",
      "[LightGBM] [Warning] num_iterations is set=1000, max_iter=1000 will be ignored. Current value: num_iterations=1000\n",
      "[LightGBM] [Warning] min_data_in_leaf is set=1000, min_child_samples=20 will be ignored. Current value: min_data_in_leaf=1000\n"
     ]
    },
    {
     "name": "stderr",
     "output_type": "stream",
     "text": [
      "/home/ubuntu/.local/lib/python3.10/site-packages/lightgbm/engine.py:177: UserWarning: Found `max_iter` in params. Will use it instead of argument\n",
      "  _log_warning(f\"Found `{alias}` in params. Will use it instead of argument\")\n"
     ]
    },
    {
     "name": "stdout",
     "output_type": "stream",
     "text": [
      "[LightGBM] [Warning] feature_fraction is set=0.85, colsample_bytree=1.0 will be ignored. Current value: feature_fraction=0.85\n",
      "[LightGBM] [Warning] num_iterations is set=1000, max_iter=1000 will be ignored. Current value: num_iterations=1000\n",
      "[LightGBM] [Warning] min_data_in_leaf is set=1000, min_child_samples=20 will be ignored. Current value: min_data_in_leaf=1000\n"
     ]
    },
    {
     "name": "stderr",
     "output_type": "stream",
     "text": [
      "/home/ubuntu/.local/lib/python3.10/site-packages/lightgbm/engine.py:177: UserWarning: Found `max_iter` in params. Will use it instead of argument\n",
      "  _log_warning(f\"Found `{alias}` in params. Will use it instead of argument\")\n"
     ]
    },
    {
     "name": "stdout",
     "output_type": "stream",
     "text": [
      "[LightGBM] [Warning] feature_fraction is set=0.85, colsample_bytree=1.0 will be ignored. Current value: feature_fraction=0.85\n",
      "[LightGBM] [Warning] num_iterations is set=1000, max_iter=1000 will be ignored. Current value: num_iterations=1000\n",
      "[LightGBM] [Warning] min_data_in_leaf is set=1000, min_child_samples=20 will be ignored. Current value: min_data_in_leaf=1000\n"
     ]
    },
    {
     "name": "stderr",
     "output_type": "stream",
     "text": [
      "/home/ubuntu/.local/lib/python3.10/site-packages/lightgbm/engine.py:177: UserWarning: Found `max_iter` in params. Will use it instead of argument\n",
      "  _log_warning(f\"Found `{alias}` in params. Will use it instead of argument\")\n"
     ]
    },
    {
     "name": "stdout",
     "output_type": "stream",
     "text": [
      "[LightGBM] [Warning] feature_fraction is set=0.85, colsample_bytree=1.0 will be ignored. Current value: feature_fraction=0.85\n",
      "[LightGBM] [Warning] num_iterations is set=1000, max_iter=1000 will be ignored. Current value: num_iterations=1000\n",
      "[LightGBM] [Warning] min_data_in_leaf is set=1000, min_child_samples=20 will be ignored. Current value: min_data_in_leaf=1000\n"
     ]
    },
    {
     "name": "stderr",
     "output_type": "stream",
     "text": [
      "/home/ubuntu/.local/lib/python3.10/site-packages/lightgbm/engine.py:177: UserWarning: Found `max_iter` in params. Will use it instead of argument\n",
      "  _log_warning(f\"Found `{alias}` in params. Will use it instead of argument\")\n"
     ]
    },
    {
     "name": "stdout",
     "output_type": "stream",
     "text": [
      "[LightGBM] [Warning] feature_fraction is set=0.85, colsample_bytree=1.0 will be ignored. Current value: feature_fraction=0.85\n",
      "[LightGBM] [Warning] num_iterations is set=1000, max_iter=1000 will be ignored. Current value: num_iterations=1000\n",
      "[LightGBM] [Warning] min_data_in_leaf is set=1000, min_child_samples=20 will be ignored. Current value: min_data_in_leaf=1000\n"
     ]
    },
    {
     "name": "stderr",
     "output_type": "stream",
     "text": [
      "/home/ubuntu/.local/lib/python3.10/site-packages/lightgbm/engine.py:177: UserWarning: Found `max_iter` in params. Will use it instead of argument\n",
      "  _log_warning(f\"Found `{alias}` in params. Will use it instead of argument\")\n"
     ]
    },
    {
     "name": "stdout",
     "output_type": "stream",
     "text": [
      "[LightGBM] [Warning] feature_fraction is set=0.85, colsample_bytree=1.0 will be ignored. Current value: feature_fraction=0.85\n",
      "[LightGBM] [Warning] num_iterations is set=1000, max_iter=1000 will be ignored. Current value: num_iterations=1000\n",
      "[LightGBM] [Warning] min_data_in_leaf is set=1000, min_child_samples=20 will be ignored. Current value: min_data_in_leaf=1000\n"
     ]
    },
    {
     "name": "stderr",
     "output_type": "stream",
     "text": [
      "/home/ubuntu/.local/lib/python3.10/site-packages/lightgbm/engine.py:177: UserWarning: Found `max_iter` in params. Will use it instead of argument\n",
      "  _log_warning(f\"Found `{alias}` in params. Will use it instead of argument\")\n"
     ]
    },
    {
     "name": "stdout",
     "output_type": "stream",
     "text": [
      "[LightGBM] [Warning] feature_fraction is set=0.85, colsample_bytree=1.0 will be ignored. Current value: feature_fraction=0.85\n",
      "[LightGBM] [Warning] num_iterations is set=1000, max_iter=1000 will be ignored. Current value: num_iterations=1000\n",
      "[LightGBM] [Warning] min_data_in_leaf is set=1000, min_child_samples=20 will be ignored. Current value: min_data_in_leaf=1000\n"
     ]
    },
    {
     "name": "stderr",
     "output_type": "stream",
     "text": [
      "/home/ubuntu/.local/lib/python3.10/site-packages/lightgbm/engine.py:177: UserWarning: Found `max_iter` in params. Will use it instead of argument\n",
      "  _log_warning(f\"Found `{alias}` in params. Will use it instead of argument\")\n"
     ]
    },
    {
     "name": "stdout",
     "output_type": "stream",
     "text": [
      "[LightGBM] [Warning] feature_fraction is set=0.85, colsample_bytree=1.0 will be ignored. Current value: feature_fraction=0.85\n",
      "[LightGBM] [Warning] num_iterations is set=1000, max_iter=1000 will be ignored. Current value: num_iterations=1000\n",
      "[LightGBM] [Warning] min_data_in_leaf is set=1000, min_child_samples=20 will be ignored. Current value: min_data_in_leaf=1000\n"
     ]
    },
    {
     "name": "stderr",
     "output_type": "stream",
     "text": [
      "/home/ubuntu/.local/lib/python3.10/site-packages/lightgbm/engine.py:177: UserWarning: Found `max_iter` in params. Will use it instead of argument\n",
      "  _log_warning(f\"Found `{alias}` in params. Will use it instead of argument\")\n"
     ]
    },
    {
     "name": "stdout",
     "output_type": "stream",
     "text": [
      "[LightGBM] [Warning] feature_fraction is set=0.85, colsample_bytree=1.0 will be ignored. Current value: feature_fraction=0.85\n",
      "[LightGBM] [Warning] num_iterations is set=1000, max_iter=1000 will be ignored. Current value: num_iterations=1000\n",
      "[LightGBM] [Warning] min_data_in_leaf is set=1000, min_child_samples=20 will be ignored. Current value: min_data_in_leaf=1000\n"
     ]
    },
    {
     "name": "stderr",
     "output_type": "stream",
     "text": [
      "/home/ubuntu/.local/lib/python3.10/site-packages/lightgbm/engine.py:177: UserWarning: Found `max_iter` in params. Will use it instead of argument\n",
      "  _log_warning(f\"Found `{alias}` in params. Will use it instead of argument\")\n"
     ]
    },
    {
     "name": "stdout",
     "output_type": "stream",
     "text": [
      "[LightGBM] [Warning] feature_fraction is set=0.85, colsample_bytree=1.0 will be ignored. Current value: feature_fraction=0.85\n",
      "[LightGBM] [Warning] num_iterations is set=1000, max_iter=1000 will be ignored. Current value: num_iterations=1000\n",
      "[LightGBM] [Warning] min_data_in_leaf is set=1000, min_child_samples=20 will be ignored. Current value: min_data_in_leaf=1000\n"
     ]
    },
    {
     "name": "stderr",
     "output_type": "stream",
     "text": [
      "/home/ubuntu/.local/lib/python3.10/site-packages/lightgbm/engine.py:177: UserWarning: Found `max_iter` in params. Will use it instead of argument\n",
      "  _log_warning(f\"Found `{alias}` in params. Will use it instead of argument\")\n"
     ]
    },
    {
     "name": "stdout",
     "output_type": "stream",
     "text": [
      "[LightGBM] [Warning] feature_fraction is set=0.85, colsample_bytree=1.0 will be ignored. Current value: feature_fraction=0.85\n",
      "[LightGBM] [Warning] num_iterations is set=1000, max_iter=1000 will be ignored. Current value: num_iterations=1000\n",
      "[LightGBM] [Warning] min_data_in_leaf is set=1000, min_child_samples=20 will be ignored. Current value: min_data_in_leaf=1000\n"
     ]
    },
    {
     "name": "stderr",
     "output_type": "stream",
     "text": [
      "/home/ubuntu/.local/lib/python3.10/site-packages/lightgbm/engine.py:177: UserWarning: Found `max_iter` in params. Will use it instead of argument\n",
      "  _log_warning(f\"Found `{alias}` in params. Will use it instead of argument\")\n"
     ]
    },
    {
     "name": "stdout",
     "output_type": "stream",
     "text": [
      "[LightGBM] [Warning] feature_fraction is set=0.85, colsample_bytree=1.0 will be ignored. Current value: feature_fraction=0.85\n",
      "[LightGBM] [Warning] num_iterations is set=1000, max_iter=1000 will be ignored. Current value: num_iterations=1000\n",
      "[LightGBM] [Warning] min_data_in_leaf is set=1000, min_child_samples=20 will be ignored. Current value: min_data_in_leaf=1000\n",
      "Dataset with Meter 3 best training score0.7003266114721021\n",
      "Dataset with Meter 3 testing score0.6927666106995205\n"
     ]
    }
   ],
   "source": [
    "best_params_meter1, best_params_meter2, best_params_meter3 = save_best_params([train_df_1,train_df_2,train_df_3])"
   ]
  },
  {
   "cell_type": "markdown",
   "id": "fe2a83ff",
   "metadata": {},
   "source": [
    "#### Meter 1 Prediction "
   ]
  },
  {
   "cell_type": "code",
   "execution_count": 120,
   "id": "c7ea945f",
   "metadata": {},
   "outputs": [],
   "source": [
    "best_params_meter1 = best_params_meter1[0]"
   ]
  },
  {
   "cell_type": "code",
   "execution_count": 121,
   "id": "f078fcb9",
   "metadata": {},
   "outputs": [
    {
     "data": {
      "text/plain": [
       "['building_id',\n",
       " 'site_id',\n",
       " 'primary_use',\n",
       " 'square_feet',\n",
       " 'month',\n",
       " 'week',\n",
       " 'day',\n",
       " 'hour',\n",
       " 'air_temperature_1',\n",
       " 'cloud_coverage_1',\n",
       " 'dew_temperature_1',\n",
       " 'precip_depth_1_hr_1',\n",
       " 'sea_level_pressure_1',\n",
       " 'wind_direction_1',\n",
       " 'wind_speed_1',\n",
       " 'RH%',\n",
       " 'season',\n",
       " 'Heat_index(degC)',\n",
       " 'Wind_chill(degC)',\n",
       " 'feels_like(degC)',\n",
       " 'air_temperature_1_mean_lag3',\n",
       " 'dew_temperature_1_mean_lag3',\n",
       " 'Heat_index(degC)_mean_lag3',\n",
       " 'Wind_chill(degC)_mean_lag3',\n",
       " 'feels_like(degC)_mean_lag3',\n",
       " 'bcps',\n",
       " 'bcpf']"
      ]
     },
     "execution_count": 121,
     "metadata": {},
     "output_type": "execute_result"
    }
   ],
   "source": [
    "goodfeatures1"
   ]
  },
  {
   "cell_type": "code",
   "execution_count": 122,
   "id": "c6b26b3e",
   "metadata": {},
   "outputs": [],
   "source": [
    "X_train, X_test, y_train, y_test = train_test_split(train_df_1[goodfeatures1],train_df_1['log_meter_reading'],test_size=0.3,shuffle=False)\n",
    "\n",
    "lgbm = LGBMRegressor(**best_params_meter1)\n",
    "categorical_features1 = ['building_id', 'site_id', 'month', 'week', 'day', 'hour', 'season', 'primary_use']"
   ]
  },
  {
   "cell_type": "code",
   "execution_count": 123,
   "id": "8900c86c",
   "metadata": {},
   "outputs": [
    {
     "name": "stderr",
     "output_type": "stream",
     "text": [
      "/home/ubuntu/.local/lib/python3.10/site-packages/lightgbm/sklearn.py:726: UserWarning: 'early_stopping_rounds' argument is deprecated and will be removed in a future release of LightGBM. Pass 'early_stopping()' callback via 'callbacks' argument instead.\n",
      "  _log_warning(\"'early_stopping_rounds' argument is deprecated and will be removed in a future release of LightGBM. \"\n",
      "/home/ubuntu/.local/lib/python3.10/site-packages/lightgbm/basic.py:2065: UserWarning: Using categorical_feature in Dataset.\n",
      "  _log_warning('Using categorical_feature in Dataset.')\n",
      "/home/ubuntu/.local/lib/python3.10/site-packages/lightgbm/basic.py:2068: UserWarning: categorical_feature in Dataset is overridden.\n",
      "New categorical_feature is ['building_id', 'day', 'hour', 'month', 'primary_use', 'season', 'site_id', 'week']\n",
      "  _log_warning('categorical_feature in Dataset is overridden.\\n'\n"
     ]
    },
    {
     "name": "stdout",
     "output_type": "stream",
     "text": [
      "[LightGBM] [Warning] feature_fraction is set=0.85, colsample_bytree=1.0 will be ignored. Current value: feature_fraction=0.85\n",
      "[LightGBM] [Warning] min_data_in_leaf is set=1000, min_child_samples=20 will be ignored. Current value: min_data_in_leaf=1000\n"
     ]
    },
    {
     "name": "stderr",
     "output_type": "stream",
     "text": [
      "/home/ubuntu/.local/lib/python3.10/site-packages/lightgbm/basic.py:1780: UserWarning: Overriding the parameters from Reference Dataset.\n",
      "  _log_warning('Overriding the parameters from Reference Dataset.')\n",
      "/home/ubuntu/.local/lib/python3.10/site-packages/lightgbm/basic.py:1513: UserWarning: categorical_column in param dict is overridden.\n",
      "  _log_warning(f'{cat_alias} in param dict is overridden.')\n"
     ]
    },
    {
     "name": "stdout",
     "output_type": "stream",
     "text": [
      "[1]\tvalid_0's l2: 5.84715\n",
      "[2]\tvalid_0's l2: 5.33609\n",
      "[3]\tvalid_0's l2: 4.85299\n",
      "[4]\tvalid_0's l2: 4.48528\n",
      "[5]\tvalid_0's l2: 4.14168\n",
      "[6]\tvalid_0's l2: 3.81011\n",
      "[7]\tvalid_0's l2: 3.61781\n",
      "[8]\tvalid_0's l2: 3.40825\n",
      "[9]\tvalid_0's l2: 3.20559\n",
      "[10]\tvalid_0's l2: 3.08181\n",
      "[11]\tvalid_0's l2: 2.95544\n",
      "[12]\tvalid_0's l2: 2.84101\n",
      "[13]\tvalid_0's l2: 2.77452\n",
      "[14]\tvalid_0's l2: 2.69586\n",
      "[15]\tvalid_0's l2: 2.62767\n",
      "[16]\tvalid_0's l2: 2.58544\n",
      "[17]\tvalid_0's l2: 2.55511\n",
      "[18]\tvalid_0's l2: 2.52416\n",
      "[19]\tvalid_0's l2: 2.49748\n",
      "[20]\tvalid_0's l2: 2.4866\n",
      "[21]\tvalid_0's l2: 2.46577\n",
      "[22]\tvalid_0's l2: 2.4445\n",
      "[23]\tvalid_0's l2: 2.43008\n",
      "[24]\tvalid_0's l2: 2.42155\n",
      "[25]\tvalid_0's l2: 2.41233\n",
      "[26]\tvalid_0's l2: 2.40125\n",
      "[27]\tvalid_0's l2: 2.396\n",
      "[28]\tvalid_0's l2: 2.39097\n",
      "[29]\tvalid_0's l2: 2.38583\n",
      "[30]\tvalid_0's l2: 2.38017\n",
      "[31]\tvalid_0's l2: 2.37529\n",
      "[32]\tvalid_0's l2: 2.37231\n",
      "[33]\tvalid_0's l2: 2.37297\n",
      "[34]\tvalid_0's l2: 2.37167\n",
      "[35]\tvalid_0's l2: 2.36883\n",
      "[36]\tvalid_0's l2: 2.36945\n",
      "[37]\tvalid_0's l2: 2.36643\n",
      "[38]\tvalid_0's l2: 2.36287\n",
      "[39]\tvalid_0's l2: 2.36051\n",
      "[40]\tvalid_0's l2: 2.35957\n",
      "[41]\tvalid_0's l2: 2.35671\n",
      "[42]\tvalid_0's l2: 2.35468\n",
      "[43]\tvalid_0's l2: 2.35547\n",
      "[44]\tvalid_0's l2: 2.35449\n",
      "[45]\tvalid_0's l2: 2.35354\n",
      "[46]\tvalid_0's l2: 2.35211\n",
      "[47]\tvalid_0's l2: 2.3522\n",
      "[48]\tvalid_0's l2: 2.35339\n",
      "[49]\tvalid_0's l2: 2.35323\n",
      "[50]\tvalid_0's l2: 2.3538\n",
      "[51]\tvalid_0's l2: 2.35394\n",
      "[52]\tvalid_0's l2: 2.35367\n",
      "[53]\tvalid_0's l2: 2.35408\n",
      "[54]\tvalid_0's l2: 2.35196\n",
      "[55]\tvalid_0's l2: 2.3527\n",
      "[56]\tvalid_0's l2: 2.35305\n",
      "[57]\tvalid_0's l2: 2.35217\n",
      "[58]\tvalid_0's l2: 2.35162\n",
      "[59]\tvalid_0's l2: 2.35152\n",
      "[60]\tvalid_0's l2: 2.35139\n",
      "[61]\tvalid_0's l2: 2.35149\n",
      "[62]\tvalid_0's l2: 2.35058\n",
      "[63]\tvalid_0's l2: 2.34964\n",
      "[64]\tvalid_0's l2: 2.34819\n",
      "[65]\tvalid_0's l2: 2.34776\n",
      "[66]\tvalid_0's l2: 2.34637\n",
      "[67]\tvalid_0's l2: 2.34668\n",
      "[68]\tvalid_0's l2: 2.34853\n",
      "[69]\tvalid_0's l2: 2.34898\n",
      "[70]\tvalid_0's l2: 2.34867\n",
      "[71]\tvalid_0's l2: 2.34856\n",
      "[72]\tvalid_0's l2: 2.34776\n",
      "[73]\tvalid_0's l2: 2.34632\n",
      "[74]\tvalid_0's l2: 2.34639\n",
      "[75]\tvalid_0's l2: 2.34693\n",
      "[76]\tvalid_0's l2: 2.34569\n",
      "[77]\tvalid_0's l2: 2.34577\n",
      "[78]\tvalid_0's l2: 2.3455\n",
      "[79]\tvalid_0's l2: 2.34573\n",
      "[80]\tvalid_0's l2: 2.34562\n",
      "[81]\tvalid_0's l2: 2.34613\n",
      "[82]\tvalid_0's l2: 2.34519\n",
      "[83]\tvalid_0's l2: 2.34572\n",
      "[84]\tvalid_0's l2: 2.34547\n",
      "[85]\tvalid_0's l2: 2.34569\n",
      "[86]\tvalid_0's l2: 2.34552\n",
      "[87]\tvalid_0's l2: 2.34539\n",
      "[88]\tvalid_0's l2: 2.34657\n",
      "[89]\tvalid_0's l2: 2.34651\n",
      "[90]\tvalid_0's l2: 2.34622\n",
      "[91]\tvalid_0's l2: 2.3461\n",
      "[92]\tvalid_0's l2: 2.34579\n",
      "[93]\tvalid_0's l2: 2.34507\n",
      "[94]\tvalid_0's l2: 2.34401\n",
      "[95]\tvalid_0's l2: 2.34271\n",
      "[96]\tvalid_0's l2: 2.34102\n",
      "[97]\tvalid_0's l2: 2.33992\n",
      "[98]\tvalid_0's l2: 2.34086\n",
      "[99]\tvalid_0's l2: 2.33984\n",
      "[100]\tvalid_0's l2: 2.34011\n"
     ]
    },
    {
     "data": {
      "text/plain": [
       "LGBMRegressor(boosting_type='goss', feature_fraction=0.85,\n",
       "              min_data_in_leaf=1000, num_leaves=500, reg_alpha=1)"
      ]
     },
     "execution_count": 123,
     "metadata": {},
     "output_type": "execute_result"
    }
   ],
   "source": [
    "lgbm.fit(X=X_train, y=y_train,categorical_feature=categorical_features1, eval_set = (X_test, y_test), early_stopping_rounds=50)"
   ]
  },
  {
   "cell_type": "code",
   "execution_count": 124,
   "id": "4061f79e",
   "metadata": {},
   "outputs": [],
   "source": [
    "meter1_prediction=lgbm.predict(test_df_1[goodfeatures1])"
   ]
  },
  {
   "cell_type": "code",
   "execution_count": 125,
   "id": "347acc98",
   "metadata": {},
   "outputs": [
    {
     "name": "stderr",
     "output_type": "stream",
     "text": [
      "/home/ubuntu/.local/lib/python3.10/site-packages/seaborn/distributions.py:2619: FutureWarning: `distplot` is a deprecated function and will be removed in a future version. Please adapt your code to use either `displot` (a figure-level function with similar flexibility) or `histplot` (an axes-level function for histograms).\n",
      "  warnings.warn(msg, FutureWarning)\n"
     ]
    },
    {
     "data": {
      "text/plain": [
       "<AxesSubplot:ylabel='Density'>"
      ]
     },
     "execution_count": 125,
     "metadata": {},
     "output_type": "execute_result"
    },
    {
     "data": {
      "image/png": "[encoded data removed]",
      "text/plain": [
       "<Figure size 432x288 with 1 Axes>"
      ]
     },
     "metadata": {
      "needs_background": "light"
     },
     "output_type": "display_data"
    }
   ],
   "source": [
    "sns.distplot(meter1_prediction)"
   ]
  },
  {
   "cell_type": "code",
   "execution_count": 126,
   "id": "24875932",
   "metadata": {},
   "outputs": [
    {
     "name": "stderr",
     "output_type": "stream",
     "text": [
      "/tmp/ipykernel_2062/1853244971.py:1: SettingWithCopyWarning: \n",
      "A value is trying to be set on a copy of a slice from a DataFrame.\n",
      "Try using .loc[row_indexer,col_indexer] = value instead\n",
      "\n",
      "See the caveats in the documentation: https://pandas.pydata.org/pandas-docs/stable/user_guide/indexing.html#returning-a-view-versus-a-copy\n",
      "  test_df_1['meter_reading'] = np.expm1(meter1_prediction)\n"
     ]
    }
   ],
   "source": [
    "test_df_1['meter_reading'] = np.expm1(meter1_prediction)"
   ]
  },
  {
   "cell_type": "markdown",
   "id": "e03a3307",
   "metadata": {},
   "source": [
    "#### Meter 2 Prediction "
   ]
  },
  {
   "cell_type": "code",
   "execution_count": 128,
   "id": "ca3e72de",
   "metadata": {},
   "outputs": [],
   "source": [
    "best_params_meter2 = best_params_meter2[0]"
   ]
  },
  {
   "cell_type": "code",
   "execution_count": 129,
   "id": "1986a7b5",
   "metadata": {},
   "outputs": [
    {
     "data": {
      "text/plain": [
       "{'boosting_type': 'goss',\n",
       " 'feature_fraction': 0.85,\n",
       " 'learning_rate': 0.1,\n",
       " 'min_data_in_leaf': 1000,\n",
       " 'num_leaves': 500,\n",
       " 'reg_alpha': 10}"
      ]
     },
     "execution_count": 129,
     "metadata": {},
     "output_type": "execute_result"
    }
   ],
   "source": [
    "best_params_meter2"
   ]
  },
  {
   "cell_type": "code",
   "execution_count": 130,
   "id": "ecdae3fa",
   "metadata": {},
   "outputs": [
    {
     "data": {
      "text/plain": [
       "['square_feet',\n",
       " 'building_id',\n",
       " 'primary_use',\n",
       " 'Heat_index(degC)',\n",
       " 'day',\n",
       " 'Heat_index(degC)_mean_lag3',\n",
       " 'air_temperature_1',\n",
       " 'hour',\n",
       " 'wind_speed_1',\n",
       " 'air_temperature_1_mean_lag3',\n",
       " 'sea_level_pressure_1',\n",
       " 'cloud_coverage_1',\n",
       " 'Wind_chill(degC)_mean_lag3',\n",
       " 'feels_like(degC)_mean_lag3',\n",
       " 'bcpf',\n",
       " 'feels_like(degC)',\n",
       " 'Wind_chill(degC)',\n",
       " 'dew_temperature_1',\n",
       " 'week',\n",
       " 'season',\n",
       " 'month']"
      ]
     },
     "execution_count": 130,
     "metadata": {},
     "output_type": "execute_result"
    }
   ],
   "source": [
    "goodfeatures2"
   ]
  },
  {
   "cell_type": "code",
   "execution_count": 131,
   "id": "bd3a24a5",
   "metadata": {},
   "outputs": [],
   "source": [
    "X_train, X_test, y_train, y_test = train_test_split(train_df_2[goodfeatures2],train_df_2['log_meter_reading'],test_size=0.3,shuffle=False)\n",
    "\n",
    "lgbm = LGBMRegressor(**best_params_meter2)\n",
    "categorical_features2 = ['building_id', 'day', 'week', 'hour', 'season', 'month', 'primary_use']"
   ]
  },
  {
   "cell_type": "code",
   "execution_count": 132,
   "id": "c28af5cf",
   "metadata": {},
   "outputs": [
    {
     "name": "stderr",
     "output_type": "stream",
     "text": [
      "/home/ubuntu/.local/lib/python3.10/site-packages/lightgbm/sklearn.py:726: UserWarning: 'early_stopping_rounds' argument is deprecated and will be removed in a future release of LightGBM. Pass 'early_stopping()' callback via 'callbacks' argument instead.\n",
      "  _log_warning(\"'early_stopping_rounds' argument is deprecated and will be removed in a future release of LightGBM. \"\n",
      "/home/ubuntu/.local/lib/python3.10/site-packages/lightgbm/basic.py:2065: UserWarning: Using categorical_feature in Dataset.\n",
      "  _log_warning('Using categorical_feature in Dataset.')\n",
      "/home/ubuntu/.local/lib/python3.10/site-packages/lightgbm/basic.py:2068: UserWarning: categorical_feature in Dataset is overridden.\n",
      "New categorical_feature is ['building_id', 'day', 'hour', 'month', 'primary_use', 'season', 'week']\n",
      "  _log_warning('categorical_feature in Dataset is overridden.\\n'\n"
     ]
    },
    {
     "name": "stdout",
     "output_type": "stream",
     "text": [
      "[LightGBM] [Warning] feature_fraction is set=0.85, colsample_bytree=1.0 will be ignored. Current value: feature_fraction=0.85\n",
      "[LightGBM] [Warning] min_data_in_leaf is set=1000, min_child_samples=20 will be ignored. Current value: min_data_in_leaf=1000\n"
     ]
    },
    {
     "name": "stderr",
     "output_type": "stream",
     "text": [
      "/home/ubuntu/.local/lib/python3.10/site-packages/lightgbm/basic.py:1780: UserWarning: Overriding the parameters from Reference Dataset.\n",
      "  _log_warning('Overriding the parameters from Reference Dataset.')\n",
      "/home/ubuntu/.local/lib/python3.10/site-packages/lightgbm/basic.py:1513: UserWarning: categorical_column in param dict is overridden.\n",
      "  _log_warning(f'{cat_alias} in param dict is overridden.')\n"
     ]
    },
    {
     "name": "stdout",
     "output_type": "stream",
     "text": [
      "[1]\tvalid_0's l2: 5.64574\n",
      "[2]\tvalid_0's l2: 4.98329\n",
      "[3]\tvalid_0's l2: 4.41113\n",
      "[4]\tvalid_0's l2: 3.99732\n",
      "[5]\tvalid_0's l2: 3.6862\n",
      "[6]\tvalid_0's l2: 3.48322\n",
      "[7]\tvalid_0's l2: 3.26781\n",
      "[8]\tvalid_0's l2: 3.07681\n",
      "[9]\tvalid_0's l2: 2.9\n",
      "[10]\tvalid_0's l2: 2.76553\n",
      "[11]\tvalid_0's l2: 2.68729\n",
      "[12]\tvalid_0's l2: 2.59802\n",
      "[13]\tvalid_0's l2: 2.54536\n",
      "[14]\tvalid_0's l2: 2.50781\n",
      "[15]\tvalid_0's l2: 2.4766\n",
      "[16]\tvalid_0's l2: 2.44974\n",
      "[17]\tvalid_0's l2: 2.42706\n",
      "[18]\tvalid_0's l2: 2.40902\n",
      "[19]\tvalid_0's l2: 2.39556\n",
      "[20]\tvalid_0's l2: 2.38943\n",
      "[21]\tvalid_0's l2: 2.38009\n",
      "[22]\tvalid_0's l2: 2.36411\n",
      "[23]\tvalid_0's l2: 2.35606\n",
      "[24]\tvalid_0's l2: 2.35035\n",
      "[25]\tvalid_0's l2: 2.35088\n",
      "[26]\tvalid_0's l2: 2.34244\n",
      "[27]\tvalid_0's l2: 2.34452\n",
      "[28]\tvalid_0's l2: 2.34657\n",
      "[29]\tvalid_0's l2: 2.34411\n",
      "[30]\tvalid_0's l2: 2.34076\n",
      "[31]\tvalid_0's l2: 2.33837\n",
      "[32]\tvalid_0's l2: 2.33158\n",
      "[33]\tvalid_0's l2: 2.32642\n",
      "[34]\tvalid_0's l2: 2.32917\n",
      "[35]\tvalid_0's l2: 2.33281\n",
      "[36]\tvalid_0's l2: 2.33244\n",
      "[37]\tvalid_0's l2: 2.33835\n",
      "[38]\tvalid_0's l2: 2.33944\n",
      "[39]\tvalid_0's l2: 2.33881\n",
      "[40]\tvalid_0's l2: 2.33908\n",
      "[41]\tvalid_0's l2: 2.3394\n",
      "[42]\tvalid_0's l2: 2.34071\n",
      "[43]\tvalid_0's l2: 2.33954\n",
      "[44]\tvalid_0's l2: 2.33436\n",
      "[45]\tvalid_0's l2: 2.33344\n",
      "[46]\tvalid_0's l2: 2.33403\n",
      "[47]\tvalid_0's l2: 2.33354\n",
      "[48]\tvalid_0's l2: 2.32777\n",
      "[49]\tvalid_0's l2: 2.32584\n",
      "[50]\tvalid_0's l2: 2.33088\n",
      "[51]\tvalid_0's l2: 2.33041\n",
      "[52]\tvalid_0's l2: 2.32793\n",
      "[53]\tvalid_0's l2: 2.32798\n",
      "[54]\tvalid_0's l2: 2.32823\n",
      "[55]\tvalid_0's l2: 2.32848\n",
      "[56]\tvalid_0's l2: 2.3298\n",
      "[57]\tvalid_0's l2: 2.3327\n",
      "[58]\tvalid_0's l2: 2.33272\n",
      "[59]\tvalid_0's l2: 2.33234\n",
      "[60]\tvalid_0's l2: 2.33106\n",
      "[61]\tvalid_0's l2: 2.33067\n",
      "[62]\tvalid_0's l2: 2.33216\n",
      "[63]\tvalid_0's l2: 2.33146\n",
      "[64]\tvalid_0's l2: 2.33204\n",
      "[65]\tvalid_0's l2: 2.33161\n",
      "[66]\tvalid_0's l2: 2.33185\n",
      "[67]\tvalid_0's l2: 2.33374\n",
      "[68]\tvalid_0's l2: 2.33396\n",
      "[69]\tvalid_0's l2: 2.33405\n",
      "[70]\tvalid_0's l2: 2.33495\n",
      "[71]\tvalid_0's l2: 2.33671\n",
      "[72]\tvalid_0's l2: 2.33854\n",
      "[73]\tvalid_0's l2: 2.33913\n",
      "[74]\tvalid_0's l2: 2.34017\n",
      "[75]\tvalid_0's l2: 2.33973\n",
      "[76]\tvalid_0's l2: 2.33986\n",
      "[77]\tvalid_0's l2: 2.34161\n",
      "[78]\tvalid_0's l2: 2.34141\n",
      "[79]\tvalid_0's l2: 2.34051\n",
      "[80]\tvalid_0's l2: 2.34011\n",
      "[81]\tvalid_0's l2: 2.33932\n",
      "[82]\tvalid_0's l2: 2.33871\n",
      "[83]\tvalid_0's l2: 2.33836\n",
      "[84]\tvalid_0's l2: 2.34165\n",
      "[85]\tvalid_0's l2: 2.34199\n",
      "[86]\tvalid_0's l2: 2.34107\n",
      "[87]\tvalid_0's l2: 2.34053\n",
      "[88]\tvalid_0's l2: 2.34068\n",
      "[89]\tvalid_0's l2: 2.34088\n",
      "[90]\tvalid_0's l2: 2.34195\n",
      "[91]\tvalid_0's l2: 2.34187\n",
      "[92]\tvalid_0's l2: 2.34293\n",
      "[93]\tvalid_0's l2: 2.34198\n",
      "[94]\tvalid_0's l2: 2.344\n",
      "[95]\tvalid_0's l2: 2.34454\n",
      "[96]\tvalid_0's l2: 2.34358\n",
      "[97]\tvalid_0's l2: 2.34504\n",
      "[98]\tvalid_0's l2: 2.34666\n",
      "[99]\tvalid_0's l2: 2.34642\n"
     ]
    },
    {
     "data": {
      "text/plain": [
       "LGBMRegressor(boosting_type='goss', feature_fraction=0.85,\n",
       "              min_data_in_leaf=1000, num_leaves=500, reg_alpha=10)"
      ]
     },
     "execution_count": 132,
     "metadata": {},
     "output_type": "execute_result"
    }
   ],
   "source": [
    "lgbm.fit(X=X_train, y=y_train,categorical_feature=categorical_features2, eval_set = (X_test, y_test), early_stopping_rounds=50)"
   ]
  },
  {
   "cell_type": "code",
   "execution_count": 133,
   "id": "1d083565",
   "metadata": {},
   "outputs": [],
   "source": [
    "meter2_prediction=lgbm.predict(test_df_2[goodfeatures2])"
   ]
  },
  {
   "cell_type": "code",
   "execution_count": 134,
   "id": "3e8fbf9f",
   "metadata": {},
   "outputs": [
    {
     "name": "stderr",
     "output_type": "stream",
     "text": [
      "/home/ubuntu/.local/lib/python3.10/site-packages/seaborn/distributions.py:2619: FutureWarning: `distplot` is a deprecated function and will be removed in a future version. Please adapt your code to use either `displot` (a figure-level function with similar flexibility) or `histplot` (an axes-level function for histograms).\n",
      "  warnings.warn(msg, FutureWarning)\n"
     ]
    },
    {
     "data": {
      "text/plain": [
       "<AxesSubplot:ylabel='Density'>"
      ]
     },
     "execution_count": 134,
     "metadata": {},
     "output_type": "execute_result"
    },
    {
     "data": {
      "image/png": "[encoded data removed]",
      "text/plain": [
       "<Figure size 432x288 with 1 Axes>"
      ]
     },
     "metadata": {
      "needs_background": "light"
     },
     "output_type": "display_data"
    }
   ],
   "source": [
    "sns.distplot(meter2_prediction)"
   ]
  },
  {
   "cell_type": "code",
   "execution_count": 135,
   "id": "cda8d7c2",
   "metadata": {},
   "outputs": [
    {
     "name": "stderr",
     "output_type": "stream",
     "text": [
      "/tmp/ipykernel_2062/23908708.py:1: SettingWithCopyWarning: \n",
      "A value is trying to be set on a copy of a slice from a DataFrame.\n",
      "Try using .loc[row_indexer,col_indexer] = value instead\n",
      "\n",
      "See the caveats in the documentation: https://pandas.pydata.org/pandas-docs/stable/user_guide/indexing.html#returning-a-view-versus-a-copy\n",
      "  test_df_2['meter_reading'] = np.expm1(meter2_prediction)\n"
     ]
    }
   ],
   "source": [
    "test_df_2['meter_reading'] = np.expm1(meter2_prediction)"
   ]
  },
  {
   "cell_type": "markdown",
   "id": "67ac0a34",
   "metadata": {},
   "source": [
    "#### Meter 3 Prediction "
   ]
  },
  {
   "cell_type": "code",
   "execution_count": 136,
   "id": "543f15c9",
   "metadata": {},
   "outputs": [
    {
     "data": {
      "text/plain": [
       "{'boosting_type': 'goss',\n",
       " 'feature_fraction': 0.85,\n",
       " 'learning_rate': 0.1,\n",
       " 'min_data_in_leaf': 1000,\n",
       " 'num_leaves': 500,\n",
       " 'reg_alpha': 10}"
      ]
     },
     "execution_count": 136,
     "metadata": {},
     "output_type": "execute_result"
    }
   ],
   "source": [
    "best_params_meter3 = best_params_meter3[0]\n",
    "best_params_meter3"
   ]
  },
  {
   "cell_type": "code",
   "execution_count": 137,
   "id": "63161011",
   "metadata": {},
   "outputs": [
    {
     "data": {
      "text/plain": [
       "['square_feet',\n",
       " 'building_id',\n",
       " 'hour',\n",
       " 'week',\n",
       " 'bcpf',\n",
       " 'precip_depth_1_hr_1',\n",
       " 'dew_temperature_1',\n",
       " 'RH%',\n",
       " 'feels_like(degC)',\n",
       " 'primary_use',\n",
       " 'Wind_chill(degC)_mean_lag3',\n",
       " 'feels_like(degC)_mean_lag3',\n",
       " 'Heat_index(degC)_mean_lag3',\n",
       " 'season',\n",
       " 'site_id',\n",
       " 'month']"
      ]
     },
     "execution_count": 137,
     "metadata": {},
     "output_type": "execute_result"
    }
   ],
   "source": [
    "goodfeatures3"
   ]
  },
  {
   "cell_type": "code",
   "execution_count": 138,
   "id": "e14bb625",
   "metadata": {},
   "outputs": [],
   "source": [
    "X_train, X_test, y_train, y_test = train_test_split(train_df_3[goodfeatures3],train_df_3['log_meter_reading'],test_size=0.3,shuffle=False)\n",
    "\n",
    "lgbm = LGBMRegressor(**best_params_meter3)\n",
    "categorical_features3 = ['building_id', 'week', 'hour', 'season', 'site_id', 'month', 'primary_use']"
   ]
  },
  {
   "cell_type": "code",
   "execution_count": 139,
   "id": "2c004501",
   "metadata": {},
   "outputs": [
    {
     "name": "stderr",
     "output_type": "stream",
     "text": [
      "/home/ubuntu/.local/lib/python3.10/site-packages/lightgbm/sklearn.py:726: UserWarning: 'early_stopping_rounds' argument is deprecated and will be removed in a future release of LightGBM. Pass 'early_stopping()' callback via 'callbacks' argument instead.\n",
      "  _log_warning(\"'early_stopping_rounds' argument is deprecated and will be removed in a future release of LightGBM. \"\n",
      "/home/ubuntu/.local/lib/python3.10/site-packages/lightgbm/basic.py:2065: UserWarning: Using categorical_feature in Dataset.\n",
      "  _log_warning('Using categorical_feature in Dataset.')\n",
      "/home/ubuntu/.local/lib/python3.10/site-packages/lightgbm/basic.py:2068: UserWarning: categorical_feature in Dataset is overridden.\n",
      "New categorical_feature is ['building_id', 'hour', 'month', 'primary_use', 'season', 'site_id', 'week']\n",
      "  _log_warning('categorical_feature in Dataset is overridden.\\n'\n"
     ]
    },
    {
     "name": "stdout",
     "output_type": "stream",
     "text": [
      "[LightGBM] [Warning] feature_fraction is set=0.85, colsample_bytree=1.0 will be ignored. Current value: feature_fraction=0.85\n",
      "[LightGBM] [Warning] min_data_in_leaf is set=1000, min_child_samples=20 will be ignored. Current value: min_data_in_leaf=1000\n"
     ]
    },
    {
     "name": "stderr",
     "output_type": "stream",
     "text": [
      "/home/ubuntu/.local/lib/python3.10/site-packages/lightgbm/basic.py:1780: UserWarning: Overriding the parameters from Reference Dataset.\n",
      "  _log_warning('Overriding the parameters from Reference Dataset.')\n",
      "/home/ubuntu/.local/lib/python3.10/site-packages/lightgbm/basic.py:1513: UserWarning: categorical_column in param dict is overridden.\n",
      "  _log_warning(f'{cat_alias} in param dict is overridden.')\n"
     ]
    },
    {
     "name": "stdout",
     "output_type": "stream",
     "text": [
      "[1]\tvalid_0's l2: 6.02778\n",
      "[2]\tvalid_0's l2: 5.35962\n",
      "[3]\tvalid_0's l2: 4.887\n",
      "[4]\tvalid_0's l2: 4.44687\n",
      "[5]\tvalid_0's l2: 4.10342\n",
      "[6]\tvalid_0's l2: 3.83732\n",
      "[7]\tvalid_0's l2: 3.63003\n",
      "[8]\tvalid_0's l2: 3.47385\n",
      "[9]\tvalid_0's l2: 3.35554\n",
      "[10]\tvalid_0's l2: 3.27813\n",
      "[11]\tvalid_0's l2: 3.21557\n",
      "[12]\tvalid_0's l2: 3.1558\n",
      "[13]\tvalid_0's l2: 3.10592\n",
      "[14]\tvalid_0's l2: 3.0792\n",
      "[15]\tvalid_0's l2: 3.06081\n",
      "[16]\tvalid_0's l2: 3.03397\n",
      "[17]\tvalid_0's l2: 3.01458\n",
      "[18]\tvalid_0's l2: 3.0034\n",
      "[19]\tvalid_0's l2: 3.00054\n",
      "[20]\tvalid_0's l2: 2.99362\n",
      "[21]\tvalid_0's l2: 2.98944\n",
      "[22]\tvalid_0's l2: 2.98731\n",
      "[23]\tvalid_0's l2: 2.9851\n",
      "[24]\tvalid_0's l2: 2.98203\n",
      "[25]\tvalid_0's l2: 2.9883\n",
      "[26]\tvalid_0's l2: 2.99132\n",
      "[27]\tvalid_0's l2: 2.99909\n",
      "[28]\tvalid_0's l2: 2.99951\n",
      "[29]\tvalid_0's l2: 2.99996\n",
      "[30]\tvalid_0's l2: 2.99758\n",
      "[31]\tvalid_0's l2: 2.99758\n",
      "[32]\tvalid_0's l2: 2.99307\n",
      "[33]\tvalid_0's l2: 2.99209\n",
      "[34]\tvalid_0's l2: 2.99514\n",
      "[35]\tvalid_0's l2: 2.99744\n",
      "[36]\tvalid_0's l2: 3.00157\n",
      "[37]\tvalid_0's l2: 3.00183\n",
      "[38]\tvalid_0's l2: 3.00204\n",
      "[39]\tvalid_0's l2: 3.00479\n",
      "[40]\tvalid_0's l2: 2.99903\n",
      "[41]\tvalid_0's l2: 3.00057\n",
      "[42]\tvalid_0's l2: 3.00311\n",
      "[43]\tvalid_0's l2: 3.00319\n",
      "[44]\tvalid_0's l2: 3.00711\n",
      "[45]\tvalid_0's l2: 3.00724\n",
      "[46]\tvalid_0's l2: 3.00706\n",
      "[47]\tvalid_0's l2: 3.00952\n",
      "[48]\tvalid_0's l2: 3.0085\n",
      "[49]\tvalid_0's l2: 3.00934\n",
      "[50]\tvalid_0's l2: 3.01038\n",
      "[51]\tvalid_0's l2: 3.0123\n",
      "[52]\tvalid_0's l2: 3.01175\n",
      "[53]\tvalid_0's l2: 3.00973\n",
      "[54]\tvalid_0's l2: 3.00943\n",
      "[55]\tvalid_0's l2: 3.00979\n",
      "[56]\tvalid_0's l2: 3.00959\n",
      "[57]\tvalid_0's l2: 3.00923\n",
      "[58]\tvalid_0's l2: 3.01004\n",
      "[59]\tvalid_0's l2: 3.00664\n",
      "[60]\tvalid_0's l2: 3.00763\n",
      "[61]\tvalid_0's l2: 3.00725\n",
      "[62]\tvalid_0's l2: 3.00498\n",
      "[63]\tvalid_0's l2: 3.00507\n",
      "[64]\tvalid_0's l2: 3.00421\n",
      "[65]\tvalid_0's l2: 3.00399\n",
      "[66]\tvalid_0's l2: 3.00404\n",
      "[67]\tvalid_0's l2: 3.0036\n",
      "[68]\tvalid_0's l2: 3.00178\n",
      "[69]\tvalid_0's l2: 2.99995\n",
      "[70]\tvalid_0's l2: 2.99872\n",
      "[71]\tvalid_0's l2: 2.9986\n",
      "[72]\tvalid_0's l2: 2.99831\n",
      "[73]\tvalid_0's l2: 2.9985\n",
      "[74]\tvalid_0's l2: 2.99542\n"
     ]
    },
    {
     "data": {
      "text/plain": [
       "LGBMRegressor(boosting_type='goss', feature_fraction=0.85,\n",
       "              min_data_in_leaf=1000, num_leaves=500, reg_alpha=10)"
      ]
     },
     "execution_count": 139,
     "metadata": {},
     "output_type": "execute_result"
    }
   ],
   "source": [
    "lgbm.fit(X=X_train, y=y_train,categorical_feature=categorical_features3, eval_set = (X_test, y_test), early_stopping_rounds=50)"
   ]
  },
  {
   "cell_type": "code",
   "execution_count": 140,
   "id": "40a1d4cd",
   "metadata": {},
   "outputs": [],
   "source": [
    "meter3_prediction=lgbm.predict(test_df_3[goodfeatures3])"
   ]
  },
  {
   "cell_type": "code",
   "execution_count": 141,
   "id": "31d34f64",
   "metadata": {},
   "outputs": [
    {
     "name": "stderr",
     "output_type": "stream",
     "text": [
      "/home/ubuntu/.local/lib/python3.10/site-packages/seaborn/distributions.py:2619: FutureWarning: `distplot` is a deprecated function and will be removed in a future version. Please adapt your code to use either `displot` (a figure-level function with similar flexibility) or `histplot` (an axes-level function for histograms).\n",
      "  warnings.warn(msg, FutureWarning)\n"
     ]
    },
    {
     "data": {
      "text/plain": [
       "<AxesSubplot:ylabel='Density'>"
      ]
     },
     "execution_count": 141,
     "metadata": {},
     "output_type": "execute_result"
    },
    {
     "data": {
      "image/png": "[encoded data removed]",
      "text/plain": [
       "<Figure size 432x288 with 1 Axes>"
      ]
     },
     "metadata": {
      "needs_background": "light"
     },
     "output_type": "display_data"
    }
   ],
   "source": [
    "sns.distplot(meter3_prediction)"
   ]
  },
  {
   "cell_type": "code",
   "execution_count": 142,
   "id": "510484e6",
   "metadata": {},
   "outputs": [
    {
     "name": "stderr",
     "output_type": "stream",
     "text": [
      "/tmp/ipykernel_2062/3586089744.py:1: SettingWithCopyWarning: \n",
      "A value is trying to be set on a copy of a slice from a DataFrame.\n",
      "Try using .loc[row_indexer,col_indexer] = value instead\n",
      "\n",
      "See the caveats in the documentation: https://pandas.pydata.org/pandas-docs/stable/user_guide/indexing.html#returning-a-view-versus-a-copy\n",
      "  test_df_3['meter_reading'] = np.expm1(meter3_prediction)\n"
     ]
    }
   ],
   "source": [
    "test_df_3['meter_reading'] = np.expm1(meter3_prediction)"
   ]
  },
  {
   "cell_type": "markdown",
   "id": "2a477413",
   "metadata": {},
   "source": [
    "#### Concatenate all predicted datasets"
   ]
  },
  {
   "cell_type": "code",
   "execution_count": 143,
   "id": "e352bb95",
   "metadata": {},
   "outputs": [],
   "source": [
    "concat_df = [test_df_0, test_df_1, test_df_2, test_df_3]\n",
    "\n",
    "kaggle_test_df = pd.concat(concat_df, axis=0)"
   ]
  },
  {
   "cell_type": "code",
   "execution_count": 144,
   "id": "bc155e24",
   "metadata": {},
   "outputs": [
    {
     "data": {
      "text/plain": [
       "(41697600, 29)"
      ]
     },
     "execution_count": 144,
     "metadata": {},
     "output_type": "execute_result"
    }
   ],
   "source": [
    "test_df.shape"
   ]
  },
  {
   "cell_type": "code",
   "execution_count": 145,
   "id": "cfd1ff8f",
   "metadata": {},
   "outputs": [],
   "source": [
    "kaggle_submission = kaggle_test_df[['row_id','meter_reading']]"
   ]
  },
  {
   "cell_type": "code",
   "execution_count": 146,
   "id": "1790fe43",
   "metadata": {},
   "outputs": [],
   "source": [
    "kaggle_submission = kaggle_submission.sort_values(by='row_id')"
   ]
  },
  {
   "cell_type": "code",
   "execution_count": 147,
   "id": "4d8db5ac",
   "metadata": {},
   "outputs": [],
   "source": [
    "kaggle_submission.to_csv('s3://jiashengs3/kaggle_submission3.csv', index=False)"
   ]
  }
 ],
 "metadata": {
  "kernelspec": {
   "display_name": "Python 3",
   "language": "python",
   "name": "python3"
  },
  "language_info": {
   "codemirror_mode": {
    "name": "ipython",
    "version": 3
   },
   "file_extension": ".py",
   "mimetype": "text/x-python",
   "name": "python",
   "nbconvert_exporter": "python",
   "pygments_lexer": "ipython3",
   "version": "3.8.8"
  }
 },
 "nbformat": 4,
 "nbformat_minor": 5
}
