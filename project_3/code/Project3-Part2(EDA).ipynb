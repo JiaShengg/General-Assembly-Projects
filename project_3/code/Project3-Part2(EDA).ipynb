{
 "cells": [
  {
   "cell_type": "markdown",
   "id": "712203c7",
   "metadata": {},
   "source": [
    "<img src=\"http://imgur.com/1ZcRyrc.png\" style=\"float: left; margin: 20px; height: 55px\">\n",
    "\n",
    "# Project 3: Web APIs & NLP (Part 2 EDA)\n",
    "#### Binary CLassification of Subreddit Posts"
   ]
  },
  {
   "cell_type": "markdown",
   "id": "bce9813d",
   "metadata": {},
   "source": [
    " - [Exploratory Data Analysis](#Exploratory-Data-Analysis)\n"
   ]
  },
  {
   "cell_type": "markdown",
   "id": "5c119908",
   "metadata": {},
   "source": [
    "## Exploratory Data Analysis"
   ]
  },
  {
   "cell_type": "markdown",
   "id": "65655bdb",
   "metadata": {},
   "source": [
    "#### Importing Libraries"
   ]
  },
  {
   "cell_type": "code",
   "execution_count": 2,
   "id": "3fc6ff0a",
   "metadata": {},
   "outputs": [],
   "source": [
    "import pandas as pd\n",
    "import numpy as np\n",
    "import matplotlib.pyplot as plt\n",
    "import seaborn as sns\n",
    "import re\n",
    "import nltk\n",
    "import en_core_web_sm\n",
    "#nlp = spacy.load(\"en_core_web_sm\")\n",
    "\n",
    "from nltk.corpus import stopwords\n",
    "from nltk.tokenize import word_tokenize\n",
    "from sklearn.feature_extraction.text import CountVectorizer, TfidfVectorizer"
   ]
  },
  {
   "cell_type": "code",
   "execution_count": 3,
   "id": "faa88a98",
   "metadata": {},
   "outputs": [],
   "source": [
    "# From Part 1, retriving genuine questions on the topic of relationship\n",
    "\n",
    "genuine_qns_df = pd.read_csv('../datasets/genuine_qns.csv')"
   ]
  },
  {
   "cell_type": "code",
   "execution_count": 4,
   "id": "8758a81f",
   "metadata": {},
   "outputs": [],
   "source": [
    "# Drop 'Unnamed: 0' column\n",
    "\n",
    "genuine_qns_df.drop(columns='Unnamed: 0', inplace=True)"
   ]
  },
  {
   "cell_type": "code",
   "execution_count": 5,
   "id": "0e9d61f6",
   "metadata": {},
   "outputs": [],
   "source": [
    "#Map genuine questions column as 0 and spam/non-related enquiries as 1 since it's a binary classification problem\n",
    "\n",
    "genuine_qns_df['subreddit'] = genuine_qns_df['subreddit'].map(lambda x: 0 if x == 'relationship_advice' else 1)"
   ]
  },
  {
   "cell_type": "code",
   "execution_count": 6,
   "id": "d784d11d",
   "metadata": {},
   "outputs": [
    {
     "data": {
      "text/plain": [
       "0    1.0\n",
       "Name: subreddit, dtype: float64"
      ]
     },
     "execution_count": 6,
     "metadata": {},
     "output_type": "execute_result"
    }
   ],
   "source": [
    "genuine_qns_df['subreddit'].value_counts(normalize=True)"
   ]
  },
  {
   "cell_type": "code",
   "execution_count": 7,
   "id": "0967e15d",
   "metadata": {},
   "outputs": [
    {
     "data": {
      "text/html": [
       "<div>\n",
       "<style scoped>\n",
       "    .dataframe tbody tr th:only-of-type {\n",
       "        vertical-align: middle;\n",
       "    }\n",
       "\n",
       "    .dataframe tbody tr th {\n",
       "        vertical-align: top;\n",
       "    }\n",
       "\n",
       "    .dataframe thead th {\n",
       "        text-align: right;\n",
       "    }\n",
       "</style>\n",
       "<table border=\"1\" class=\"dataframe\">\n",
       "  <thead>\n",
       "    <tr style=\"text-align: right;\">\n",
       "      <th></th>\n",
       "      <th>subreddit</th>\n",
       "      <th>selftext</th>\n",
       "      <th>title</th>\n",
       "    </tr>\n",
       "  </thead>\n",
       "  <tbody>\n",
       "    <tr>\n",
       "      <th>0</th>\n",
       "      <td>0</td>\n",
       "      <td>So i went to a party at my buddies house and e...</td>\n",
       "      <td>Into a girl my friends also into</td>\n",
       "    </tr>\n",
       "    <tr>\n",
       "      <th>1</th>\n",
       "      <td>0</td>\n",
       "      <td>NaN</td>\n",
       "      <td>Our relationship is awkward in life but not ov...</td>\n",
       "    </tr>\n",
       "    <tr>\n",
       "      <th>2</th>\n",
       "      <td>0</td>\n",
       "      <td>This girl and I have grown closer. It was all ...</td>\n",
       "      <td>LDR with a girl an hour away. I'm 16, she's 17...</td>\n",
       "    </tr>\n",
       "    <tr>\n",
       "      <th>3</th>\n",
       "      <td>0</td>\n",
       "      <td>So redditors here's the story. My gf is mad th...</td>\n",
       "      <td>My g[f18] is mad at [m20]e on NYE..does she ha...</td>\n",
       "    </tr>\n",
       "    <tr>\n",
       "      <th>4</th>\n",
       "      <td>0</td>\n",
       "      <td>My GF and I have been together a year and a ha...</td>\n",
       "      <td>Problems with her friends and my friends. No t...</td>\n",
       "    </tr>\n",
       "  </tbody>\n",
       "</table>\n",
       "</div>"
      ],
      "text/plain": [
       "   subreddit                                           selftext  \\\n",
       "0          0  So i went to a party at my buddies house and e...   \n",
       "1          0                                                NaN   \n",
       "2          0  This girl and I have grown closer. It was all ...   \n",
       "3          0  So redditors here's the story. My gf is mad th...   \n",
       "4          0  My GF and I have been together a year and a ha...   \n",
       "\n",
       "                                               title  \n",
       "0                   Into a girl my friends also into  \n",
       "1  Our relationship is awkward in life but not ov...  \n",
       "2  LDR with a girl an hour away. I'm 16, she's 17...  \n",
       "3  My g[f18] is mad at [m20]e on NYE..does she ha...  \n",
       "4  Problems with her friends and my friends. No t...  "
      ]
     },
     "execution_count": 7,
     "metadata": {},
     "output_type": "execute_result"
    }
   ],
   "source": [
    "genuine_qns_df.head()"
   ]
  },
  {
   "cell_type": "code",
   "execution_count": 8,
   "id": "8e6bfeb1",
   "metadata": {},
   "outputs": [],
   "source": [
    "# From Part 1, retriving unrelated questions\n",
    "\n",
    "unrelated_qns_df = pd.read_csv('../datasets/unrelated_qns.csv')"
   ]
  },
  {
   "cell_type": "code",
   "execution_count": 9,
   "id": "4c9b2a2b",
   "metadata": {
    "scrolled": true
   },
   "outputs": [],
   "source": [
    "# Drop 'Unnamed: 0' column\n",
    "\n",
    "unrelated_qns_df.drop(columns='Unnamed: 0', inplace=True)"
   ]
  },
  {
   "cell_type": "code",
   "execution_count": 10,
   "id": "6c0c45c4",
   "metadata": {},
   "outputs": [],
   "source": [
    "#Map genuine questions column as 0 and spam/non-related enquiries as 1 since it's a binary classification problem\n",
    "\n",
    "unrelated_qns_df['subreddit'] = unrelated_qns_df['subreddit'].map(lambda x: 0 if x == 'relationship_advice' else 1)"
   ]
  },
  {
   "cell_type": "code",
   "execution_count": 11,
   "id": "aeda4a1b",
   "metadata": {},
   "outputs": [
    {
     "data": {
      "text/plain": [
       "1    1.0\n",
       "Name: subreddit, dtype: float64"
      ]
     },
     "execution_count": 11,
     "metadata": {},
     "output_type": "execute_result"
    }
   ],
   "source": [
    "unrelated_qns_df['subreddit'].value_counts(normalize=True)"
   ]
  },
  {
   "cell_type": "code",
   "execution_count": 12,
   "id": "8c27612f",
   "metadata": {
    "scrolled": false
   },
   "outputs": [
    {
     "data": {
      "text/html": [
       "<div>\n",
       "<style scoped>\n",
       "    .dataframe tbody tr th:only-of-type {\n",
       "        vertical-align: middle;\n",
       "    }\n",
       "\n",
       "    .dataframe tbody tr th {\n",
       "        vertical-align: top;\n",
       "    }\n",
       "\n",
       "    .dataframe thead th {\n",
       "        text-align: right;\n",
       "    }\n",
       "</style>\n",
       "<table border=\"1\" class=\"dataframe\">\n",
       "  <thead>\n",
       "    <tr style=\"text-align: right;\">\n",
       "      <th></th>\n",
       "      <th>subreddit</th>\n",
       "      <th>selftext</th>\n",
       "      <th>title</th>\n",
       "    </tr>\n",
       "  </thead>\n",
       "  <tbody>\n",
       "    <tr>\n",
       "      <th>0</th>\n",
       "      <td>1</td>\n",
       "      <td>Looking for some art, thought there might be s...</td>\n",
       "      <td>Ok, weird question. Is there a subreddit to co...</td>\n",
       "    </tr>\n",
       "    <tr>\n",
       "      <th>1</th>\n",
       "      <td>1</td>\n",
       "      <td>A truly stupid question. It's almost sad that ...</td>\n",
       "      <td>If it's well over 98℉ outside, does passed gas...</td>\n",
       "    </tr>\n",
       "    <tr>\n",
       "      <th>2</th>\n",
       "      <td>1</td>\n",
       "      <td>Okay, stupid question, but does excel ever end...</td>\n",
       "      <td>Is Excel never ending?</td>\n",
       "    </tr>\n",
       "    <tr>\n",
       "      <th>3</th>\n",
       "      <td>1</td>\n",
       "      <td>According to the [CIA factbook](https://www.ci...</td>\n",
       "      <td>Why is Lybia's oil so important?</td>\n",
       "    </tr>\n",
       "    <tr>\n",
       "      <th>4</th>\n",
       "      <td>1</td>\n",
       "      <td>Because, according to my middle school health ...</td>\n",
       "      <td>Can hemophiliacs get heart attacks?</td>\n",
       "    </tr>\n",
       "  </tbody>\n",
       "</table>\n",
       "</div>"
      ],
      "text/plain": [
       "   subreddit                                           selftext  \\\n",
       "0          1  Looking for some art, thought there might be s...   \n",
       "1          1  A truly stupid question. It's almost sad that ...   \n",
       "2          1  Okay, stupid question, but does excel ever end...   \n",
       "3          1  According to the [CIA factbook](https://www.ci...   \n",
       "4          1  Because, according to my middle school health ...   \n",
       "\n",
       "                                               title  \n",
       "0  Ok, weird question. Is there a subreddit to co...  \n",
       "1  If it's well over 98℉ outside, does passed gas...  \n",
       "2                             Is Excel never ending?  \n",
       "3                   Why is Lybia's oil so important?  \n",
       "4                Can hemophiliacs get heart attacks?  "
      ]
     },
     "execution_count": 12,
     "metadata": {},
     "output_type": "execute_result"
    }
   ],
   "source": [
    "unrelated_qns_df.head()"
   ]
  },
  {
   "cell_type": "code",
   "execution_count": 13,
   "id": "09780f88",
   "metadata": {},
   "outputs": [],
   "source": [
    "# Combined both selftext and title as 1 column for easier analysis \n",
    "genuine_qns_df['text'] = genuine_qns_df['title'].fillna('') + ' ' + genuine_qns_df['selftext'].fillna('')\n",
    "unrelated_qns_df['text'] = unrelated_qns_df['title'].fillna('') + ' ' + unrelated_qns_df['selftext'].fillna('')"
   ]
  },
  {
   "cell_type": "markdown",
   "id": "b6212839",
   "metadata": {},
   "source": [
    "#### Data Cleaning"
   ]
  },
  {
   "cell_type": "code",
   "execution_count": 14,
   "id": "7abe97c8",
   "metadata": {},
   "outputs": [
    {
     "name": "stdout",
     "output_type": "stream",
     "text": [
      "subreddit      0\n",
      "selftext     118\n",
      "title          0\n",
      "text           0\n",
      "dtype: int64\n",
      "subreddit       0\n",
      "selftext     3177\n",
      "title           0\n",
      "text            0\n",
      "dtype: int64\n"
     ]
    }
   ],
   "source": [
    "# Checking for NANs \n",
    "print(genuine_qns_df.isnull().sum())\n",
    "print(unrelated_qns_df.isnull().sum())"
   ]
  },
  {
   "cell_type": "markdown",
   "id": "5af62abb",
   "metadata": {},
   "source": [
    "#### Check for duplicate in the 8000 posts"
   ]
  },
  {
   "cell_type": "code",
   "execution_count": 15,
   "id": "77fd9454",
   "metadata": {},
   "outputs": [
    {
     "name": "stdout",
     "output_type": "stream",
     "text": [
      "(8000, 4)\n",
      "7983\n",
      "(7983, 4)\n"
     ]
    }
   ],
   "source": [
    "#Check and drop duplicates\n",
    "print(genuine_qns_df.shape)\n",
    "print(genuine_qns_df['text'].nunique())\n",
    "genuine_qns_df = genuine_qns_df.drop_duplicates(subset=['text'])\n",
    "print(genuine_qns_df.shape)"
   ]
  },
  {
   "cell_type": "code",
   "execution_count": 16,
   "id": "3ca47851",
   "metadata": {},
   "outputs": [
    {
     "name": "stdout",
     "output_type": "stream",
     "text": [
      "(8000, 4)\n",
      "7971\n",
      "(7971, 4)\n"
     ]
    }
   ],
   "source": [
    "#Check and drop duplicates\n",
    "print(unrelated_qns_df.shape)\n",
    "print(unrelated_qns_df['text'].nunique())\n",
    "unrelated_qns_df = unrelated_qns_df.drop_duplicates(subset=['text'])\n",
    "print(unrelated_qns_df.shape)"
   ]
  },
  {
   "cell_type": "markdown",
   "id": "a86e672e",
   "metadata": {},
   "source": [
    "#### Creating a custom function to remove the following from each post:\n",
    "- Remove deleted posts\n",
    "- Remove URLs\n",
    "- Remove punctuations\n",
    "- Remove Non-ASCII characters\n",
    "- Remove raw text of comments and submission self texts\n",
    "- Remove stopwords"
   ]
  },
  {
   "cell_type": "markdown",
   "id": "9e6e12c9",
   "metadata": {},
   "source": [
    "Reddit uses some characters in the raw text of comments and submission selftexts that may need to be removed if just the plain natural text is required for NLP/Data Science tasks. redditcleaner module cleans this text data."
   ]
  },
  {
   "cell_type": "code",
   "execution_count": 17,
   "id": "e66a6858",
   "metadata": {},
   "outputs": [
    {
     "name": "stdout",
     "output_type": "stream",
     "text": [
      "Requirement already satisfied: redditcleaner in c:\\users\\jia sheng\\anaconda3\\lib\\site-packages (1.1.2)\n"
     ]
    }
   ],
   "source": [
    "!pip install redditcleaner\n",
    "import redditcleaner"
   ]
  },
  {
   "cell_type": "code",
   "execution_count": 18,
   "id": "f9c0640f",
   "metadata": {},
   "outputs": [],
   "source": [
    "def clean_text(text):\n",
    "    \n",
    "    text = str(text.lower())\n",
    "    \n",
    "    #'[removed]' means it was removed by a mod or automoderator, or the spam filter\n",
    "    if '[removed]' in text:\n",
    "        text = ''\n",
    "    else:\n",
    "        pass\n",
    "    \n",
    "    #remove urls\n",
    "    text = re.sub(r'http\\S+', \"\", text)\n",
    "    \n",
    "    #remove punctuations\n",
    "    text = re.sub(\"[^\\w\\s]\", \"\", text)\n",
    "    \n",
    "    #remove non-ascii characters\n",
    "    text = text.encode('ascii',errors='ignore').decode()\n",
    "    \n",
    "    #remove markdown character from raw text\n",
    "    text = redditcleaner.clean(text)\n",
    "    \n",
    "    #remove stopwords from NLTK default library \n",
    "    stop_words = set(stopwords.words('english'))\n",
    "    word_tokens = word_tokenize(str(text))\n",
    "    text = [w for w in word_tokens if not w.lower() in stop_words]\n",
    "    text = ' '.join(text)\n",
    "    \n",
    "    return text"
   ]
  },
  {
   "cell_type": "code",
   "execution_count": 19,
   "id": "38312399",
   "metadata": {},
   "outputs": [],
   "source": [
    "genuine_qns_df['cleaned_text'] = genuine_qns_df['text'].map(lambda x: clean_text(x))\n",
    "unrelated_qns_df['cleaned_text'] = unrelated_qns_df['text'].map(lambda x: clean_text(x))"
   ]
  },
  {
   "cell_type": "code",
   "execution_count": 20,
   "id": "76953c3d",
   "metadata": {
    "scrolled": true
   },
   "outputs": [
    {
     "data": {
      "text/html": [
       "<div>\n",
       "<style scoped>\n",
       "    .dataframe tbody tr th:only-of-type {\n",
       "        vertical-align: middle;\n",
       "    }\n",
       "\n",
       "    .dataframe tbody tr th {\n",
       "        vertical-align: top;\n",
       "    }\n",
       "\n",
       "    .dataframe thead th {\n",
       "        text-align: right;\n",
       "    }\n",
       "</style>\n",
       "<table border=\"1\" class=\"dataframe\">\n",
       "  <thead>\n",
       "    <tr style=\"text-align: right;\">\n",
       "      <th></th>\n",
       "      <th>subreddit</th>\n",
       "      <th>selftext</th>\n",
       "      <th>title</th>\n",
       "      <th>text</th>\n",
       "      <th>cleaned_text</th>\n",
       "    </tr>\n",
       "  </thead>\n",
       "  <tbody>\n",
       "    <tr>\n",
       "      <th>0</th>\n",
       "      <td>0</td>\n",
       "      <td>So i went to a party at my buddies house and e...</td>\n",
       "      <td>Into a girl my friends also into</td>\n",
       "      <td>Into a girl my friends also into So i went to ...</td>\n",
       "      <td>girl friends also went party buddies house end...</td>\n",
       "    </tr>\n",
       "    <tr>\n",
       "      <th>1</th>\n",
       "      <td>0</td>\n",
       "      <td>NaN</td>\n",
       "      <td>Our relationship is awkward in life but not ov...</td>\n",
       "      <td>Our relationship is awkward in life but not ov...</td>\n",
       "      <td>relationship awkward life text message way mak...</td>\n",
       "    </tr>\n",
       "    <tr>\n",
       "      <th>2</th>\n",
       "      <td>0</td>\n",
       "      <td>This girl and I have grown closer. It was all ...</td>\n",
       "      <td>LDR with a girl an hour away. I'm 16, she's 17...</td>\n",
       "      <td>LDR with a girl an hour away. I'm 16, she's 17...</td>\n",
       "      <td>ldr girl hour away im 16 shes 17 got together ...</td>\n",
       "    </tr>\n",
       "    <tr>\n",
       "      <th>3</th>\n",
       "      <td>0</td>\n",
       "      <td>So redditors here's the story. My gf is mad th...</td>\n",
       "      <td>My g[f18] is mad at [m20]e on NYE..does she ha...</td>\n",
       "      <td>My g[f18] is mad at [m20]e on NYE..does she ha...</td>\n",
       "      <td>gf18 mad m20e nyedoes reason redditors heres s...</td>\n",
       "    </tr>\n",
       "    <tr>\n",
       "      <th>4</th>\n",
       "      <td>0</td>\n",
       "      <td>My GF and I have been together a year and a ha...</td>\n",
       "      <td>Problems with her friends and my friends. No t...</td>\n",
       "      <td>Problems with her friends and my friends. No t...</td>\n",
       "      <td>problems friends friends time gf together year...</td>\n",
       "    </tr>\n",
       "  </tbody>\n",
       "</table>\n",
       "</div>"
      ],
      "text/plain": [
       "   subreddit                                           selftext  \\\n",
       "0          0  So i went to a party at my buddies house and e...   \n",
       "1          0                                                NaN   \n",
       "2          0  This girl and I have grown closer. It was all ...   \n",
       "3          0  So redditors here's the story. My gf is mad th...   \n",
       "4          0  My GF and I have been together a year and a ha...   \n",
       "\n",
       "                                               title  \\\n",
       "0                   Into a girl my friends also into   \n",
       "1  Our relationship is awkward in life but not ov...   \n",
       "2  LDR with a girl an hour away. I'm 16, she's 17...   \n",
       "3  My g[f18] is mad at [m20]e on NYE..does she ha...   \n",
       "4  Problems with her friends and my friends. No t...   \n",
       "\n",
       "                                                text  \\\n",
       "0  Into a girl my friends also into So i went to ...   \n",
       "1  Our relationship is awkward in life but not ov...   \n",
       "2  LDR with a girl an hour away. I'm 16, she's 17...   \n",
       "3  My g[f18] is mad at [m20]e on NYE..does she ha...   \n",
       "4  Problems with her friends and my friends. No t...   \n",
       "\n",
       "                                        cleaned_text  \n",
       "0  girl friends also went party buddies house end...  \n",
       "1  relationship awkward life text message way mak...  \n",
       "2  ldr girl hour away im 16 shes 17 got together ...  \n",
       "3  gf18 mad m20e nyedoes reason redditors heres s...  \n",
       "4  problems friends friends time gf together year...  "
      ]
     },
     "execution_count": 20,
     "metadata": {},
     "output_type": "execute_result"
    }
   ],
   "source": [
    "genuine_qns_df.head()"
   ]
  },
  {
   "cell_type": "code",
   "execution_count": 21,
   "id": "b9f79642",
   "metadata": {},
   "outputs": [
    {
     "data": {
      "text/html": [
       "<div>\n",
       "<style scoped>\n",
       "    .dataframe tbody tr th:only-of-type {\n",
       "        vertical-align: middle;\n",
       "    }\n",
       "\n",
       "    .dataframe tbody tr th {\n",
       "        vertical-align: top;\n",
       "    }\n",
       "\n",
       "    .dataframe thead th {\n",
       "        text-align: right;\n",
       "    }\n",
       "</style>\n",
       "<table border=\"1\" class=\"dataframe\">\n",
       "  <thead>\n",
       "    <tr style=\"text-align: right;\">\n",
       "      <th></th>\n",
       "      <th>subreddit</th>\n",
       "      <th>selftext</th>\n",
       "      <th>title</th>\n",
       "      <th>text</th>\n",
       "      <th>cleaned_text</th>\n",
       "    </tr>\n",
       "  </thead>\n",
       "  <tbody>\n",
       "    <tr>\n",
       "      <th>0</th>\n",
       "      <td>1</td>\n",
       "      <td>Looking for some art, thought there might be s...</td>\n",
       "      <td>Ok, weird question. Is there a subreddit to co...</td>\n",
       "      <td>Ok, weird question. Is there a subreddit to co...</td>\n",
       "      <td>ok weird question subreddit connect redditors ...</td>\n",
       "    </tr>\n",
       "    <tr>\n",
       "      <th>1</th>\n",
       "      <td>1</td>\n",
       "      <td>A truly stupid question. It's almost sad that ...</td>\n",
       "      <td>If it's well over 98℉ outside, does passed gas...</td>\n",
       "      <td>If it's well over 98℉ outside, does passed gas...</td>\n",
       "      <td>well 98 outside passed gas rise spreads truly ...</td>\n",
       "    </tr>\n",
       "    <tr>\n",
       "      <th>2</th>\n",
       "      <td>1</td>\n",
       "      <td>Okay, stupid question, but does excel ever end...</td>\n",
       "      <td>Is Excel never ending?</td>\n",
       "      <td>Is Excel never ending? Okay, stupid question, ...</td>\n",
       "      <td>excel never ending okay stupid question excel ...</td>\n",
       "    </tr>\n",
       "    <tr>\n",
       "      <th>3</th>\n",
       "      <td>1</td>\n",
       "      <td>According to the [CIA factbook](https://www.ci...</td>\n",
       "      <td>Why is Lybia's oil so important?</td>\n",
       "      <td>Why is Lybia's oil so important? According to ...</td>\n",
       "      <td>lybias oil important according cia factbook li...</td>\n",
       "    </tr>\n",
       "    <tr>\n",
       "      <th>4</th>\n",
       "      <td>1</td>\n",
       "      <td>Because, according to my middle school health ...</td>\n",
       "      <td>Can hemophiliacs get heart attacks?</td>\n",
       "      <td>Can hemophiliacs get heart attacks? Because, a...</td>\n",
       "      <td>hemophiliacs get heart attacks according middl...</td>\n",
       "    </tr>\n",
       "  </tbody>\n",
       "</table>\n",
       "</div>"
      ],
      "text/plain": [
       "   subreddit                                           selftext  \\\n",
       "0          1  Looking for some art, thought there might be s...   \n",
       "1          1  A truly stupid question. It's almost sad that ...   \n",
       "2          1  Okay, stupid question, but does excel ever end...   \n",
       "3          1  According to the [CIA factbook](https://www.ci...   \n",
       "4          1  Because, according to my middle school health ...   \n",
       "\n",
       "                                               title  \\\n",
       "0  Ok, weird question. Is there a subreddit to co...   \n",
       "1  If it's well over 98℉ outside, does passed gas...   \n",
       "2                             Is Excel never ending?   \n",
       "3                   Why is Lybia's oil so important?   \n",
       "4                Can hemophiliacs get heart attacks?   \n",
       "\n",
       "                                                text  \\\n",
       "0  Ok, weird question. Is there a subreddit to co...   \n",
       "1  If it's well over 98℉ outside, does passed gas...   \n",
       "2  Is Excel never ending? Okay, stupid question, ...   \n",
       "3  Why is Lybia's oil so important? According to ...   \n",
       "4  Can hemophiliacs get heart attacks? Because, a...   \n",
       "\n",
       "                                        cleaned_text  \n",
       "0  ok weird question subreddit connect redditors ...  \n",
       "1  well 98 outside passed gas rise spreads truly ...  \n",
       "2  excel never ending okay stupid question excel ...  \n",
       "3  lybias oil important according cia factbook li...  \n",
       "4  hemophiliacs get heart attacks according middl...  "
      ]
     },
     "execution_count": 21,
     "metadata": {},
     "output_type": "execute_result"
    }
   ],
   "source": [
    "unrelated_qns_df.head()"
   ]
  },
  {
   "cell_type": "markdown",
   "id": "d0d8571b",
   "metadata": {},
   "source": [
    "#### Feature Engineering"
   ]
  },
  {
   "cell_type": "markdown",
   "id": "33a399da",
   "metadata": {},
   "source": [
    "Create 2 features, namely \"word_count\" and \"length count\" to visualize the distribution of post lengths and word counts"
   ]
  },
  {
   "cell_type": "code",
   "execution_count": 22,
   "id": "ea471413",
   "metadata": {},
   "outputs": [],
   "source": [
    "# Creating a new column to count the chars in 'cleaned_text' column \n",
    "genuine_qns_df['length_count'] = genuine_qns_df['cleaned_text'].map(lambda x: len(str(x)))\n",
    "unrelated_qns_df['length_count'] = unrelated_qns_df['cleaned_text'].map(lambda x: len(str(x)))"
   ]
  },
  {
   "cell_type": "code",
   "execution_count": 91,
   "id": "76b706ec",
   "metadata": {},
   "outputs": [],
   "source": [
    "# Creating a new column to count the number of words in 'cleaned_text' column \n",
    "genuine_qns_df['word_count'] = genuine_qns_df['cleaned_text'].map(lambda x: len(str(x).split()))\n",
    "unrelated_qns_df['word_count'] = unrelated_qns_df['cleaned_text'].map(lambda x: len(str(x).split()))"
   ]
  },
  {
   "cell_type": "code",
   "execution_count": 92,
   "id": "006eb612",
   "metadata": {},
   "outputs": [],
   "source": [
    "# drop original selftext and title columns\n",
    "genuine_qns_df.drop(columns=['selftext','title'],inplace=True)\n",
    "unrelated_qns_df.drop(columns=['selftext','title'],inplace=True)"
   ]
  },
  {
   "cell_type": "code",
   "execution_count": 93,
   "id": "1d746488",
   "metadata": {},
   "outputs": [
    {
     "data": {
      "text/html": [
       "<div>\n",
       "<style scoped>\n",
       "    .dataframe tbody tr th:only-of-type {\n",
       "        vertical-align: middle;\n",
       "    }\n",
       "\n",
       "    .dataframe tbody tr th {\n",
       "        vertical-align: top;\n",
       "    }\n",
       "\n",
       "    .dataframe thead th {\n",
       "        text-align: right;\n",
       "    }\n",
       "</style>\n",
       "<table border=\"1\" class=\"dataframe\">\n",
       "  <thead>\n",
       "    <tr style=\"text-align: right;\">\n",
       "      <th></th>\n",
       "      <th>subreddit</th>\n",
       "      <th>text</th>\n",
       "      <th>cleaned_text</th>\n",
       "      <th>length_count</th>\n",
       "      <th>word_count</th>\n",
       "    </tr>\n",
       "  </thead>\n",
       "  <tbody>\n",
       "    <tr>\n",
       "      <th>0</th>\n",
       "      <td>0</td>\n",
       "      <td>Into a girl my friends also into So i went to ...</td>\n",
       "      <td>girl friends also went party buddies house end...</td>\n",
       "      <td>295</td>\n",
       "      <td>49</td>\n",
       "    </tr>\n",
       "    <tr>\n",
       "      <th>1</th>\n",
       "      <td>0</td>\n",
       "      <td>Our relationship is awkward in life but not ov...</td>\n",
       "      <td>relationship awkward life text message way mak...</td>\n",
       "      <td>62</td>\n",
       "      <td>9</td>\n",
       "    </tr>\n",
       "    <tr>\n",
       "      <th>2</th>\n",
       "      <td>0</td>\n",
       "      <td>LDR with a girl an hour away. I'm 16, she's 17...</td>\n",
       "      <td>ldr girl hour away im 16 shes 17 got together ...</td>\n",
       "      <td>932</td>\n",
       "      <td>154</td>\n",
       "    </tr>\n",
       "    <tr>\n",
       "      <th>3</th>\n",
       "      <td>0</td>\n",
       "      <td>My g[f18] is mad at [m20]e on NYE..does she ha...</td>\n",
       "      <td>gf18 mad m20e nyedoes reason redditors heres s...</td>\n",
       "      <td>663</td>\n",
       "      <td>118</td>\n",
       "    </tr>\n",
       "    <tr>\n",
       "      <th>4</th>\n",
       "      <td>0</td>\n",
       "      <td>Problems with her friends and my friends. No t...</td>\n",
       "      <td>problems friends friends time gf together year...</td>\n",
       "      <td>1422</td>\n",
       "      <td>226</td>\n",
       "    </tr>\n",
       "  </tbody>\n",
       "</table>\n",
       "</div>"
      ],
      "text/plain": [
       "   subreddit                                               text  \\\n",
       "0          0  Into a girl my friends also into So i went to ...   \n",
       "1          0  Our relationship is awkward in life but not ov...   \n",
       "2          0  LDR with a girl an hour away. I'm 16, she's 17...   \n",
       "3          0  My g[f18] is mad at [m20]e on NYE..does she ha...   \n",
       "4          0  Problems with her friends and my friends. No t...   \n",
       "\n",
       "                                        cleaned_text  length_count  word_count  \n",
       "0  girl friends also went party buddies house end...           295          49  \n",
       "1  relationship awkward life text message way mak...            62           9  \n",
       "2  ldr girl hour away im 16 shes 17 got together ...           932         154  \n",
       "3  gf18 mad m20e nyedoes reason redditors heres s...           663         118  \n",
       "4  problems friends friends time gf together year...          1422         226  "
      ]
     },
     "execution_count": 93,
     "metadata": {},
     "output_type": "execute_result"
    }
   ],
   "source": [
    "genuine_qns_df.head()"
   ]
  },
  {
   "cell_type": "code",
   "execution_count": 94,
   "id": "13dda664",
   "metadata": {},
   "outputs": [
    {
     "data": {
      "text/html": [
       "<div>\n",
       "<style scoped>\n",
       "    .dataframe tbody tr th:only-of-type {\n",
       "        vertical-align: middle;\n",
       "    }\n",
       "\n",
       "    .dataframe tbody tr th {\n",
       "        vertical-align: top;\n",
       "    }\n",
       "\n",
       "    .dataframe thead th {\n",
       "        text-align: right;\n",
       "    }\n",
       "</style>\n",
       "<table border=\"1\" class=\"dataframe\">\n",
       "  <thead>\n",
       "    <tr style=\"text-align: right;\">\n",
       "      <th></th>\n",
       "      <th>subreddit</th>\n",
       "      <th>text</th>\n",
       "      <th>cleaned_text</th>\n",
       "      <th>length_count</th>\n",
       "      <th>word_count</th>\n",
       "    </tr>\n",
       "  </thead>\n",
       "  <tbody>\n",
       "    <tr>\n",
       "      <th>0</th>\n",
       "      <td>1</td>\n",
       "      <td>Ok, weird question. Is there a subreddit to co...</td>\n",
       "      <td>ok weird question subreddit connect redditors ...</td>\n",
       "      <td>212</td>\n",
       "      <td>29</td>\n",
       "    </tr>\n",
       "    <tr>\n",
       "      <th>1</th>\n",
       "      <td>1</td>\n",
       "      <td>If it's well over 98℉ outside, does passed gas...</td>\n",
       "      <td>well 98 outside passed gas rise spreads truly ...</td>\n",
       "      <td>108</td>\n",
       "      <td>18</td>\n",
       "    </tr>\n",
       "    <tr>\n",
       "      <th>2</th>\n",
       "      <td>1</td>\n",
       "      <td>Is Excel never ending? Okay, stupid question, ...</td>\n",
       "      <td>excel never ending okay stupid question excel ...</td>\n",
       "      <td>109</td>\n",
       "      <td>17</td>\n",
       "    </tr>\n",
       "    <tr>\n",
       "      <th>3</th>\n",
       "      <td>1</td>\n",
       "      <td>Why is Lybia's oil so important? According to ...</td>\n",
       "      <td>lybias oil important according cia factbook li...</td>\n",
       "      <td>335</td>\n",
       "      <td>51</td>\n",
       "    </tr>\n",
       "    <tr>\n",
       "      <th>4</th>\n",
       "      <td>1</td>\n",
       "      <td>Can hemophiliacs get heart attacks? Because, a...</td>\n",
       "      <td>hemophiliacs get heart attacks according middl...</td>\n",
       "      <td>174</td>\n",
       "      <td>24</td>\n",
       "    </tr>\n",
       "  </tbody>\n",
       "</table>\n",
       "</div>"
      ],
      "text/plain": [
       "   subreddit                                               text  \\\n",
       "0          1  Ok, weird question. Is there a subreddit to co...   \n",
       "1          1  If it's well over 98℉ outside, does passed gas...   \n",
       "2          1  Is Excel never ending? Okay, stupid question, ...   \n",
       "3          1  Why is Lybia's oil so important? According to ...   \n",
       "4          1  Can hemophiliacs get heart attacks? Because, a...   \n",
       "\n",
       "                                        cleaned_text  length_count  word_count  \n",
       "0  ok weird question subreddit connect redditors ...           212          29  \n",
       "1  well 98 outside passed gas rise spreads truly ...           108          18  \n",
       "2  excel never ending okay stupid question excel ...           109          17  \n",
       "3  lybias oil important according cia factbook li...           335          51  \n",
       "4  hemophiliacs get heart attacks according middl...           174          24  "
      ]
     },
     "execution_count": 94,
     "metadata": {},
     "output_type": "execute_result"
    }
   ],
   "source": [
    "unrelated_qns_df.head()"
   ]
  },
  {
   "cell_type": "markdown",
   "id": "7e3b24d2",
   "metadata": {},
   "source": [
    "#### Visualization the distribution of post lengths & word count"
   ]
  },
  {
   "cell_type": "code",
   "execution_count": 95,
   "id": "5a253edf",
   "metadata": {
    "scrolled": false
   },
   "outputs": [
    {
     "data": {
      "text/plain": [
       "<AxesSubplot:title={'center':'Unrelated Question (Character Count)'}, xlabel='length_count', ylabel='Count'>"
      ]
     },
     "execution_count": 95,
     "metadata": {},
     "output_type": "execute_result"
    },
    {
     "data": {
      "image/png": "[encoded data removed]",
      "text/plain": [
       "<Figure size 1152x864 with 4 Axes>"
      ]
     },
     "metadata": {
      "needs_background": "light"
     },
     "output_type": "display_data"
    }
   ],
   "source": [
    "color1 = \"#32b165\"\n",
    "color2 = \"#a38cf4\"\n",
    "plt.figure(figsize = (16,12))\n",
    "\n",
    "ax=plt.subplot(2, 2, 1)\n",
    "ax.set_title('Genuine Question (Word Count)')\n",
    "sns.histplot(genuine_qns_df['word_count'],bins=10,kde=True,color=color1)\n",
    "\n",
    "ax=plt.subplot(2, 2, 2)\n",
    "ax.set_title('Genuine Question (Character Count)')\n",
    "sns.histplot(genuine_qns_df['length_count'],bins=10,kde=True,color=color1)\n",
    "\n",
    "ax=plt.subplot(2, 2, 3)\n",
    "ax.set_title('Unrelated Question (Word Count)')\n",
    "sns.histplot(unrelated_qns_df['word_count'],bins=10,kde=True,color=color2)\n",
    "\n",
    "ax=plt.subplot(2, 2, 4)\n",
    "ax.set_title('Unrelated Question (Character Count)')\n",
    "sns.histplot(unrelated_qns_df['length_count'],bins=10,kde=True,color=color2)\n"
   ]
  },
  {
   "cell_type": "code",
   "execution_count": 96,
   "id": "bfdb1525",
   "metadata": {
    "scrolled": true
   },
   "outputs": [
    {
     "data": {
      "text/html": [
       "<div>\n",
       "<style scoped>\n",
       "    .dataframe tbody tr th:only-of-type {\n",
       "        vertical-align: middle;\n",
       "    }\n",
       "\n",
       "    .dataframe tbody tr th {\n",
       "        vertical-align: top;\n",
       "    }\n",
       "\n",
       "    .dataframe thead th {\n",
       "        text-align: right;\n",
       "    }\n",
       "</style>\n",
       "<table border=\"1\" class=\"dataframe\">\n",
       "  <thead>\n",
       "    <tr style=\"text-align: right;\">\n",
       "      <th></th>\n",
       "      <th>subreddit</th>\n",
       "      <th>length_count</th>\n",
       "      <th>word_count</th>\n",
       "    </tr>\n",
       "  </thead>\n",
       "  <tbody>\n",
       "    <tr>\n",
       "      <th>count</th>\n",
       "      <td>7983.0</td>\n",
       "      <td>7983.000000</td>\n",
       "      <td>7983.000000</td>\n",
       "    </tr>\n",
       "    <tr>\n",
       "      <th>mean</th>\n",
       "      <td>0.0</td>\n",
       "      <td>919.196793</td>\n",
       "      <td>142.314042</td>\n",
       "    </tr>\n",
       "    <tr>\n",
       "      <th>std</th>\n",
       "      <td>0.0</td>\n",
       "      <td>967.337025</td>\n",
       "      <td>148.984424</td>\n",
       "    </tr>\n",
       "    <tr>\n",
       "      <th>min</th>\n",
       "      <td>0.0</td>\n",
       "      <td>0.000000</td>\n",
       "      <td>0.000000</td>\n",
       "    </tr>\n",
       "    <tr>\n",
       "      <th>25%</th>\n",
       "      <td>0.0</td>\n",
       "      <td>303.000000</td>\n",
       "      <td>47.000000</td>\n",
       "    </tr>\n",
       "    <tr>\n",
       "      <th>50%</th>\n",
       "      <td>0.0</td>\n",
       "      <td>684.000000</td>\n",
       "      <td>107.000000</td>\n",
       "    </tr>\n",
       "    <tr>\n",
       "      <th>75%</th>\n",
       "      <td>0.0</td>\n",
       "      <td>1220.000000</td>\n",
       "      <td>190.000000</td>\n",
       "    </tr>\n",
       "    <tr>\n",
       "      <th>max</th>\n",
       "      <td>0.0</td>\n",
       "      <td>12200.000000</td>\n",
       "      <td>1881.000000</td>\n",
       "    </tr>\n",
       "  </tbody>\n",
       "</table>\n",
       "</div>"
      ],
      "text/plain": [
       "       subreddit  length_count   word_count\n",
       "count     7983.0   7983.000000  7983.000000\n",
       "mean         0.0    919.196793   142.314042\n",
       "std          0.0    967.337025   148.984424\n",
       "min          0.0      0.000000     0.000000\n",
       "25%          0.0    303.000000    47.000000\n",
       "50%          0.0    684.000000   107.000000\n",
       "75%          0.0   1220.000000   190.000000\n",
       "max          0.0  12200.000000  1881.000000"
      ]
     },
     "execution_count": 96,
     "metadata": {},
     "output_type": "execute_result"
    }
   ],
   "source": [
    "genuine_qns_df.describe()"
   ]
  },
  {
   "cell_type": "code",
   "execution_count": 97,
   "id": "1c76d1eb",
   "metadata": {
    "scrolled": false
   },
   "outputs": [
    {
     "data": {
      "text/html": [
       "<div>\n",
       "<style scoped>\n",
       "    .dataframe tbody tr th:only-of-type {\n",
       "        vertical-align: middle;\n",
       "    }\n",
       "\n",
       "    .dataframe tbody tr th {\n",
       "        vertical-align: top;\n",
       "    }\n",
       "\n",
       "    .dataframe thead th {\n",
       "        text-align: right;\n",
       "    }\n",
       "</style>\n",
       "<table border=\"1\" class=\"dataframe\">\n",
       "  <thead>\n",
       "    <tr style=\"text-align: right;\">\n",
       "      <th></th>\n",
       "      <th>subreddit</th>\n",
       "      <th>length_count</th>\n",
       "      <th>word_count</th>\n",
       "    </tr>\n",
       "  </thead>\n",
       "  <tbody>\n",
       "    <tr>\n",
       "      <th>count</th>\n",
       "      <td>7971.0</td>\n",
       "      <td>7971.000000</td>\n",
       "      <td>7971.000000</td>\n",
       "    </tr>\n",
       "    <tr>\n",
       "      <th>mean</th>\n",
       "      <td>1.0</td>\n",
       "      <td>115.716974</td>\n",
       "      <td>17.678961</td>\n",
       "    </tr>\n",
       "    <tr>\n",
       "      <th>std</th>\n",
       "      <td>0.0</td>\n",
       "      <td>155.170700</td>\n",
       "      <td>22.384295</td>\n",
       "    </tr>\n",
       "    <tr>\n",
       "      <th>min</th>\n",
       "      <td>1.0</td>\n",
       "      <td>0.000000</td>\n",
       "      <td>0.000000</td>\n",
       "    </tr>\n",
       "    <tr>\n",
       "      <th>25%</th>\n",
       "      <td>1.0</td>\n",
       "      <td>37.000000</td>\n",
       "      <td>6.000000</td>\n",
       "    </tr>\n",
       "    <tr>\n",
       "      <th>50%</th>\n",
       "      <td>1.0</td>\n",
       "      <td>69.000000</td>\n",
       "      <td>11.000000</td>\n",
       "    </tr>\n",
       "    <tr>\n",
       "      <th>75%</th>\n",
       "      <td>1.0</td>\n",
       "      <td>140.000000</td>\n",
       "      <td>22.000000</td>\n",
       "    </tr>\n",
       "    <tr>\n",
       "      <th>max</th>\n",
       "      <td>1.0</td>\n",
       "      <td>3446.000000</td>\n",
       "      <td>543.000000</td>\n",
       "    </tr>\n",
       "  </tbody>\n",
       "</table>\n",
       "</div>"
      ],
      "text/plain": [
       "       subreddit  length_count   word_count\n",
       "count     7971.0   7971.000000  7971.000000\n",
       "mean         1.0    115.716974    17.678961\n",
       "std          0.0    155.170700    22.384295\n",
       "min          1.0      0.000000     0.000000\n",
       "25%          1.0     37.000000     6.000000\n",
       "50%          1.0     69.000000    11.000000\n",
       "75%          1.0    140.000000    22.000000\n",
       "max          1.0   3446.000000   543.000000"
      ]
     },
     "execution_count": 97,
     "metadata": {},
     "output_type": "execute_result"
    }
   ],
   "source": [
    "unrelated_qns_df.describe()"
   ]
  },
  {
   "cell_type": "markdown",
   "id": "87a843c7",
   "metadata": {},
   "source": [
    "- Observations:\n",
    "    \n",
    "    The distribution plots are right-skewed and show a fair amount of outliers, however we did not remove them as it may impact model performance."
   ]
  },
  {
   "cell_type": "code",
   "execution_count": 98,
   "id": "38dda6d4",
   "metadata": {},
   "outputs": [],
   "source": [
    "#Dropping rows with empty cell under 'cleaned_text' column\n",
    "genuine_qns_df = genuine_qns_df[genuine_qns_df['word_count']!=0]\n",
    "unrelated_qns_df = unrelated_qns_df[unrelated_qns_df['word_count']!=0]"
   ]
  },
  {
   "cell_type": "code",
   "execution_count": 99,
   "id": "5d48d162",
   "metadata": {},
   "outputs": [
    {
     "data": {
      "text/plain": [
       "(7651, 5)"
      ]
     },
     "execution_count": 99,
     "metadata": {},
     "output_type": "execute_result"
    }
   ],
   "source": [
    "genuine_qns_df.shape"
   ]
  },
  {
   "cell_type": "code",
   "execution_count": 100,
   "id": "1840a69c",
   "metadata": {},
   "outputs": [
    {
     "data": {
      "text/plain": [
       "(7900, 5)"
      ]
     },
     "execution_count": 100,
     "metadata": {},
     "output_type": "execute_result"
    }
   ],
   "source": [
    "unrelated_qns_df.shape"
   ]
  },
  {
   "cell_type": "markdown",
   "id": "3d05fb80",
   "metadata": {},
   "source": [
    "## Explore most frequent words with Count Vectorization"
   ]
  },
  {
   "cell_type": "code",
   "execution_count": 101,
   "id": "30e54bfb",
   "metadata": {},
   "outputs": [],
   "source": [
    "#genuine_qns_df\n",
    "cv = CountVectorizer(stop_words='english',ngram_range=(1,1))\n",
    "cv.fit(genuine_qns_df['cleaned_text'])\n",
    "cv_transformed = cv.transform(genuine_qns_df['cleaned_text'])\n",
    "cv_df = pd.DataFrame(cv_transformed.todense(),columns=cv.get_feature_names())"
   ]
  },
  {
   "cell_type": "code",
   "execution_count": 102,
   "id": "b1443612",
   "metadata": {},
   "outputs": [],
   "source": [
    "genuine_most_common_words = cv_df.sum().sort_values(ascending=False)"
   ]
  },
  {
   "cell_type": "code",
   "execution_count": 103,
   "id": "e106df4d",
   "metadata": {},
   "outputs": [
    {
     "data": {
      "image/png": "[encoded data removed]",
      "text/plain": [
       "<Figure size 432x288 with 1 Axes>"
      ]
     },
     "metadata": {
      "needs_background": "light"
     },
     "output_type": "display_data"
    }
   ],
   "source": [
    "genuine_most_common_words.head(15).plot(kind='barh');"
   ]
  },
  {
   "cell_type": "code",
   "execution_count": 104,
   "id": "effe158c",
   "metadata": {},
   "outputs": [],
   "source": [
    "#unrelated_qns_df\n",
    "cv = CountVectorizer(stop_words='english',ngram_range=(1,1))\n",
    "cv.fit(unrelated_qns_df['cleaned_text'])\n",
    "cv_transformed = cv.transform(unrelated_qns_df['cleaned_text'])\n",
    "cv_df = pd.DataFrame(cv_transformed.todense(),columns=cv.get_feature_names())"
   ]
  },
  {
   "cell_type": "code",
   "execution_count": 105,
   "id": "9ad1f272",
   "metadata": {},
   "outputs": [],
   "source": [
    "unrelated_most_common_words = cv_df.sum().sort_values(ascending=False)"
   ]
  },
  {
   "cell_type": "code",
   "execution_count": 106,
   "id": "67d99d6a",
   "metadata": {},
   "outputs": [
    {
     "data": {
      "image/png": "[encoded data removed]",
      "text/plain": [
       "<Figure size 432x288 with 1 Axes>"
      ]
     },
     "metadata": {
      "needs_background": "light"
     },
     "output_type": "display_data"
    }
   ],
   "source": [
    "unrelated_most_common_words.head(15).plot(kind='barh');"
   ]
  },
  {
   "cell_type": "markdown",
   "id": "3c3dcd77",
   "metadata": {},
   "source": [
    "## Explore most frequent words with TfidfVectorizer"
   ]
  },
  {
   "cell_type": "code",
   "execution_count": 107,
   "id": "1148a4d1",
   "metadata": {},
   "outputs": [],
   "source": [
    "#genuine_qns_df\n",
    "tvec = TfidfVectorizer(stop_words='english',ngram_range=(1,1))\n",
    "tvec.fit(genuine_qns_df['cleaned_text'])\n",
    "tvec_transformed = tvec.transform(genuine_qns_df['cleaned_text'])\n",
    "tvec_df = pd.DataFrame(tvec_transformed.todense(),columns=tvec.get_feature_names())"
   ]
  },
  {
   "cell_type": "code",
   "execution_count": 108,
   "id": "f46ad57c",
   "metadata": {},
   "outputs": [],
   "source": [
    "genuine_most_common_words_tfid = tvec_df.sum().sort_values(ascending=False)"
   ]
  },
  {
   "cell_type": "code",
   "execution_count": 109,
   "id": "287ee0e3",
   "metadata": {},
   "outputs": [
    {
     "data": {
      "image/png": "[encoded data removed]",
      "text/plain": [
       "<Figure size 432x288 with 1 Axes>"
      ]
     },
     "metadata": {
      "needs_background": "light"
     },
     "output_type": "display_data"
    }
   ],
   "source": [
    "genuine_most_common_words_tfid.head(15).plot(kind='barh');"
   ]
  },
  {
   "cell_type": "code",
   "execution_count": 110,
   "id": "e74335ce",
   "metadata": {},
   "outputs": [],
   "source": [
    "#unrelated_qns_df\n",
    "tvec = TfidfVectorizer(stop_words='english',ngram_range=(1,1))\n",
    "tvec.fit(unrelated_qns_df['cleaned_text'])\n",
    "tvec_transformed = tvec.transform(unrelated_qns_df['cleaned_text'])\n",
    "tvec_df = pd.DataFrame(tvec_transformed.todense(),columns=tvec.get_feature_names())"
   ]
  },
  {
   "cell_type": "code",
   "execution_count": 111,
   "id": "b4982784",
   "metadata": {},
   "outputs": [],
   "source": [
    "unrelated_most_common_words_tfid = tvec_df.sum().sort_values(ascending=False)"
   ]
  },
  {
   "cell_type": "code",
   "execution_count": 112,
   "id": "7284b605",
   "metadata": {},
   "outputs": [
    {
     "data": {
      "image/png": "[encoded data removed]",
      "text/plain": [
       "<Figure size 432x288 with 1 Axes>"
      ]
     },
     "metadata": {
      "needs_background": "light"
     },
     "output_type": "display_data"
    }
   ],
   "source": [
    "unrelated_most_common_words_tfid.head(15).plot(kind='barh');"
   ]
  },
  {
   "cell_type": "markdown",
   "id": "ec215f05",
   "metadata": {},
   "source": [
    "- Observations:\n",
    "    \n",
    "    Although the top 15 terms for each topic are mainly similar in both Count Vectorizer and TFID techniques, words like 'im' and'really' appear often in both subreddits, potentially lowering the performance of our model. As a result, hyperparameter tuning of parameters (ngram range, max features, max df, min df, and so on) is required at a later stage."
   ]
  },
  {
   "cell_type": "code",
   "execution_count": 113,
   "id": "fbb51355",
   "metadata": {},
   "outputs": [],
   "source": [
    "#savings the cleaned data to csv\n",
    "genuine_qns_df.to_csv('../datasets/cleaned_genuine_qns.csv')\n",
    "unrelated_qns_df.to_csv('../datasets/cleaned_unrelated_qns.csv')"
   ]
  },
  {
   "cell_type": "markdown",
   "id": "db5b3210",
   "metadata": {},
   "source": [
    "## Continue in Project3-Part3"
   ]
  }
 ],
 "metadata": {
  "kernelspec": {
   "display_name": "Python 3",
   "language": "python",
   "name": "python3"
  },
  "language_info": {
   "codemirror_mode": {
    "name": "ipython",
    "version": 3
   },
   "file_extension": ".py",
   "mimetype": "text/x-python",
   "name": "python",
   "nbconvert_exporter": "python",
   "pygments_lexer": "ipython3",
   "version": "3.8.8"
  }
 },
 "nbformat": 4,
 "nbformat_minor": 5
}
