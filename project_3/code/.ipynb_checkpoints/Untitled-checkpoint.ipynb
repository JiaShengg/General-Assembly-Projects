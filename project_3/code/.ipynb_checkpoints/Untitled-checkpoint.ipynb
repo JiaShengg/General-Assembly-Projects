{
 "cells": [
  {
   "cell_type": "code",
   "execution_count": 1,
   "id": "46899692",
   "metadata": {},
   "outputs": [],
   "source": [
    "import requests\n",
    "import datetime as dt\n",
    "from pmaw import PushshiftAPI"
   ]
  },
  {
   "cell_type": "code",
   "execution_count": 4,
   "id": "a560ac67",
   "metadata": {},
   "outputs": [
    {
     "name": "stdout",
     "output_type": "stream",
     "text": [
      "Retrieved 0 submissions from Pushshift\n"
     ]
    }
   ],
   "source": [
    "api = PushshiftAPI()\n",
    "\n",
    "subreddit = 'relationship_advice'\n",
    "limit = 10\n",
    "before = int(dt.datetime(2022,1,1,0,0).timestamp())\n",
    "after = int(dt.datetime(2010,1,1,0,0).timestamp())\n",
    "\n",
    "useless_advise_data = api.search_submissions(subreddit=subreddit, limit=limit, before=before, after=after)\n",
    "print(f'Retrieved {len(useless_advise_data)} submissions from Pushshift')"
   ]
  },
  {
   "cell_type": "code",
   "execution_count": null,
   "id": "afb8f299",
   "metadata": {},
   "outputs": [],
   "source": [
    "useless_advise_df = pd.DataFrame(useless_advise_data)"
   ]
  },
  {
   "cell_type": "code",
   "execution_count": null,
   "id": "c0276fba",
   "metadata": {},
   "outputs": [],
   "source": [
    "useless_advise_df = useless_advise_df[['subreddit', 'selftext', 'title']]"
   ]
  },
  {
   "cell_type": "code",
   "execution_count": null,
   "id": "d2da38e4",
   "metadata": {},
   "outputs": [],
   "source": [
    "useless_advise_df.shape"
   ]
  },
  {
   "cell_type": "code",
   "execution_count": null,
   "id": "8b1eaf4b",
   "metadata": {},
   "outputs": [],
   "source": [
    "useless_advise_df.isnull().sum()"
   ]
  },
  {
   "cell_type": "code",
   "execution_count": null,
   "id": "d5463c35",
   "metadata": {},
   "outputs": [],
   "source": [
    "useless_advise_df.to_csv('useless_advise.csv')"
   ]
  }
 ],
 "metadata": {
  "kernelspec": {
   "display_name": "Python 3",
   "language": "python",
   "name": "python3"
  },
  "language_info": {
   "codemirror_mode": {
    "name": "ipython",
    "version": 3
   },
   "file_extension": ".py",
   "mimetype": "text/x-python",
   "name": "python",
   "nbconvert_exporter": "python",
   "pygments_lexer": "ipython3",
   "version": "3.8.8"
  }
 },
 "nbformat": 4,
 "nbformat_minor": 5
}
